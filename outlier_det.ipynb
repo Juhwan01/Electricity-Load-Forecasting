{
 "cells": [
  {
   "cell_type": "code",
   "execution_count": null,
   "metadata": {
    "executionInfo": {
     "elapsed": 289,
     "status": "ok",
     "timestamp": 1755826444561,
     "user": {
      "displayName": "박준수",
      "userId": "08237283010695726681"
     },
     "user_tz": -540
    },
    "id": "iAYgLhsgRGVT"
   },
   "outputs": [],
   "source": [
    "import pandas as pd\n",
    "import numpy as np\n",
    "\n",
    "train = pd.read_csv('./drive/My Drive/wjsfur/train.csv')"
   ]
  },
  {
   "cell_type": "code",
   "execution_count": null,
   "metadata": {
    "colab": {
     "base_uri": "https://localhost:8080/",
     "height": 206
    },
    "executionInfo": {
     "elapsed": 18,
     "status": "ok",
     "timestamp": 1755826445223,
     "user": {
      "displayName": "박준수",
      "userId": "08237283010695726681"
     },
     "user_tz": -540
    },
    "id": "81RJuI41RqC3",
    "outputId": "2d33b0a1-c962-4cf5-b810-6cab0d28294c"
   },
   "outputs": [],
   "source": [
    "train.head()"
   ]
  },
  {
   "cell_type": "code",
   "execution_count": null,
   "metadata": {
    "executionInfo": {
     "elapsed": 67,
     "status": "ok",
     "timestamp": 1755826445605,
     "user": {
      "displayName": "박준수",
      "userId": "08237283010695726681"
     },
     "user_tz": -540
    },
    "id": "HoJweCtERsRb"
   },
   "outputs": [],
   "source": [
    "train_list = []\n",
    "for i in range(1,101):\n",
    "    train_list.append(train[train['건물번호']==i])\n",
    "df = train_list[0]"
   ]
  },
  {
   "cell_type": "code",
   "execution_count": null,
   "metadata": {
    "executionInfo": {
     "elapsed": 9,
     "status": "ok",
     "timestamp": 1755826445860,
     "user": {
      "displayName": "박준수",
      "userId": "08237283010695726681"
     },
     "user_tz": -540
    },
    "id": "tZp5Zfx9SNH5"
   },
   "outputs": [],
   "source": [
    "import pandas as pd\n",
    "import matplotlib.pyplot as plt\n",
    "\n",
    "def visual_df(df):\n",
    "    # 일시(datetime) 변환\n",
    "    df['일시'] = pd.to_datetime(df['일시'], format='%Y%m%d %H')\n",
    "\n",
    "    # 전력소비량 시각화\n",
    "    plt.figure(figsize=(14, 5))\n",
    "    plt.plot(df['일시'], df['전력소비량(kWh)'], color='tab:blue')\n",
    "    plt.title(\"Hourly Power Consumption\", fontsize=16)\n",
    "    plt.xlabel(\"Time\")\n",
    "    plt.ylabel(\"Power Consumption (kWh)\")\n",
    "    plt.grid(True, linestyle=\"--\", alpha=0.5)\n",
    "    plt.show()"
   ]
  },
  {
   "cell_type": "code",
   "execution_count": null,
   "metadata": {
    "colab": {
     "base_uri": "https://localhost:8080/",
     "height": 1000,
     "output_embedded_package_id": "1RYiYSTB2XwKLeRlX3DJ54_1VbZiBzV7e"
    },
    "executionInfo": {
     "elapsed": 47865,
     "status": "ok",
     "timestamp": 1755826494280,
     "user": {
      "displayName": "박준수",
      "userId": "08237283010695726681"
     },
     "user_tz": -540
    },
    "id": "K9eqOHUjSoyC",
    "outputId": "9a61bc32-df32-4819-df63-d847406bede1"
   },
   "outputs": [],
   "source": [
    "for df in train_list:\n",
    "    print(set(df['건물번호']))\n",
    "    visual_df(df)"
   ]
  },
  {
   "cell_type": "markdown",
   "metadata": {
    "id": "_FIu6y1RVrOJ"
   },
   "source": [
    "## 이상치 탐지"
   ]
  },
  {
   "cell_type": "code",
   "execution_count": null,
   "metadata": {
    "colab": {
     "base_uri": "https://localhost:8080/"
    },
    "executionInfo": {
     "elapsed": 6935,
     "status": "ok",
     "timestamp": 1755826875525,
     "user": {
      "displayName": "박준수",
      "userId": "08237283010695726681"
     },
     "user_tz": -540
    },
    "id": "Z7_Kox19VLN-",
    "outputId": "6c80e600-418f-4a5e-8569-e7573ecdbb5f"
   },
   "outputs": [],
   "source": [
    "from statsmodels.tsa.seasonal import STL\n",
    "import numpy as np\n",
    "import pandas as pd\n",
    "\n",
    "for i in range(len(train_list)):\n",
    "    # 1) 복사본 생성하여 SettingWithCopyWarning 방지\n",
    "    df = train_list[i].copy()\n",
    "    original_length = len(df)\n",
    "\n",
    "    # -------------------------\n",
    "    # 2) 전력소비량이 0인 값을 NaN으로 변경 (완전 제거 대신)\n",
    "    # -------------------------\n",
    "    zero_mask = df['전력소비량(kWh)'] == 0\n",
    "    df.loc[zero_mask, '전력소비량(kWh)'] = np.nan\n",
    "    zero_count = zero_mask.sum()\n",
    "\n",
    "    # 유효한 데이터만으로 이상치 탐지 진행\n",
    "    df_valid = df.dropna(subset=['전력소비량(kWh)']).reset_index(drop=True)\n",
    "\n",
    "    # -------------------------\n",
    "    # 3) STL 기반 이상치 탐지\n",
    "    # -------------------------\n",
    "    if len(df_valid) < 48:  # 최소 2일치 데이터 필요\n",
    "        print(f\"건물번호 {df['건물번호'].iloc[0]} → 데이터 부족으로 STL 생략, 선형 보간만 적용\")\n",
    "        # 0값들을 선형 보간으로 처리\n",
    "        df = df.sort_values('일시').reset_index(drop=True)\n",
    "        df['전력소비량(kWh)'] = df['전력소비량(kWh)'].interpolate(method='linear')\n",
    "        df['전력소비량(kWh)'] = df['전력소비량(kWh)'].fillna(method='bfill').fillna(method='ffill')\n",
    "\n",
    "        train_list[i] = df\n",
    "        continue\n",
    "\n",
    "    # 인덱스를 일시로 설정하되 중복 제거\n",
    "    df_temp = df_valid.set_index('일시')\n",
    "    df_temp = df_temp[~df_temp.index.duplicated(keep='first')]  # 중복 인덱스 제거\n",
    "    series = df_temp['전력소비량(kWh)']\n",
    "\n",
    "    try:\n",
    "        stl = STL(series, period=24)  # 하루 주기\n",
    "        res = stl.fit()\n",
    "\n",
    "        resid = res.resid\n",
    "        z = (resid - resid.mean()) / resid.std()\n",
    "        outliers_stl_idx = series.index[np.abs(z) > 3]   # STL + z-score 이상치 인덱스\n",
    "\n",
    "    except Exception as e:\n",
    "        print(f\"건물번호 {df['건물번호'].iloc[0]} → STL 처리 오류: {e}\")\n",
    "        outliers_stl_idx = pd.Index([])\n",
    "\n",
    "    # -------------------------\n",
    "    # 4) IQR 기반 이상치 탐지\n",
    "    # -------------------------\n",
    "    Q1 = series.quantile(0.25)\n",
    "    Q3 = series.quantile(0.75)\n",
    "    IQR = Q3 - Q1\n",
    "\n",
    "    lower_bound = Q1 - 1.5 * IQR\n",
    "    upper_bound = Q3 + 1.5 * IQR\n",
    "\n",
    "    outliers_iqr_idx = series.index[(series < lower_bound) | (series > upper_bound)]\n",
    "\n",
    "    # -------------------------\n",
    "    # 5) 두 방식 결과 합치기\n",
    "    # -------------------------\n",
    "    all_outlier_idx = pd.Index(list(set(outliers_stl_idx) | set(outliers_iqr_idx)))\n",
    "\n",
    "    # -------------------------\n",
    "    # 6) 이상치를 NaN으로 변경 (제거하지 않고 보간 준비)\n",
    "    # -------------------------\n",
    "    outlier_mask = df['일시'].isin(all_outlier_idx)\n",
    "    df.loc[outlier_mask, '전력소비량(kWh)'] = np.nan\n",
    "    outliers_count = outlier_mask.sum()\n",
    "\n",
    "    # -------------------------\n",
    "    # 7) 보간법으로 결측값 채우기\n",
    "    # -------------------------\n",
    "    # 시계열 순서 보장을 위해 일시 기준으로 정렬\n",
    "    df = df.sort_values('일시').reset_index(drop=True)\n",
    "\n",
    "    # 선형 보간 적용\n",
    "    df['전력소비량(kWh)'] = df['전력소비량(kWh)'].interpolate(method='linear')\n",
    "\n",
    "    # 시작이나 끝에 NaN이 남아있으면 앞/뒤 값으로 채우기\n",
    "    df['전력소비량(kWh)'] = df['전력소비량(kWh)'].fillna(method='bfill').fillna(method='ffill')\n",
    "\n",
    "    # 그래도 NaN이 남아있으면 평균값으로 채우기\n",
    "    if df['전력소비량(kWh)'].isna().any():\n",
    "        mean_value = df['전력소비량(kWh)'].mean()\n",
    "        df['전력소비량(kWh)'] = df['전력소비량(kWh)'].fillna(mean_value)\n",
    "\n",
    "    # train_list 갱신\n",
    "    train_list[i] = df\n",
    "\n",
    "    # 결과 확인용 출력\n",
    "    total_interpolated = zero_count + outliers_count\n",
    "    print(f\"건물번호 {df['건물번호'].iloc[0]} → STL:{len(outliers_stl_idx)}개, IQR:{len(outliers_iqr_idx)}개\")\n",
    "    print(f\"  - 0값:{zero_count}개, 이상치:{outliers_count}개, 총 보간처리:{total_interpolated}개\")\n",
    "    print(f\"  - 최종 데이터 길이: {len(df)}개 (원본: {original_length}개)\")"
   ]
  },
  {
   "cell_type": "code",
   "execution_count": null,
   "metadata": {
    "colab": {
     "base_uri": "https://localhost:8080/"
    },
    "executionInfo": {
     "elapsed": 21,
     "status": "ok",
     "timestamp": 1755826876649,
     "user": {
      "displayName": "박준수",
      "userId": "08237283010695726681"
     },
     "user_tz": -540
    },
    "id": "cyJMBuvzZ6gL",
    "outputId": "521ee80a-2036-4b74-d641-336ede91d120"
   },
   "outputs": [],
   "source": [
    "cnt=0\n",
    "for df in train_list:\n",
    "    cnt += len(df)\n",
    "204000 - cnt"
   ]
  },
  {
   "cell_type": "code",
   "execution_count": null,
   "metadata": {
    "colab": {
     "base_uri": "https://localhost:8080/",
     "height": 1000
    },
    "executionInfo": {
     "elapsed": 31307,
     "status": "ok",
     "timestamp": 1755826908762,
     "user": {
      "displayName": "박준수",
      "userId": "08237283010695726681"
     },
     "user_tz": -540
    },
    "id": "J1gIY0ZXV8Te",
    "outputId": "aad3bb02-b06f-4c8b-aa27-d5efbeb513f1"
   },
   "outputs": [],
   "source": [
    "for df in train_list:\n",
    "    visual_df(df)"
   ]
  },
  {
   "cell_type": "code",
   "execution_count": null,
   "metadata": {
    "id": "EJpJwyapWHZ7"
   },
   "outputs": [],
   "source": []
  }
 ],
 "metadata": {
  "colab": {
   "authorship_tag": "ABX9TyPWcRO0ySQwN2+uy4MOgQD/",
   "mount_file_id": "1CbsTD080hnmoYVSiDYonB-qpUF-_7N2x",
   "provenance": []
  },
  "kernelspec": {
   "display_name": "Python 3",
   "name": "python3"
  },
  "language_info": {
   "name": "python"
  }
 },
 "nbformat": 4,
 "nbformat_minor": 0
}
