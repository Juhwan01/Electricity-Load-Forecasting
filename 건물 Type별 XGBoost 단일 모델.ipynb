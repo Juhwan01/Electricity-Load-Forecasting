{
 "cells": [
  {
   "cell_type": "markdown",
   "id": "2606838c",
   "metadata": {},
   "source": [
    "# 함수 선언 및  import"
   ]
  },
  {
   "cell_type": "code",
   "execution_count": 1,
   "id": "a527ea83",
   "metadata": {
    "ExecuteTime": {
     "end_time": "2023-09-01T12:15:59.117024Z",
     "start_time": "2023-09-01T12:15:59.110018Z"
    }
   },
   "outputs": [],
   "source": [
    "import pandas as pd\n",
    "import seaborn as sns\n",
    "import numpy as np\n",
    "import matplotlib.pyplot as plt\n",
    "import matplotlib\n",
    "\n",
    "\n",
    "import sklearn\n",
    "import xgboost\n",
    "from xgboost import XGBRegressor\n",
    "import optuna\n",
    "from sklearn.model_selection import KFold\n",
    "\n",
    "from sklearn.model_selection import KFold\n",
    "\n",
    "import random as rn\n",
    "\n",
    "RANDOM_SEED = 2023\n",
    "np.random.seed(RANDOM_SEED)\n",
    "rn.seed(RANDOM_SEED)\n",
    "\n",
    "\n",
    "\n",
    "from datetime import datetime\n",
    "\n",
    "\n",
    "\n",
    "import warnings\n",
    "warnings.filterwarnings('ignore')\n",
    "pd.set_option('display.max_columns', None)"
   ]
  },
  {
   "cell_type": "markdown",
   "id": "48b4a865",
   "metadata": {},
   "source": [
    "개발 환경(OS): Windows 10 Pro, 64비트 운영 체제"
   ]
  },
  {
   "cell_type": "code",
   "execution_count": 2,
   "id": "02d79646",
   "metadata": {
    "ExecuteTime": {
     "end_time": "2023-09-01T12:16:06.380158Z",
     "start_time": "2023-09-01T12:16:06.376154Z"
    }
   },
   "outputs": [
    {
     "name": "stdout",
     "output_type": "stream",
     "text": [
      "pandas version: 2.3.1\n",
      "NumPy version: 2.3.2\n",
      "scikit-learn version: 1.7.1\n",
      "matplotlib version: 3.10.5\n",
      "seaborn version: 0.13.2\n",
      "XGBoost version: 3.0.3\n"
     ]
    }
   ],
   "source": [
    "print(\"pandas version: {}\". format(pd.__version__))\n",
    "print(\"NumPy version: {}\". format(np.__version__))\n",
    "print(\"scikit-learn version: {}\". format(sklearn.__version__))\n",
    "print(\"matplotlib version: {}\". format(matplotlib.__version__))\n",
    "print(\"seaborn version: {}\". format(sns.__version__))\n",
    "print(\"XGBoost version: {}\". format(xgboost.__version__))"
   ]
  },
  {
   "cell_type": "code",
   "execution_count": 3,
   "id": "213bb3e5",
   "metadata": {
    "ExecuteTime": {
     "end_time": "2023-09-01T12:16:06.920627Z",
     "start_time": "2023-09-01T12:16:06.916624Z"
    }
   },
   "outputs": [],
   "source": [
    "def smape(gt, preds):\n",
    "    gt= np.array(gt)\n",
    "    preds = np.array(preds)\n",
    "    v = 2 * abs(preds - gt) / (abs(preds) + abs(gt))\n",
    "    score = np.mean(v) * 100\n",
    "    return score"
   ]
  },
  {
   "cell_type": "code",
   "execution_count": 4,
   "id": "3c3ed4c5",
   "metadata": {
    "ExecuteTime": {
     "end_time": "2023-09-01T12:16:07.296669Z",
     "start_time": "2023-09-01T12:16:07.280654Z"
    }
   },
   "outputs": [],
   "source": [
    "def weighted_mse(alpha = 1):\n",
    "    def weighted_mse_fixed(label, pred):\n",
    "        residual = (label - pred).astype(\"float\")\n",
    "        grad = np.where(residual>0, -2*alpha*residual, -2*residual)\n",
    "        hess = np.where(residual>0, 2*alpha, 2.0)\n",
    "        return grad, hess\n",
    "    return weighted_mse_fixed"
   ]
  },
  {
   "cell_type": "code",
   "execution_count": 5,
   "id": "130a94d6",
   "metadata": {
    "ExecuteTime": {
     "end_time": "2023-09-01T12:16:08.919122Z",
     "start_time": "2023-09-01T12:16:08.904108Z"
    }
   },
   "outputs": [],
   "source": [
    "def custom_smape(preds, dtrain):\n",
    "    labels = dtrain.get_label()\n",
    "    return 'custom_smape', np.mean(2 * abs(preds - labels) / (abs(preds) + abs(labels))) * 100"
   ]
  },
  {
   "cell_type": "markdown",
   "id": "3c93aad7",
   "metadata": {},
   "source": [
    "# 데이터 전처리"
   ]
  },
  {
   "cell_type": "markdown",
   "id": "59754f5d",
   "metadata": {},
   "source": [
    "## 데이터 불러오기"
   ]
  },
  {
   "cell_type": "code",
   "execution_count": 6,
   "id": "c0e49868",
   "metadata": {
    "ExecuteTime": {
     "end_time": "2023-09-01T09:55:54.861486Z",
     "start_time": "2023-09-01T09:55:54.703696Z"
    }
   },
   "outputs": [],
   "source": [
    "train = pd.read_csv('train.csv')\n",
    "test = pd.read_csv('test.csv')\n",
    "building_info = pd.read_csv('building_info.csv')"
   ]
  },
  {
   "cell_type": "code",
   "execution_count": 7,
   "id": "45ddf770",
   "metadata": {
    "ExecuteTime": {
     "end_time": "2023-09-01T09:55:54.966582Z",
     "start_time": "2023-09-01T09:55:54.940559Z"
    }
   },
   "outputs": [],
   "source": [
    "train = train.rename(columns={\n",
    "    '건물번호': 'building_number',\n",
    "    '일시': 'date_time',\n",
    "    '기온(°C)': 'temperature',\n",
    "    '강수량(mm)': 'rainfall',\n",
    "    '풍속(m/s)': 'windspeed',\n",
    "    '습도(%)': 'humidity',\n",
    "    '일조(hr)': 'sunshine',\n",
    "    '일사(MJ/m2)': 'solar_radiation',\n",
    "    '전력소비량(kWh)': 'power_consumption'\n",
    "})\n",
    "train.drop('num_date_time', axis = 1, inplace=True)\n",
    "\n",
    "test = test.rename(columns={\n",
    "    '건물번호': 'building_number',\n",
    "    '일시': 'date_time',\n",
    "    '기온(°C)': 'temperature',\n",
    "    '강수량(mm)': 'rainfall',\n",
    "    '풍속(m/s)': 'windspeed',\n",
    "    '습도(%)': 'humidity',\n",
    "    '일조(hr)': 'sunshine',\n",
    "    '일사(MJ/m2)': 'solar_radiation',\n",
    "    '전력소비량(kWh)': 'power_consumption'\n",
    "})\n",
    "test.drop('num_date_time', axis = 1, inplace=True)"
   ]
  },
  {
   "cell_type": "code",
   "execution_count": 8,
   "id": "96c0d646",
   "metadata": {
    "ExecuteTime": {
     "end_time": "2023-09-01T09:55:55.116716Z",
     "start_time": "2023-09-01T09:55:55.108709Z"
    }
   },
   "outputs": [],
   "source": [
    "building_info = building_info.rename(columns={\n",
    "    '건물번호': 'building_number',\n",
    "    '건물유형': 'building_type',\n",
    "    '연면적(m2)': 'total_area',\n",
    "    '냉방면적(m2)': 'cooling_area',\n",
    "    '태양광용량(kW)': 'solar_power_capacity',\n",
    "    'ESS저장용량(kWh)': 'ess_capacity',\n",
    "    'PCS용량(kW)': 'pcs_capacity'\n",
    "})"
   ]
  },
  {
   "cell_type": "code",
   "execution_count": 9,
   "id": "4c36f788",
   "metadata": {
    "ExecuteTime": {
     "end_time": "2023-09-01T09:55:55.281867Z",
     "start_time": "2023-09-01T09:55:55.263850Z"
    }
   },
   "outputs": [],
   "source": [
    "translation_dict = {\n",
    "    '건물기타': 'Other Buildings',\n",
    "    '공공': 'Public',\n",
    "    '대학교': 'University',\n",
    "    '데이터센터': 'Data Center',\n",
    "    '백화점및아울렛': 'Department Store and Outlet',\n",
    "    '병원': 'Hospital',\n",
    "    '상용': 'Commercial',\n",
    "    '아파트': 'Apartment',\n",
    "    '연구소': 'Research Institute',\n",
    "    '지식산업센터': 'Knowledge Industry Center',\n",
    "    '할인마트': 'Discount Mart',\n",
    "    '호텔및리조트': 'Hotel and Resort'\n",
    "}\n",
    "\n",
    "building_info['building_type'] = building_info['building_type'].replace(translation_dict)"
   ]
  },
  {
   "cell_type": "code",
   "execution_count": 10,
   "id": "088cd6cc",
   "metadata": {
    "ExecuteTime": {
     "end_time": "2023-09-01T09:55:55.432003Z",
     "start_time": "2023-09-01T09:55:55.418991Z"
    }
   },
   "outputs": [],
   "source": [
    "building_info['solar_power_utility'] = np.where(building_info.solar_power_capacity !='-',1,0)\n",
    "building_info['ess_utility'] = np.where(building_info.ess_capacity !='-',1,0)"
   ]
  },
  {
   "cell_type": "code",
   "execution_count": 11,
   "id": "0fef2583",
   "metadata": {
    "ExecuteTime": {
     "end_time": "2023-09-01T09:55:55.597153Z",
     "start_time": "2023-09-01T09:55:55.569128Z"
    }
   },
   "outputs": [],
   "source": [
    "train = pd.merge(train, building_info, on='building_number', how='left')\n",
    "test = pd.merge(test, building_info, on='building_number', how='left')"
   ]
  },
  {
   "cell_type": "markdown",
   "id": "49b38f22",
   "metadata": {},
   "source": [
    "## 결측치 확인 및 보간"
   ]
  },
  {
   "cell_type": "code",
   "execution_count": 12,
   "id": "b17a6966",
   "metadata": {
    "ExecuteTime": {
     "end_time": "2023-09-01T09:55:56.422564Z",
     "start_time": "2023-09-01T09:55:56.389534Z"
    }
   },
   "outputs": [
    {
     "data": {
      "text/plain": [
       "building_number         0\n",
       "date_time               0\n",
       "temperature             0\n",
       "rainfall                0\n",
       "windspeed               0\n",
       "humidity                0\n",
       "sunshine                0\n",
       "solar_radiation         0\n",
       "power_consumption       0\n",
       "building_type           0\n",
       "total_area              0\n",
       "cooling_area            0\n",
       "solar_power_capacity    0\n",
       "ess_capacity            0\n",
       "pcs_capacity            0\n",
       "solar_power_utility     0\n",
       "ess_utility             0\n",
       "dtype: int64"
      ]
     },
     "execution_count": 12,
     "metadata": {},
     "output_type": "execute_result"
    }
   ],
   "source": [
    "train.isna().sum()"
   ]
  },
  {
   "cell_type": "code",
   "execution_count": 13,
   "id": "9d88de08",
   "metadata": {
    "ExecuteTime": {
     "end_time": "2023-09-01T09:55:56.857370Z",
     "start_time": "2023-09-01T09:55:56.835349Z"
    }
   },
   "outputs": [
    {
     "data": {
      "text/plain": [
       "solar_power_capacity\n",
       "-          95880\n",
       "278.58      2040\n",
       "1983.05     2040\n",
       "389.76      2040\n",
       "217.92      2040\n",
       "1349.03     2040\n",
       "276         2040\n",
       "849.78      2040\n",
       "1974.71     2040\n",
       "97          2040\n",
       "100         2040\n",
       "255.88      2040\n",
       "879.82      2040\n",
       "858.02      2040\n",
       "953.4       2040\n",
       "83.95       2040\n",
       "97.85       2040\n",
       "344.96      2040\n",
       "342         2040\n",
       "12.24       2040\n",
       "83.2        2040\n",
       "74.25       2040\n",
       "140.6       2040\n",
       "77.76       2040\n",
       "198.56      2040\n",
       "10.08       2040\n",
       "218.88      2040\n",
       "1039.86     2040\n",
       "105         2040\n",
       "215.89      2040\n",
       "1397.02     2040\n",
       "199.4       2040\n",
       "219.6       2040\n",
       "820         2040\n",
       "540.57      2040\n",
       "50.88       2040\n",
       "94.38       2040\n",
       "1297.98     2040\n",
       "1340.1      2040\n",
       "103         2040\n",
       "419.2       2040\n",
       "36          2040\n",
       "790.08      2040\n",
       "605         2040\n",
       "495         2040\n",
       "282.95      2040\n",
       "38.88       2040\n",
       "77.38       2040\n",
       "168         2040\n",
       "322.9       2040\n",
       "99.64       2040\n",
       "20.25       2040\n",
       "81.38       2040\n",
       "171.6       2040\n",
       "Name: count, dtype: int64"
      ]
     },
     "execution_count": 13,
     "metadata": {},
     "output_type": "execute_result"
    }
   ],
   "source": [
    "train.solar_power_capacity.value_counts()"
   ]
  },
  {
   "cell_type": "code",
   "execution_count": 14,
   "id": "e2e4059d",
   "metadata": {
    "ExecuteTime": {
     "end_time": "2023-09-01T09:55:57.172845Z",
     "start_time": "2023-09-01T09:55:57.161836Z"
    }
   },
   "outputs": [
    {
     "data": {
      "text/plain": [
       "ess_capacity\n",
       "-        179520\n",
       "2000       4080\n",
       "101.5      2040\n",
       "1025       2040\n",
       "500        2040\n",
       "3100       2040\n",
       "205        2040\n",
       "469.2      2040\n",
       "1670       2040\n",
       "150        2040\n",
       "201.1      2040\n",
       "209        2040\n",
       "Name: count, dtype: int64"
      ]
     },
     "execution_count": 14,
     "metadata": {},
     "output_type": "execute_result"
    }
   ],
   "source": [
    "train.ess_capacity.value_counts()"
   ]
  },
  {
   "cell_type": "code",
   "execution_count": 15,
   "id": "70841b49",
   "metadata": {
    "ExecuteTime": {
     "end_time": "2023-09-01T09:55:57.368025Z",
     "start_time": "2023-09-01T09:55:57.351010Z"
    }
   },
   "outputs": [
    {
     "data": {
      "text/plain": [
       "pcs_capacity\n",
       "-       179520\n",
       "101       4080\n",
       "1000      4080\n",
       "500       4080\n",
       "250       2040\n",
       "1500      2040\n",
       "150       2040\n",
       "550       2040\n",
       "75        2040\n",
       "100       2040\n",
       "Name: count, dtype: int64"
      ]
     },
     "execution_count": 15,
     "metadata": {},
     "output_type": "execute_result"
    }
   ],
   "source": [
    "train.pcs_capacity.value_counts()"
   ]
  },
  {
   "cell_type": "code",
   "execution_count": 16,
   "id": "b2ca69ac",
   "metadata": {},
   "outputs": [],
   "source": [
    "train['windspeed']= train.windspeed.interpolate()\n",
    "train['humidity']= train.humidity.interpolate()"
   ]
  },
  {
   "cell_type": "markdown",
   "id": "eebba91d",
   "metadata": {},
   "source": [
    "## Datetime 분리"
   ]
  },
  {
   "cell_type": "code",
   "execution_count": 17,
   "id": "6a48c18d",
   "metadata": {
    "ExecuteTime": {
     "end_time": "2023-09-01T09:55:58.103624Z",
     "start_time": "2023-09-01T09:55:57.991522Z"
    }
   },
   "outputs": [],
   "source": [
    "train['date_time'] = pd.to_datetime(train['date_time'], format='%Y%m%d %H')\n",
    "\n",
    "# date time feature 생성\n",
    "train['hour'] = train['date_time'].dt.hour\n",
    "train['day'] = train['date_time'].dt.day\n",
    "train['month'] = train['date_time'].dt.month\n",
    "train['day_of_week'] = train['date_time'].dt.dayofweek #요일\n",
    "\n",
    "\n",
    "test['date_time'] = pd.to_datetime(test['date_time'], format='%Y%m%d %H')\n",
    "\n",
    "# date time feature 생성\n",
    "test['hour'] = test['date_time'].dt.hour\n",
    "test['day'] = test['date_time'].dt.day\n",
    "test['month'] = test['date_time'].dt.month\n",
    "test['day_of_week'] = test['date_time'].dt.dayofweek #요일"
   ]
  },
  {
   "cell_type": "markdown",
   "id": "f4cc4133",
   "metadata": {},
   "source": [
    "## Feature Engineering"
   ]
  },
  {
   "cell_type": "markdown",
   "id": "c342c005",
   "metadata": {},
   "source": [
    "### 평균기온, 최대기온 변수"
   ]
  },
  {
   "cell_type": "code",
   "execution_count": 18,
   "id": "790fec52",
   "metadata": {
    "ExecuteTime": {
     "end_time": "2023-09-01T09:56:20.587052Z",
     "start_time": "2023-09-01T09:55:58.499939Z"
    }
   },
   "outputs": [],
   "source": [
    "def calculate_day_values(dataframe, target_column, output_column, aggregation_func):\n",
    "    result_dict = {}\n",
    "\n",
    "    grouped_temp = dataframe.groupby(['building_number', 'month', 'day'])[target_column].agg(aggregation_func)\n",
    "\n",
    "    for (building, month, day), value in grouped_temp.items():\n",
    "        result_dict.setdefault(building, {}).setdefault(month, {})[day] = value\n",
    "\n",
    "    dataframe[output_column] = [\n",
    "        result_dict.get(row['building_number'], {}).get(row['month'], {}).get(row['day'], None)\n",
    "        for _, row in dataframe.iterrows()\n",
    "    ]\n",
    "\n",
    "    \n",
    "train['day_max_temperature'] = 0.0\n",
    "train['day_mean_temperature'] = 0.0\n",
    "\n",
    "calculate_day_values(train, 'temperature', 'day_max_temperature', 'max')\n",
    "calculate_day_values(train, 'temperature', 'day_mean_temperature', 'mean')\n",
    "calculate_day_values(train, 'temperature', 'day_min_temperature', 'min')\n",
    "\n",
    "train['day_temperature_range'] = train['day_max_temperature'] - train['day_min_temperature']\n",
    "\n",
    "calculate_day_values(test, 'temperature', 'day_max_temperature', 'max')\n",
    "calculate_day_values(test, 'temperature', 'day_mean_temperature', 'mean')\n",
    "calculate_day_values(test, 'temperature', 'day_min_temperature', 'min')\n",
    "\n",
    "test['day_temperature_range'] = test['day_max_temperature'] - test['day_min_temperature']\n"
   ]
  },
  {
   "cell_type": "markdown",
   "id": "2432f9f8",
   "metadata": {},
   "source": [
    "### Outlier drop"
   ]
  },
  {
   "cell_type": "code",
   "execution_count": 19,
   "id": "da3a4e6d",
   "metadata": {
    "ExecuteTime": {
     "end_time": "2023-09-01T09:56:20.617080Z",
     "start_time": "2023-09-01T09:56:20.588053Z"
    }
   },
   "outputs": [],
   "source": [
    "outlier_list = [68973,71013,112384,123132,150739,150740,150741,150742,\n",
    "                150883,150884,150885,150886,138904,193120,193121,152393]\n",
    "\n",
    "train.drop(outlier_list, axis=0,inplace=True)"
   ]
  },
  {
   "cell_type": "markdown",
   "id": "b1ba59e4",
   "metadata": {
    "ExecuteTime": {
     "end_time": "2023-08-18T07:59:24.686619Z",
     "start_time": "2023-08-18T07:59:24.676611Z"
    }
   },
   "source": [
    "### 임시 휴무 추측 데이터 drop"
   ]
  },
  {
   "cell_type": "code",
   "execution_count": 20,
   "id": "085c71db",
   "metadata": {
    "ExecuteTime": {
     "end_time": "2023-09-01T09:56:21.742893Z",
     "start_time": "2023-09-01T09:56:20.618081Z"
    }
   },
   "outputs": [],
   "source": [
    "# temp_hol = {2 : ['2022-06-17'], \n",
    "#     5 : ['2022-07-25','2022-08-02','2022-08-09','2022-08-16'],\n",
    "#     11 : ['2022-06-17'], 12 : ['2022-07-02'], 17 : ['2022-06-18','2022-07-25'],\n",
    "#     21 : ['2022-07-01','2022-07-03','2022-07-17','2022-07-30'], \n",
    "#     37 : ['2022-06-20','2022-07-11','2022-08-08'], \n",
    "#     38 : ['2022-06-13','2022-07-25','2022-08-01'],\n",
    "#     39 : ['2022-07-18','2022-08-08'],\n",
    "#     40 : ['2022-06-20','2022-07-18','2022-08-08'],\n",
    "#     41 : ['2022-06-27','2022-07-25','2022-08-08'],\n",
    "#     42 : ['2022-06-13','2022-07-11','2022-08-22'],\n",
    "#     54 : ['2022-08-16','2022-08-17'],74 : ['2022-06-03'],\n",
    "#     75 : ['2022-06-15','2022-06-17','2022-06-20','2022-06-21'],\n",
    "#     86 : ['2022-06-10','2022-08-10'],\n",
    "#     89 : ['2022-07-09'], 91 : ['2022-06-13','2022-07-11','2022-08-22','2022-06-08'], 92 : ['2022-07-30']}\n",
    "\n",
    "\n",
    "# mask = train.apply(lambda x: x['building_number'] in temp_hol and str(x['date_time'])[:10] in temp_hol[x['building_number']], axis=1)\n",
    "\n",
    "# train.drop(train[mask].index, axis=0, inplace=True)\n",
    "\n",
    "# train.reset_index(drop=True, inplace=True)"
   ]
  },
  {
   "cell_type": "markdown",
   "id": "0af13843",
   "metadata": {},
   "source": [
    "### 공휴일변수"
   ]
  },
  {
   "cell_type": "code",
   "execution_count": 21,
   "id": "cae92592",
   "metadata": {
    "ExecuteTime": {
     "end_time": "2023-09-01T09:56:21.847989Z",
     "start_time": "2023-09-01T09:56:21.743895Z"
    }
   },
   "outputs": [],
   "source": [
    "holi_weekday = [\n",
    "    '2024-06-06',  # 현충일 (목)\n",
    "    '2024-08-15'   # 광복절 (목)\n",
    "]\n",
    "\n",
    "train['holiday'] = np.where((train.day_of_week >= 5) | (train.date_time.dt.strftime('%Y-%m-%d').isin(holi_weekday)), 1, 0)\n",
    "test['holiday'] = np.where((test.day_of_week >= 5) | (test.date_time.dt.strftime('%Y-%m-%d').isin(holi_weekday)), 1, 0)"
   ]
  },
  {
   "cell_type": "markdown",
   "id": "e11ae359",
   "metadata": {},
   "source": [
    "### 대형마트 휴무일요일 변수"
   ]
  },
  {
   "cell_type": "code",
   "execution_count": 22,
   "id": "a61c41a7",
   "metadata": {
    "ExecuteTime": {
     "end_time": "2023-09-01T09:56:21.953084Z",
     "start_time": "2023-09-01T09:56:21.848990Z"
    }
   },
   "outputs": [],
   "source": [
    "holi_sun = [\n",
    "    '2024-06-09', '2024-06-23',  # 6월\n",
    "    '2024-07-14', '2024-07-28',  # 7월\n",
    "    '2024-08-11', '2024-08-25'   # 8월\n",
    "]\n",
    "\n",
    "# 의무 휴업 일요일이면 1, 아니면 0\n",
    "train['Sunday_holiday'] = np.where((train.day_of_week == 6) & (train.date_time.dt.strftime('%Y-%m-%d').isin(holi_sun)), 1, 0)\n",
    "test['Sunday_holiday'] = np.where((test.day_of_week == 6) & (test.date_time.dt.strftime('%Y-%m-%d').isin(holi_sun)), 1, 0)"
   ]
  },
  {
   "cell_type": "markdown",
   "id": "830eb712",
   "metadata": {},
   "source": [
    "### 시간변수 푸리에변환"
   ]
  },
  {
   "cell_type": "code",
   "execution_count": 23,
   "id": "1f6e2c69",
   "metadata": {
    "ExecuteTime": {
     "end_time": "2023-09-01T09:56:21.998125Z",
     "start_time": "2023-09-01T09:56:21.954085Z"
    }
   },
   "outputs": [],
   "source": [
    "#시간\n",
    "train['sin_hour'] = np.sin(2 * np.pi * train['hour']/23.0)\n",
    "train['cos_hour'] = np.cos(2 * np.pi * train['hour']/23.0)\n",
    "test['sin_hour'] = np.sin(2 * np.pi * test['hour']/23.0)\n",
    "test['cos_hour'] = np.cos(2 * np.pi * test['hour']/23.0)\n",
    "\n",
    "#날짜\n",
    "train['sin_date'] = -np.sin(2 * np.pi * (train['month']+train['day']/31)/12)\n",
    "train['cos_date'] = -np.cos(2 * np.pi * (train['month']+train['day']/31)/12)\n",
    "test['sin_date'] = -np.sin(2 * np.pi * (test['month']+test['day']/31)/12)\n",
    "test['cos_date'] = -np.cos(2 * np.pi * (test['month']+test['day']/31)/12)\n",
    "\n",
    "#월\n",
    "train['sin_month'] = -np.sin(2 * np.pi * train['month']/12.0)\n",
    "train['cos_month'] = -np.cos(2 * np.pi * train['month']/12.0)\n",
    "test['sin_month'] = -np.sin(2 * np.pi * test['month']/12.0)\n",
    "test['cos_month'] = -np.cos(2 * np.pi * test['month']/12.0)\n",
    "\n",
    "#요일\n",
    "train['sin_dayofweek'] = -np.sin(2 * np.pi * (train['day_of_week']+1)/7.0)\n",
    "train['cos_dayofweek'] = -np.cos(2 * np.pi * (train['day_of_week']+1)/7.0)\n",
    "test['sin_dayofweek'] = -np.sin(2 * np.pi * (test['day_of_week']+1)/7.0)\n",
    "test['cos_dayofweek'] = -np.cos(2 * np.pi * (test['day_of_week']+1)/7.0)"
   ]
  },
  {
   "cell_type": "markdown",
   "id": "04681b67",
   "metadata": {},
   "source": [
    "### CDH(냉방도시) 변수"
   ]
  },
  {
   "cell_type": "code",
   "execution_count": 24,
   "id": "137ebec3",
   "metadata": {
    "ExecuteTime": {
     "end_time": "2023-09-01T09:56:22.133621Z",
     "start_time": "2023-09-01T09:56:21.999126Z"
    }
   },
   "outputs": [],
   "source": [
    "def CDH(xs):\n",
    "    cumsum = np.cumsum(xs - 26)\n",
    "    return np.concatenate((cumsum[:11], cumsum[11:] - cumsum[:-11]))\n",
    "\n",
    "def calculate_and_add_cdh(dataframe):\n",
    "    cdhs = []\n",
    "    for i in range(1, 101):\n",
    "        temp = dataframe[dataframe['building_number'] == i]['temperature'].values\n",
    "        cdh = CDH(temp)\n",
    "        cdhs.append(cdh)\n",
    "    return np.concatenate(cdhs)\n",
    "\n",
    "train['CDH'] = calculate_and_add_cdh(train)\n",
    "test['CDH'] = calculate_and_add_cdh(test)"
   ]
  },
  {
   "cell_type": "markdown",
   "id": "3d2928f6",
   "metadata": {},
   "source": [
    "### THI(불쾌지수) 변수"
   ]
  },
  {
   "cell_type": "code",
   "execution_count": 25,
   "id": "7b733555",
   "metadata": {
    "ExecuteTime": {
     "end_time": "2023-09-01T09:56:22.148635Z",
     "start_time": "2023-09-01T09:56:22.133621Z"
    }
   },
   "outputs": [],
   "source": [
    "train['THI'] = 9/5*train['temperature'] - 0.55*(1-train['humidity']/100)*(9/5*train['humidity']-26)+32\n",
    "\n",
    "test['THI'] = 9/5*test['temperature'] - 0.55*(1-test['humidity']/100)*(9/5*test['humidity']-26)+32"
   ]
  },
  {
   "cell_type": "markdown",
   "id": "a03e6e19",
   "metadata": {},
   "source": [
    "### WCT(체감온도) 변수"
   ]
  },
  {
   "cell_type": "code",
   "execution_count": 26,
   "id": "27cdf79c",
   "metadata": {
    "ExecuteTime": {
     "end_time": "2023-09-01T09:56:22.163649Z",
     "start_time": "2023-09-01T09:56:22.149636Z"
    }
   },
   "outputs": [],
   "source": [
    "train['WCT'] = 13.12 + 0.6125*train['temperature'] - 11.37*(train['windspeed']**\n",
    "                                                            0.16) + 0.3965*(train['windspeed']**0.16)*train['temperature']\n",
    "test['WCT'] = 13.12 + 0.6125*test['temperature'] - 11.37*(test['windspeed']**\n",
    "                                                            0.16) + 0.3965*(test['windspeed']**0.16)*test['temperature']"
   ]
  },
  {
   "cell_type": "markdown",
   "id": "eec1ab63",
   "metadata": {},
   "source": [
    "### 전력소비 통계량 변수"
   ]
  },
  {
   "cell_type": "code",
   "execution_count": 27,
   "id": "179c6408",
   "metadata": {
    "ExecuteTime": {
     "end_time": "2023-09-01T09:56:22.403867Z",
     "start_time": "2023-09-01T09:56:22.164649Z"
    }
   },
   "outputs": [],
   "source": [
    "# Calculate 'day_hour_mean'\n",
    "power_mean = pd.pivot_table(train, values='power_consumption', index=['building_number', 'hour', 'day_of_week'], aggfunc=np.mean).reset_index()\n",
    "power_mean.columns = ['building_number', 'hour', 'day_of_week', 'day_hour_mean']\n",
    "\n",
    "# Calculate 'day_hour_std'\n",
    "power_std = pd.pivot_table(train, values='power_consumption', index=['building_number', 'hour', 'day_of_week'], aggfunc=np.std).reset_index()\n",
    "power_std.columns = ['building_number', 'hour', 'day_of_week', 'day_hour_std']\n",
    "\n",
    "# Calculate 'hour_mean'\n",
    "power_hour_mean = pd.pivot_table(train, values='power_consumption', index=['building_number', 'hour'], aggfunc=np.mean).reset_index()\n",
    "power_hour_mean.columns = ['building_number', 'hour', 'hour_mean']\n",
    "\n",
    "# Calculate 'hour_std'\n",
    "power_hour_std = pd.pivot_table(train, values='power_consumption', index=['building_number', 'hour'], aggfunc=np.std).reset_index()\n",
    "power_hour_std.columns = ['building_number', 'hour', 'hour_std']\n",
    "\n",
    "# Merge calculated features to 'train' and 'test' dataframes\n",
    "train = train.merge(power_mean, on=['building_number', 'hour', 'day_of_week'], how='left')\n",
    "test = test.merge(power_mean, on=['building_number', 'hour', 'day_of_week'], how='left')\n",
    "\n",
    "train = train.merge(power_std, on=['building_number', 'hour', 'day_of_week'], how='left')\n",
    "test = test.merge(power_std, on=['building_number', 'hour', 'day_of_week'], how='left')\n",
    "\n",
    "train = train.merge(power_hour_mean, on=['building_number', 'hour'], how='left')\n",
    "test = test.merge(power_hour_mean, on=['building_number', 'hour'], how='left')\n",
    "\n",
    "train = train.merge(power_hour_std, on=['building_number', 'hour'], how='left')\n",
    "test = test.merge(power_hour_std, on=['building_number', 'hour'], how='left')\n",
    "\n",
    "train = train.reset_index(drop=True)"
   ]
  },
  {
   "cell_type": "markdown",
   "id": "40a8f9f2",
   "metadata": {},
   "source": [
    "# 모델링"
   ]
  },
  {
   "cell_type": "markdown",
   "id": "df2598b0",
   "metadata": {},
   "source": [
    "## X,Y,test 선언"
   ]
  },
  {
   "cell_type": "code",
   "execution_count": 28,
   "id": "5b32510f",
   "metadata": {
    "ExecuteTime": {
     "end_time": "2023-09-01T09:56:22.418880Z",
     "start_time": "2023-09-01T09:56:22.404867Z"
    }
   },
   "outputs": [],
   "source": [
    "X = train.drop(['solar_power_capacity', 'ess_capacity', 'pcs_capacity',\n",
    "                'power_consumption','rainfall', 'sunshine', 'solar_radiation',\n",
    "                'hour','day','month','day_of_week','date_time'],axis =1 )\n",
    "\n",
    "Y = train[['building_type','power_consumption']]\n",
    "\n",
    "test_X = test.drop(['solar_power_capacity', 'ess_capacity', 'pcs_capacity','rainfall',\n",
    "                   'hour','month','day_of_week','day','date_time'], axis=1)"
   ]
  },
  {
   "cell_type": "code",
   "execution_count": 29,
   "id": "8b195ec8",
   "metadata": {
    "ExecuteTime": {
     "end_time": "2023-09-01T12:07:56.459743Z",
     "start_time": "2023-09-01T12:07:56.428037Z"
    }
   },
   "outputs": [],
   "source": [
    "type_list = []\n",
    "for value in train.building_type.values:\n",
    "    if value not in type_list:\n",
    "        type_list.append(value)"
   ]
  },
  {
   "cell_type": "markdown",
   "id": "628caf04",
   "metadata": {},
   "source": [
    "## XGB 건물 유형별 단일모델"
   ]
  },
  {
   "cell_type": "code",
   "execution_count": 36,
   "id": "c885f93a-0ffa-4280-a2ac-03158b44ddbd",
   "metadata": {},
   "outputs": [],
   "source": [
    "# Optuna 탐색용 평가 함수\n",
    "def optuna_custom_smape(preds, dtrain):\n",
    "    # dtrain 인자는 레이블(정답) numpy 배열 그 자체입니다.\n",
    "    labels = dtrain\n",
    "    \n",
    "    # 모델이 log 값으로 학습/평가하므로, 원래 스케일로 되돌립니다.\n",
    "    preds = np.expm1(preds)\n",
    "    labels = np.expm1(labels)\n",
    "    \n",
    "    # SMAPE 계산\n",
    "    v = 2 * abs(preds - labels) / (abs(preds) + abs(labels))\n",
    "    score = np.mean(v) * 100\n",
    "    \n",
    "    # ✅ 튜플이 아닌 숫자(score)만 반환하도록 수정합니다.\n",
    "    return score"
   ]
  },
  {
   "cell_type": "code",
   "execution_count": 37,
   "id": "86367a42-a3de-44d2-8e02-66066aafe295",
   "metadata": {},
   "outputs": [
    {
     "name": "stderr",
     "output_type": "stream",
     "text": [
      "[I 2025-08-08 06:25:34,964] A new study created in memory with name: no-name-ad3a0fa8-9faf-44f9-9784-233de7243005\n"
     ]
    },
    {
     "name": "stdout",
     "output_type": "stream",
     "text": [
      "================ Optuna HPO for Building Type: 호텔 ================\n"
     ]
    },
    {
     "name": "stderr",
     "output_type": "stream",
     "text": [
      "[I 2025-08-08 06:26:07,772] Trial 0 finished with value: 4.80936576092274 and parameters: {'alpha': 1.4581098516649689, 'max_depth': 15, 'min_child_weight': 7, 'subsample': 0.8257953199532647, 'colsample_bytree': 0.876484031809363}. Best is trial 0 with value: 4.80936576092274.\n",
      "[I 2025-08-08 06:26:42,923] Trial 1 finished with value: 5.373121243553293 and parameters: {'alpha': 0.6240094377624876, 'max_depth': 5, 'min_child_weight': 19, 'subsample': 0.6649294669996845, 'colsample_bytree': 0.740919809436694}. Best is trial 0 with value: 4.80936576092274.\n",
      "[I 2025-08-08 06:27:29,464] Trial 2 finished with value: 5.0224442546099 and parameters: {'alpha': 0.5370483433434933, 'max_depth': 9, 'min_child_weight': 13, 'subsample': 0.9733873051714715, 'colsample_bytree': 0.759534091374535}. Best is trial 0 with value: 4.80936576092274.\n",
      "[I 2025-08-08 06:28:04,339] Trial 3 finished with value: 5.290450462436983 and parameters: {'alpha': 0.8215792485928917, 'max_depth': 5, 'min_child_weight': 20, 'subsample': 0.8270756534566924, 'colsample_bytree': 0.6117763083746224}. Best is trial 0 with value: 4.80936576092274.\n",
      "[I 2025-08-08 06:28:39,200] Trial 4 finished with value: 5.274381177099499 and parameters: {'alpha': 0.5888318832430328, 'max_depth': 5, 'min_child_weight': 8, 'subsample': 0.7294873237473269, 'colsample_bytree': 0.8168723787715875}. Best is trial 0 with value: 4.80936576092274.\n",
      "[I 2025-08-08 06:29:08,123] Trial 5 finished with value: 4.8620828761455535 and parameters: {'alpha': 1.5680571409559685, 'max_depth': 14, 'min_child_weight': 19, 'subsample': 0.7532649755925085, 'colsample_bytree': 0.9808824530195877}. Best is trial 0 with value: 4.80936576092274.\n",
      "[I 2025-08-08 06:29:44,568] Trial 6 finished with value: 4.879661275181085 and parameters: {'alpha': 1.2439985021131363, 'max_depth': 11, 'min_child_weight': 17, 'subsample': 0.8487129193924736, 'colsample_bytree': 0.6981601259408086}. Best is trial 0 with value: 4.80936576092274.\n",
      "[I 2025-08-08 06:30:24,256] Trial 7 finished with value: 4.870285822362784 and parameters: {'alpha': 1.853322402314524, 'max_depth': 8, 'min_child_weight': 4, 'subsample': 0.8825515505721424, 'colsample_bytree': 0.8635384523324263}. Best is trial 0 with value: 4.80936576092274.\n",
      "[I 2025-08-08 06:30:56,313] Trial 8 finished with value: 4.853741995691293 and parameters: {'alpha': 1.0474730329232653, 'max_depth': 14, 'min_child_weight': 5, 'subsample': 0.7516507888281545, 'colsample_bytree': 0.681248275572177}. Best is trial 0 with value: 4.80936576092274.\n",
      "[I 2025-08-08 06:31:32,334] Trial 9 finished with value: 5.098958272928894 and parameters: {'alpha': 0.7269556111193225, 'max_depth': 7, 'min_child_weight': 13, 'subsample': 0.7122196801806823, 'colsample_bytree': 0.7443423087383556}. Best is trial 0 with value: 4.80936576092274.\n",
      "[I 2025-08-08 06:32:10,357] Trial 10 finished with value: 4.882909442968564 and parameters: {'alpha': 1.6895028811100592, 'max_depth': 12, 'min_child_weight': 1, 'subsample': 0.6087801266641586, 'colsample_bytree': 0.9218874405257126}. Best is trial 0 with value: 4.80936576092274.\n",
      "[I 2025-08-08 06:32:42,253] Trial 11 finished with value: 4.83098998164569 and parameters: {'alpha': 1.1731757672433722, 'max_depth': 15, 'min_child_weight': 7, 'subsample': 0.9180000310392828, 'colsample_bytree': 0.6581555398721366}. Best is trial 0 with value: 4.80936576092274.\n",
      "[I 2025-08-08 06:33:12,704] Trial 12 finished with value: 4.8565147714843855 and parameters: {'alpha': 1.4069196419177388, 'max_depth': 15, 'min_child_weight': 9, 'subsample': 0.9303762295215984, 'colsample_bytree': 0.8638917522833398}. Best is trial 0 with value: 4.80936576092274.\n",
      "[I 2025-08-08 06:33:43,401] Trial 13 finished with value: 4.829865992031802 and parameters: {'alpha': 1.1855548217646317, 'max_depth': 13, 'min_child_weight': 6, 'subsample': 0.8909464207767865, 'colsample_bytree': 0.639965425389274}. Best is trial 0 with value: 4.80936576092274.\n",
      "[I 2025-08-08 06:34:19,752] Trial 14 finished with value: 4.845563516502155 and parameters: {'alpha': 1.4509459878760036, 'max_depth': 12, 'min_child_weight': 12, 'subsample': 0.8166442553880685, 'colsample_bytree': 0.829136988351874}. Best is trial 0 with value: 4.80936576092274.\n",
      "[I 2025-08-08 06:34:44,693] Trial 15 finished with value: 4.856556436033194 and parameters: {'alpha': 0.9622917253705132, 'max_depth': 13, 'min_child_weight': 1, 'subsample': 0.9994879212826503, 'colsample_bytree': 0.9282907444095186}. Best is trial 0 with value: 4.80936576092274.\n",
      "[I 2025-08-08 06:35:17,149] Trial 16 finished with value: 4.808078856727749 and parameters: {'alpha': 1.8505070658880096, 'max_depth': 10, 'min_child_weight': 5, 'subsample': 0.866040522557836, 'colsample_bytree': 0.6047574958147492}. Best is trial 16 with value: 4.808078856727749.\n",
      "[I 2025-08-08 06:35:51,595] Trial 17 finished with value: 4.842426745677682 and parameters: {'alpha': 1.9566924891514315, 'max_depth': 10, 'min_child_weight': 4, 'subsample': 0.7873619731922045, 'colsample_bytree': 0.8955057331375966}. Best is trial 16 with value: 4.808078856727749.\n",
      "[I 2025-08-08 06:36:29,666] Trial 18 finished with value: 4.85830261955105 and parameters: {'alpha': 1.719747511521342, 'max_depth': 10, 'min_child_weight': 10, 'subsample': 0.8619042982614612, 'colsample_bytree': 0.9970429196790483}. Best is trial 16 with value: 4.808078856727749.\n",
      "[I 2025-08-08 06:37:11,009] Trial 19 finished with value: 4.909091647441215 and parameters: {'alpha': 1.9862870716623529, 'max_depth': 7, 'min_child_weight': 3, 'subsample': 0.8006553551865815, 'colsample_bytree': 0.783582093301912}. Best is trial 16 with value: 4.808078856727749.\n",
      "[I 2025-08-08 06:37:48,929] Trial 20 finished with value: 4.851247492004984 and parameters: {'alpha': 1.405096266812934, 'max_depth': 11, 'min_child_weight': 16, 'subsample': 0.9338071930043473, 'colsample_bytree': 0.6008637834992718}. Best is trial 16 with value: 4.808078856727749.\n",
      "[I 2025-08-08 06:38:20,277] Trial 21 finished with value: 4.835054127497087 and parameters: {'alpha': 1.129725806457958, 'max_depth': 13, 'min_child_weight': 6, 'subsample': 0.8907600451656166, 'colsample_bytree': 0.6471161096183736}. Best is trial 16 with value: 4.808078856727749.\n",
      "[I 2025-08-08 06:38:49,762] Trial 22 finished with value: 4.794740035236756 and parameters: {'alpha': 1.569038505627324, 'max_depth': 14, 'min_child_weight': 6, 'subsample': 0.8947928549419131, 'colsample_bytree': 0.7056039709918698}. Best is trial 22 with value: 4.794740035236756.\n",
      "[I 2025-08-08 06:39:23,485] Trial 23 finished with value: 4.807619228812353 and parameters: {'alpha': 1.7397545330877051, 'max_depth': 15, 'min_child_weight': 8, 'subsample': 0.8486714701020532, 'colsample_bytree': 0.7171341343429811}. Best is trial 22 with value: 4.794740035236756.\n",
      "[I 2025-08-08 06:39:56,474] Trial 24 finished with value: 4.8300899096043315 and parameters: {'alpha': 1.7606226316243767, 'max_depth': 14, 'min_child_weight': 11, 'subsample': 0.9513788364827043, 'colsample_bytree': 0.7054476958761818}. Best is trial 22 with value: 4.794740035236756.\n",
      "[I 2025-08-08 06:40:31,989] Trial 25 finished with value: 4.807705156172486 and parameters: {'alpha': 1.556420396594307, 'max_depth': 9, 'min_child_weight': 3, 'subsample': 0.8574073917637298, 'colsample_bytree': 0.7207630856520432}. Best is trial 22 with value: 4.794740035236756.\n",
      "[I 2025-08-08 06:41:10,818] Trial 26 finished with value: 4.860504896400442 and parameters: {'alpha': 1.590606221962972, 'max_depth': 8, 'min_child_weight': 3, 'subsample': 0.9071886543802735, 'colsample_bytree': 0.7288326830269359}. Best is trial 22 with value: 4.794740035236756.\n",
      "[I 2025-08-08 06:41:46,386] Trial 27 finished with value: 4.840743444080647 and parameters: {'alpha': 1.566802403929435, 'max_depth': 12, 'min_child_weight': 9, 'subsample': 0.7831868833107665, 'colsample_bytree': 0.7796644718638476}. Best is trial 22 with value: 4.794740035236756.\n",
      "[I 2025-08-08 06:42:21,995] Trial 28 finished with value: 4.802422415193244 and parameters: {'alpha': 1.3112596043982743, 'max_depth': 9, 'min_child_weight': 2, 'subsample': 0.8487518398163806, 'colsample_bytree': 0.7160919024935681}. Best is trial 22 with value: 4.794740035236756.\n",
      "[I 2025-08-08 06:42:55,364] Trial 29 finished with value: 4.852635219514315 and parameters: {'alpha': 1.3307222744315295, 'max_depth': 15, 'min_child_weight': 7, 'subsample': 0.8323689303844876, 'colsample_bytree': 0.6743878540750214}. Best is trial 22 with value: 4.794740035236756.\n",
      "[I 2025-08-08 06:43:25,046] Trial 30 finished with value: 4.771024177885219 and parameters: {'alpha': 1.6605654133166368, 'max_depth': 11, 'min_child_weight': 2, 'subsample': 0.9532261414327028, 'colsample_bytree': 0.7666993166030289}. Best is trial 30 with value: 4.771024177885219.\n",
      "[I 2025-08-08 06:43:53,608] Trial 31 finished with value: 4.7798842167752875 and parameters: {'alpha': 1.3198366870097569, 'max_depth': 11, 'min_child_weight': 1, 'subsample': 0.9720961757405587, 'colsample_bytree': 0.7661789359245874}. Best is trial 30 with value: 4.771024177885219.\n",
      "[I 2025-08-08 06:44:22,116] Trial 32 finished with value: 4.809677821322261 and parameters: {'alpha': 1.3119098483182798, 'max_depth': 11, 'min_child_weight': 1, 'subsample': 0.964954027994171, 'colsample_bytree': 0.7636295404811075}. Best is trial 30 with value: 4.771024177885219.\n",
      "[I 2025-08-08 06:44:53,717] Trial 33 finished with value: 4.846063339907572 and parameters: {'alpha': 1.486792085505942, 'max_depth': 9, 'min_child_weight': 2, 'subsample': 0.9950593602319676, 'colsample_bytree': 0.7533713782289401}. Best is trial 30 with value: 4.771024177885219.\n",
      "[I 2025-08-08 06:45:31,891] Trial 34 finished with value: 4.859409253561758 and parameters: {'alpha': 1.3574641269316319, 'max_depth': 8, 'min_child_weight': 2, 'subsample': 0.9434494911010683, 'colsample_bytree': 0.806111767727885}. Best is trial 30 with value: 4.771024177885219.\n",
      "[I 2025-08-08 06:46:03,034] Trial 35 finished with value: 4.795443851688339 and parameters: {'alpha': 0.9913722188487484, 'max_depth': 9, 'min_child_weight': 2, 'subsample': 0.9737206938644198, 'colsample_bytree': 0.7858850267026153}. Best is trial 30 with value: 4.771024177885219.\n",
      "[I 2025-08-08 06:46:31,930] Trial 36 finished with value: 4.810257865340271 and parameters: {'alpha': 0.916909439400272, 'max_depth': 11, 'min_child_weight': 4, 'subsample': 0.9803665975717333, 'colsample_bytree': 0.8329037551551506}. Best is trial 30 with value: 4.771024177885219.\n",
      "[I 2025-08-08 06:47:07,027] Trial 37 finished with value: 5.04975073292668 and parameters: {'alpha': 1.0497628180099952, 'max_depth': 6, 'min_child_weight': 5, 'subsample': 0.9600749935926872, 'colsample_bytree': 0.7827410850449147}. Best is trial 30 with value: 4.771024177885219.\n",
      "[I 2025-08-08 06:47:36,646] Trial 38 finished with value: 4.801633514676813 and parameters: {'alpha': 0.7868315964758136, 'max_depth': 12, 'min_child_weight': 1, 'subsample': 0.9777809605181746, 'colsample_bytree': 0.8456814568273952}. Best is trial 30 with value: 4.771024177885219.\n",
      "[I 2025-08-08 06:48:06,287] Trial 39 finished with value: 4.78547698562091 and parameters: {'alpha': 1.6484885963128284, 'max_depth': 11, 'min_child_weight': 3, 'subsample': 0.9114876925593451, 'colsample_bytree': 0.807148076024653}. Best is trial 30 with value: 4.771024177885219.\n",
      "[I 2025-08-08 06:48:38,046] Trial 40 finished with value: 4.7824841376983 and parameters: {'alpha': 1.627638311158776, 'max_depth': 11, 'min_child_weight': 3, 'subsample': 0.9100424409448027, 'colsample_bytree': 0.8117914472544318}. Best is trial 30 with value: 4.771024177885219.\n",
      "[I 2025-08-08 06:49:07,617] Trial 41 finished with value: 4.778708053535509 and parameters: {'alpha': 1.650195656569115, 'max_depth': 11, 'min_child_weight': 4, 'subsample': 0.90829695123069, 'colsample_bytree': 0.8073949239288267}. Best is trial 30 with value: 4.771024177885219.\n",
      "[I 2025-08-08 06:49:38,504] Trial 42 finished with value: 4.7918091584013816 and parameters: {'alpha': 1.669518368353499, 'max_depth': 10, 'min_child_weight': 3, 'subsample': 0.9231809063189708, 'colsample_bytree': 0.811614138843831}. Best is trial 30 with value: 4.771024177885219.\n",
      "[I 2025-08-08 06:50:07,220] Trial 43 finished with value: 4.780322046287288 and parameters: {'alpha': 1.8907919108302427, 'max_depth': 11, 'min_child_weight': 4, 'subsample': 0.9488232426788276, 'colsample_bytree': 0.7645347162798627}. Best is trial 30 with value: 4.771024177885219.\n",
      "[I 2025-08-08 06:50:35,198] Trial 44 finished with value: 4.781525871312094 and parameters: {'alpha': 1.8318019259061598, 'max_depth': 11, 'min_child_weight': 4, 'subsample': 0.9502738801422224, 'colsample_bytree': 0.7704827108840235}. Best is trial 30 with value: 4.771024177885219.\n",
      "[I 2025-08-08 06:51:05,779] Trial 45 finished with value: 4.7797008411029145 and parameters: {'alpha': 1.8508623843283187, 'max_depth': 12, 'min_child_weight': 5, 'subsample': 0.947326493268658, 'colsample_bytree': 0.7582128545736049}. Best is trial 30 with value: 4.771024177885219.\n",
      "[I 2025-08-08 06:51:36,261] Trial 46 finished with value: 4.778326238272868 and parameters: {'alpha': 1.7864801279807536, 'max_depth': 12, 'min_child_weight': 5, 'subsample': 0.9363055447214728, 'colsample_bytree': 0.7395581425510496}. Best is trial 30 with value: 4.771024177885219.\n",
      "[I 2025-08-08 06:52:04,696] Trial 47 finished with value: 4.7943042442828 and parameters: {'alpha': 1.7799708133209085, 'max_depth': 13, 'min_child_weight': 5, 'subsample': 0.9844233028450954, 'colsample_bytree': 0.7429982306153646}. Best is trial 30 with value: 4.771024177885219.\n",
      "[I 2025-08-08 06:52:43,276] Trial 48 finished with value: 4.844157365625993 and parameters: {'alpha': 1.9201683431146157, 'max_depth': 12, 'min_child_weight': 14, 'subsample': 0.9331892441249331, 'colsample_bytree': 0.7345401736394369}. Best is trial 30 with value: 4.771024177885219.\n",
      "[I 2025-08-08 06:53:19,686] Trial 49 finished with value: 4.843472199870183 and parameters: {'alpha': 1.8067827967744199, 'max_depth': 12, 'min_child_weight': 7, 'subsample': 0.6705959894986482, 'colsample_bytree': 0.7920626630167514}. Best is trial 30 with value: 4.771024177885219.\n",
      "[I 2025-08-08 06:53:48,564] Trial 50 finished with value: 4.7581093878043355 and parameters: {'alpha': 1.9278111981824244, 'max_depth': 13, 'min_child_weight': 1, 'subsample': 0.9639794092597787, 'colsample_bytree': 0.7481617396193598}. Best is trial 50 with value: 4.7581093878043355.\n",
      "[I 2025-08-08 06:54:16,447] Trial 51 finished with value: 4.751201735176953 and parameters: {'alpha': 1.8859211470488104, 'max_depth': 13, 'min_child_weight': 1, 'subsample': 0.9658741453990423, 'colsample_bytree': 0.7490631297771858}. Best is trial 51 with value: 4.751201735176953.\n",
      "[I 2025-08-08 06:54:46,926] Trial 52 finished with value: 4.765068514626862 and parameters: {'alpha': 1.906322592803658, 'max_depth': 13, 'min_child_weight': 2, 'subsample': 0.8769198730498605, 'colsample_bytree': 0.6823688978605582}. Best is trial 51 with value: 4.751201735176953.\n",
      "[I 2025-08-08 06:55:18,462] Trial 53 finished with value: 4.771718347004053 and parameters: {'alpha': 1.9233976582018062, 'max_depth': 13, 'min_child_weight': 2, 'subsample': 0.8780832856733822, 'colsample_bytree': 0.6806586544639903}. Best is trial 51 with value: 4.751201735176953.\n",
      "[I 2025-08-08 06:55:46,980] Trial 54 finished with value: 4.781719873489971 and parameters: {'alpha': 1.9291834566079125, 'max_depth': 13, 'min_child_weight': 2, 'subsample': 0.9334515361943803, 'colsample_bytree': 0.6853948085295666}. Best is trial 51 with value: 4.751201735176953.\n",
      "[I 2025-08-08 06:56:17,920] Trial 55 finished with value: 4.778530625519299 and parameters: {'alpha': 1.9850769780224478, 'max_depth': 13, 'min_child_weight': 1, 'subsample': 0.8839288201772862, 'colsample_bytree': 0.6607775843878696}. Best is trial 51 with value: 4.751201735176953.\n",
      "[I 2025-08-08 06:56:47,686] Trial 56 finished with value: 4.774530934726011 and parameters: {'alpha': 1.8801685716313137, 'max_depth': 14, 'min_child_weight': 2, 'subsample': 0.8760490673711419, 'colsample_bytree': 0.6884827243136189}. Best is trial 51 with value: 4.751201735176953.\n",
      "[I 2025-08-08 06:57:20,050] Trial 57 finished with value: 4.818742078066186 and parameters: {'alpha': 1.88241146267049, 'max_depth': 14, 'min_child_weight': 2, 'subsample': 0.8272677208794107, 'colsample_bytree': 0.6244952002007222}. Best is trial 51 with value: 4.751201735176953.\n",
      "[I 2025-08-08 06:57:50,937] Trial 58 finished with value: 4.798276418834241 and parameters: {'alpha': 1.938032007897926, 'max_depth': 14, 'min_child_weight': 1, 'subsample': 0.8712376567415152, 'colsample_bytree': 0.6913958415327741}. Best is trial 51 with value: 4.751201735176953.\n",
      "[I 2025-08-08 06:58:23,193] Trial 59 finished with value: 4.844066318400251 and parameters: {'alpha': 1.993309226377253, 'max_depth': 13, 'min_child_weight': 20, 'subsample': 0.8775214484055188, 'colsample_bytree': 0.673208752514026}. Best is trial 51 with value: 4.751201735176953.\n",
      "[I 2025-08-08 06:58:55,361] Trial 60 finished with value: 4.829134555659428 and parameters: {'alpha': 1.725486108982917, 'max_depth': 14, 'min_child_weight': 2, 'subsample': 0.8116154560539498, 'colsample_bytree': 0.6411420404756523}. Best is trial 51 with value: 4.751201735176953.\n",
      "[I 2025-08-08 06:59:26,806] Trial 61 finished with value: 4.7543555721980395 and parameters: {'alpha': 1.8132446948020908, 'max_depth': 13, 'min_child_weight': 1, 'subsample': 0.8991634703232304, 'colsample_bytree': 0.7436103076891505}. Best is trial 51 with value: 4.751201735176953.\n",
      "[I 2025-08-08 06:59:56,638] Trial 62 finished with value: 4.78348510646153 and parameters: {'alpha': 1.8869458386468634, 'max_depth': 13, 'min_child_weight': 1, 'subsample': 0.8938770527535628, 'colsample_bytree': 0.6981725835343665}. Best is trial 51 with value: 4.751201735176953.\n",
      "[I 2025-08-08 07:00:27,137] Trial 63 finished with value: 4.798607873461026 and parameters: {'alpha': 1.8233937357562635, 'max_depth': 14, 'min_child_weight': 2, 'subsample': 0.8399842370543507, 'colsample_bytree': 0.6580284341881149}. Best is trial 51 with value: 4.751201735176953.\n",
      "[I 2025-08-08 07:00:56,436] Trial 64 finished with value: 4.775729471479319 and parameters: {'alpha': 1.943087880731212, 'max_depth': 13, 'min_child_weight': 3, 'subsample': 0.9229307047108286, 'colsample_bytree': 0.7117587106973738}. Best is trial 51 with value: 4.751201735176953.\n",
      "[I 2025-08-08 07:01:29,042] Trial 65 finished with value: 4.774183955222842 and parameters: {'alpha': 1.7200770381438344, 'max_depth': 15, 'min_child_weight': 1, 'subsample': 0.8956587930777976, 'colsample_bytree': 0.7252698813832151}. Best is trial 51 with value: 4.751201735176953.\n",
      "[I 2025-08-08 07:02:02,452] Trial 66 finished with value: 4.773798046806587 and parameters: {'alpha': 1.7075453861119523, 'max_depth': 15, 'min_child_weight': 1, 'subsample': 0.9003270825807723, 'colsample_bytree': 0.7253608438374176}. Best is trial 51 with value: 4.751201735176953.\n",
      "[I 2025-08-08 07:02:35,199] Trial 67 finished with value: 4.834946051111904 and parameters: {'alpha': 1.7747158896321829, 'max_depth': 15, 'min_child_weight': 18, 'subsample': 0.9593644623350631, 'colsample_bytree': 0.7512942267026766}. Best is trial 51 with value: 4.751201735176953.\n",
      "[I 2025-08-08 07:03:02,255] Trial 68 finished with value: 4.802411214796081 and parameters: {'alpha': 1.6930496249134281, 'max_depth': 13, 'min_child_weight': 3, 'subsample': 0.9940357455220967, 'colsample_bytree': 0.7263014271734153}. Best is trial 51 with value: 4.751201735176953.\n",
      "[I 2025-08-08 07:03:33,042] Trial 69 finished with value: 4.767075408229185 and parameters: {'alpha': 1.5076781717985162, 'max_depth': 15, 'min_child_weight': 1, 'subsample': 0.9202902748164783, 'colsample_bytree': 0.7010088574484065}. Best is trial 51 with value: 4.751201735176953.\n",
      "[I 2025-08-08 07:04:09,904] Trial 70 finished with value: 4.88236567788977 and parameters: {'alpha': 1.5054873378385054, 'max_depth': 12, 'min_child_weight': 1, 'subsample': 0.6157629127992938, 'colsample_bytree': 0.7012127766373744}. Best is trial 51 with value: 4.751201735176953.\n",
      "[I 2025-08-08 07:04:41,347] Trial 71 finished with value: 4.792808668843787 and parameters: {'alpha': 1.8322320724166952, 'max_depth': 15, 'min_child_weight': 1, 'subsample': 0.9020450699381359, 'colsample_bytree': 0.6723147179158095}. Best is trial 51 with value: 4.751201735176953.\n",
      "[I 2025-08-08 07:05:10,011] Trial 72 finished with value: 4.762235261754306 and parameters: {'alpha': 1.7606368006419517, 'max_depth': 15, 'min_child_weight': 2, 'subsample': 0.9233019501116907, 'colsample_bytree': 0.7473223666559551}. Best is trial 51 with value: 4.751201735176953.\n",
      "[I 2025-08-08 07:05:39,283] Trial 73 finished with value: 4.766996476409722 and parameters: {'alpha': 1.613842788349564, 'max_depth': 14, 'min_child_weight': 2, 'subsample': 0.9246013971969835, 'colsample_bytree': 0.7513197075915166}. Best is trial 51 with value: 4.751201735176953.\n",
      "[I 2025-08-08 07:06:10,322] Trial 74 finished with value: 4.795857295789394 and parameters: {'alpha': 1.515436871269014, 'max_depth': 14, 'min_child_weight': 3, 'subsample': 0.9195821692382294, 'colsample_bytree': 0.7498655903847593}. Best is trial 51 with value: 4.751201735176953.\n",
      "[I 2025-08-08 07:06:40,080] Trial 75 finished with value: 4.778708573532522 and parameters: {'alpha': 1.585549033192215, 'max_depth': 15, 'min_child_weight': 2, 'subsample': 0.9595709378101542, 'colsample_bytree': 0.7402560154063224}. Best is trial 51 with value: 4.751201735176953.\n",
      "[I 2025-08-08 07:07:13,321] Trial 76 finished with value: 4.839352399434435 and parameters: {'alpha': 1.6208789962637924, 'max_depth': 14, 'min_child_weight': 15, 'subsample': 0.9681791287010828, 'colsample_bytree': 0.7752253828001779}. Best is trial 51 with value: 4.751201735176953.\n",
      "[I 2025-08-08 07:07:41,962] Trial 77 finished with value: 4.7997778881249635 and parameters: {'alpha': 1.4179561472816824, 'max_depth': 15, 'min_child_weight': 4, 'subsample': 0.9401175123668466, 'colsample_bytree': 0.7083442897568885}. Best is trial 51 with value: 4.751201735176953.\n",
      "[I 2025-08-08 07:08:12,487] Trial 78 finished with value: 4.766083971609328 and parameters: {'alpha': 1.7461686666228802, 'max_depth': 14, 'min_child_weight': 1, 'subsample': 0.9258130275487308, 'colsample_bytree': 0.8240381099836407}. Best is trial 51 with value: 4.751201735176953.\n",
      "[I 2025-08-08 07:08:43,632] Trial 79 finished with value: 4.8196377869573395 and parameters: {'alpha': 0.5127827919837151, 'max_depth': 14, 'min_child_weight': 1, 'subsample': 0.9180356066587269, 'colsample_bytree': 0.8334118926952656}. Best is trial 51 with value: 4.751201735176953.\n",
      "[I 2025-08-08 07:09:12,852] Trial 80 finished with value: 4.811647758474649 and parameters: {'alpha': 1.750691143374949, 'max_depth': 14, 'min_child_weight': 3, 'subsample': 0.9293509639711971, 'colsample_bytree': 0.8798820394568614}. Best is trial 51 with value: 4.751201735176953.\n",
      "[I 2025-08-08 07:09:42,532] Trial 81 finished with value: 4.755614101120707 and parameters: {'alpha': 1.6882420467965522, 'max_depth': 13, 'min_child_weight': 2, 'subsample': 0.9530059555825044, 'colsample_bytree': 0.7895860629918325}. Best is trial 51 with value: 4.751201735176953.\n",
      "[I 2025-08-08 07:10:11,786] Trial 82 finished with value: 4.7852873728212435 and parameters: {'alpha': 0.6393929948905748, 'max_depth': 13, 'min_child_weight': 1, 'subsample': 0.9417136801040619, 'colsample_bytree': 0.795318222511914}. Best is trial 51 with value: 4.751201735176953.\n",
      "[I 2025-08-08 07:10:42,167] Trial 83 finished with value: 4.792235073986499 and parameters: {'alpha': 1.752579901703775, 'max_depth': 15, 'min_child_weight': 2, 'subsample': 0.9276454486561678, 'colsample_bytree': 0.9538686469632571}. Best is trial 51 with value: 4.751201735176953.\n",
      "[I 2025-08-08 07:11:12,255] Trial 84 finished with value: 4.808681595584951 and parameters: {'alpha': 1.8052662158877049, 'max_depth': 14, 'min_child_weight': 3, 'subsample': 0.9143933789716829, 'colsample_bytree': 0.8431737977355757}. Best is trial 51 with value: 4.751201735176953.\n",
      "[I 2025-08-08 07:11:40,533] Trial 85 finished with value: 4.789037089102283 and parameters: {'alpha': 1.61924884240555, 'max_depth': 13, 'min_child_weight': 2, 'subsample': 0.9886249818571158, 'colsample_bytree': 0.8212523315023725}. Best is trial 51 with value: 4.751201735176953.\n",
      "[I 2025-08-08 07:12:11,518] Trial 86 finished with value: 4.773198624203514 and parameters: {'alpha': 1.6803916857206849, 'max_depth': 14, 'min_child_weight': 1, 'subsample': 0.8595478058507787, 'colsample_bytree': 0.7568920715631944}. Best is trial 51 with value: 4.751201735176953.\n",
      "[I 2025-08-08 07:12:45,562] Trial 87 finished with value: 4.798381933458185 and parameters: {'alpha': 1.5366950996554833, 'max_depth': 14, 'min_child_weight': 1, 'subsample': 0.7492140319846645, 'colsample_bytree': 0.7708391743721088}. Best is trial 51 with value: 4.751201735176953.\n",
      "[I 2025-08-08 07:13:19,695] Trial 88 finished with value: 4.810987189892592 and parameters: {'alpha': 1.8616946265385308, 'max_depth': 13, 'min_child_weight': 12, 'subsample': 0.9696763014605007, 'colsample_bytree': 0.7909445011738918}. Best is trial 51 with value: 4.751201735176953.\n",
      "[I 2025-08-08 07:13:48,288] Trial 89 finished with value: 4.777936248595863 and parameters: {'alpha': 1.8135903761144894, 'max_depth': 15, 'min_child_weight': 4, 'subsample': 0.8884394572760825, 'colsample_bytree': 0.7347939370998814}. Best is trial 51 with value: 4.751201735176953.\n",
      "[I 2025-08-08 07:14:18,537] Trial 90 finished with value: 4.763646196191412 and parameters: {'alpha': 1.9048638378519396, 'max_depth': 14, 'min_child_weight': 2, 'subsample': 0.9045835805890388, 'colsample_bytree': 0.8009705291726482}. Best is trial 51 with value: 4.751201735176953.\n",
      "[I 2025-08-08 07:14:46,844] Trial 91 finished with value: 4.762201865717408 and parameters: {'alpha': 1.9614675005808118, 'max_depth': 14, 'min_child_weight': 2, 'subsample': 0.9035256442160656, 'colsample_bytree': 0.7777776736875655}. Best is trial 51 with value: 4.751201735176953.\n",
      "[I 2025-08-08 07:15:16,441] Trial 92 finished with value: 4.768774787653206 and parameters: {'alpha': 1.962425902119193, 'max_depth': 13, 'min_child_weight': 2, 'subsample': 0.9555991543120487, 'colsample_bytree': 0.8185788771602349}. Best is trial 51 with value: 4.751201735176953.\n",
      "[I 2025-08-08 07:15:44,928] Trial 93 finished with value: 4.787821395092652 and parameters: {'alpha': 1.9012702293525048, 'max_depth': 14, 'min_child_weight': 3, 'subsample': 0.9048866291768349, 'colsample_bytree': 0.7821180500799655}. Best is trial 51 with value: 4.751201735176953.\n",
      "[I 2025-08-08 07:16:13,776] Trial 94 finished with value: 4.760284241430007 and parameters: {'alpha': 1.966645479969813, 'max_depth': 12, 'min_child_weight': 2, 'subsample': 0.9788032446382225, 'colsample_bytree': 0.8038872661556202}. Best is trial 51 with value: 4.751201735176953.\n",
      "[I 2025-08-08 07:16:41,753] Trial 95 finished with value: 4.769442331109091 and parameters: {'alpha': 1.9977593708511956, 'max_depth': 12, 'min_child_weight': 3, 'subsample': 0.9772681275275243, 'colsample_bytree': 0.8626038172245887}. Best is trial 51 with value: 4.751201735176953.\n",
      "[I 2025-08-08 07:17:07,079] Trial 96 finished with value: 4.7637675154706285 and parameters: {'alpha': 1.8563967949931603, 'max_depth': 13, 'min_child_weight': 2, 'subsample': 0.9996460459609452, 'colsample_bytree': 0.7994471098422913}. Best is trial 51 with value: 4.751201735176953.\n",
      "[I 2025-08-08 07:17:33,225] Trial 97 finished with value: 4.766654429954241 and parameters: {'alpha': 1.9683673451520127, 'max_depth': 13, 'min_child_weight': 4, 'subsample': 0.9978223424824507, 'colsample_bytree': 0.8002547051888125}. Best is trial 51 with value: 4.751201735176953.\n",
      "[I 2025-08-08 07:18:01,366] Trial 98 finished with value: 4.754816584147952 and parameters: {'alpha': 1.861191986852616, 'max_depth': 12, 'min_child_weight': 2, 'subsample': 0.9861066940689946, 'colsample_bytree': 0.7991427179486537}. Best is trial 51 with value: 4.751201735176953.\n",
      "[I 2025-08-08 07:18:29,010] Trial 99 finished with value: 4.782046167182576 and parameters: {'alpha': 1.8560685603180478, 'max_depth': 12, 'min_child_weight': 3, 'subsample': 0.9877973435270522, 'colsample_bytree': 0.788099109477923}. Best is trial 51 with value: 4.751201735176953.\n",
      "[I 2025-08-08 07:18:29,035] A new study created in memory with name: no-name-5c921b8a-a064-48b2-93a2-0648722d5ab7\n"
     ]
    },
    {
     "name": "stdout",
     "output_type": "stream",
     "text": [
      "==> Best SMAPE for 호텔: 4.7512\n",
      "==> Best Params: {'alpha': 1.8859211470488104, 'max_depth': 13, 'min_child_weight': 1, 'subsample': 0.9658741453990423, 'colsample_bytree': 0.7490631297771858}\n",
      "================ Optuna HPO for Building Type: Commercial ================\n"
     ]
    },
    {
     "name": "stderr",
     "output_type": "stream",
     "text": [
      "[I 2025-08-08 07:19:10,855] Trial 0 finished with value: 2.290260869642776 and parameters: {'alpha': 1.8471648694228877, 'max_depth': 6, 'min_child_weight': 1, 'subsample': 0.9133576249915513, 'colsample_bytree': 0.7550484355370841}. Best is trial 0 with value: 2.290260869642776.\n",
      "[I 2025-08-08 07:19:52,336] Trial 1 finished with value: 2.3017631371346803 and parameters: {'alpha': 0.7552310545739647, 'max_depth': 6, 'min_child_weight': 3, 'subsample': 0.9493086796825878, 'colsample_bytree': 0.8976196021665659}. Best is trial 0 with value: 2.290260869642776.\n",
      "[I 2025-08-08 07:20:19,534] Trial 2 finished with value: 2.459262596655174 and parameters: {'alpha': 0.9392796610252995, 'max_depth': 14, 'min_child_weight': 15, 'subsample': 0.9997311935911475, 'colsample_bytree': 0.8705364858764124}. Best is trial 0 with value: 2.290260869642776.\n",
      "[I 2025-08-08 07:21:02,744] Trial 3 finished with value: 2.435897767136968 and parameters: {'alpha': 1.6986157463713645, 'max_depth': 6, 'min_child_weight': 9, 'subsample': 0.6560866914354054, 'colsample_bytree': 0.7618486305628531}. Best is trial 0 with value: 2.290260869642776.\n",
      "[I 2025-08-08 07:21:37,467] Trial 4 finished with value: 2.3865548924628115 and parameters: {'alpha': 1.5592320926574608, 'max_depth': 10, 'min_child_weight': 16, 'subsample': 0.920782972034721, 'colsample_bytree': 0.8291448239617805}. Best is trial 0 with value: 2.290260869642776.\n",
      "[I 2025-08-08 07:22:03,437] Trial 5 finished with value: 2.3158385345151813 and parameters: {'alpha': 1.2933980104856877, 'max_depth': 13, 'min_child_weight': 5, 'subsample': 0.8677798848496031, 'colsample_bytree': 0.6904145436319532}. Best is trial 0 with value: 2.290260869642776.\n",
      "[I 2025-08-08 07:22:35,869] Trial 6 finished with value: 2.502470157846943 and parameters: {'alpha': 0.9861975392464445, 'max_depth': 12, 'min_child_weight': 20, 'subsample': 0.8909276354721607, 'colsample_bytree': 0.7088307313628471}. Best is trial 0 with value: 2.290260869642776.\n",
      "[I 2025-08-08 07:23:04,328] Trial 7 finished with value: 2.4287421927804584 and parameters: {'alpha': 0.5156315719812592, 'max_depth': 14, 'min_child_weight': 9, 'subsample': 0.9591658157148508, 'colsample_bytree': 0.7949165034030983}. Best is trial 0 with value: 2.290260869642776.\n",
      "[I 2025-08-08 07:23:45,699] Trial 8 finished with value: 2.434478382693803 and parameters: {'alpha': 1.216886554162387, 'max_depth': 6, 'min_child_weight': 9, 'subsample': 0.7957971339452554, 'colsample_bytree': 0.6062432985301408}. Best is trial 0 with value: 2.290260869642776.\n",
      "[I 2025-08-08 07:24:15,380] Trial 9 finished with value: 2.404934844353388 and parameters: {'alpha': 0.9531884381430479, 'max_depth': 13, 'min_child_weight': 11, 'subsample': 0.9214673396554649, 'colsample_bytree': 0.7253668827521831}. Best is trial 0 with value: 2.290260869642776.\n",
      "[I 2025-08-08 07:24:46,089] Trial 10 finished with value: 2.2640708877171654 and parameters: {'alpha': 1.9692508372428446, 'max_depth': 9, 'min_child_weight': 2, 'subsample': 0.7712085878572141, 'colsample_bytree': 0.9780898538937871}. Best is trial 10 with value: 2.2640708877171654.\n",
      "[I 2025-08-08 07:25:14,723] Trial 11 finished with value: 2.264151281407273 and parameters: {'alpha': 1.978784283670853, 'max_depth': 9, 'min_child_weight': 1, 'subsample': 0.776518039692071, 'colsample_bytree': 0.9447829229563918}. Best is trial 10 with value: 2.2640708877171654.\n",
      "[I 2025-08-08 07:25:44,640] Trial 12 finished with value: 2.2957935653318216 and parameters: {'alpha': 1.9931921637139334, 'max_depth': 9, 'min_child_weight': 4, 'subsample': 0.745962892238168, 'colsample_bytree': 0.9796015060841038}. Best is trial 10 with value: 2.2640708877171654.\n",
      "[I 2025-08-08 07:26:17,055] Trial 13 finished with value: 2.2772063142613166 and parameters: {'alpha': 1.4648439030635174, 'max_depth': 9, 'min_child_weight': 1, 'subsample': 0.7049623212581494, 'colsample_bytree': 0.9899443162120652}. Best is trial 10 with value: 2.2640708877171654.\n",
      "[I 2025-08-08 07:26:51,378] Trial 14 finished with value: 2.29562413651393 and parameters: {'alpha': 1.7552767740951722, 'max_depth': 8, 'min_child_weight': 6, 'subsample': 0.8221879244897543, 'colsample_bytree': 0.9321524564242689}. Best is trial 10 with value: 2.2640708877171654.\n",
      "[I 2025-08-08 07:27:27,852] Trial 15 finished with value: 2.27854309827827 and parameters: {'alpha': 1.8806294852572147, 'max_depth': 8, 'min_child_weight': 1, 'subsample': 0.6166731246756042, 'colsample_bytree': 0.931070351526027}. Best is trial 10 with value: 2.2640708877171654.\n",
      "[I 2025-08-08 07:27:56,783] Trial 16 finished with value: 2.2935424408487406 and parameters: {'alpha': 1.9743249394900273, 'max_depth': 11, 'min_child_weight': 6, 'subsample': 0.7595285242812331, 'colsample_bytree': 0.9471728028456353}. Best is trial 10 with value: 2.2640708877171654.\n",
      "[I 2025-08-08 07:28:30,825] Trial 17 finished with value: 2.24966866952729 and parameters: {'alpha': 1.611442469603435, 'max_depth': 8, 'min_child_weight': 3, 'subsample': 0.8359337350624627, 'colsample_bytree': 0.868798466442726}. Best is trial 17 with value: 2.24966866952729.\n",
      "[I 2025-08-08 07:29:09,346] Trial 18 finished with value: 2.368566961708043 and parameters: {'alpha': 1.5676259233482706, 'max_depth': 8, 'min_child_weight': 12, 'subsample': 0.8376601480174273, 'colsample_bytree': 0.8545369662186862}. Best is trial 17 with value: 2.24966866952729.\n",
      "[I 2025-08-08 07:29:44,860] Trial 19 finished with value: 2.3939514785365144 and parameters: {'alpha': 1.3200880743022552, 'max_depth': 5, 'min_child_weight': 3, 'subsample': 0.7067591557331409, 'colsample_bytree': 0.8912497690056933}. Best is trial 17 with value: 2.24966866952729.\n",
      "[I 2025-08-08 07:30:12,914] Trial 20 finished with value: 2.3029784971659697 and parameters: {'alpha': 1.639475268988264, 'max_depth': 11, 'min_child_weight': 7, 'subsample': 0.838706793979409, 'colsample_bytree': 0.8203268144527693}. Best is trial 17 with value: 2.24966866952729.\n",
      "[I 2025-08-08 07:30:41,509] Trial 21 finished with value: 2.2660804299529964 and parameters: {'alpha': 1.8115349300136983, 'max_depth': 9, 'min_child_weight': 3, 'subsample': 0.7629161282790751, 'colsample_bytree': 0.9567918747633424}. Best is trial 17 with value: 2.24966866952729.\n",
      "[I 2025-08-08 07:31:21,759] Trial 22 finished with value: 2.2513211086697775 and parameters: {'alpha': 1.482589096583491, 'max_depth': 7, 'min_child_weight': 1, 'subsample': 0.7871301176977485, 'colsample_bytree': 0.9025753680728542}. Best is trial 17 with value: 2.24966866952729.\n",
      "[I 2025-08-08 07:32:04,645] Trial 23 finished with value: 2.2881057845073385 and parameters: {'alpha': 1.4487224137366634, 'max_depth': 7, 'min_child_weight': 3, 'subsample': 0.7164696136176008, 'colsample_bytree': 0.9047385181187085}. Best is trial 17 with value: 2.24966866952729.\n",
      "[I 2025-08-08 07:32:48,594] Trial 24 finished with value: 2.3496268572053296 and parameters: {'alpha': 1.3794840483148982, 'max_depth': 7, 'min_child_weight': 7, 'subsample': 0.8115241948347337, 'colsample_bytree': 0.9945485260228576}. Best is trial 17 with value: 2.24966866952729.\n",
      "[I 2025-08-08 07:33:15,682] Trial 25 finished with value: 2.2507783113018163 and parameters: {'alpha': 1.132220547220567, 'max_depth': 10, 'min_child_weight': 4, 'subsample': 0.8651703970563209, 'colsample_bytree': 0.8564146086802396}. Best is trial 17 with value: 2.24966866952729.\n",
      "[I 2025-08-08 07:33:42,967] Trial 26 finished with value: 2.293393876270773 and parameters: {'alpha': 1.1044089898300953, 'max_depth': 10, 'min_child_weight': 5, 'subsample': 0.8648999589610403, 'colsample_bytree': 0.8542806937019155}. Best is trial 17 with value: 2.24966866952729.\n",
      "[I 2025-08-08 07:34:20,480] Trial 27 finished with value: 2.2760287892613884 and parameters: {'alpha': 1.1233617833905791, 'max_depth': 7, 'min_child_weight': 4, 'subsample': 0.8702994518365901, 'colsample_bytree': 0.7829850666397551}. Best is trial 17 with value: 2.24966866952729.\n",
      "[I 2025-08-08 07:34:57,049] Trial 28 finished with value: 2.3790124682002634 and parameters: {'alpha': 1.4929619022911904, 'max_depth': 11, 'min_child_weight': 14, 'subsample': 0.7992958173150116, 'colsample_bytree': 0.8746195523940186}. Best is trial 17 with value: 2.24966866952729.\n",
      "[I 2025-08-08 07:35:32,518] Trial 29 finished with value: 2.4595991472165672 and parameters: {'alpha': 1.154479840231955, 'max_depth': 5, 'min_child_weight': 7, 'subsample': 0.8921753081908542, 'colsample_bytree': 0.8267216230104523}. Best is trial 17 with value: 2.24966866952729.\n",
      "[I 2025-08-08 07:36:01,450] Trial 30 finished with value: 2.2325792722908098 and parameters: {'alpha': 0.7686266379354112, 'max_depth': 10, 'min_child_weight': 2, 'subsample': 0.7352828896373779, 'colsample_bytree': 0.9139279971586374}. Best is trial 30 with value: 2.2325792722908098.\n",
      "[I 2025-08-08 07:36:28,428] Trial 31 finished with value: 2.231807256823564 and parameters: {'alpha': 0.6827699656451702, 'max_depth': 10, 'min_child_weight': 2, 'subsample': 0.7345966953292892, 'colsample_bytree': 0.9105716056903934}. Best is trial 31 with value: 2.231807256823564.\n",
      "[I 2025-08-08 07:36:55,912] Trial 32 finished with value: 2.2725349303821023 and parameters: {'alpha': 0.70782420222501, 'max_depth': 10, 'min_child_weight': 4, 'subsample': 0.7335062281558105, 'colsample_bytree': 0.9065634867290762}. Best is trial 31 with value: 2.231807256823564.\n",
      "[I 2025-08-08 07:37:24,677] Trial 33 finished with value: 2.291530763064492 and parameters: {'alpha': 0.7617738271517116, 'max_depth': 12, 'min_child_weight': 2, 'subsample': 0.6346215453947215, 'colsample_bytree': 0.8622890192838425}. Best is trial 31 with value: 2.231807256823564.\n",
      "[I 2025-08-08 07:37:51,315] Trial 34 finished with value: 2.240904824308403 and parameters: {'alpha': 0.5945825462828518, 'max_depth': 11, 'min_child_weight': 2, 'subsample': 0.6846710730124264, 'colsample_bytree': 0.9175623398200362}. Best is trial 31 with value: 2.231807256823564.\n",
      "[I 2025-08-08 07:38:19,790] Trial 35 finished with value: 2.265969106010857 and parameters: {'alpha': 0.5351129435221482, 'max_depth': 15, 'min_child_weight': 2, 'subsample': 0.6836256156039666, 'colsample_bytree': 0.9246185409721881}. Best is trial 31 with value: 2.231807256823564.\n",
      "[I 2025-08-08 07:38:48,975] Trial 36 finished with value: 2.3537959724222444 and parameters: {'alpha': 0.671401765879116, 'max_depth': 12, 'min_child_weight': 5, 'subsample': 0.6758147501264801, 'colsample_bytree': 0.8773446706945665}. Best is trial 31 with value: 2.231807256823564.\n",
      "[I 2025-08-08 07:39:29,410] Trial 37 finished with value: 2.500847519380742 and parameters: {'alpha': 0.8515056915860739, 'max_depth': 11, 'min_child_weight': 17, 'subsample': 0.6572061688725686, 'colsample_bytree': 0.9173016286373656}. Best is trial 31 with value: 2.231807256823564.\n",
      "[I 2025-08-08 07:39:59,458] Trial 38 finished with value: 2.2450446142534672 and parameters: {'alpha': 0.8381730607300266, 'max_depth': 11, 'min_child_weight': 2, 'subsample': 0.7289773109005963, 'colsample_bytree': 0.9612763496670063}. Best is trial 31 with value: 2.231807256823564.\n",
      "[I 2025-08-08 07:40:28,263] Trial 39 finished with value: 2.2517623502914526 and parameters: {'alpha': 0.6036513878821799, 'max_depth': 13, 'min_child_weight': 2, 'subsample': 0.7358196972777968, 'colsample_bytree': 0.9611319882026406}. Best is trial 31 with value: 2.231807256823564.\n",
      "[I 2025-08-08 07:40:59,950] Trial 40 finished with value: 2.418212589498004 and parameters: {'alpha': 0.8370799413652783, 'max_depth': 12, 'min_child_weight': 9, 'subsample': 0.6806984453423102, 'colsample_bytree': 0.8858086368542007}. Best is trial 31 with value: 2.231807256823564.\n",
      "[I 2025-08-08 07:41:27,136] Trial 41 finished with value: 2.2696768689494613 and parameters: {'alpha': 0.6057285565897996, 'max_depth': 11, 'min_child_weight': 3, 'subsample': 0.7279871261595829, 'colsample_bytree': 0.966515178310504}. Best is trial 31 with value: 2.231807256823564.\n",
      "[I 2025-08-08 07:41:55,811] Trial 42 finished with value: 2.238971216290994 and parameters: {'alpha': 0.8173454448148513, 'max_depth': 10, 'min_child_weight': 2, 'subsample': 0.6891897312872446, 'colsample_bytree': 0.939557093839258}. Best is trial 31 with value: 2.231807256823564.\n",
      "[I 2025-08-08 07:42:24,476] Trial 43 finished with value: 2.261690137316829 and parameters: {'alpha': 0.8159478931962025, 'max_depth': 10, 'min_child_weight': 1, 'subsample': 0.6963599392071558, 'colsample_bytree': 0.936733982290821}. Best is trial 31 with value: 2.231807256823564.\n",
      "[I 2025-08-08 07:42:53,437] Trial 44 finished with value: 2.289234275777762 and parameters: {'alpha': 1.0041394232421905, 'max_depth': 11, 'min_child_weight': 2, 'subsample': 0.6546689391979144, 'colsample_bytree': 0.6638442169246985}. Best is trial 31 with value: 2.231807256823564.\n",
      "[I 2025-08-08 07:43:23,408] Trial 45 finished with value: 2.3394768328138915 and parameters: {'alpha': 0.6511300167656091, 'max_depth': 10, 'min_child_weight': 5, 'subsample': 0.7533039461154665, 'colsample_bytree': 0.9997618831987938}. Best is trial 31 with value: 2.231807256823564.\n",
      "[I 2025-08-08 07:43:55,129] Trial 46 finished with value: 2.3882814502602243 and parameters: {'alpha': 0.7373106867612155, 'max_depth': 12, 'min_child_weight': 6, 'subsample': 0.6590917600102949, 'colsample_bytree': 0.9677342889148574}. Best is trial 31 with value: 2.231807256823564.\n",
      "[I 2025-08-08 07:44:15,415] Trial 47 finished with value: 2.518120188666081 and parameters: {'alpha': 0.8939330843717034, 'max_depth': 13, 'min_child_weight': 18, 'subsample': 0.6013324572667044, 'colsample_bytree': 0.9151206926721768}. Best is trial 31 with value: 2.231807256823564.\n",
      "[I 2025-08-08 07:44:45,612] Trial 48 finished with value: 2.2372548529458935 and parameters: {'alpha': 0.515061295589593, 'max_depth': 9, 'min_child_weight': 2, 'subsample': 0.7193682366794174, 'colsample_bytree': 0.9464823683634739}. Best is trial 31 with value: 2.231807256823564.\n",
      "[I 2025-08-08 07:45:20,011] Trial 49 finished with value: 2.309890027109703 and parameters: {'alpha': 0.6397012932533307, 'max_depth': 9, 'min_child_weight': 4, 'subsample': 0.6403834694387518, 'colsample_bytree': 0.9467765234956983}. Best is trial 31 with value: 2.231807256823564.\n",
      "[I 2025-08-08 07:45:58,333] Trial 50 finished with value: 2.4708176415594365 and parameters: {'alpha': 0.5114306172788903, 'max_depth': 10, 'min_child_weight': 8, 'subsample': 0.6925061379492913, 'colsample_bytree': 0.8346555472582116}. Best is trial 31 with value: 2.231807256823564.\n",
      "[I 2025-08-08 07:46:28,681] Trial 51 finished with value: 2.246742273758784 and parameters: {'alpha': 0.5640562842535697, 'max_depth': 9, 'min_child_weight': 2, 'subsample': 0.7211891191807323, 'colsample_bytree': 0.9778316544220359}. Best is trial 31 with value: 2.231807256823564.\n",
      "[I 2025-08-08 07:46:54,905] Trial 52 finished with value: 2.235748223962375 and parameters: {'alpha': 0.7824705248276811, 'max_depth': 11, 'min_child_weight': 1, 'subsample': 0.709862374228661, 'colsample_bytree': 0.933814188154239}. Best is trial 31 with value: 2.231807256823564.\n",
      "[I 2025-08-08 07:47:23,226] Trial 53 finished with value: 2.2408953611444176 and parameters: {'alpha': 0.7777956877216751, 'max_depth': 10, 'min_child_weight': 1, 'subsample': 0.7084603717771292, 'colsample_bytree': 0.9239100766200442}. Best is trial 31 with value: 2.231807256823564.\n",
      "[I 2025-08-08 07:47:53,585] Trial 54 finished with value: 2.2502220461956384 and parameters: {'alpha': 1.021273280947295, 'max_depth': 9, 'min_child_weight': 1, 'subsample': 0.706298690041796, 'colsample_bytree': 0.9409855180572877}. Best is trial 31 with value: 2.231807256823564.\n",
      "[I 2025-08-08 07:48:23,361] Trial 55 finished with value: 2.2223169556632043 and parameters: {'alpha': 0.7882141721424933, 'max_depth': 10, 'min_child_weight': 1, 'subsample': 0.7795235777300257, 'colsample_bytree': 0.8938182882147141}. Best is trial 55 with value: 2.2223169556632043.\n",
      "[I 2025-08-08 07:48:57,747] Trial 56 finished with value: 2.2345691982699094 and parameters: {'alpha': 0.9022345551610019, 'max_depth': 8, 'min_child_weight': 1, 'subsample': 0.7785396070864306, 'colsample_bytree': 0.8898241809782076}. Best is trial 55 with value: 2.2223169556632043.\n",
      "[I 2025-08-08 07:49:31,508] Trial 57 finished with value: 2.231816712176077 and parameters: {'alpha': 0.9299675043671874, 'max_depth': 8, 'min_child_weight': 1, 'subsample': 0.7837401839415966, 'colsample_bytree': 0.8912602924625621}. Best is trial 55 with value: 2.2223169556632043.\n",
      "[I 2025-08-08 07:50:03,573] Trial 58 finished with value: 2.2290564446315675 and parameters: {'alpha': 0.9208512578032115, 'max_depth': 8, 'min_child_weight': 1, 'subsample': 0.7801296447115944, 'colsample_bytree': 0.8915281567156994}. Best is trial 55 with value: 2.2223169556632043.\n",
      "[I 2025-08-08 07:50:36,877] Trial 59 finished with value: 2.261861536649604 and parameters: {'alpha': 0.9270753012205406, 'max_depth': 8, 'min_child_weight': 3, 'subsample': 0.7703126053517106, 'colsample_bytree': 0.8462018092510477}. Best is trial 55 with value: 2.2223169556632043.\n",
      "[I 2025-08-08 07:51:17,796] Trial 60 finished with value: 2.4283866857447722 and parameters: {'alpha': 1.0454572128973822, 'max_depth': 6, 'min_child_weight': 12, 'subsample': 0.7858782976428326, 'colsample_bytree': 0.8954095960822679}. Best is trial 55 with value: 2.2223169556632043.\n",
      "[I 2025-08-08 07:51:50,054] Trial 61 finished with value: 2.2242617910264135 and parameters: {'alpha': 0.9099143786203636, 'max_depth': 8, 'min_child_weight': 1, 'subsample': 0.8195971933246444, 'colsample_bytree': 0.8867497434663758}. Best is trial 55 with value: 2.2223169556632043.\n",
      "[I 2025-08-08 07:52:22,157] Trial 62 finished with value: 2.231602134799535 and parameters: {'alpha': 0.9485124449349932, 'max_depth': 8, 'min_child_weight': 1, 'subsample': 0.8164108671164819, 'colsample_bytree': 0.8837138498366566}. Best is trial 55 with value: 2.2223169556632043.\n",
      "[I 2025-08-08 07:52:54,773] Trial 63 finished with value: 2.258980730582868 and parameters: {'alpha': 0.9642702328769591, 'max_depth': 8, 'min_child_weight': 3, 'subsample': 0.8147950650309262, 'colsample_bytree': 0.8674746967849895}. Best is trial 55 with value: 2.2223169556632043.\n",
      "[I 2025-08-08 07:53:35,034] Trial 64 finished with value: 2.2593097849821056 and parameters: {'alpha': 1.0767674446348532, 'max_depth': 7, 'min_child_weight': 1, 'subsample': 0.8039933718886497, 'colsample_bytree': 0.8807449535484353}. Best is trial 55 with value: 2.2223169556632043.\n",
      "[I 2025-08-08 07:54:16,722] Trial 65 finished with value: 2.3081964347289463 and parameters: {'alpha': 1.2326793300959786, 'max_depth': 6, 'min_child_weight': 3, 'subsample': 0.8291832680740335, 'colsample_bytree': 0.8085843764155938}. Best is trial 55 with value: 2.2223169556632043.\n",
      "[I 2025-08-08 07:54:50,617] Trial 66 finished with value: 2.237849148314149 and parameters: {'alpha': 0.8880197379958709, 'max_depth': 8, 'min_child_weight': 1, 'subsample': 0.7500587010767203, 'colsample_bytree': 0.8377323447134134}. Best is trial 55 with value: 2.2223169556632043.\n",
      "[I 2025-08-08 07:55:29,915] Trial 67 finished with value: 2.275461088333117 and parameters: {'alpha': 0.7182632997021834, 'max_depth': 7, 'min_child_weight': 4, 'subsample': 0.849120625131399, 'colsample_bytree': 0.9000913711484086}. Best is trial 55 with value: 2.2223169556632043.\n",
      "[I 2025-08-08 07:56:18,775] Trial 68 finished with value: 2.500201180153089 and parameters: {'alpha': 0.9672452834886369, 'max_depth': 9, 'min_child_weight': 20, 'subsample': 0.7958145872423655, 'colsample_bytree': 0.7721801448285548}. Best is trial 55 with value: 2.2223169556632043.\n",
      "[I 2025-08-08 07:56:53,310] Trial 69 finished with value: 2.268605524403718 and parameters: {'alpha': 0.6801765003755931, 'max_depth': 8, 'min_child_weight': 3, 'subsample': 0.7679436740191339, 'colsample_bytree': 0.9094532414902907}. Best is trial 55 with value: 2.2223169556632043.\n",
      "[I 2025-08-08 07:57:33,938] Trial 70 finished with value: 2.2487885284876734 and parameters: {'alpha': 1.1623993307343616, 'max_depth': 7, 'min_child_weight': 1, 'subsample': 0.849936784953952, 'colsample_bytree': 0.7403198348057215}. Best is trial 55 with value: 2.2223169556632043.\n",
      "[I 2025-08-08 07:58:05,542] Trial 71 finished with value: 2.2388900082698484 and parameters: {'alpha': 0.9106809968814694, 'max_depth': 8, 'min_child_weight': 1, 'subsample': 0.7818111350498856, 'colsample_bytree': 0.8905551762276707}. Best is trial 55 with value: 2.2223169556632043.\n",
      "[I 2025-08-08 07:58:36,800] Trial 72 finished with value: 2.243779462902672 and parameters: {'alpha': 0.8722575169201449, 'max_depth': 8, 'min_child_weight': 1, 'subsample': 0.8063764205158828, 'colsample_bytree': 0.8822351792872177}. Best is trial 55 with value: 2.2223169556632043.\n",
      "[I 2025-08-08 07:59:05,816] Trial 73 finished with value: 2.2409094489167405 and parameters: {'alpha': 0.9179890473798556, 'max_depth': 9, 'min_child_weight': 2, 'subsample': 0.7408234171978956, 'colsample_bytree': 0.8656154352647312}. Best is trial 55 with value: 2.2223169556632043.\n",
      "[I 2025-08-08 07:59:37,964] Trial 74 finished with value: 2.2374009320445096 and parameters: {'alpha': 0.7959034211253027, 'max_depth': 8, 'min_child_weight': 2, 'subsample': 0.8191904505850027, 'colsample_bytree': 0.8942737690151814}. Best is trial 55 with value: 2.2223169556632043.\n",
      "[I 2025-08-08 08:00:09,383] Trial 75 finished with value: 2.2794118253310898 and parameters: {'alpha': 1.068309205511931, 'max_depth': 9, 'min_child_weight': 4, 'subsample': 0.7601336887862484, 'colsample_bytree': 0.8495322930578195}. Best is trial 55 with value: 2.2223169556632043.\n",
      "[I 2025-08-08 08:00:48,914] Trial 76 finished with value: 2.244852448421591 and parameters: {'alpha': 0.9532452650918071, 'max_depth': 7, 'min_child_weight': 1, 'subsample': 0.7782385069421388, 'colsample_bytree': 0.813321661544608}. Best is trial 55 with value: 2.2223169556632043.\n",
      "[I 2025-08-08 08:01:20,207] Trial 77 finished with value: 2.26258830372729 and parameters: {'alpha': 0.7533384005039776, 'max_depth': 8, 'min_child_weight': 3, 'subsample': 0.7880812822138648, 'colsample_bytree': 0.9094374031417594}. Best is trial 55 with value: 2.2223169556632043.\n",
      "[I 2025-08-08 08:02:01,909] Trial 78 finished with value: 2.263643157196459 and parameters: {'alpha': 1.0111771817451372, 'max_depth': 6, 'min_child_weight': 2, 'subsample': 0.825192063995162, 'colsample_bytree': 0.8736635176985078}. Best is trial 55 with value: 2.2223169556632043.\n",
      "[I 2025-08-08 08:02:30,500] Trial 79 finished with value: 2.2333031529335656 and parameters: {'alpha': 0.8516731493928573, 'max_depth': 9, 'min_child_weight': 1, 'subsample': 0.7452938580410308, 'colsample_bytree': 0.9216588320853233}. Best is trial 55 with value: 2.2223169556632043.\n",
      "[I 2025-08-08 08:02:59,392] Trial 80 finished with value: 2.259838803506515 and parameters: {'alpha': 0.6974104876718441, 'max_depth': 9, 'min_child_weight': 3, 'subsample': 0.7448030431284831, 'colsample_bytree': 0.9241708977141101}. Best is trial 55 with value: 2.2223169556632043.\n",
      "[I 2025-08-08 08:03:27,114] Trial 81 finished with value: 2.2311043530446617 and parameters: {'alpha': 0.8551683424007254, 'max_depth': 9, 'min_child_weight': 1, 'subsample': 0.7952507078690171, 'colsample_bytree': 0.8874809532947895}. Best is trial 55 with value: 2.2223169556632043.\n",
      "[I 2025-08-08 08:03:53,833] Trial 82 finished with value: 2.228878787066361 and parameters: {'alpha': 0.8453419159298557, 'max_depth': 10, 'min_child_weight': 2, 'subsample': 0.7929785849839806, 'colsample_bytree': 0.9061002341549711}. Best is trial 55 with value: 2.2223169556632043.\n",
      "[I 2025-08-08 08:04:19,658] Trial 83 finished with value: 2.208405114609258 and parameters: {'alpha': 0.8630039574547295, 'max_depth': 10, 'min_child_weight': 2, 'subsample': 0.8073871504378736, 'colsample_bytree': 0.9069757644549814}. Best is trial 83 with value: 2.208405114609258.\n",
      "[I 2025-08-08 08:04:43,520] Trial 84 finished with value: 2.2284834667099624 and parameters: {'alpha': 0.9821135217076222, 'max_depth': 10, 'min_child_weight': 2, 'subsample': 0.9606841117883287, 'colsample_bytree': 0.861849955957451}. Best is trial 83 with value: 2.208405114609258.\n",
      "[I 2025-08-08 08:05:06,918] Trial 85 finished with value: 2.239254927470513 and parameters: {'alpha': 0.859540717355649, 'max_depth': 10, 'min_child_weight': 2, 'subsample': 0.9624249495311907, 'colsample_bytree': 0.9019254136399882}. Best is trial 83 with value: 2.208405114609258.\n",
      "[I 2025-08-08 08:05:33,317] Trial 86 finished with value: 2.4346532235365217 and parameters: {'alpha': 0.8115168155372272, 'max_depth': 10, 'min_child_weight': 11, 'subsample': 0.9895744059102722, 'colsample_bytree': 0.860985184540707}. Best is trial 83 with value: 2.208405114609258.\n",
      "[I 2025-08-08 08:06:00,663] Trial 87 finished with value: 2.276432813106216 and parameters: {'alpha': 0.9809399590527978, 'max_depth': 10, 'min_child_weight': 5, 'subsample': 0.904211724220287, 'colsample_bytree': 0.878161618264752}. Best is trial 83 with value: 2.208405114609258.\n",
      "[I 2025-08-08 08:06:29,863] Trial 88 finished with value: 2.2438988065336614 and parameters: {'alpha': 0.7492789890514622, 'max_depth': 9, 'min_child_weight': 3, 'subsample': 0.9228264327811221, 'colsample_bytree': 0.9070714302473515}. Best is trial 83 with value: 2.208405114609258.\n",
      "[I 2025-08-08 08:06:57,134] Trial 89 finished with value: 2.264448163533005 and parameters: {'alpha': 0.6368421406514516, 'max_depth': 10, 'min_child_weight': 4, 'subsample': 0.8422627147109781, 'colsample_bytree': 0.8425747020957165}. Best is trial 83 with value: 2.208405114609258.\n",
      "[I 2025-08-08 08:07:23,425] Trial 90 finished with value: 2.2506525293498227 and parameters: {'alpha': 1.183906339487744, 'max_depth': 11, 'min_child_weight': 2, 'subsample': 0.8100602994195483, 'colsample_bytree': 0.8569905038310471}. Best is trial 83 with value: 2.208405114609258.\n",
      "[W 2025-08-08 08:07:31,720] Trial 91 failed with parameters: {'alpha': 1.0314028342265704, 'max_depth': 9, 'min_child_weight': 1, 'subsample': 0.7944454238947829, 'colsample_bytree': 0.8855121303508643} because of the following error: KeyboardInterrupt().\n",
      "Traceback (most recent call last):\n",
      "  File \"/usr/local/lib/python3.11/dist-packages/optuna/study/_optimize.py\", line 201, in _run_trial\n",
      "    value_or_values = func(trial)\n",
      "                      ^^^^^^^^^^^\n",
      "  File \"/tmp/ipykernel_3535/3871805603.py\", line 49, in objective\n",
      "    model.fit(X_train, Y_train_log,\n",
      "  File \"/usr/local/lib/python3.11/dist-packages/xgboost/core.py\", line 729, in inner_f\n",
      "    return func(**kwargs)\n",
      "           ^^^^^^^^^^^^^^\n",
      "  File \"/usr/local/lib/python3.11/dist-packages/xgboost/sklearn.py\", line 1247, in fit\n",
      "    self._Booster = train(\n",
      "                    ^^^^^^\n",
      "  File \"/usr/local/lib/python3.11/dist-packages/xgboost/core.py\", line 729, in inner_f\n",
      "    return func(**kwargs)\n",
      "           ^^^^^^^^^^^^^^\n",
      "  File \"/usr/local/lib/python3.11/dist-packages/xgboost/training.py\", line 183, in train\n",
      "    bst.update(dtrain, iteration=i, fobj=obj)\n",
      "  File \"/usr/local/lib/python3.11/dist-packages/xgboost/core.py\", line 2254, in update\n",
      "    self.boost(dtrain, iteration=iteration, grad=grad, hess=hess)\n",
      "  File \"/usr/local/lib/python3.11/dist-packages/xgboost/core.py\", line 2309, in boost\n",
      "    _LIB.XGBoosterTrainOneIter(\n",
      "KeyboardInterrupt\n",
      "[W 2025-08-08 08:07:31,721] Trial 91 failed with value None.\n"
     ]
    },
    {
     "ename": "KeyboardInterrupt",
     "evalue": "",
     "output_type": "error",
     "traceback": [
      "\u001b[31m---------------------------------------------------------------------------\u001b[39m",
      "\u001b[31mKeyboardInterrupt\u001b[39m                         Traceback (most recent call last)",
      "\u001b[36mCell\u001b[39m\u001b[36m \u001b[39m\u001b[32mIn[37]\u001b[39m\u001b[32m, line 62\u001b[39m\n\u001b[32m     60\u001b[39m \u001b[38;5;66;03m# Optuna Study 생성 및 최적화 실행\u001b[39;00m\n\u001b[32m     61\u001b[39m study = optuna.create_study(direction=\u001b[33m'\u001b[39m\u001b[33mminimize\u001b[39m\u001b[33m'\u001b[39m)\n\u001b[32m---> \u001b[39m\u001b[32m62\u001b[39m \u001b[43mstudy\u001b[49m\u001b[43m.\u001b[49m\u001b[43moptimize\u001b[49m\u001b[43m(\u001b[49m\u001b[43mobjective\u001b[49m\u001b[43m,\u001b[49m\u001b[43m \u001b[49m\u001b[43mn_trials\u001b[49m\u001b[43m=\u001b[49m\u001b[32;43m100\u001b[39;49m\u001b[43m)\u001b[49m \n\u001b[32m     64\u001b[39m best_params_dict[building_type] = study.best_params\n\u001b[32m     65\u001b[39m \u001b[38;5;28mprint\u001b[39m(\u001b[33mf\u001b[39m\u001b[33m\"\u001b[39m\u001b[33m==> Best SMAPE for \u001b[39m\u001b[38;5;132;01m{\u001b[39;00mbuilding_type\u001b[38;5;132;01m}\u001b[39;00m\u001b[33m: \u001b[39m\u001b[38;5;132;01m{\u001b[39;00mstudy.best_value\u001b[38;5;132;01m:\u001b[39;00m\u001b[33m.4f\u001b[39m\u001b[38;5;132;01m}\u001b[39;00m\u001b[33m\"\u001b[39m)\n",
      "\u001b[36mFile \u001b[39m\u001b[32m/usr/local/lib/python3.11/dist-packages/optuna/study/study.py:489\u001b[39m, in \u001b[36mStudy.optimize\u001b[39m\u001b[34m(self, func, n_trials, timeout, n_jobs, catch, callbacks, gc_after_trial, show_progress_bar)\u001b[39m\n\u001b[32m    387\u001b[39m \u001b[38;5;28;01mdef\u001b[39;00m\u001b[38;5;250m \u001b[39m\u001b[34moptimize\u001b[39m(\n\u001b[32m    388\u001b[39m     \u001b[38;5;28mself\u001b[39m,\n\u001b[32m    389\u001b[39m     func: ObjectiveFuncType,\n\u001b[32m   (...)\u001b[39m\u001b[32m    396\u001b[39m     show_progress_bar: \u001b[38;5;28mbool\u001b[39m = \u001b[38;5;28;01mFalse\u001b[39;00m,\n\u001b[32m    397\u001b[39m ) -> \u001b[38;5;28;01mNone\u001b[39;00m:\n\u001b[32m    398\u001b[39m \u001b[38;5;250m    \u001b[39m\u001b[33;03m\"\"\"Optimize an objective function.\u001b[39;00m\n\u001b[32m    399\u001b[39m \n\u001b[32m    400\u001b[39m \u001b[33;03m    Optimization is done by choosing a suitable set of hyperparameter values from a given\u001b[39;00m\n\u001b[32m   (...)\u001b[39m\u001b[32m    487\u001b[39m \u001b[33;03m            If nested invocation of this method occurs.\u001b[39;00m\n\u001b[32m    488\u001b[39m \u001b[33;03m    \"\"\"\u001b[39;00m\n\u001b[32m--> \u001b[39m\u001b[32m489\u001b[39m     \u001b[43m_optimize\u001b[49m\u001b[43m(\u001b[49m\n\u001b[32m    490\u001b[39m \u001b[43m        \u001b[49m\u001b[43mstudy\u001b[49m\u001b[43m=\u001b[49m\u001b[38;5;28;43mself\u001b[39;49m\u001b[43m,\u001b[49m\n\u001b[32m    491\u001b[39m \u001b[43m        \u001b[49m\u001b[43mfunc\u001b[49m\u001b[43m=\u001b[49m\u001b[43mfunc\u001b[49m\u001b[43m,\u001b[49m\n\u001b[32m    492\u001b[39m \u001b[43m        \u001b[49m\u001b[43mn_trials\u001b[49m\u001b[43m=\u001b[49m\u001b[43mn_trials\u001b[49m\u001b[43m,\u001b[49m\n\u001b[32m    493\u001b[39m \u001b[43m        \u001b[49m\u001b[43mtimeout\u001b[49m\u001b[43m=\u001b[49m\u001b[43mtimeout\u001b[49m\u001b[43m,\u001b[49m\n\u001b[32m    494\u001b[39m \u001b[43m        \u001b[49m\u001b[43mn_jobs\u001b[49m\u001b[43m=\u001b[49m\u001b[43mn_jobs\u001b[49m\u001b[43m,\u001b[49m\n\u001b[32m    495\u001b[39m \u001b[43m        \u001b[49m\u001b[43mcatch\u001b[49m\u001b[43m=\u001b[49m\u001b[38;5;28;43mtuple\u001b[39;49m\u001b[43m(\u001b[49m\u001b[43mcatch\u001b[49m\u001b[43m)\u001b[49m\u001b[43m \u001b[49m\u001b[38;5;28;43;01mif\u001b[39;49;00m\u001b[43m \u001b[49m\u001b[38;5;28;43misinstance\u001b[39;49m\u001b[43m(\u001b[49m\u001b[43mcatch\u001b[49m\u001b[43m,\u001b[49m\u001b[43m \u001b[49m\u001b[43mIterable\u001b[49m\u001b[43m)\u001b[49m\u001b[43m \u001b[49m\u001b[38;5;28;43;01melse\u001b[39;49;00m\u001b[43m \u001b[49m\u001b[43m(\u001b[49m\u001b[43mcatch\u001b[49m\u001b[43m,\u001b[49m\u001b[43m)\u001b[49m\u001b[43m,\u001b[49m\n\u001b[32m    496\u001b[39m \u001b[43m        \u001b[49m\u001b[43mcallbacks\u001b[49m\u001b[43m=\u001b[49m\u001b[43mcallbacks\u001b[49m\u001b[43m,\u001b[49m\n\u001b[32m    497\u001b[39m \u001b[43m        \u001b[49m\u001b[43mgc_after_trial\u001b[49m\u001b[43m=\u001b[49m\u001b[43mgc_after_trial\u001b[49m\u001b[43m,\u001b[49m\n\u001b[32m    498\u001b[39m \u001b[43m        \u001b[49m\u001b[43mshow_progress_bar\u001b[49m\u001b[43m=\u001b[49m\u001b[43mshow_progress_bar\u001b[49m\u001b[43m,\u001b[49m\n\u001b[32m    499\u001b[39m \u001b[43m    \u001b[49m\u001b[43m)\u001b[49m\n",
      "\u001b[36mFile \u001b[39m\u001b[32m/usr/local/lib/python3.11/dist-packages/optuna/study/_optimize.py:64\u001b[39m, in \u001b[36m_optimize\u001b[39m\u001b[34m(study, func, n_trials, timeout, n_jobs, catch, callbacks, gc_after_trial, show_progress_bar)\u001b[39m\n\u001b[32m     62\u001b[39m \u001b[38;5;28;01mtry\u001b[39;00m:\n\u001b[32m     63\u001b[39m     \u001b[38;5;28;01mif\u001b[39;00m n_jobs == \u001b[32m1\u001b[39m:\n\u001b[32m---> \u001b[39m\u001b[32m64\u001b[39m         \u001b[43m_optimize_sequential\u001b[49m\u001b[43m(\u001b[49m\n\u001b[32m     65\u001b[39m \u001b[43m            \u001b[49m\u001b[43mstudy\u001b[49m\u001b[43m,\u001b[49m\n\u001b[32m     66\u001b[39m \u001b[43m            \u001b[49m\u001b[43mfunc\u001b[49m\u001b[43m,\u001b[49m\n\u001b[32m     67\u001b[39m \u001b[43m            \u001b[49m\u001b[43mn_trials\u001b[49m\u001b[43m,\u001b[49m\n\u001b[32m     68\u001b[39m \u001b[43m            \u001b[49m\u001b[43mtimeout\u001b[49m\u001b[43m,\u001b[49m\n\u001b[32m     69\u001b[39m \u001b[43m            \u001b[49m\u001b[43mcatch\u001b[49m\u001b[43m,\u001b[49m\n\u001b[32m     70\u001b[39m \u001b[43m            \u001b[49m\u001b[43mcallbacks\u001b[49m\u001b[43m,\u001b[49m\n\u001b[32m     71\u001b[39m \u001b[43m            \u001b[49m\u001b[43mgc_after_trial\u001b[49m\u001b[43m,\u001b[49m\n\u001b[32m     72\u001b[39m \u001b[43m            \u001b[49m\u001b[43mreseed_sampler_rng\u001b[49m\u001b[43m=\u001b[49m\u001b[38;5;28;43;01mFalse\u001b[39;49;00m\u001b[43m,\u001b[49m\n\u001b[32m     73\u001b[39m \u001b[43m            \u001b[49m\u001b[43mtime_start\u001b[49m\u001b[43m=\u001b[49m\u001b[38;5;28;43;01mNone\u001b[39;49;00m\u001b[43m,\u001b[49m\n\u001b[32m     74\u001b[39m \u001b[43m            \u001b[49m\u001b[43mprogress_bar\u001b[49m\u001b[43m=\u001b[49m\u001b[43mprogress_bar\u001b[49m\u001b[43m,\u001b[49m\n\u001b[32m     75\u001b[39m \u001b[43m        \u001b[49m\u001b[43m)\u001b[49m\n\u001b[32m     76\u001b[39m     \u001b[38;5;28;01melse\u001b[39;00m:\n\u001b[32m     77\u001b[39m         \u001b[38;5;28;01mif\u001b[39;00m n_jobs == -\u001b[32m1\u001b[39m:\n",
      "\u001b[36mFile \u001b[39m\u001b[32m/usr/local/lib/python3.11/dist-packages/optuna/study/_optimize.py:161\u001b[39m, in \u001b[36m_optimize_sequential\u001b[39m\u001b[34m(study, func, n_trials, timeout, catch, callbacks, gc_after_trial, reseed_sampler_rng, time_start, progress_bar)\u001b[39m\n\u001b[32m    158\u001b[39m         \u001b[38;5;28;01mbreak\u001b[39;00m\n\u001b[32m    160\u001b[39m \u001b[38;5;28;01mtry\u001b[39;00m:\n\u001b[32m--> \u001b[39m\u001b[32m161\u001b[39m     frozen_trial = \u001b[43m_run_trial\u001b[49m\u001b[43m(\u001b[49m\u001b[43mstudy\u001b[49m\u001b[43m,\u001b[49m\u001b[43m \u001b[49m\u001b[43mfunc\u001b[49m\u001b[43m,\u001b[49m\u001b[43m \u001b[49m\u001b[43mcatch\u001b[49m\u001b[43m)\u001b[49m\n\u001b[32m    162\u001b[39m \u001b[38;5;28;01mfinally\u001b[39;00m:\n\u001b[32m    163\u001b[39m     \u001b[38;5;66;03m# The following line mitigates memory problems that can be occurred in some\u001b[39;00m\n\u001b[32m    164\u001b[39m     \u001b[38;5;66;03m# environments (e.g., services that use computing containers such as GitHub Actions).\u001b[39;00m\n\u001b[32m    165\u001b[39m     \u001b[38;5;66;03m# Please refer to the following PR for further details:\u001b[39;00m\n\u001b[32m    166\u001b[39m     \u001b[38;5;66;03m# https://github.com/optuna/optuna/pull/325.\u001b[39;00m\n\u001b[32m    167\u001b[39m     \u001b[38;5;28;01mif\u001b[39;00m gc_after_trial:\n",
      "\u001b[36mFile \u001b[39m\u001b[32m/usr/local/lib/python3.11/dist-packages/optuna/study/_optimize.py:253\u001b[39m, in \u001b[36m_run_trial\u001b[39m\u001b[34m(study, func, catch)\u001b[39m\n\u001b[32m    246\u001b[39m         \u001b[38;5;28;01massert\u001b[39;00m \u001b[38;5;28;01mFalse\u001b[39;00m, \u001b[33m\"\u001b[39m\u001b[33mShould not reach.\u001b[39m\u001b[33m\"\u001b[39m\n\u001b[32m    248\u001b[39m \u001b[38;5;28;01mif\u001b[39;00m (\n\u001b[32m    249\u001b[39m     frozen_trial.state == TrialState.FAIL\n\u001b[32m    250\u001b[39m     \u001b[38;5;129;01mand\u001b[39;00m func_err \u001b[38;5;129;01mis\u001b[39;00m \u001b[38;5;129;01mnot\u001b[39;00m \u001b[38;5;28;01mNone\u001b[39;00m\n\u001b[32m    251\u001b[39m     \u001b[38;5;129;01mand\u001b[39;00m \u001b[38;5;129;01mnot\u001b[39;00m \u001b[38;5;28misinstance\u001b[39m(func_err, catch)\n\u001b[32m    252\u001b[39m ):\n\u001b[32m--> \u001b[39m\u001b[32m253\u001b[39m     \u001b[38;5;28;01mraise\u001b[39;00m func_err\n\u001b[32m    254\u001b[39m \u001b[38;5;28;01mreturn\u001b[39;00m frozen_trial\n",
      "\u001b[36mFile \u001b[39m\u001b[32m/usr/local/lib/python3.11/dist-packages/optuna/study/_optimize.py:201\u001b[39m, in \u001b[36m_run_trial\u001b[39m\u001b[34m(study, func, catch)\u001b[39m\n\u001b[32m    199\u001b[39m \u001b[38;5;28;01mwith\u001b[39;00m get_heartbeat_thread(trial._trial_id, study._storage):\n\u001b[32m    200\u001b[39m     \u001b[38;5;28;01mtry\u001b[39;00m:\n\u001b[32m--> \u001b[39m\u001b[32m201\u001b[39m         value_or_values = \u001b[43mfunc\u001b[49m\u001b[43m(\u001b[49m\u001b[43mtrial\u001b[49m\u001b[43m)\u001b[49m\n\u001b[32m    202\u001b[39m     \u001b[38;5;28;01mexcept\u001b[39;00m exceptions.TrialPruned \u001b[38;5;28;01mas\u001b[39;00m e:\n\u001b[32m    203\u001b[39m         \u001b[38;5;66;03m# TODO(mamu): Handle multi-objective cases.\u001b[39;00m\n\u001b[32m    204\u001b[39m         state = TrialState.PRUNED\n",
      "\u001b[36mCell\u001b[39m\u001b[36m \u001b[39m\u001b[32mIn[37]\u001b[39m\u001b[32m, line 49\u001b[39m, in \u001b[36mobjective\u001b[39m\u001b[34m(trial)\u001b[39m\n\u001b[32m     46\u001b[39m model = XGBRegressor(**params)\n\u001b[32m     48\u001b[39m \u001b[38;5;66;03m# fit 에서는 early_stopping_rounds 제거\u001b[39;00m\n\u001b[32m---> \u001b[39m\u001b[32m49\u001b[39m \u001b[43mmodel\u001b[49m\u001b[43m.\u001b[49m\u001b[43mfit\u001b[49m\u001b[43m(\u001b[49m\u001b[43mX_train\u001b[49m\u001b[43m,\u001b[49m\u001b[43m \u001b[49m\u001b[43mY_train_log\u001b[49m\u001b[43m,\u001b[49m\n\u001b[32m     50\u001b[39m \u001b[43m          \u001b[49m\u001b[43meval_set\u001b[49m\u001b[43m=\u001b[49m\u001b[43m[\u001b[49m\u001b[43m(\u001b[49m\u001b[43mX_valid\u001b[49m\u001b[43m,\u001b[49m\u001b[43m \u001b[49m\u001b[43mY_valid_log\u001b[49m\u001b[43m)\u001b[49m\u001b[43m]\u001b[49m\u001b[43m,\u001b[49m\n\u001b[32m     51\u001b[39m \u001b[43m          \u001b[49m\u001b[43mverbose\u001b[49m\u001b[43m=\u001b[49m\u001b[38;5;28;43;01mFalse\u001b[39;49;00m\u001b[43m)\u001b[49m\n\u001b[32m     53\u001b[39m preds = model.predict(X_valid)\n\u001b[32m     54\u001b[39m preds = np.expm1(preds)\n",
      "\u001b[36mFile \u001b[39m\u001b[32m/usr/local/lib/python3.11/dist-packages/xgboost/core.py:729\u001b[39m, in \u001b[36mrequire_keyword_args.<locals>.throw_if.<locals>.inner_f\u001b[39m\u001b[34m(*args, **kwargs)\u001b[39m\n\u001b[32m    727\u001b[39m \u001b[38;5;28;01mfor\u001b[39;00m k, arg \u001b[38;5;129;01min\u001b[39;00m \u001b[38;5;28mzip\u001b[39m(sig.parameters, args):\n\u001b[32m    728\u001b[39m     kwargs[k] = arg\n\u001b[32m--> \u001b[39m\u001b[32m729\u001b[39m \u001b[38;5;28;01mreturn\u001b[39;00m \u001b[43mfunc\u001b[49m\u001b[43m(\u001b[49m\u001b[43m*\u001b[49m\u001b[43m*\u001b[49m\u001b[43mkwargs\u001b[49m\u001b[43m)\u001b[49m\n",
      "\u001b[36mFile \u001b[39m\u001b[32m/usr/local/lib/python3.11/dist-packages/xgboost/sklearn.py:1247\u001b[39m, in \u001b[36mXGBModel.fit\u001b[39m\u001b[34m(self, X, y, sample_weight, base_margin, eval_set, verbose, xgb_model, sample_weight_eval_set, base_margin_eval_set, feature_weights)\u001b[39m\n\u001b[32m   1244\u001b[39m \u001b[38;5;28;01melse\u001b[39;00m:\n\u001b[32m   1245\u001b[39m     obj = \u001b[38;5;28;01mNone\u001b[39;00m\n\u001b[32m-> \u001b[39m\u001b[32m1247\u001b[39m \u001b[38;5;28mself\u001b[39m._Booster = \u001b[43mtrain\u001b[49m\u001b[43m(\u001b[49m\n\u001b[32m   1248\u001b[39m \u001b[43m    \u001b[49m\u001b[43mparams\u001b[49m\u001b[43m,\u001b[49m\n\u001b[32m   1249\u001b[39m \u001b[43m    \u001b[49m\u001b[43mtrain_dmatrix\u001b[49m\u001b[43m,\u001b[49m\n\u001b[32m   1250\u001b[39m \u001b[43m    \u001b[49m\u001b[38;5;28;43mself\u001b[39;49m\u001b[43m.\u001b[49m\u001b[43mget_num_boosting_rounds\u001b[49m\u001b[43m(\u001b[49m\u001b[43m)\u001b[49m\u001b[43m,\u001b[49m\n\u001b[32m   1251\u001b[39m \u001b[43m    \u001b[49m\u001b[43mevals\u001b[49m\u001b[43m=\u001b[49m\u001b[43mevals\u001b[49m\u001b[43m,\u001b[49m\n\u001b[32m   1252\u001b[39m \u001b[43m    \u001b[49m\u001b[43mearly_stopping_rounds\u001b[49m\u001b[43m=\u001b[49m\u001b[38;5;28;43mself\u001b[39;49m\u001b[43m.\u001b[49m\u001b[43mearly_stopping_rounds\u001b[49m\u001b[43m,\u001b[49m\n\u001b[32m   1253\u001b[39m \u001b[43m    \u001b[49m\u001b[43mevals_result\u001b[49m\u001b[43m=\u001b[49m\u001b[43mevals_result\u001b[49m\u001b[43m,\u001b[49m\n\u001b[32m   1254\u001b[39m \u001b[43m    \u001b[49m\u001b[43mobj\u001b[49m\u001b[43m=\u001b[49m\u001b[43mobj\u001b[49m\u001b[43m,\u001b[49m\n\u001b[32m   1255\u001b[39m \u001b[43m    \u001b[49m\u001b[43mcustom_metric\u001b[49m\u001b[43m=\u001b[49m\u001b[43mmetric\u001b[49m\u001b[43m,\u001b[49m\n\u001b[32m   1256\u001b[39m \u001b[43m    \u001b[49m\u001b[43mverbose_eval\u001b[49m\u001b[43m=\u001b[49m\u001b[43mverbose\u001b[49m\u001b[43m,\u001b[49m\n\u001b[32m   1257\u001b[39m \u001b[43m    \u001b[49m\u001b[43mxgb_model\u001b[49m\u001b[43m=\u001b[49m\u001b[43mmodel\u001b[49m\u001b[43m,\u001b[49m\n\u001b[32m   1258\u001b[39m \u001b[43m    \u001b[49m\u001b[43mcallbacks\u001b[49m\u001b[43m=\u001b[49m\u001b[38;5;28;43mself\u001b[39;49m\u001b[43m.\u001b[49m\u001b[43mcallbacks\u001b[49m\u001b[43m,\u001b[49m\n\u001b[32m   1259\u001b[39m \u001b[43m\u001b[49m\u001b[43m)\u001b[49m\n\u001b[32m   1261\u001b[39m \u001b[38;5;28mself\u001b[39m._set_evaluation_result(evals_result)\n\u001b[32m   1262\u001b[39m \u001b[38;5;28;01mreturn\u001b[39;00m \u001b[38;5;28mself\u001b[39m\n",
      "\u001b[36mFile \u001b[39m\u001b[32m/usr/local/lib/python3.11/dist-packages/xgboost/core.py:729\u001b[39m, in \u001b[36mrequire_keyword_args.<locals>.throw_if.<locals>.inner_f\u001b[39m\u001b[34m(*args, **kwargs)\u001b[39m\n\u001b[32m    727\u001b[39m \u001b[38;5;28;01mfor\u001b[39;00m k, arg \u001b[38;5;129;01min\u001b[39;00m \u001b[38;5;28mzip\u001b[39m(sig.parameters, args):\n\u001b[32m    728\u001b[39m     kwargs[k] = arg\n\u001b[32m--> \u001b[39m\u001b[32m729\u001b[39m \u001b[38;5;28;01mreturn\u001b[39;00m \u001b[43mfunc\u001b[49m\u001b[43m(\u001b[49m\u001b[43m*\u001b[49m\u001b[43m*\u001b[49m\u001b[43mkwargs\u001b[49m\u001b[43m)\u001b[49m\n",
      "\u001b[36mFile \u001b[39m\u001b[32m/usr/local/lib/python3.11/dist-packages/xgboost/training.py:183\u001b[39m, in \u001b[36mtrain\u001b[39m\u001b[34m(params, dtrain, num_boost_round, evals, obj, maximize, early_stopping_rounds, evals_result, verbose_eval, xgb_model, callbacks, custom_metric)\u001b[39m\n\u001b[32m    181\u001b[39m \u001b[38;5;28;01mif\u001b[39;00m cb_container.before_iteration(bst, i, dtrain, evals):\n\u001b[32m    182\u001b[39m     \u001b[38;5;28;01mbreak\u001b[39;00m\n\u001b[32m--> \u001b[39m\u001b[32m183\u001b[39m \u001b[43mbst\u001b[49m\u001b[43m.\u001b[49m\u001b[43mupdate\u001b[49m\u001b[43m(\u001b[49m\u001b[43mdtrain\u001b[49m\u001b[43m,\u001b[49m\u001b[43m \u001b[49m\u001b[43miteration\u001b[49m\u001b[43m=\u001b[49m\u001b[43mi\u001b[49m\u001b[43m,\u001b[49m\u001b[43m \u001b[49m\u001b[43mfobj\u001b[49m\u001b[43m=\u001b[49m\u001b[43mobj\u001b[49m\u001b[43m)\u001b[49m\n\u001b[32m    184\u001b[39m \u001b[38;5;28;01mif\u001b[39;00m cb_container.after_iteration(bst, i, dtrain, evals):\n\u001b[32m    185\u001b[39m     \u001b[38;5;28;01mbreak\u001b[39;00m\n",
      "\u001b[36mFile \u001b[39m\u001b[32m/usr/local/lib/python3.11/dist-packages/xgboost/core.py:2254\u001b[39m, in \u001b[36mBooster.update\u001b[39m\u001b[34m(self, dtrain, iteration, fobj)\u001b[39m\n\u001b[32m   2252\u001b[39m pred = \u001b[38;5;28mself\u001b[39m.predict(dtrain, output_margin=\u001b[38;5;28;01mTrue\u001b[39;00m, training=\u001b[38;5;28;01mTrue\u001b[39;00m)\n\u001b[32m   2253\u001b[39m grad, hess = fobj(pred, dtrain)\n\u001b[32m-> \u001b[39m\u001b[32m2254\u001b[39m \u001b[38;5;28;43mself\u001b[39;49m\u001b[43m.\u001b[49m\u001b[43mboost\u001b[49m\u001b[43m(\u001b[49m\u001b[43mdtrain\u001b[49m\u001b[43m,\u001b[49m\u001b[43m \u001b[49m\u001b[43miteration\u001b[49m\u001b[43m=\u001b[49m\u001b[43miteration\u001b[49m\u001b[43m,\u001b[49m\u001b[43m \u001b[49m\u001b[43mgrad\u001b[49m\u001b[43m=\u001b[49m\u001b[43mgrad\u001b[49m\u001b[43m,\u001b[49m\u001b[43m \u001b[49m\u001b[43mhess\u001b[49m\u001b[43m=\u001b[49m\u001b[43mhess\u001b[49m\u001b[43m)\u001b[49m\n",
      "\u001b[36mFile \u001b[39m\u001b[32m/usr/local/lib/python3.11/dist-packages/xgboost/core.py:2309\u001b[39m, in \u001b[36mBooster.boost\u001b[39m\u001b[34m(self, dtrain, iteration, grad, hess)\u001b[39m\n\u001b[32m   2304\u001b[39m         \u001b[38;5;28;01mraise\u001b[39;00m \u001b[38;5;167;01mTypeError\u001b[39;00m(msg)\n\u001b[32m   2306\u001b[39m     \u001b[38;5;28;01mreturn\u001b[39;00m interface\n\u001b[32m   2308\u001b[39m _check_call(\n\u001b[32m-> \u001b[39m\u001b[32m2309\u001b[39m     \u001b[43m_LIB\u001b[49m\u001b[43m.\u001b[49m\u001b[43mXGBoosterTrainOneIter\u001b[49m\u001b[43m(\u001b[49m\n\u001b[32m   2310\u001b[39m \u001b[43m        \u001b[49m\u001b[38;5;28;43mself\u001b[39;49m\u001b[43m.\u001b[49m\u001b[43mhandle\u001b[49m\u001b[43m,\u001b[49m\n\u001b[32m   2311\u001b[39m \u001b[43m        \u001b[49m\u001b[43mdtrain\u001b[49m\u001b[43m.\u001b[49m\u001b[43mhandle\u001b[49m\u001b[43m,\u001b[49m\n\u001b[32m   2312\u001b[39m \u001b[43m        \u001b[49m\u001b[43miteration\u001b[49m\u001b[43m,\u001b[49m\n\u001b[32m   2313\u001b[39m \u001b[43m        \u001b[49m\u001b[43mgrad_arrinf\u001b[49m\u001b[43m(\u001b[49m\u001b[43mgrad\u001b[49m\u001b[43m)\u001b[49m\u001b[43m,\u001b[49m\n\u001b[32m   2314\u001b[39m \u001b[43m        \u001b[49m\u001b[43mgrad_arrinf\u001b[49m\u001b[43m(\u001b[49m\u001b[43mhess\u001b[49m\u001b[43m)\u001b[49m\u001b[43m,\u001b[49m\n\u001b[32m   2315\u001b[39m \u001b[43m    \u001b[49m\u001b[43m)\u001b[49m\n\u001b[32m   2316\u001b[39m )\n",
      "\u001b[31mKeyboardInterrupt\u001b[39m: "
     ]
    }
   ],
   "source": [
    "# 각 건물 유형별로 최적의 파라미터를 저장할 딕셔너리\n",
    "best_params_dict = {}\n",
    "\n",
    "# 앞에서 정의한 type_list (건물 유형 리스트)를 순회\n",
    "for building_type in type_list:\n",
    "    print(f\"================ Optuna HPO for Building Type: {building_type} ================\")\n",
    "\n",
    "    # 현재 건물 유형에 해당하는 데이터만 필터링\n",
    "    x_opt = X[X.building_type == building_type].copy()\n",
    "    y_opt = Y[Y.building_type == building_type]['power_consumption'].copy()\n",
    "    \n",
    "    x_opt.drop(['building_type'], axis=1, inplace=True)\n",
    "    x_opt = pd.get_dummies(x_opt, columns=['building_number'], drop_first=False)\n",
    "    \n",
    "    # Optuna의 objective 함수 정의\n",
    "    def objective(trial):\n",
    "        # 탐색할 하이퍼파라미터의 범위(Search Space)를 정의합니다.\n",
    "        params = {\n",
    "            'objective': weighted_mse(trial.suggest_uniform('alpha', 0.5, 2.0)),\n",
    "            'learning_rate': 0.05,\n",
    "            'n_estimators': 5000,\n",
    "            'random_state': RANDOM_SEED,\n",
    "            'max_depth': trial.suggest_int('max_depth', 5, 15),\n",
    "            'min_child_weight': trial.suggest_int('min_child_weight', 1, 20),\n",
    "            'subsample': trial.suggest_uniform('subsample', 0.6, 1.0),\n",
    "            'colsample_bytree': trial.suggest_uniform('colsample_bytree', 0.6, 1.0),\n",
    "            'eval_metric': optuna_custom_smape, \n",
    "            'n_jobs': -1,\n",
    "            'early_stopping_rounds': 100,\n",
    "            # GPU를 사용하기 위해 아래 파라미터들을 추가\n",
    "            'tree_method': 'gpu_hist',\n",
    "            'gpu_id': 0  # 사용할 GPU 번호 (보통 0)\n",
    "        }\n",
    "\n",
    "        # 간단한 K-Fold로 성능 검증\n",
    "        kf_opt = KFold(n_splits=3, shuffle=True, random_state=RANDOM_SEED)\n",
    "        smapes = []\n",
    "        \n",
    "        for train_idx, valid_idx in kf_opt.split(x_opt):\n",
    "            X_train, X_valid = x_opt.iloc[train_idx], x_opt.iloc[valid_idx]\n",
    "            Y_train, Y_valid = y_opt.iloc[train_idx], y_opt.iloc[valid_idx]\n",
    "\n",
    "            Y_train_log, Y_valid_log = np.log1p(Y_train), np.log1p(Y_valid)\n",
    "            \n",
    "            # 모델 생성 시 파라미터 전달\n",
    "            model = XGBRegressor(**params)\n",
    "            \n",
    "            # fit 에서는 early_stopping_rounds 제거\n",
    "            model.fit(X_train, Y_train_log,\n",
    "                      eval_set=[(X_valid, Y_valid_log)],\n",
    "                      verbose=False)\n",
    "            \n",
    "            preds = model.predict(X_valid)\n",
    "            preds = np.expm1(preds)\n",
    "            \n",
    "            smapes.append(smape(Y_valid, preds))\n",
    "            \n",
    "        return np.mean(smapes)\n",
    "\n",
    "    # Optuna Study 생성 및 최적화 실행\n",
    "    study = optuna.create_study(direction='minimize')\n",
    "    study.optimize(objective, n_trials=100) \n",
    "    \n",
    "    best_params_dict[building_type] = study.best_params\n",
    "    print(f\"==> Best SMAPE for {building_type}: {study.best_value:.4f}\")\n",
    "    print(f\"==> Best Params: {study.best_params}\")\n",
    "\n",
    "\n",
    "# 결과를 DataFrame으로 변환\n",
    "xgb_best_params = pd.DataFrame.from_dict(best_params_dict, orient='index')\n",
    "xgb_best_params['alpha'] = xgb_best_params['objective'].apply(lambda x: x.keywords['alpha'])\n",
    "xgb_best_params.drop('objective', axis=1, inplace=True)\n",
    "\n",
    "# 최종 생성된 파라미터 DataFrame을 화면에 출력\n",
    "print(\"\\\\n\\\\n========== 최종 생성된 파라미터 DataFrame ==========\")\n",
    "print(xgb_best_params)\n",
    "\n",
    "# 결과를 CSV 파일로 저장\n",
    "output_filename = 'xgb_best_params_found.csv'\n",
    "xgb_best_params.to_csv(output_filename)\n",
    "print(f\"\\\\n✅ 최적 파라미터를 '{output_filename}' 파일로 저장했습니다.\")"
   ]
  },
  {
   "cell_type": "code",
   "execution_count": null,
   "id": "8c995f9d",
   "metadata": {
    "ExecuteTime": {
     "end_time": "2023-09-01T12:07:57.662804Z",
     "start_time": "2023-09-01T12:07:57.656785Z"
    }
   },
   "outputs": [],
   "source": [
    "xgb_best_params = pd.read_csv('5_07 xgb 파라미터.csv')\n",
    "xgb_best_params['building_type'] = type_list\n",
    "xgb_best_params.set_index('building_type',inplace=True)"
   ]
  },
  {
   "cell_type": "code",
   "execution_count": null,
   "id": "b1ae3886",
   "metadata": {
    "ExecuteTime": {
     "end_time": "2023-09-01T12:07:58.803898Z",
     "start_time": "2023-09-01T12:07:58.786884Z"
    }
   },
   "outputs": [],
   "source": [
    "xgb_best_params"
   ]
  },
  {
   "cell_type": "code",
   "execution_count": null,
   "id": "897f4175",
   "metadata": {
    "ExecuteTime": {
     "end_time": "2023-08-30T11:40:03.076892Z",
     "start_time": "2023-08-30T10:49:46.245401Z"
    }
   },
   "outputs": [],
   "source": [
    "kf = KFold(n_splits = 7,shuffle=True,random_state=RANDOM_SEED)\n",
    "answer_df = pd.DataFrame(columns=['answer'])\n",
    "pred_df = pd.DataFrame(columns=['pred'])\n",
    "\n",
    "\n",
    "\n",
    "for i in type_list:\n",
    "    \n",
    "    x = X[(X.building_type == i)]\n",
    "    y = Y[(Y.building_type == i)]\n",
    "    X_test = test_X[test_X.building_type==i]\n",
    "    \n",
    "    x = pd.get_dummies(x, columns=['building_number'], drop_first=False)\n",
    "    X_test = pd.get_dummies(X_test, columns=['building_number'], drop_first=False)\n",
    "\n",
    "    x = x.drop(['building_type'],axis =1)\n",
    "    X_test = X_test.drop(['building_type'],axis =1)\n",
    "    y = y['power_consumption']\n",
    "    x_columns = np.array(x.columns)\n",
    "    x = np.array(x) ; y = np.array(y)\n",
    "    \n",
    "    j = 0\n",
    "    xgb_fold_smape = []\n",
    "    answer_list = []\n",
    "    pred = pd.DataFrame(index = range(0,y.shape[0]), columns=['pred'])\n",
    "    answer = pd.DataFrame(columns=['answer'])\n",
    "    \n",
    "    for train_index, valid_index in kf.split(x):\n",
    "        j += 1\n",
    "        \n",
    "        \n",
    "\n",
    "        X_train, X_valid = x[train_index], x[valid_index]\n",
    "        Y_train, Y_valid = y[train_index], y[valid_index]\n",
    "        Y_train = np.log(Y_train) ; Y_valid = np.log(Y_valid)\n",
    "\n",
    "\n",
    "        evals = [(X_train,Y_train),(X_valid,Y_valid)]\n",
    "        xgb_model = XGBRegressor(learning_rate = 0.05,n_estimators = 5000,\n",
    "                             max_depth = int(xgb_best_params.loc[i]['max_depth']),\n",
    "                             random_state = RANDOM_SEED,\n",
    "                            subsample = xgb_best_params.loc[i]['subsample'],\n",
    "                             colsample_bytree = xgb_best_params.loc[i]['colsample_bytree'],\n",
    "                             min_child_weight = int(xgb_best_params.loc[i]['min_child_weight']),\n",
    "                             objective=weighted_mse(xgb_best_params.loc[i]['alpha']))\n",
    "        \n",
    "        xgb_model.fit(X_train, Y_train, early_stopping_rounds = 100,\n",
    "                       eval_metric = custom_smape, eval_set = evals, verbose = False)\n",
    "        xgb_pred = xgb_model.predict(X_valid)\n",
    "        xgb_pred = np.exp(xgb_pred)\n",
    "        pred['pred'][valid_index] = xgb_pred\n",
    "        xgb_smape = smape(np.exp(Y_valid),xgb_pred)\n",
    "        xgb_answer = xgb_model.predict(X_test)\n",
    "        answer_list.append(np.exp(xgb_answer))\n",
    "        xgb_fold_smape.append(xgb_smape)\n",
    "        \n",
    "        \n",
    "        if j == 7:\n",
    "            sorted_idx = xgb_model.feature_importances_.argsort()\n",
    "            plt.figure(figsize=(8,15))\n",
    "            plt.barh(x_columns[sorted_idx],  xgb_model.feature_importances_[sorted_idx])\n",
    "            plt.xlabel('%s model XGB Feature Importance'%(i))\n",
    "            plt.show()\n",
    "\n",
    "\n",
    "    type_answer = sum(answer_list) / len(answer_list)\n",
    " \n",
    "    answer.answer = type_answer\n",
    "    answer_df = pd.concat([answer_df,answer],ignore_index=True)\n",
    "    pred_df = pd.concat([pred_df,pred],ignore_index=True)\n",
    "\n",
    "    avg_smape = sum(xgb_fold_smape) / len(xgb_fold_smape)\n",
    "    print('Building type = %s : XGBRegressor Model SMAPE : %.4f' %(i,avg_smape))\n",
    "    \n",
    "    \n",
    "total_score = smape(Y.power_consumption,pred_df.pred)\n",
    "print('Total SMAPE : %.4f'%(total_score))"
   ]
  },
  {
   "cell_type": "markdown",
   "id": "282c4abc",
   "metadata": {},
   "source": [
    "## 정답파일 만들기"
   ]
  },
  {
   "cell_type": "code",
   "execution_count": null,
   "id": "70ef13fe",
   "metadata": {
    "ExecuteTime": {
     "end_time": "2023-08-30T11:44:33.046251Z",
     "start_time": "2023-08-30T11:44:33.033239Z"
    }
   },
   "outputs": [],
   "source": [
    "answer = pd.read_csv('sample_submission.csv')"
   ]
  },
  {
   "cell_type": "code",
   "execution_count": null,
   "id": "f959ba4d",
   "metadata": {
    "ExecuteTime": {
     "end_time": "2023-08-30T11:44:33.226417Z",
     "start_time": "2023-08-30T11:44:33.210401Z"
    }
   },
   "outputs": [],
   "source": [
    "answer.answer = answer_df.answer"
   ]
  },
  {
   "cell_type": "code",
   "execution_count": null,
   "id": "3bcff61f",
   "metadata": {
    "ExecuteTime": {
     "end_time": "2023-08-30T11:44:33.676826Z",
     "start_time": "2023-08-30T11:44:33.653804Z"
    }
   },
   "outputs": [],
   "source": [
    "answer.to_csv('private_재현.csv',index = False)"
   ]
  },
  {
   "cell_type": "code",
   "execution_count": null,
   "id": "f7b51d62",
   "metadata": {
    "ExecuteTime": {
     "end_time": "2023-09-01T12:18:33.109076Z",
     "start_time": "2023-09-01T12:18:33.095063Z"
    },
    "scrolled": true
   },
   "outputs": [],
   "source": [
    "answer.head()"
   ]
  },
  {
   "cell_type": "code",
   "execution_count": null,
   "id": "2bddfb6d-bf1a-4c91-83d1-8790b28fab9e",
   "metadata": {},
   "outputs": [],
   "source": []
  }
 ],
 "metadata": {
  "kernelspec": {
   "display_name": "Python 3 (ipykernel)",
   "language": "python",
   "name": "python3"
  },
  "language_info": {
   "codemirror_mode": {
    "name": "ipython",
    "version": 3
   },
   "file_extension": ".py",
   "mimetype": "text/x-python",
   "name": "python",
   "nbconvert_exporter": "python",
   "pygments_lexer": "ipython3",
   "version": "3.11.11"
  },
  "toc": {
   "base_numbering": 1,
   "nav_menu": {},
   "number_sections": true,
   "sideBar": true,
   "skip_h1_title": false,
   "title_cell": "Table of Contents",
   "title_sidebar": "Contents",
   "toc_cell": false,
   "toc_position": {
    "height": "calc(100% - 180px)",
    "left": "10px",
    "top": "150px",
    "width": "286.188px"
   },
   "toc_section_display": true,
   "toc_window_display": true
  }
 },
 "nbformat": 4,
 "nbformat_minor": 5
}
