{
 "cells": [
  {
   "cell_type": "markdown",
   "id": "2606838c",
   "metadata": {},
   "source": [
    "# 함수 선언 및  import"
   ]
  },
  {
   "cell_type": "code",
   "execution_count": null,
   "id": "a527ea83",
   "metadata": {
    "ExecuteTime": {
     "end_time": "2023-09-01T12:15:59.117024Z",
     "start_time": "2023-09-01T12:15:59.110018Z"
    }
   },
   "outputs": [
    {
     "name": "stderr",
     "output_type": "stream",
     "text": [
      "c:\\Anaconda3\\envs\\groom\\Lib\\site-packages\\tqdm\\auto.py:21: TqdmWarning: IProgress not found. Please update jupyter and ipywidgets. See https://ipywidgets.readthedocs.io/en/stable/user_install.html\n",
      "  from .autonotebook import tqdm as notebook_tqdm\n"
     ]
    }
   ],
   "source": [
    "import pandas as pd\n",
    "import seaborn as sns\n",
    "import numpy as np\n",
    "import matplotlib.pyplot as plt\n",
    "import matplotlib\n",
    "\n",
    "\n",
    "import sklearn\n",
    "import xgboost\n",
    "from xgboost import XGBRegressor\n",
    "from sklearn.model_selection import TimeSeriesSplit\n",
    "from optuna_integration.xgboost import XGBoostPruningCallback\n",
    "import optuna\n",
    "from sklearn.model_selection import KFold\n",
    "\n",
    "\n",
    "import random as rn\n",
    "\n",
    "RANDOM_SEED = 2023\n",
    "np.random.seed(RANDOM_SEED)\n",
    "rn.seed(RANDOM_SEED)\n",
    "\n",
    "\n",
    "\n",
    "from datetime import datetime\n",
    "\n",
    "\n",
    "\n",
    "import warnings\n",
    "warnings.filterwarnings('ignore')\n",
    "pd.set_option('display.max_columns', None)"
   ]
  },
  {
   "cell_type": "markdown",
   "id": "48b4a865",
   "metadata": {},
   "source": [
    "개발 환경(OS): Windows 10 Pro, 64비트 운영 체제"
   ]
  },
  {
   "cell_type": "code",
   "execution_count": null,
   "id": "02d79646",
   "metadata": {
    "ExecuteTime": {
     "end_time": "2023-09-01T12:16:06.380158Z",
     "start_time": "2023-09-01T12:16:06.376154Z"
    }
   },
   "outputs": [],
   "source": [
    "print(\"pandas version: {}\". format(pd.__version__))\n",
    "print(\"NumPy version: {}\". format(np.__version__))\n",
    "print(\"scikit-learn version: {}\". format(sklearn.__version__))\n",
    "print(\"matplotlib version: {}\". format(matplotlib.__version__))\n",
    "print(\"seaborn version: {}\". format(sns.__version__))\n",
    "print(\"XGBoost version: {}\". format(xgboost.__version__))"
   ]
  },
  {
   "cell_type": "code",
   "execution_count": null,
   "id": "213bb3e5",
   "metadata": {
    "ExecuteTime": {
     "end_time": "2023-09-01T12:16:06.920627Z",
     "start_time": "2023-09-01T12:16:06.916624Z"
    }
   },
   "outputs": [],
   "source": [
    "def smape(gt, preds):\n",
    "    gt= np.array(gt)\n",
    "    preds = np.array(preds)\n",
    "    v = 2 * abs(preds - gt) / (abs(preds) + abs(gt))\n",
    "    score = np.mean(v) * 100\n",
    "    return score"
   ]
  },
  {
   "cell_type": "code",
   "execution_count": null,
   "id": "3c3ed4c5",
   "metadata": {
    "ExecuteTime": {
     "end_time": "2023-09-01T12:16:07.296669Z",
     "start_time": "2023-09-01T12:16:07.280654Z"
    }
   },
   "outputs": [],
   "source": [
    "def weighted_mse(alpha = 1):\n",
    "    def weighted_mse_fixed(preds, dtrain):\n",
    "        labels = dtrain.get_label()\n",
    "        residual = (labels - preds).astype(\"float\")\n",
    "        grad = np.where(residual > 0, -2 * alpha * residual, -2 * residual)\n",
    "        hess = np.where(residual > 0, 2 * alpha, 2.0)\n",
    "        return grad, hess\n",
    "    return weighted_mse_fixed"
   ]
  },
  {
   "cell_type": "code",
   "execution_count": null,
   "id": "130a94d6",
   "metadata": {
    "ExecuteTime": {
     "end_time": "2023-09-01T12:16:08.919122Z",
     "start_time": "2023-09-01T12:16:08.904108Z"
    }
   },
   "outputs": [],
   "source": [
    "def custom_smape(preds, dtrain):\n",
    "    labels = dtrain.get_label()\n",
    "    return 'custom_smape', np.mean(2 * abs(preds - labels) / (abs(preds) + abs(labels))) * 100"
   ]
  },
  {
   "cell_type": "markdown",
   "id": "3c93aad7",
   "metadata": {},
   "source": [
    "# 데이터 전처리"
   ]
  },
  {
   "cell_type": "markdown",
   "id": "59754f5d",
   "metadata": {},
   "source": [
    "## 데이터 불러오기"
   ]
  },
  {
   "cell_type": "code",
   "execution_count": null,
   "id": "c0e49868",
   "metadata": {
    "ExecuteTime": {
     "end_time": "2023-09-01T09:55:54.861486Z",
     "start_time": "2023-09-01T09:55:54.703696Z"
    }
   },
   "outputs": [],
   "source": [
    "train = pd.read_csv('train.csv')\n",
    "test = pd.read_csv('test.csv')\n",
    "building_info = pd.read_csv('building_info.csv')"
   ]
  },
  {
   "cell_type": "code",
   "execution_count": null,
   "id": "45ddf770",
   "metadata": {
    "ExecuteTime": {
     "end_time": "2023-09-01T09:55:54.966582Z",
     "start_time": "2023-09-01T09:55:54.940559Z"
    }
   },
   "outputs": [],
   "source": [
    "train = train.rename(columns={\n",
    "    '건물번호': 'building_number',\n",
    "    '일시': 'date_time',\n",
    "    '기온(°C)': 'temperature',\n",
    "    '강수량(mm)': 'rainfall',\n",
    "    '풍속(m/s)': 'windspeed',\n",
    "    '습도(%)': 'humidity',\n",
    "    '일조(hr)': 'sunshine',\n",
    "    '일사(MJ/m2)': 'solar_radiation',\n",
    "    '전력소비량(kWh)': 'power_consumption'\n",
    "})\n",
    "train.drop('num_date_time', axis = 1, inplace=True)\n",
    "\n",
    "test = test.rename(columns={\n",
    "    '건물번호': 'building_number',\n",
    "    '일시': 'date_time',\n",
    "    '기온(°C)': 'temperature',\n",
    "    '강수량(mm)': 'rainfall',\n",
    "    '풍속(m/s)': 'windspeed',\n",
    "    '습도(%)': 'humidity',\n",
    "    '일조(hr)': 'sunshine',\n",
    "    '일사(MJ/m2)': 'solar_radiation',\n",
    "    '전력소비량(kWh)': 'power_consumption'\n",
    "})\n",
    "test.drop('num_date_time', axis = 1, inplace=True)"
   ]
  },
  {
   "cell_type": "code",
   "execution_count": null,
   "id": "96c0d646",
   "metadata": {
    "ExecuteTime": {
     "end_time": "2023-09-01T09:55:55.116716Z",
     "start_time": "2023-09-01T09:55:55.108709Z"
    }
   },
   "outputs": [],
   "source": [
    "building_info = building_info.rename(columns={\n",
    "    '건물번호': 'building_number',\n",
    "    '건물유형': 'building_type',\n",
    "    '연면적(m2)': 'total_area',\n",
    "    '냉방면적(m2)': 'cooling_area',\n",
    "    '태양광용량(kW)': 'solar_power_capacity',\n",
    "    'ESS저장용량(kWh)': 'ess_capacity',\n",
    "    'PCS용량(kW)': 'pcs_capacity'\n",
    "})"
   ]
  },
  {
   "cell_type": "code",
   "execution_count": null,
   "id": "4c36f788",
   "metadata": {
    "ExecuteTime": {
     "end_time": "2023-09-01T09:55:55.281867Z",
     "start_time": "2023-09-01T09:55:55.263850Z"
    }
   },
   "outputs": [],
   "source": [
    "translation_dict = {\n",
    "    '건물기타': 'Other Buildings',\n",
    "    '공공': 'Public',\n",
    "    '대학교': 'University',\n",
    "    '데이터센터': 'Data Center',\n",
    "    '백화점및아울렛': 'Department Store and Outlet',\n",
    "    '병원': 'Hospital',\n",
    "    '상용': 'Commercial',\n",
    "    '아파트': 'Apartment',\n",
    "    '연구소': 'Research Institute',\n",
    "    '지식산업센터': 'Knowledge Industry Center',\n",
    "    '할인마트': 'Discount Mart',\n",
    "    '호텔및리조트': 'Hotel and Resort'\n",
    "}\n",
    "\n",
    "building_info['building_type'] = building_info['building_type'].replace(translation_dict)"
   ]
  },
  {
   "cell_type": "code",
   "execution_count": null,
   "id": "088cd6cc",
   "metadata": {
    "ExecuteTime": {
     "end_time": "2023-09-01T09:55:55.432003Z",
     "start_time": "2023-09-01T09:55:55.418991Z"
    }
   },
   "outputs": [],
   "source": [
    "building_info['solar_power_utility'] = np.where(building_info.solar_power_capacity !='-',1,0)\n",
    "building_info['ess_utility'] = np.where(building_info.ess_capacity !='-',1,0)"
   ]
  },
  {
   "cell_type": "code",
   "execution_count": null,
   "id": "0fef2583",
   "metadata": {
    "ExecuteTime": {
     "end_time": "2023-09-01T09:55:55.597153Z",
     "start_time": "2023-09-01T09:55:55.569128Z"
    }
   },
   "outputs": [],
   "source": [
    "train = pd.merge(train, building_info, on='building_number', how='left')\n",
    "test = pd.merge(test, building_info, on='building_number', how='left')"
   ]
  },
  {
   "cell_type": "markdown",
   "id": "49b38f22",
   "metadata": {},
   "source": [
    "## 결측치 확인 및 보간"
   ]
  },
  {
   "cell_type": "code",
   "execution_count": null,
   "id": "b17a6966",
   "metadata": {
    "ExecuteTime": {
     "end_time": "2023-09-01T09:55:56.422564Z",
     "start_time": "2023-09-01T09:55:56.389534Z"
    }
   },
   "outputs": [],
   "source": [
    "train.isna().sum()"
   ]
  },
  {
   "cell_type": "code",
   "execution_count": null,
   "id": "9d88de08",
   "metadata": {
    "ExecuteTime": {
     "end_time": "2023-09-01T09:55:56.857370Z",
     "start_time": "2023-09-01T09:55:56.835349Z"
    }
   },
   "outputs": [],
   "source": [
    "train.solar_power_capacity.value_counts()"
   ]
  },
  {
   "cell_type": "code",
   "execution_count": null,
   "id": "e2e4059d",
   "metadata": {
    "ExecuteTime": {
     "end_time": "2023-09-01T09:55:57.172845Z",
     "start_time": "2023-09-01T09:55:57.161836Z"
    }
   },
   "outputs": [],
   "source": [
    "train.ess_capacity.value_counts()"
   ]
  },
  {
   "cell_type": "code",
   "execution_count": null,
   "id": "70841b49",
   "metadata": {
    "ExecuteTime": {
     "end_time": "2023-09-01T09:55:57.368025Z",
     "start_time": "2023-09-01T09:55:57.351010Z"
    }
   },
   "outputs": [],
   "source": [
    "train.pcs_capacity.value_counts()"
   ]
  },
  {
   "cell_type": "code",
   "execution_count": null,
   "id": "b2ca69ac",
   "metadata": {},
   "outputs": [],
   "source": [
    "train['windspeed']= train.windspeed.interpolate()\n",
    "train['humidity']= train.humidity.interpolate()"
   ]
  },
  {
   "cell_type": "markdown",
   "id": "eebba91d",
   "metadata": {},
   "source": [
    "## Datetime 분리"
   ]
  },
  {
   "cell_type": "code",
   "execution_count": null,
   "id": "6a48c18d",
   "metadata": {
    "ExecuteTime": {
     "end_time": "2023-09-01T09:55:58.103624Z",
     "start_time": "2023-09-01T09:55:57.991522Z"
    }
   },
   "outputs": [],
   "source": [
    "train['date_time'] = pd.to_datetime(train['date_time'], format='%Y%m%d %H')\n",
    "\n",
    "# date time feature 생성\n",
    "train['hour'] = train['date_time'].dt.hour\n",
    "train['day'] = train['date_time'].dt.day\n",
    "train['month'] = train['date_time'].dt.month\n",
    "train['day_of_week'] = train['date_time'].dt.dayofweek #요일\n",
    "\n",
    "\n",
    "test['date_time'] = pd.to_datetime(test['date_time'], format='%Y%m%d %H')\n",
    "\n",
    "# date time feature 생성\n",
    "test['hour'] = test['date_time'].dt.hour\n",
    "test['day'] = test['date_time'].dt.day\n",
    "test['month'] = test['date_time'].dt.month\n",
    "test['day_of_week'] = test['date_time'].dt.dayofweek #요일"
   ]
  },
  {
   "cell_type": "markdown",
   "id": "f4cc4133",
   "metadata": {},
   "source": [
    "## Feature Engineering"
   ]
  },
  {
   "cell_type": "markdown",
   "id": "c342c005",
   "metadata": {},
   "source": [
    "### 평균기온, 최대기온 변수"
   ]
  },
  {
   "cell_type": "code",
   "execution_count": null,
   "id": "790fec52",
   "metadata": {
    "ExecuteTime": {
     "end_time": "2023-09-01T09:56:20.587052Z",
     "start_time": "2023-09-01T09:55:58.499939Z"
    }
   },
   "outputs": [],
   "source": [
    "def calculate_day_values(dataframe, target_column, output_column, aggregation_func):\n",
    "    result_dict = {}\n",
    "\n",
    "    grouped_temp = dataframe.groupby(['building_number', 'month', 'day'])[target_column].agg(aggregation_func)\n",
    "\n",
    "    for (building, month, day), value in grouped_temp.items():\n",
    "        result_dict.setdefault(building, {}).setdefault(month, {})[day] = value\n",
    "\n",
    "    dataframe[output_column] = [\n",
    "        result_dict.get(row['building_number'], {}).get(row['month'], {}).get(row['day'], None)\n",
    "        for _, row in dataframe.iterrows()\n",
    "    ]\n",
    "\n",
    "    \n",
    "train['day_max_temperature'] = 0.0\n",
    "train['day_mean_temperature'] = 0.0\n",
    "\n",
    "calculate_day_values(train, 'temperature', 'day_max_temperature', 'max')\n",
    "calculate_day_values(train, 'temperature', 'day_mean_temperature', 'mean')\n",
    "calculate_day_values(train, 'temperature', 'day_min_temperature', 'min')\n",
    "\n",
    "train['day_temperature_range'] = train['day_max_temperature'] - train['day_min_temperature']\n",
    "\n",
    "calculate_day_values(test, 'temperature', 'day_max_temperature', 'max')\n",
    "calculate_day_values(test, 'temperature', 'day_mean_temperature', 'mean')\n",
    "calculate_day_values(test, 'temperature', 'day_min_temperature', 'min')\n",
    "\n",
    "test['day_temperature_range'] = test['day_max_temperature'] - test['day_min_temperature']\n"
   ]
  },
  {
   "cell_type": "markdown",
   "id": "2432f9f8",
   "metadata": {},
   "source": [
    "### Outlier drop"
   ]
  },
  {
   "cell_type": "code",
   "execution_count": null,
   "id": "da3a4e6d",
   "metadata": {
    "ExecuteTime": {
     "end_time": "2023-09-01T09:56:20.617080Z",
     "start_time": "2023-09-01T09:56:20.588053Z"
    }
   },
   "outputs": [],
   "source": [
    "outlier_list = [68973,71013,112384,123132,150739,150740,150741,150742,\n",
    "                150883,150884,150885,150886,138904,193120,193121,152393]\n",
    "\n",
    "train.drop(outlier_list, axis=0,inplace=True)"
   ]
  },
  {
   "cell_type": "markdown",
   "id": "b1ba59e4",
   "metadata": {
    "ExecuteTime": {
     "end_time": "2023-08-18T07:59:24.686619Z",
     "start_time": "2023-08-18T07:59:24.676611Z"
    }
   },
   "source": [
    "### 임시 휴무 추측 데이터 drop"
   ]
  },
  {
   "cell_type": "code",
   "execution_count": null,
   "id": "085c71db",
   "metadata": {
    "ExecuteTime": {
     "end_time": "2023-09-01T09:56:21.742893Z",
     "start_time": "2023-09-01T09:56:20.618081Z"
    }
   },
   "outputs": [],
   "source": [
    "# temp_hol = {2 : ['2022-06-17'], \n",
    "#     5 : ['2022-07-25','2022-08-02','2022-08-09','2022-08-16'],\n",
    "#     11 : ['2022-06-17'], 12 : ['2022-07-02'], 17 : ['2022-06-18','2022-07-25'],\n",
    "#     21 : ['2022-07-01','2022-07-03','2022-07-17','2022-07-30'], \n",
    "#     37 : ['2022-06-20','2022-07-11','2022-08-08'], \n",
    "#     38 : ['2022-06-13','2022-07-25','2022-08-01'],\n",
    "#     39 : ['2022-07-18','2022-08-08'],\n",
    "#     40 : ['2022-06-20','2022-07-18','2022-08-08'],\n",
    "#     41 : ['2022-06-27','2022-07-25','2022-08-08'],\n",
    "#     42 : ['2022-06-13','2022-07-11','2022-08-22'],\n",
    "#     54 : ['2022-08-16','2022-08-17'],74 : ['2022-06-03'],\n",
    "#     75 : ['2022-06-15','2022-06-17','2022-06-20','2022-06-21'],\n",
    "#     86 : ['2022-06-10','2022-08-10'],\n",
    "#     89 : ['2022-07-09'], 91 : ['2022-06-13','2022-07-11','2022-08-22','2022-06-08'], 92 : ['2022-07-30']}\n",
    "\n",
    "\n",
    "# mask = train.apply(lambda x: x['building_number'] in temp_hol and str(x['date_time'])[:10] in temp_hol[x['building_number']], axis=1)\n",
    "\n",
    "# train.drop(train[mask].index, axis=0, inplace=True)\n",
    "\n",
    "# train.reset_index(drop=True, inplace=True)"
   ]
  },
  {
   "cell_type": "markdown",
   "id": "0af13843",
   "metadata": {},
   "source": [
    "### 공휴일변수"
   ]
  },
  {
   "cell_type": "code",
   "execution_count": null,
   "id": "cae92592",
   "metadata": {
    "ExecuteTime": {
     "end_time": "2023-09-01T09:56:21.847989Z",
     "start_time": "2023-09-01T09:56:21.743895Z"
    }
   },
   "outputs": [],
   "source": [
    "holi_weekday = [\n",
    "    '2024-06-06',  # 현충일 (목)\n",
    "    '2024-08-15'   # 광복절 (목)\n",
    "]\n",
    "\n",
    "train['holiday'] = np.where((train.day_of_week >= 5) | (train.date_time.dt.strftime('%Y-%m-%d').isin(holi_weekday)), 1, 0)\n",
    "test['holiday'] = np.where((test.day_of_week >= 5) | (test.date_time.dt.strftime('%Y-%m-%d').isin(holi_weekday)), 1, 0)"
   ]
  },
  {
   "cell_type": "markdown",
   "id": "e11ae359",
   "metadata": {},
   "source": [
    "### 대형마트 휴무일요일 변수"
   ]
  },
  {
   "cell_type": "code",
   "execution_count": null,
   "id": "a61c41a7",
   "metadata": {
    "ExecuteTime": {
     "end_time": "2023-09-01T09:56:21.953084Z",
     "start_time": "2023-09-01T09:56:21.848990Z"
    }
   },
   "outputs": [],
   "source": [
    "holi_sun = [\n",
    "    '2024-06-09', '2024-06-23',  # 6월\n",
    "    '2024-07-14', '2024-07-28',  # 7월\n",
    "    '2024-08-11', '2024-08-25'   # 8월\n",
    "]\n",
    "\n",
    "# 의무 휴업 일요일이면 1, 아니면 0\n",
    "train['Sunday_holiday'] = np.where((train.day_of_week == 6) & (train.date_time.dt.strftime('%Y-%m-%d').isin(holi_sun)), 1, 0)\n",
    "test['Sunday_holiday'] = np.where((test.day_of_week == 6) & (test.date_time.dt.strftime('%Y-%m-%d').isin(holi_sun)), 1, 0)"
   ]
  },
  {
   "cell_type": "markdown",
   "id": "830eb712",
   "metadata": {},
   "source": [
    "### 시간변수 푸리에변환"
   ]
  },
  {
   "cell_type": "code",
   "execution_count": null,
   "id": "1f6e2c69",
   "metadata": {
    "ExecuteTime": {
     "end_time": "2023-09-01T09:56:21.998125Z",
     "start_time": "2023-09-01T09:56:21.954085Z"
    }
   },
   "outputs": [],
   "source": [
    "#시간\n",
    "train['sin_hour'] = np.sin(2 * np.pi * train['hour']/23.0)\n",
    "train['cos_hour'] = np.cos(2 * np.pi * train['hour']/23.0)\n",
    "test['sin_hour'] = np.sin(2 * np.pi * test['hour']/23.0)\n",
    "test['cos_hour'] = np.cos(2 * np.pi * test['hour']/23.0)\n",
    "\n",
    "#날짜\n",
    "train['sin_date'] = -np.sin(2 * np.pi * (train['month']+train['day']/31)/12)\n",
    "train['cos_date'] = -np.cos(2 * np.pi * (train['month']+train['day']/31)/12)\n",
    "test['sin_date'] = -np.sin(2 * np.pi * (test['month']+test['day']/31)/12)\n",
    "test['cos_date'] = -np.cos(2 * np.pi * (test['month']+test['day']/31)/12)\n",
    "\n",
    "#월\n",
    "train['sin_month'] = -np.sin(2 * np.pi * train['month']/12.0)\n",
    "train['cos_month'] = -np.cos(2 * np.pi * train['month']/12.0)\n",
    "test['sin_month'] = -np.sin(2 * np.pi * test['month']/12.0)\n",
    "test['cos_month'] = -np.cos(2 * np.pi * test['month']/12.0)\n",
    "\n",
    "#요일\n",
    "train['sin_dayofweek'] = -np.sin(2 * np.pi * (train['day_of_week']+1)/7.0)\n",
    "train['cos_dayofweek'] = -np.cos(2 * np.pi * (train['day_of_week']+1)/7.0)\n",
    "test['sin_dayofweek'] = -np.sin(2 * np.pi * (test['day_of_week']+1)/7.0)\n",
    "test['cos_dayofweek'] = -np.cos(2 * np.pi * (test['day_of_week']+1)/7.0)"
   ]
  },
  {
   "cell_type": "markdown",
   "id": "04681b67",
   "metadata": {},
   "source": [
    "### CDH(냉방도시) 변수"
   ]
  },
  {
   "cell_type": "code",
   "execution_count": null,
   "id": "137ebec3",
   "metadata": {
    "ExecuteTime": {
     "end_time": "2023-09-01T09:56:22.133621Z",
     "start_time": "2023-09-01T09:56:21.999126Z"
    }
   },
   "outputs": [],
   "source": [
    "def CDH(xs):\n",
    "    cumsum = np.cumsum(xs - 26)\n",
    "    return np.concatenate((cumsum[:11], cumsum[11:] - cumsum[:-11]))\n",
    "\n",
    "def calculate_and_add_cdh(dataframe):\n",
    "    cdhs = []\n",
    "    for i in range(1, 101):\n",
    "        temp = dataframe[dataframe['building_number'] == i]['temperature'].values\n",
    "        cdh = CDH(temp)\n",
    "        cdhs.append(cdh)\n",
    "    return np.concatenate(cdhs)\n",
    "\n",
    "train['CDH'] = calculate_and_add_cdh(train)\n",
    "test['CDH'] = calculate_and_add_cdh(test)"
   ]
  },
  {
   "cell_type": "markdown",
   "id": "3d2928f6",
   "metadata": {},
   "source": [
    "### THI(불쾌지수) 변수"
   ]
  },
  {
   "cell_type": "code",
   "execution_count": null,
   "id": "7b733555",
   "metadata": {
    "ExecuteTime": {
     "end_time": "2023-09-01T09:56:22.148635Z",
     "start_time": "2023-09-01T09:56:22.133621Z"
    }
   },
   "outputs": [],
   "source": [
    "train['THI'] = 9/5*train['temperature'] - 0.55*(1-train['humidity']/100)*(9/5*train['humidity']-26)+32\n",
    "\n",
    "test['THI'] = 9/5*test['temperature'] - 0.55*(1-test['humidity']/100)*(9/5*test['humidity']-26)+32"
   ]
  },
  {
   "cell_type": "markdown",
   "id": "a03e6e19",
   "metadata": {},
   "source": [
    "### WCT(체감온도) 변수"
   ]
  },
  {
   "cell_type": "code",
   "execution_count": null,
   "id": "27cdf79c",
   "metadata": {
    "ExecuteTime": {
     "end_time": "2023-09-01T09:56:22.163649Z",
     "start_time": "2023-09-01T09:56:22.149636Z"
    }
   },
   "outputs": [],
   "source": [
    "train['WCT'] = 13.12 + 0.6125*train['temperature'] - 11.37*(train['windspeed']**\n",
    "                                                            0.16) + 0.3965*(train['windspeed']**0.16)*train['temperature']\n",
    "test['WCT'] = 13.12 + 0.6125*test['temperature'] - 11.37*(test['windspeed']**\n",
    "                                                            0.16) + 0.3965*(test['windspeed']**0.16)*test['temperature']"
   ]
  },
  {
   "cell_type": "markdown",
   "id": "eec1ab63",
   "metadata": {},
   "source": [
    "### 전력소비 통계량 변수"
   ]
  },
  {
   "cell_type": "code",
   "execution_count": null,
   "id": "179c6408",
   "metadata": {
    "ExecuteTime": {
     "end_time": "2023-09-01T09:56:22.403867Z",
     "start_time": "2023-09-01T09:56:22.164649Z"
    }
   },
   "outputs": [],
   "source": [
    "# Calculate 'day_hour_mean'\n",
    "power_mean = pd.pivot_table(train, values='power_consumption', index=['building_number', 'hour', 'day_of_week'], aggfunc=np.mean).reset_index()\n",
    "power_mean.columns = ['building_number', 'hour', 'day_of_week', 'day_hour_mean']\n",
    "\n",
    "# Calculate 'day_hour_std'\n",
    "power_std = pd.pivot_table(train, values='power_consumption', index=['building_number', 'hour', 'day_of_week'], aggfunc=np.std).reset_index()\n",
    "power_std.columns = ['building_number', 'hour', 'day_of_week', 'day_hour_std']\n",
    "\n",
    "# Calculate 'hour_mean'\n",
    "power_hour_mean = pd.pivot_table(train, values='power_consumption', index=['building_number', 'hour'], aggfunc=np.mean).reset_index()\n",
    "power_hour_mean.columns = ['building_number', 'hour', 'hour_mean']\n",
    "\n",
    "# Calculate 'hour_std'\n",
    "power_hour_std = pd.pivot_table(train, values='power_consumption', index=['building_number', 'hour'], aggfunc=np.std).reset_index()\n",
    "power_hour_std.columns = ['building_number', 'hour', 'hour_std']\n",
    "\n",
    "# Merge calculated features to 'train' and 'test' dataframes\n",
    "train = train.merge(power_mean, on=['building_number', 'hour', 'day_of_week'], how='left')\n",
    "test = test.merge(power_mean, on=['building_number', 'hour', 'day_of_week'], how='left')\n",
    "\n",
    "train = train.merge(power_std, on=['building_number', 'hour', 'day_of_week'], how='left')\n",
    "test = test.merge(power_std, on=['building_number', 'hour', 'day_of_week'], how='left')\n",
    "\n",
    "train = train.merge(power_hour_mean, on=['building_number', 'hour'], how='left')\n",
    "test = test.merge(power_hour_mean, on=['building_number', 'hour'], how='left')\n",
    "\n",
    "train = train.merge(power_hour_std, on=['building_number', 'hour'], how='left')\n",
    "test = test.merge(power_hour_std, on=['building_number', 'hour'], how='left')\n",
    "\n",
    "train = train.reset_index(drop=True)"
   ]
  },
  {
   "cell_type": "markdown",
   "id": "40a8f9f2",
   "metadata": {},
   "source": [
    "# 모델링"
   ]
  },
  {
   "cell_type": "markdown",
   "id": "df2598b0",
   "metadata": {},
   "source": [
    "## X,Y,test 선언"
   ]
  },
  {
   "cell_type": "code",
   "execution_count": null,
   "id": "5b32510f",
   "metadata": {
    "ExecuteTime": {
     "end_time": "2023-09-01T09:56:22.418880Z",
     "start_time": "2023-09-01T09:56:22.404867Z"
    }
   },
   "outputs": [],
   "source": [
    "X = train.drop(['solar_power_capacity', 'ess_capacity', 'pcs_capacity',\n",
    "                'power_consumption','rainfall', 'sunshine', 'solar_radiation',\n",
    "                'hour','day','month','day_of_week','date_time'],axis =1 )\n",
    "\n",
    "Y = train[['building_type','power_consumption']]\n",
    "\n",
    "test_X = test.drop(['solar_power_capacity', 'ess_capacity', 'pcs_capacity','rainfall',\n",
    "                   'hour','month','day_of_week','day','date_time'], axis=1)"
   ]
  },
  {
   "cell_type": "code",
   "execution_count": null,
   "id": "8b195ec8",
   "metadata": {
    "ExecuteTime": {
     "end_time": "2023-09-01T12:07:56.459743Z",
     "start_time": "2023-09-01T12:07:56.428037Z"
    }
   },
   "outputs": [],
   "source": [
    "type_list = []\n",
    "for value in train.building_type.values:\n",
    "    if value not in type_list:\n",
    "        type_list.append(value)"
   ]
  },
  {
   "cell_type": "markdown",
   "id": "628caf04",
   "metadata": {},
   "source": [
    "## XGB 건물 유형별 단일모델"
   ]
  },
  {
   "cell_type": "code",
   "execution_count": null,
   "id": "c885f93a-0ffa-4280-a2ac-03158b44ddbd",
   "metadata": {},
   "outputs": [],
   "source": [
    "# ========= 1) 커스텀 SMAPE (feval) =========\n",
    "# xgb.train용 커스텀 평가 함수: (name, value) 반환, is_higher_better=False\n",
    "def feval_smape(preds, dtrain):\n",
    "    labels = dtrain.get_label()\n",
    "    # labels, preds 모두 log1p 스케일로 들어오므로 원스케일로 복원\n",
    "    preds = np.expm1(preds)\n",
    "    labels = np.expm1(labels)\n",
    "    v = 2.0 * np.abs(preds - labels) / (np.abs(preds) + np.abs(labels) + 1e-9)\n",
    "    score = float(np.mean(v) * 100.0)\n",
    "    return (\"smape\", score)\n",
    "\n",
    "# (외부 평가용) 배열-배열 SMAPE\n",
    "def smape(y_true, y_pred):\n",
    "    v = 2.0 * np.abs(y_pred - y_true) / (np.abs(y_true) + np.abs(y_pred) + 1e-9)\n",
    "    return float(np.mean(v) * 100.0)"
   ]
  },
  {
   "cell_type": "code",
   "execution_count": null,
   "id": "86367a42-a3de-44d2-8e02-66066aafe295",
   "metadata": {},
   "outputs": [],
   "source": [
    "# ========= 2) HPO 실행 =========\n",
    "best_params_dict = {}\n",
    "\n",
    "for building_type in type_list:\n",
    "    print(f\"\\n================ Optuna HPO for Building Type: {building_type} ================\\n\")\n",
    "\n",
    "    # --- 데이터 준비 ---\n",
    "    x_opt = X[X.building_type == building_type].copy()\n",
    "    y_opt = Y[Y.building_type == building_type]['power_consumption'].copy()\n",
    "\n",
    "    x_opt.drop(['building_type'], axis=1, inplace=True)\n",
    "    x_opt = pd.get_dummies(x_opt, columns=['building_number'], drop_first=False)\n",
    "\n",
    "    # 넘파이로 고정(반복 변환 방지)\n",
    "    X_np = x_opt.values.astype(np.float32)\n",
    "    y_np = y_opt.values.astype(np.float32)\n",
    "\n",
    "    # 시계열 분할(누수 방지)\n",
    "    splitter = TimeSeriesSplit(n_splits=3)\n",
    "\n",
    "    # --- Optuna 목적함수 ---\n",
    "    def objective(trial):\n",
    "        # 탐색 공간 (너무 넓지 않게 다이어트)\n",
    "        params = {\n",
    "            \"objective\": \"reg:squarederror\",\n",
    "            \"eta\": trial.suggest_float(\"eta\", 0.01, 0.2, log=True),\n",
    "            \"max_depth\": trial.suggest_int(\"max_depth\", 3, 10),\n",
    "            \"min_child_weight\": trial.suggest_int(\"min_child_weight\", 1, 12),\n",
    "            \"subsample\": trial.suggest_float(\"subsample\", 0.6, 1.0),\n",
    "            \"colsample_bytree\": trial.suggest_float(\"colsample_bytree\", 0.6, 1.0),\n",
    "            \"reg_lambda\": trial.suggest_float(\"reg_lambda\", 1e-8, 10.0, log=True),\n",
    "            \"reg_alpha\": trial.suggest_float(\"reg_alpha\", 1e-8, 10.0, log=True),\n",
    "            \"max_bin\": trial.suggest_int(\"max_bin\", 128, 512),\n",
    "            # GPU 권장(없으면 hist)\n",
    "            \"tree_method\": \"gpu_hist\",\n",
    "            # 최신 xgboost면 아래도 가능: \"device\": \"cuda\",\n",
    "        }\n",
    "\n",
    "        smape_scores = []\n",
    "\n",
    "        # 폴드 루프\n",
    "        for fold_idx, (tr_idx, va_idx) in enumerate(splitter.split(X_np)):\n",
    "            X_tr, X_va = X_np[tr_idx], X_np[va_idx]\n",
    "            y_tr, y_va = y_np[tr_idx], y_np[va_idx]\n",
    "\n",
    "            # 로그 스케일 학습\n",
    "            y_tr_log = np.log1p(y_tr)\n",
    "            y_va_log = np.log1p(y_va)\n",
    "\n",
    "            dtrain = xgb.DMatrix(X_tr, label=y_tr_log)\n",
    "            dvalid = xgb.DMatrix(X_va, label=y_va_log)\n",
    "\n",
    "            # 프루닝 콜백 (이름은 evals 리스트에서 준 이름 + \"-\" + 지표명)\n",
    "            # 아래 evals에서 valid 셋 이름을 \"validation_0\"로 지정하므로,\n",
    "            # 모니터링 키는 \"validation_0-smape\"\n",
    "            pruning_cb = XGBoostPruningCallback(trial, \"validation_0-smape\")\n",
    "\n",
    "            booster = xgb.train(\n",
    "                params=params,\n",
    "                dtrain=dtrain,\n",
    "                num_boost_round=5000,             # 크게 주고\n",
    "                evals=[(dvalid, \"validation_0\")], # 검증셋 이름 고정\n",
    "                feval=feval_smape,                # 학습 중 SMAPE 계산\n",
    "                maximize=False,                   # SMAPE는 작을수록 좋음\n",
    "                early_stopping_rounds=100,        # 조기 종료(진짜 동작)\n",
    "                verbose_eval=False,\n",
    "                callbacks=[pruning_cb],\n",
    "            )\n",
    "\n",
    "            # best_iteration까지로 예측\n",
    "            y_pred_log = booster.predict(dvalid, iteration_range=(0, booster.best_iteration + 1))\n",
    "            y_pred = np.expm1(y_pred_log)\n",
    "\n",
    "            smape_scores.append(smape(y_va, y_pred))\n",
    "\n",
    "        return float(np.mean(smape_scores))\n",
    "\n",
    "    # Study: TPE + MedianPruner, 시간/트라이얼 제한 예시\n",
    "    study = optuna.create_study(\n",
    "        direction=\"minimize\",\n",
    "        sampler=optuna.samplers.TPESampler(n_startup_trials=10, multivariate=True, group=True),\n",
    "        pruner=optuna.pruners.MedianPruner(n_startup_trials=10),\n",
    "    )\n",
    "\n",
    "    # 실전형 베이스라인 하나 주입(수렴 가속)\n",
    "    study.enqueue_trial({\n",
    "        \"eta\": 0.1,\n",
    "        \"max_depth\": 6,\n",
    "        \"min_child_weight\": 2,\n",
    "        \"subsample\": 0.8,\n",
    "        \"colsample_bytree\": 0.8,\n",
    "        \"reg_lambda\": 1.0,\n",
    "        \"reg_alpha\": 0.0,\n",
    "        \"max_bin\": 256,\n",
    "    })\n",
    "\n",
    "    study.optimize(objective, n_trials=60, timeout=None)  # 필요 시 timeout=3600 등\n",
    "\n",
    "    best_params_dict[building_type] = study.best_params\n",
    "    print(f\"==> Best SMAPE for {building_type}: {study.best_value:.4f}\")\n",
    "    print(f\"==> Best Params: {study.best_params}\")\n"
   ]
  },
  {
   "cell_type": "code",
   "execution_count": null,
   "id": "4b03dedd",
   "metadata": {},
   "outputs": [],
   "source": [
    "# ========= 3) 결과 정리 =========\n",
    "xgb_best_params = pd.DataFrame.from_dict(best_params_dict, orient='index')\n",
    "print(\"\\n\\n========== 최종 생성된 파라미터 DataFrame ==========\")\n",
    "print(xgb_best_params)\n",
    "\n",
    "output_filename = \"xgb_best_params_found.csv\"\n",
    "xgb_best_params.to_csv(output_filename, index=True)\n",
    "print(f\"\\n✅ 최적 파라미터를 '{output_filename}' 로 저장했습니다.\")"
   ]
  },
  {
   "cell_type": "code",
   "execution_count": null,
   "id": "8c995f9d",
   "metadata": {
    "ExecuteTime": {
     "end_time": "2023-09-01T12:07:57.662804Z",
     "start_time": "2023-09-01T12:07:57.656785Z"
    }
   },
   "outputs": [],
   "source": [
    "xgb_best_params = pd.read_csv('5_07 xgb 파라미터.csv')\n",
    "xgb_best_params['building_type'] = type_list\n",
    "xgb_best_params.set_index('building_type',inplace=True)"
   ]
  },
  {
   "cell_type": "code",
   "execution_count": null,
   "id": "b1ae3886",
   "metadata": {
    "ExecuteTime": {
     "end_time": "2023-09-01T12:07:58.803898Z",
     "start_time": "2023-09-01T12:07:58.786884Z"
    }
   },
   "outputs": [],
   "source": [
    "xgb_best_params"
   ]
  },
  {
   "cell_type": "code",
   "execution_count": null,
   "id": "897f4175",
   "metadata": {
    "ExecuteTime": {
     "end_time": "2023-08-30T11:40:03.076892Z",
     "start_time": "2023-08-30T10:49:46.245401Z"
    }
   },
   "outputs": [],
   "source": [
    "kf = KFold(n_splits = 7,shuffle=True,random_state=RANDOM_SEED)\n",
    "answer_df = pd.DataFrame(columns=['answer'])\n",
    "pred_df = pd.DataFrame(columns=['pred'])\n",
    "\n",
    "\n",
    "\n",
    "for i in type_list:\n",
    "    \n",
    "    x = X[(X.building_type == i)]\n",
    "    y = Y[(Y.building_type == i)]\n",
    "    X_test = test_X[test_X.building_type==i]\n",
    "    \n",
    "    x = pd.get_dummies(x, columns=['building_number'], drop_first=False)\n",
    "    X_test = pd.get_dummies(X_test, columns=['building_number'], drop_first=False)\n",
    "\n",
    "    x = x.drop(['building_type'],axis =1)\n",
    "    X_test = X_test.drop(['building_type'],axis =1)\n",
    "    y = y['power_consumption']\n",
    "    x_columns = np.array(x.columns)\n",
    "    x = np.array(x) ; y = np.array(y)\n",
    "    \n",
    "    j = 0\n",
    "    xgb_fold_smape = []\n",
    "    answer_list = []\n",
    "    pred = pd.DataFrame(index = range(0,y.shape[0]), columns=['pred'])\n",
    "    answer = pd.DataFrame(columns=['answer'])\n",
    "    \n",
    "    for train_index, valid_index in kf.split(x):\n",
    "        j += 1\n",
    "        \n",
    "        \n",
    "\n",
    "        X_train, X_valid = x[train_index], x[valid_index]\n",
    "        Y_train, Y_valid = y[train_index], y[valid_index]\n",
    "        Y_train = np.log(Y_train) ; Y_valid = np.log(Y_valid)\n",
    "\n",
    "\n",
    "        evals = [(X_train,Y_train),(X_valid,Y_valid)]\n",
    "        xgb_model = XGBRegressor(learning_rate = 0.05,n_estimators = 5000,\n",
    "                             max_depth = int(xgb_best_params.loc[i]['max_depth']),\n",
    "                             random_state = RANDOM_SEED,\n",
    "                            subsample = xgb_best_params.loc[i]['subsample'],\n",
    "                             colsample_bytree = xgb_best_params.loc[i]['colsample_bytree'],\n",
    "                             min_child_weight = int(xgb_best_params.loc[i]['min_child_weight']),\n",
    "                             objective=weighted_mse(xgb_best_params.loc[i]['alpha']))\n",
    "        \n",
    "        xgb_model.fit(X_train, Y_train, early_stopping_rounds = 100,\n",
    "                       eval_metric = custom_smape, eval_set = evals, verbose = False)\n",
    "        xgb_pred = xgb_model.predict(X_valid)\n",
    "        xgb_pred = np.exp(xgb_pred)\n",
    "        pred['pred'][valid_index] = xgb_pred\n",
    "        xgb_smape = smape(np.exp(Y_valid),xgb_pred)\n",
    "        xgb_answer = xgb_model.predict(X_test)\n",
    "        answer_list.append(np.exp(xgb_answer))\n",
    "        xgb_fold_smape.append(xgb_smape)\n",
    "        \n",
    "        \n",
    "        if j == 7:\n",
    "            sorted_idx = xgb_model.feature_importances_.argsort()\n",
    "            plt.figure(figsize=(8,15))\n",
    "            plt.barh(x_columns[sorted_idx],  xgb_model.feature_importances_[sorted_idx])\n",
    "            plt.xlabel('%s model XGB Feature Importance'%(i))\n",
    "            plt.show()\n",
    "\n",
    "\n",
    "    type_answer = sum(answer_list) / len(answer_list)\n",
    " \n",
    "    answer.answer = type_answer\n",
    "    answer_df = pd.concat([answer_df,answer],ignore_index=True)\n",
    "    pred_df = pd.concat([pred_df,pred],ignore_index=True)\n",
    "\n",
    "    avg_smape = sum(xgb_fold_smape) / len(xgb_fold_smape)\n",
    "    print('Building type = %s : XGBRegressor Model SMAPE : %.4f' %(i,avg_smape))\n",
    "    \n",
    "    \n",
    "total_score = smape(Y.power_consumption,pred_df.pred)\n",
    "print('Total SMAPE : %.4f'%(total_score))"
   ]
  },
  {
   "cell_type": "markdown",
   "id": "282c4abc",
   "metadata": {},
   "source": [
    "## 정답파일 만들기"
   ]
  },
  {
   "cell_type": "code",
   "execution_count": null,
   "id": "70ef13fe",
   "metadata": {
    "ExecuteTime": {
     "end_time": "2023-08-30T11:44:33.046251Z",
     "start_time": "2023-08-30T11:44:33.033239Z"
    }
   },
   "outputs": [],
   "source": [
    "answer = pd.read_csv('sample_submission.csv')"
   ]
  },
  {
   "cell_type": "code",
   "execution_count": null,
   "id": "f959ba4d",
   "metadata": {
    "ExecuteTime": {
     "end_time": "2023-08-30T11:44:33.226417Z",
     "start_time": "2023-08-30T11:44:33.210401Z"
    }
   },
   "outputs": [],
   "source": [
    "answer.answer = answer_df.answer"
   ]
  },
  {
   "cell_type": "code",
   "execution_count": null,
   "id": "3bcff61f",
   "metadata": {
    "ExecuteTime": {
     "end_time": "2023-08-30T11:44:33.676826Z",
     "start_time": "2023-08-30T11:44:33.653804Z"
    }
   },
   "outputs": [],
   "source": [
    "answer.to_csv('private_재현.csv',index = False)"
   ]
  },
  {
   "cell_type": "code",
   "execution_count": null,
   "id": "f7b51d62",
   "metadata": {
    "ExecuteTime": {
     "end_time": "2023-09-01T12:18:33.109076Z",
     "start_time": "2023-09-01T12:18:33.095063Z"
    },
    "scrolled": true
   },
   "outputs": [],
   "source": [
    "answer.head()"
   ]
  },
  {
   "cell_type": "code",
   "execution_count": null,
   "id": "2bddfb6d-bf1a-4c91-83d1-8790b28fab9e",
   "metadata": {},
   "outputs": [],
   "source": []
  }
 ],
 "metadata": {
  "kernelspec": {
   "display_name": "groom",
   "language": "python",
   "name": "python3"
  },
  "language_info": {
   "codemirror_mode": {
    "name": "ipython",
    "version": 3
   },
   "file_extension": ".py",
   "mimetype": "text/x-python",
   "name": "python",
   "nbconvert_exporter": "python",
   "pygments_lexer": "ipython3",
   "version": "3.11.13"
  },
  "toc": {
   "base_numbering": 1,
   "nav_menu": {},
   "number_sections": true,
   "sideBar": true,
   "skip_h1_title": false,
   "title_cell": "Table of Contents",
   "title_sidebar": "Contents",
   "toc_cell": false,
   "toc_position": {
    "height": "calc(100% - 180px)",
    "left": "10px",
    "top": "150px",
    "width": "286.188px"
   },
   "toc_section_display": true,
   "toc_window_display": true
  }
 },
 "nbformat": 4,
 "nbformat_minor": 5
}
