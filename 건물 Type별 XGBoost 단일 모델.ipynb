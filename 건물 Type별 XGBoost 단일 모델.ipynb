{
 "cells": [
  {
   "cell_type": "markdown",
   "id": "2606838c",
   "metadata": {},
   "source": [
    "# 함수 선언 및  import"
   ]
  },
  {
   "cell_type": "code",
   "execution_count": 1,
   "id": "a527ea83",
   "metadata": {
    "ExecuteTime": {
     "end_time": "2023-09-01T12:15:59.117024Z",
     "start_time": "2023-09-01T12:15:59.110018Z"
    }
   },
   "outputs": [
    {
     "name": "stderr",
     "output_type": "stream",
     "text": [
      "c:\\Anaconda3\\envs\\groom\\Lib\\site-packages\\tqdm\\auto.py:21: TqdmWarning: IProgress not found. Please update jupyter and ipywidgets. See https://ipywidgets.readthedocs.io/en/stable/user_install.html\n",
      "  from .autonotebook import tqdm as notebook_tqdm\n"
     ]
    }
   ],
   "source": [
    "import pandas as pd\n",
    "import seaborn as sns\n",
    "import numpy as np\n",
    "import matplotlib.pyplot as plt\n",
    "import matplotlib\n",
    "\n",
    "\n",
    "import sklearn\n",
    "import xgboost\n",
    "from xgboost import XGBRegressor\n",
    "from sklearn.model_selection import TimeSeriesSplit\n",
    "from optuna_integration.xgboost import XGBoostPruningCallback\n",
    "import optuna\n",
    "from sklearn.model_selection import KFold\n",
    "\n",
    "\n",
    "import random as rn\n",
    "\n",
    "RANDOM_SEED = 2023\n",
    "np.random.seed(RANDOM_SEED)\n",
    "rn.seed(RANDOM_SEED)\n",
    "\n",
    "\n",
    "\n",
    "from datetime import datetime\n",
    "\n",
    "\n",
    "\n",
    "import warnings\n",
    "warnings.filterwarnings('ignore')\n",
    "pd.set_option('display.max_columns', None)"
   ]
  },
  {
   "cell_type": "code",
   "execution_count": 2,
   "id": "02d79646",
   "metadata": {
    "ExecuteTime": {
     "end_time": "2023-09-01T12:16:06.380158Z",
     "start_time": "2023-09-01T12:16:06.376154Z"
    }
   },
   "outputs": [
    {
     "name": "stdout",
     "output_type": "stream",
     "text": [
      "pandas version: 2.2.3\n",
      "NumPy version: 2.2.5\n",
      "scikit-learn version: 1.7.1\n",
      "matplotlib version: 3.10.5\n",
      "seaborn version: 0.13.2\n",
      "XGBoost version: 3.0.3\n"
     ]
    }
   ],
   "source": [
    "print(\"pandas version: {}\". format(pd.__version__))\n",
    "print(\"NumPy version: {}\". format(np.__version__))\n",
    "print(\"scikit-learn version: {}\". format(sklearn.__version__))\n",
    "print(\"matplotlib version: {}\". format(matplotlib.__version__))\n",
    "print(\"seaborn version: {}\". format(sns.__version__))\n",
    "print(\"XGBoost version: {}\". format(xgboost.__version__))"
   ]
  },
  {
   "cell_type": "code",
   "execution_count": 3,
   "id": "213bb3e5",
   "metadata": {
    "ExecuteTime": {
     "end_time": "2023-09-01T12:16:06.920627Z",
     "start_time": "2023-09-01T12:16:06.916624Z"
    }
   },
   "outputs": [],
   "source": [
    "def smape(gt, preds):\n",
    "    gt= np.array(gt)\n",
    "    preds = np.array(preds)\n",
    "    v = 2 * abs(preds - gt) / (abs(preds) + abs(gt))\n",
    "    score = np.mean(v) * 100\n",
    "    return score"
   ]
  },
  {
   "cell_type": "code",
   "execution_count": 4,
   "id": "3c3ed4c5",
   "metadata": {
    "ExecuteTime": {
     "end_time": "2023-09-01T12:16:07.296669Z",
     "start_time": "2023-09-01T12:16:07.280654Z"
    }
   },
   "outputs": [],
   "source": [
    "def weighted_mse(alpha = 1):\n",
    "    def weighted_mse_fixed(preds, dtrain):\n",
    "        labels = dtrain.get_label()\n",
    "        residual = (labels - preds).astype(\"float\")\n",
    "        grad = np.where(residual > 0, -2 * alpha * residual, -2 * residual)\n",
    "        hess = np.where(residual > 0, 2 * alpha, 2.0)\n",
    "        return grad, hess\n",
    "    return weighted_mse_fixed"
   ]
  },
  {
   "cell_type": "code",
   "execution_count": 5,
   "id": "130a94d6",
   "metadata": {
    "ExecuteTime": {
     "end_time": "2023-09-01T12:16:08.919122Z",
     "start_time": "2023-09-01T12:16:08.904108Z"
    }
   },
   "outputs": [],
   "source": [
    "def custom_smape(preds, dtrain):\n",
    "    labels = dtrain.get_label()\n",
    "    return 'custom_smape', np.mean(2 * abs(preds - labels) / (abs(preds) + abs(labels))) * 100"
   ]
  },
  {
   "cell_type": "markdown",
   "id": "3c93aad7",
   "metadata": {},
   "source": [
    "# 데이터 전처리"
   ]
  },
  {
   "cell_type": "markdown",
   "id": "59754f5d",
   "metadata": {},
   "source": [
    "## 데이터 불러오기"
   ]
  },
  {
   "cell_type": "code",
   "execution_count": 6,
   "id": "c0e49868",
   "metadata": {
    "ExecuteTime": {
     "end_time": "2023-09-01T09:55:54.861486Z",
     "start_time": "2023-09-01T09:55:54.703696Z"
    }
   },
   "outputs": [],
   "source": [
    "train = pd.read_csv('train.csv')\n",
    "test = pd.read_csv('test.csv')\n",
    "building_info = pd.read_csv('building_info.csv')"
   ]
  },
  {
   "cell_type": "code",
   "execution_count": 7,
   "id": "45ddf770",
   "metadata": {
    "ExecuteTime": {
     "end_time": "2023-09-01T09:55:54.966582Z",
     "start_time": "2023-09-01T09:55:54.940559Z"
    }
   },
   "outputs": [],
   "source": [
    "train = train.rename(columns={\n",
    "    '건물번호': 'building_number',\n",
    "    '일시': 'date_time',\n",
    "    '기온(°C)': 'temperature',\n",
    "    '강수량(mm)': 'rainfall',\n",
    "    '풍속(m/s)': 'windspeed',\n",
    "    '습도(%)': 'humidity',\n",
    "    '일조(hr)': 'sunshine',\n",
    "    '일사(MJ/m2)': 'solar_radiation',\n",
    "    '전력소비량(kWh)': 'power_consumption'\n",
    "})\n",
    "train.drop('num_date_time', axis = 1, inplace=True)\n",
    "\n",
    "test = test.rename(columns={\n",
    "    '건물번호': 'building_number',\n",
    "    '일시': 'date_time',\n",
    "    '기온(°C)': 'temperature',\n",
    "    '강수량(mm)': 'rainfall',\n",
    "    '풍속(m/s)': 'windspeed',\n",
    "    '습도(%)': 'humidity',\n",
    "    '일조(hr)': 'sunshine',\n",
    "    '일사(MJ/m2)': 'solar_radiation',\n",
    "    '전력소비량(kWh)': 'power_consumption'\n",
    "})\n",
    "test.drop('num_date_time', axis = 1, inplace=True)"
   ]
  },
  {
   "cell_type": "code",
   "execution_count": 8,
   "id": "96c0d646",
   "metadata": {
    "ExecuteTime": {
     "end_time": "2023-09-01T09:55:55.116716Z",
     "start_time": "2023-09-01T09:55:55.108709Z"
    }
   },
   "outputs": [],
   "source": [
    "building_info = building_info.rename(columns={\n",
    "    '건물번호': 'building_number',\n",
    "    '건물유형': 'building_type',\n",
    "    '연면적(m2)': 'total_area',\n",
    "    '냉방면적(m2)': 'cooling_area',\n",
    "    '태양광용량(kW)': 'solar_power_capacity',\n",
    "    'ESS저장용량(kWh)': 'ess_capacity',\n",
    "    'PCS용량(kW)': 'pcs_capacity'\n",
    "})"
   ]
  },
  {
   "cell_type": "code",
   "execution_count": 9,
   "id": "4c36f788",
   "metadata": {
    "ExecuteTime": {
     "end_time": "2023-09-01T09:55:55.281867Z",
     "start_time": "2023-09-01T09:55:55.263850Z"
    }
   },
   "outputs": [],
   "source": [
    "translation_dict = {\n",
    "    '건물기타': 'Other Buildings',\n",
    "    '공공': 'Public',\n",
    "    '대학교': 'University',\n",
    "    '데이터센터': 'Data Center',\n",
    "    '백화점및아울렛': 'Department Store and Outlet',\n",
    "    '병원': 'Hospital',\n",
    "    '상용': 'Commercial',\n",
    "    '아파트': 'Apartment',\n",
    "    '연구소': 'Research Institute',\n",
    "    '지식산업센터': 'Knowledge Industry Center',\n",
    "    '할인마트': 'Discount Mart',\n",
    "    '호텔및리조트': 'Hotel and Resort'\n",
    "}\n",
    "\n",
    "building_info['building_type'] = building_info['building_type'].replace(translation_dict)"
   ]
  },
  {
   "cell_type": "code",
   "execution_count": 10,
   "id": "088cd6cc",
   "metadata": {
    "ExecuteTime": {
     "end_time": "2023-09-01T09:55:55.432003Z",
     "start_time": "2023-09-01T09:55:55.418991Z"
    }
   },
   "outputs": [],
   "source": [
    "building_info['solar_power_utility'] = np.where(building_info.solar_power_capacity !='-',1,0)\n",
    "building_info['ess_utility'] = np.where(building_info.ess_capacity !='-',1,0)"
   ]
  },
  {
   "cell_type": "code",
   "execution_count": 11,
   "id": "0fef2583",
   "metadata": {
    "ExecuteTime": {
     "end_time": "2023-09-01T09:55:55.597153Z",
     "start_time": "2023-09-01T09:55:55.569128Z"
    }
   },
   "outputs": [],
   "source": [
    "train = pd.merge(train, building_info, on='building_number', how='left')\n",
    "test = pd.merge(test, building_info, on='building_number', how='left')"
   ]
  },
  {
   "cell_type": "markdown",
   "id": "49b38f22",
   "metadata": {},
   "source": [
    "## 결측치 확인 및 보간"
   ]
  },
  {
   "cell_type": "code",
   "execution_count": 12,
   "id": "b17a6966",
   "metadata": {
    "ExecuteTime": {
     "end_time": "2023-09-01T09:55:56.422564Z",
     "start_time": "2023-09-01T09:55:56.389534Z"
    }
   },
   "outputs": [
    {
     "data": {
      "text/plain": [
       "building_number         0\n",
       "date_time               0\n",
       "temperature             0\n",
       "rainfall                0\n",
       "windspeed               0\n",
       "humidity                0\n",
       "sunshine                0\n",
       "solar_radiation         0\n",
       "power_consumption       0\n",
       "building_type           0\n",
       "total_area              0\n",
       "cooling_area            0\n",
       "solar_power_capacity    0\n",
       "ess_capacity            0\n",
       "pcs_capacity            0\n",
       "solar_power_utility     0\n",
       "ess_utility             0\n",
       "dtype: int64"
      ]
     },
     "execution_count": 12,
     "metadata": {},
     "output_type": "execute_result"
    }
   ],
   "source": [
    "train.isna().sum()"
   ]
  },
  {
   "cell_type": "code",
   "execution_count": 13,
   "id": "9d88de08",
   "metadata": {
    "ExecuteTime": {
     "end_time": "2023-09-01T09:55:56.857370Z",
     "start_time": "2023-09-01T09:55:56.835349Z"
    }
   },
   "outputs": [
    {
     "data": {
      "text/plain": [
       "solar_power_capacity\n",
       "-          95880\n",
       "278.58      2040\n",
       "1983.05     2040\n",
       "389.76      2040\n",
       "217.92      2040\n",
       "1349.03     2040\n",
       "276         2040\n",
       "849.78      2040\n",
       "1974.71     2040\n",
       "97          2040\n",
       "100         2040\n",
       "255.88      2040\n",
       "879.82      2040\n",
       "858.02      2040\n",
       "953.4       2040\n",
       "83.95       2040\n",
       "97.85       2040\n",
       "344.96      2040\n",
       "342         2040\n",
       "12.24       2040\n",
       "83.2        2040\n",
       "74.25       2040\n",
       "140.6       2040\n",
       "77.76       2040\n",
       "198.56      2040\n",
       "10.08       2040\n",
       "218.88      2040\n",
       "1039.86     2040\n",
       "105         2040\n",
       "215.89      2040\n",
       "1397.02     2040\n",
       "199.4       2040\n",
       "219.6       2040\n",
       "820         2040\n",
       "540.57      2040\n",
       "50.88       2040\n",
       "94.38       2040\n",
       "1297.98     2040\n",
       "1340.1      2040\n",
       "103         2040\n",
       "419.2       2040\n",
       "36          2040\n",
       "790.08      2040\n",
       "605         2040\n",
       "495         2040\n",
       "282.95      2040\n",
       "38.88       2040\n",
       "77.38       2040\n",
       "168         2040\n",
       "322.9       2040\n",
       "99.64       2040\n",
       "20.25       2040\n",
       "81.38       2040\n",
       "171.6       2040\n",
       "Name: count, dtype: int64"
      ]
     },
     "execution_count": 13,
     "metadata": {},
     "output_type": "execute_result"
    }
   ],
   "source": [
    "train.solar_power_capacity.value_counts()"
   ]
  },
  {
   "cell_type": "code",
   "execution_count": 14,
   "id": "e2e4059d",
   "metadata": {
    "ExecuteTime": {
     "end_time": "2023-09-01T09:55:57.172845Z",
     "start_time": "2023-09-01T09:55:57.161836Z"
    }
   },
   "outputs": [
    {
     "data": {
      "text/plain": [
       "ess_capacity\n",
       "-        179520\n",
       "2000       4080\n",
       "101.5      2040\n",
       "1025       2040\n",
       "500        2040\n",
       "3100       2040\n",
       "205        2040\n",
       "469.2      2040\n",
       "1670       2040\n",
       "150        2040\n",
       "201.1      2040\n",
       "209        2040\n",
       "Name: count, dtype: int64"
      ]
     },
     "execution_count": 14,
     "metadata": {},
     "output_type": "execute_result"
    }
   ],
   "source": [
    "train.ess_capacity.value_counts()"
   ]
  },
  {
   "cell_type": "code",
   "execution_count": 15,
   "id": "70841b49",
   "metadata": {
    "ExecuteTime": {
     "end_time": "2023-09-01T09:55:57.368025Z",
     "start_time": "2023-09-01T09:55:57.351010Z"
    }
   },
   "outputs": [
    {
     "data": {
      "text/plain": [
       "pcs_capacity\n",
       "-       179520\n",
       "101       4080\n",
       "1000      4080\n",
       "500       4080\n",
       "250       2040\n",
       "1500      2040\n",
       "150       2040\n",
       "550       2040\n",
       "75        2040\n",
       "100       2040\n",
       "Name: count, dtype: int64"
      ]
     },
     "execution_count": 15,
     "metadata": {},
     "output_type": "execute_result"
    }
   ],
   "source": [
    "train.pcs_capacity.value_counts()"
   ]
  },
  {
   "cell_type": "code",
   "execution_count": 16,
   "id": "b2ca69ac",
   "metadata": {},
   "outputs": [],
   "source": [
    "train['windspeed']= train.windspeed.interpolate()\n",
    "train['humidity']= train.humidity.interpolate()"
   ]
  },
  {
   "cell_type": "markdown",
   "id": "eebba91d",
   "metadata": {},
   "source": [
    "## Datetime 분리"
   ]
  },
  {
   "cell_type": "code",
   "execution_count": 17,
   "id": "6a48c18d",
   "metadata": {
    "ExecuteTime": {
     "end_time": "2023-09-01T09:55:58.103624Z",
     "start_time": "2023-09-01T09:55:57.991522Z"
    }
   },
   "outputs": [],
   "source": [
    "train['date_time'] = pd.to_datetime(train['date_time'], format='%Y%m%d %H')\n",
    "\n",
    "# date time feature 생성\n",
    "train['hour'] = train['date_time'].dt.hour\n",
    "train['day'] = train['date_time'].dt.day\n",
    "train['month'] = train['date_time'].dt.month\n",
    "train['day_of_week'] = train['date_time'].dt.dayofweek #요일\n",
    "\n",
    "\n",
    "test['date_time'] = pd.to_datetime(test['date_time'], format='%Y%m%d %H')\n",
    "\n",
    "# date time feature 생성\n",
    "test['hour'] = test['date_time'].dt.hour\n",
    "test['day'] = test['date_time'].dt.day\n",
    "test['month'] = test['date_time'].dt.month\n",
    "test['day_of_week'] = test['date_time'].dt.dayofweek #요일"
   ]
  },
  {
   "cell_type": "markdown",
   "id": "f4cc4133",
   "metadata": {},
   "source": [
    "## Feature Engineering"
   ]
  },
  {
   "cell_type": "markdown",
   "id": "c342c005",
   "metadata": {},
   "source": [
    "### 평균기온, 최대기온 변수"
   ]
  },
  {
   "cell_type": "code",
   "execution_count": 18,
   "id": "790fec52",
   "metadata": {
    "ExecuteTime": {
     "end_time": "2023-09-01T09:56:20.587052Z",
     "start_time": "2023-09-01T09:55:58.499939Z"
    }
   },
   "outputs": [],
   "source": [
    "def calculate_day_values(dataframe, target_column, output_column, aggregation_func):\n",
    "    result_dict = {}\n",
    "\n",
    "    grouped_temp = dataframe.groupby(['building_number', 'month', 'day'])[target_column].agg(aggregation_func)\n",
    "\n",
    "    for (building, month, day), value in grouped_temp.items():\n",
    "        result_dict.setdefault(building, {}).setdefault(month, {})[day] = value\n",
    "\n",
    "    dataframe[output_column] = [\n",
    "        result_dict.get(row['building_number'], {}).get(row['month'], {}).get(row['day'], None)\n",
    "        for _, row in dataframe.iterrows()\n",
    "    ]\n",
    "\n",
    "    \n",
    "train['day_max_temperature'] = 0.0\n",
    "train['day_mean_temperature'] = 0.0\n",
    "\n",
    "calculate_day_values(train, 'temperature', 'day_max_temperature', 'max')\n",
    "calculate_day_values(train, 'temperature', 'day_mean_temperature', 'mean')\n",
    "calculate_day_values(train, 'temperature', 'day_min_temperature', 'min')\n",
    "\n",
    "train['day_temperature_range'] = train['day_max_temperature'] - train['day_min_temperature']\n",
    "\n",
    "calculate_day_values(test, 'temperature', 'day_max_temperature', 'max')\n",
    "calculate_day_values(test, 'temperature', 'day_mean_temperature', 'mean')\n",
    "calculate_day_values(test, 'temperature', 'day_min_temperature', 'min')\n",
    "\n",
    "test['day_temperature_range'] = test['day_max_temperature'] - test['day_min_temperature']\n"
   ]
  },
  {
   "cell_type": "markdown",
   "id": "2432f9f8",
   "metadata": {},
   "source": [
    "### Outlier drop"
   ]
  },
  {
   "cell_type": "code",
   "execution_count": 19,
   "id": "da3a4e6d",
   "metadata": {
    "ExecuteTime": {
     "end_time": "2023-09-01T09:56:20.617080Z",
     "start_time": "2023-09-01T09:56:20.588053Z"
    }
   },
   "outputs": [],
   "source": [
    "outlier_list = [68973,71013,112384,123132,150739,150740,150741,150742,\n",
    "                150883,150884,150885,150886,138904,193120,193121,152393]\n",
    "\n",
    "train.drop(outlier_list, axis=0,inplace=True)"
   ]
  },
  {
   "cell_type": "markdown",
   "id": "b1ba59e4",
   "metadata": {
    "ExecuteTime": {
     "end_time": "2023-08-18T07:59:24.686619Z",
     "start_time": "2023-08-18T07:59:24.676611Z"
    }
   },
   "source": [
    "### 임시 휴무 추측 데이터 drop"
   ]
  },
  {
   "cell_type": "code",
   "execution_count": 20,
   "id": "085c71db",
   "metadata": {
    "ExecuteTime": {
     "end_time": "2023-09-01T09:56:21.742893Z",
     "start_time": "2023-09-01T09:56:20.618081Z"
    }
   },
   "outputs": [],
   "source": [
    "# temp_hol = {2 : ['2022-06-17'], \n",
    "#     5 : ['2022-07-25','2022-08-02','2022-08-09','2022-08-16'],\n",
    "#     11 : ['2022-06-17'], 12 : ['2022-07-02'], 17 : ['2022-06-18','2022-07-25'],\n",
    "#     21 : ['2022-07-01','2022-07-03','2022-07-17','2022-07-30'], \n",
    "#     37 : ['2022-06-20','2022-07-11','2022-08-08'], \n",
    "#     38 : ['2022-06-13','2022-07-25','2022-08-01'],\n",
    "#     39 : ['2022-07-18','2022-08-08'],\n",
    "#     40 : ['2022-06-20','2022-07-18','2022-08-08'],\n",
    "#     41 : ['2022-06-27','2022-07-25','2022-08-08'],\n",
    "#     42 : ['2022-06-13','2022-07-11','2022-08-22'],\n",
    "#     54 : ['2022-08-16','2022-08-17'],74 : ['2022-06-03'],\n",
    "#     75 : ['2022-06-15','2022-06-17','2022-06-20','2022-06-21'],\n",
    "#     86 : ['2022-06-10','2022-08-10'],\n",
    "#     89 : ['2022-07-09'], 91 : ['2022-06-13','2022-07-11','2022-08-22','2022-06-08'], 92 : ['2022-07-30']}\n",
    "\n",
    "\n",
    "# mask = train.apply(lambda x: x['building_number'] in temp_hol and str(x['date_time'])[:10] in temp_hol[x['building_number']], axis=1)\n",
    "\n",
    "# train.drop(train[mask].index, axis=0, inplace=True)\n",
    "\n",
    "# train.reset_index(drop=True, inplace=True)"
   ]
  },
  {
   "cell_type": "markdown",
   "id": "0af13843",
   "metadata": {},
   "source": [
    "### 공휴일변수"
   ]
  },
  {
   "cell_type": "code",
   "execution_count": 21,
   "id": "cae92592",
   "metadata": {
    "ExecuteTime": {
     "end_time": "2023-09-01T09:56:21.847989Z",
     "start_time": "2023-09-01T09:56:21.743895Z"
    }
   },
   "outputs": [],
   "source": [
    "holi_weekday = [\n",
    "    '2024-06-06',  # 현충일 (목)\n",
    "    '2024-08-15'   # 광복절 (목)\n",
    "]\n",
    "\n",
    "train['holiday'] = np.where((train.day_of_week >= 5) | (train.date_time.dt.strftime('%Y-%m-%d').isin(holi_weekday)), 1, 0)\n",
    "test['holiday'] = np.where((test.day_of_week >= 5) | (test.date_time.dt.strftime('%Y-%m-%d').isin(holi_weekday)), 1, 0)"
   ]
  },
  {
   "cell_type": "markdown",
   "id": "e11ae359",
   "metadata": {},
   "source": [
    "### 대형마트 휴무일요일 변수"
   ]
  },
  {
   "cell_type": "code",
   "execution_count": 22,
   "id": "a61c41a7",
   "metadata": {
    "ExecuteTime": {
     "end_time": "2023-09-01T09:56:21.953084Z",
     "start_time": "2023-09-01T09:56:21.848990Z"
    }
   },
   "outputs": [],
   "source": [
    "holi_sun = [\n",
    "    '2024-06-09', '2024-06-23',  # 6월\n",
    "    '2024-07-14', '2024-07-28',  # 7월\n",
    "    '2024-08-11', '2024-08-25'   # 8월\n",
    "]\n",
    "\n",
    "# 의무 휴업 일요일이면 1, 아니면 0\n",
    "train['Sunday_holiday'] = np.where((train.day_of_week == 6) & (train.date_time.dt.strftime('%Y-%m-%d').isin(holi_sun)), 1, 0)\n",
    "test['Sunday_holiday'] = np.where((test.day_of_week == 6) & (test.date_time.dt.strftime('%Y-%m-%d').isin(holi_sun)), 1, 0)"
   ]
  },
  {
   "cell_type": "markdown",
   "id": "830eb712",
   "metadata": {},
   "source": [
    "### 시간변수 푸리에변환"
   ]
  },
  {
   "cell_type": "code",
   "execution_count": 23,
   "id": "1f6e2c69",
   "metadata": {
    "ExecuteTime": {
     "end_time": "2023-09-01T09:56:21.998125Z",
     "start_time": "2023-09-01T09:56:21.954085Z"
    }
   },
   "outputs": [],
   "source": [
    "#시간\n",
    "train['sin_hour'] = np.sin(2 * np.pi * train['hour']/23.0)\n",
    "train['cos_hour'] = np.cos(2 * np.pi * train['hour']/23.0)\n",
    "test['sin_hour'] = np.sin(2 * np.pi * test['hour']/23.0)\n",
    "test['cos_hour'] = np.cos(2 * np.pi * test['hour']/23.0)\n",
    "\n",
    "#날짜\n",
    "train['sin_date'] = -np.sin(2 * np.pi * (train['month']+train['day']/31)/12)\n",
    "train['cos_date'] = -np.cos(2 * np.pi * (train['month']+train['day']/31)/12)\n",
    "test['sin_date'] = -np.sin(2 * np.pi * (test['month']+test['day']/31)/12)\n",
    "test['cos_date'] = -np.cos(2 * np.pi * (test['month']+test['day']/31)/12)\n",
    "\n",
    "#월\n",
    "train['sin_month'] = -np.sin(2 * np.pi * train['month']/12.0)\n",
    "train['cos_month'] = -np.cos(2 * np.pi * train['month']/12.0)\n",
    "test['sin_month'] = -np.sin(2 * np.pi * test['month']/12.0)\n",
    "test['cos_month'] = -np.cos(2 * np.pi * test['month']/12.0)\n",
    "\n",
    "#요일\n",
    "train['sin_dayofweek'] = -np.sin(2 * np.pi * (train['day_of_week']+1)/7.0)\n",
    "train['cos_dayofweek'] = -np.cos(2 * np.pi * (train['day_of_week']+1)/7.0)\n",
    "test['sin_dayofweek'] = -np.sin(2 * np.pi * (test['day_of_week']+1)/7.0)\n",
    "test['cos_dayofweek'] = -np.cos(2 * np.pi * (test['day_of_week']+1)/7.0)"
   ]
  },
  {
   "cell_type": "markdown",
   "id": "04681b67",
   "metadata": {},
   "source": [
    "### CDH(냉방도시) 변수"
   ]
  },
  {
   "cell_type": "code",
   "execution_count": 24,
   "id": "137ebec3",
   "metadata": {
    "ExecuteTime": {
     "end_time": "2023-09-01T09:56:22.133621Z",
     "start_time": "2023-09-01T09:56:21.999126Z"
    }
   },
   "outputs": [],
   "source": [
    "def CDH(xs):\n",
    "    cumsum = np.cumsum(xs - 26)\n",
    "    return np.concatenate((cumsum[:11], cumsum[11:] - cumsum[:-11]))\n",
    "\n",
    "def calculate_and_add_cdh(dataframe):\n",
    "    cdhs = []\n",
    "    for i in range(1, 101):\n",
    "        temp = dataframe[dataframe['building_number'] == i]['temperature'].values\n",
    "        cdh = CDH(temp)\n",
    "        cdhs.append(cdh)\n",
    "    return np.concatenate(cdhs)\n",
    "\n",
    "train['CDH'] = calculate_and_add_cdh(train)\n",
    "test['CDH'] = calculate_and_add_cdh(test)"
   ]
  },
  {
   "cell_type": "markdown",
   "id": "3d2928f6",
   "metadata": {},
   "source": [
    "### THI(불쾌지수) 변수"
   ]
  },
  {
   "cell_type": "code",
   "execution_count": 25,
   "id": "7b733555",
   "metadata": {
    "ExecuteTime": {
     "end_time": "2023-09-01T09:56:22.148635Z",
     "start_time": "2023-09-01T09:56:22.133621Z"
    }
   },
   "outputs": [],
   "source": [
    "train['THI'] = 9/5*train['temperature'] - 0.55*(1-train['humidity']/100)*(9/5*train['humidity']-26)+32\n",
    "\n",
    "test['THI'] = 9/5*test['temperature'] - 0.55*(1-test['humidity']/100)*(9/5*test['humidity']-26)+32"
   ]
  },
  {
   "cell_type": "markdown",
   "id": "a03e6e19",
   "metadata": {},
   "source": [
    "### WCT(체감온도) 변수"
   ]
  },
  {
   "cell_type": "code",
   "execution_count": 26,
   "id": "27cdf79c",
   "metadata": {
    "ExecuteTime": {
     "end_time": "2023-09-01T09:56:22.163649Z",
     "start_time": "2023-09-01T09:56:22.149636Z"
    }
   },
   "outputs": [],
   "source": [
    "train['WCT'] = 13.12 + 0.6125*train['temperature'] - 11.37*(train['windspeed']**\n",
    "                                                            0.16) + 0.3965*(train['windspeed']**0.16)*train['temperature']\n",
    "test['WCT'] = 13.12 + 0.6125*test['temperature'] - 11.37*(test['windspeed']**\n",
    "                                                            0.16) + 0.3965*(test['windspeed']**0.16)*test['temperature']"
   ]
  },
  {
   "cell_type": "markdown",
   "id": "eec1ab63",
   "metadata": {},
   "source": [
    "### 전력소비 통계량 변수"
   ]
  },
  {
   "cell_type": "code",
   "execution_count": 27,
   "id": "179c6408",
   "metadata": {
    "ExecuteTime": {
     "end_time": "2023-09-01T09:56:22.403867Z",
     "start_time": "2023-09-01T09:56:22.164649Z"
    }
   },
   "outputs": [],
   "source": [
    "# Calculate 'day_hour_mean'\n",
    "power_mean = pd.pivot_table(train, values='power_consumption', index=['building_number', 'hour', 'day_of_week'], aggfunc=np.mean).reset_index()\n",
    "power_mean.columns = ['building_number', 'hour', 'day_of_week', 'day_hour_mean']\n",
    "\n",
    "# Calculate 'day_hour_std'\n",
    "power_std = pd.pivot_table(train, values='power_consumption', index=['building_number', 'hour', 'day_of_week'], aggfunc=np.std).reset_index()\n",
    "power_std.columns = ['building_number', 'hour', 'day_of_week', 'day_hour_std']\n",
    "\n",
    "# Calculate 'hour_mean'\n",
    "power_hour_mean = pd.pivot_table(train, values='power_consumption', index=['building_number', 'hour'], aggfunc=np.mean).reset_index()\n",
    "power_hour_mean.columns = ['building_number', 'hour', 'hour_mean']\n",
    "\n",
    "# Calculate 'hour_std'\n",
    "power_hour_std = pd.pivot_table(train, values='power_consumption', index=['building_number', 'hour'], aggfunc=np.std).reset_index()\n",
    "power_hour_std.columns = ['building_number', 'hour', 'hour_std']\n",
    "\n",
    "# Merge calculated features to 'train' and 'test' dataframes\n",
    "train = train.merge(power_mean, on=['building_number', 'hour', 'day_of_week'], how='left')\n",
    "test = test.merge(power_mean, on=['building_number', 'hour', 'day_of_week'], how='left')\n",
    "\n",
    "train = train.merge(power_std, on=['building_number', 'hour', 'day_of_week'], how='left')\n",
    "test = test.merge(power_std, on=['building_number', 'hour', 'day_of_week'], how='left')\n",
    "\n",
    "train = train.merge(power_hour_mean, on=['building_number', 'hour'], how='left')\n",
    "test = test.merge(power_hour_mean, on=['building_number', 'hour'], how='left')\n",
    "\n",
    "train = train.merge(power_hour_std, on=['building_number', 'hour'], how='left')\n",
    "test = test.merge(power_hour_std, on=['building_number', 'hour'], how='left')\n",
    "\n",
    "train = train.reset_index(drop=True)"
   ]
  },
  {
   "cell_type": "markdown",
   "id": "40a8f9f2",
   "metadata": {},
   "source": [
    "# 모델링"
   ]
  },
  {
   "cell_type": "markdown",
   "id": "df2598b0",
   "metadata": {},
   "source": [
    "## X,Y,test 선언"
   ]
  },
  {
   "cell_type": "code",
   "execution_count": 28,
   "id": "5b32510f",
   "metadata": {
    "ExecuteTime": {
     "end_time": "2023-09-01T09:56:22.418880Z",
     "start_time": "2023-09-01T09:56:22.404867Z"
    }
   },
   "outputs": [],
   "source": [
    "X = train.drop(['solar_power_capacity', 'ess_capacity', 'pcs_capacity',\n",
    "                'power_consumption','rainfall', 'sunshine', 'solar_radiation',\n",
    "                'hour','day','month','day_of_week','date_time'],axis =1 )\n",
    "\n",
    "Y = train[['building_type','power_consumption']]\n",
    "\n",
    "test_X = test.drop(['solar_power_capacity', 'ess_capacity', 'pcs_capacity','rainfall',\n",
    "                   'hour','month','day_of_week','day','date_time'], axis=1)"
   ]
  },
  {
   "cell_type": "code",
   "execution_count": 29,
   "id": "8b195ec8",
   "metadata": {
    "ExecuteTime": {
     "end_time": "2023-09-01T12:07:56.459743Z",
     "start_time": "2023-09-01T12:07:56.428037Z"
    }
   },
   "outputs": [],
   "source": [
    "type_list = []\n",
    "for value in train.building_type.values:\n",
    "    if value not in type_list:\n",
    "        type_list.append(value)"
   ]
  },
  {
   "cell_type": "markdown",
   "id": "628caf04",
   "metadata": {},
   "source": [
    "## XGB 건물 유형별 단일모델"
   ]
  },
  {
   "cell_type": "code",
   "execution_count": 30,
   "id": "c885f93a-0ffa-4280-a2ac-03158b44ddbd",
   "metadata": {},
   "outputs": [],
   "source": [
    "# ========= 1) 커스텀 SMAPE (feval) =========\n",
    "# xgb.train용 커스텀 평가 함수: (name, value) 반환, is_higher_better=False\n",
    "def feval_smape(preds, dtrain):\n",
    "    labels = dtrain.get_label()\n",
    "    # labels, preds 모두 log1p 스케일로 들어오므로 원스케일로 복원\n",
    "    preds = np.expm1(preds)\n",
    "    labels = np.expm1(labels)\n",
    "    v = 2.0 * np.abs(preds - labels) / (np.abs(preds) + np.abs(labels) + 1e-9)\n",
    "    score = float(np.mean(v) * 100.0)\n",
    "    return (\"smape\", score)\n",
    "\n",
    "# (외부 평가용) 배열-배열 SMAPE\n",
    "def smape(y_true, y_pred):\n",
    "    v = 2.0 * np.abs(y_pred - y_true) / (np.abs(y_true) + np.abs(y_pred) + 1e-9)\n",
    "    return float(np.mean(v) * 100.0)"
   ]
  },
  {
   "cell_type": "code",
   "execution_count": 44,
   "id": "86367a42-a3de-44d2-8e02-66066aafe295",
   "metadata": {},
   "outputs": [
    {
     "name": "stderr",
     "output_type": "stream",
     "text": [
      "[I 2025-08-09 17:52:39,610] A new study created in memory with name: no-name-5a1bfdf0-6b2c-415a-9271-8357425433ce\n"
     ]
    },
    {
     "name": "stdout",
     "output_type": "stream",
     "text": [
      "\n",
      "================ HPO for Building Type: 호텔 ================\n",
      "\n"
     ]
    },
    {
     "name": "stderr",
     "output_type": "stream",
     "text": [
      "[I 2025-08-09 17:52:46,389] Trial 0 finished with value: 18.131908734639484 and parameters: {'max_bin': 245, 'eta': 0.1, 'max_depth': 6, 'min_child_weight': 2, 'subsample': 0.8, 'colsample_bytree': 0.8, 'reg_lambda': 1.0, 'reg_alpha': 1e-08, 'alpha': 1.0}. Best is trial 0 with value: 18.131908734639484.\n",
      "[I 2025-08-09 17:52:57,700] Trial 1 finished with value: 20.027572949727375 and parameters: {'max_bin': 365, 'eta': 0.0365357418368711, 'max_depth': 6, 'min_child_weight': 11, 'subsample': 0.8565976093557622, 'colsample_bytree': 0.6813836991937351, 'reg_lambda': 0.00014038948347976202, 'reg_alpha': 2.018613491440372e-08, 'alpha': 1.8724250121695947}. Best is trial 0 with value: 18.131908734639484.\n",
      "[I 2025-08-09 17:53:05,835] Trial 2 finished with value: 18.37404664357503 and parameters: {'max_bin': 381, 'eta': 0.06214973498245014, 'max_depth': 8, 'min_child_weight': 9, 'subsample': 0.6131932457047152, 'colsample_bytree': 0.9071395232594799, 'reg_lambda': 0.057654585558934955, 'reg_alpha': 8.929896867270358e-07, 'alpha': 1.9707809541007129}. Best is trial 0 with value: 18.131908734639484.\n",
      "[I 2025-08-09 17:53:42,494] Trial 3 finished with value: 17.70113245646159 and parameters: {'max_bin': 340, 'eta': 0.012403733854489783, 'max_depth': 4, 'min_child_weight': 12, 'subsample': 0.6003239833389554, 'colsample_bytree': 0.8318998322708916, 'reg_lambda': 1.4713250529833968, 'reg_alpha': 7.329194744106862, 'alpha': 1.524528614741094}. Best is trial 3 with value: 17.70113245646159.\n",
      "[I 2025-08-09 17:53:53,835] Trial 4 finished with value: 17.756893793741863 and parameters: {'max_bin': 371, 'eta': 0.03370808261949418, 'max_depth': 6, 'min_child_weight': 7, 'subsample': 0.6186459643396427, 'colsample_bytree': 0.9952739422634433, 'reg_lambda': 0.000289669249090458, 'reg_alpha': 3.947307232400396e-06, 'alpha': 1.578870507301613}. Best is trial 3 with value: 17.70113245646159.\n",
      "[I 2025-08-09 17:54:01,307] Trial 5 finished with value: 18.000219345092773 and parameters: {'max_bin': 335, 'eta': 0.05723151415551928, 'max_depth': 6, 'min_child_weight': 3, 'subsample': 0.7875825418513562, 'colsample_bytree': 0.9239190693154816, 'reg_lambda': 1.9104002639807727, 'reg_alpha': 1.5616663577092178e-05, 'alpha': 1.4040680030570372}. Best is trial 3 with value: 17.70113245646159.\n",
      "[I 2025-08-09 17:54:14,845] Trial 6 finished with value: 18.530603408813477 and parameters: {'max_bin': 196, 'eta': 0.06280218376325747, 'max_depth': 3, 'min_child_weight': 4, 'subsample': 0.9775924648972502, 'colsample_bytree': 0.8894558663085796, 'reg_lambda': 3.237416210975934e-08, 'reg_alpha': 6.528750859120932e-06, 'alpha': 0.8934484412255739}. Best is trial 3 with value: 17.70113245646159.\n",
      "[I 2025-08-09 17:54:29,028] Trial 7 finished with value: 19.228197415669758 and parameters: {'max_bin': 291, 'eta': 0.025275790062114098, 'max_depth': 6, 'min_child_weight': 9, 'subsample': 0.9768854079168053, 'colsample_bytree': 0.7362200155300901, 'reg_lambda': 0.0005916193594540331, 'reg_alpha': 3.030738042642637e-05, 'alpha': 1.5709424379825774}. Best is trial 3 with value: 17.70113245646159.\n",
      "[I 2025-08-09 17:54:36,603] Trial 8 finished with value: 20.635435740152996 and parameters: {'max_bin': 267, 'eta': 0.07739061226926425, 'max_depth': 9, 'min_child_weight': 7, 'subsample': 0.9966260336967112, 'colsample_bytree': 0.6127441610863914, 'reg_lambda': 0.009677929601322974, 'reg_alpha': 4.996154909516058e-05, 'alpha': 1.4183823599886787}. Best is trial 3 with value: 17.70113245646159.\n",
      "[I 2025-08-09 17:54:57,109] Trial 9 finished with value: 18.691606521606445 and parameters: {'max_bin': 203, 'eta': 0.013480568968229734, 'max_depth': 8, 'min_child_weight': 5, 'subsample': 0.6039698772136531, 'colsample_bytree': 0.833090713996935, 'reg_lambda': 0.4547200856700229, 'reg_alpha': 1.3669680395731817e-07, 'alpha': 1.3334146657376462}. Best is trial 3 with value: 17.70113245646159.\n",
      "[I 2025-08-09 17:54:57,178] Trial 10 pruned. Trial was pruned at iteration 0.\n",
      "[I 2025-08-09 17:54:57,246] Trial 11 pruned. Trial was pruned at iteration 0.\n",
      "[I 2025-08-09 17:54:57,307] Trial 12 pruned. Trial was pruned at iteration 0.\n",
      "[I 2025-08-09 17:54:57,371] Trial 13 pruned. Trial was pruned at iteration 0.\n",
      "[I 2025-08-09 17:54:57,435] Trial 14 pruned. Trial was pruned at iteration 0.\n",
      "[I 2025-08-09 17:55:06,615] Trial 15 finished with value: 17.966482798258465 and parameters: {'max_bin': 295, 'eta': 0.04861323005104452, 'max_depth': 7, 'min_child_weight': 7, 'subsample': 0.6398368461978137, 'colsample_bytree': 0.9886743914802073, 'reg_lambda': 2.6076108352528493e-06, 'reg_alpha': 2.3096335534450782e-08, 'alpha': 1.4938568144993125}. Best is trial 3 with value: 17.70113245646159.\n",
      "[I 2025-08-09 17:55:06,689] Trial 16 pruned. Trial was pruned at iteration 0.\n",
      "[I 2025-08-09 17:55:06,753] Trial 17 pruned. Trial was pruned at iteration 0.\n",
      "[I 2025-08-09 17:55:06,817] Trial 18 pruned. Trial was pruned at iteration 0.\n",
      "[I 2025-08-09 17:55:06,881] Trial 19 pruned. Trial was pruned at iteration 0.\n",
      "[I 2025-08-09 17:55:06,947] Trial 20 pruned. Trial was pruned at iteration 0.\n",
      "[I 2025-08-09 17:55:14,654] Trial 21 finished with value: 18.927282015482586 and parameters: {'max_bin': 317, 'eta': 0.09103440663592603, 'max_depth': 10, 'min_child_weight': 8, 'subsample': 0.6662420166533959, 'colsample_bytree': 0.979094943878227, 'reg_lambda': 9.383735225733138e-07, 'reg_alpha': 5.0392668252735626e-08, 'alpha': 1.5077206300842858}. Best is trial 3 with value: 17.70113245646159.\n",
      "[I 2025-08-09 17:55:14,717] Trial 22 pruned. Trial was pruned at iteration 0.\n",
      "[I 2025-08-09 17:55:14,784] Trial 23 pruned. Trial was pruned at iteration 0.\n",
      "[I 2025-08-09 17:55:14,850] Trial 24 pruned. Trial was pruned at iteration 0.\n",
      "[I 2025-08-09 17:55:14,915] Trial 25 pruned. Trial was pruned at iteration 0.\n",
      "[I 2025-08-09 17:55:14,982] Trial 26 pruned. Trial was pruned at iteration 0.\n",
      "[I 2025-08-09 17:55:19,102] Trial 27 finished with value: 18.330911954243977 and parameters: {'max_bin': 249, 'eta': 0.1588898418356755, 'max_depth': 6, 'min_child_weight': 9, 'subsample': 0.6180340313552126, 'colsample_bytree': 0.8975056321946813, 'reg_lambda': 2.175662999505279e-06, 'reg_alpha': 4.6728874595364475e-07, 'alpha': 1.6822160204617715}. Best is trial 3 with value: 17.70113245646159.\n",
      "[I 2025-08-09 17:55:19,177] Trial 28 pruned. Trial was pruned at iteration 0.\n",
      "[I 2025-08-09 17:55:26,188] Trial 29 finished with value: 17.941877047220867 and parameters: {'max_bin': 278, 'eta': 0.05788869308256845, 'max_depth': 6, 'min_child_weight': 5, 'subsample': 0.6422674105584232, 'colsample_bytree': 0.9158794341384446, 'reg_lambda': 0.006319934110798501, 'reg_alpha': 6.312416114855827e-08, 'alpha': 1.6563867410854909}. Best is trial 3 with value: 17.70113245646159.\n",
      "[I 2025-08-09 17:55:33,771] Trial 30 finished with value: 17.780717849731445 and parameters: {'max_bin': 269, 'eta': 0.08014980781345366, 'max_depth': 6, 'min_child_weight': 3, 'subsample': 0.6620428262148146, 'colsample_bytree': 0.9486773801132021, 'reg_lambda': 0.4892556730969168, 'reg_alpha': 2.6289307681096605e-07, 'alpha': 1.6881774391584226}. Best is trial 3 with value: 17.70113245646159.\n",
      "[I 2025-08-09 17:55:38,912] Trial 31 finished with value: 18.1308692296346 and parameters: {'max_bin': 268, 'eta': 0.059639745537767914, 'max_depth': 7, 'min_child_weight': 1, 'subsample': 0.6303814719558599, 'colsample_bytree': 0.9586263473914459, 'reg_lambda': 0.01947664862201804, 'reg_alpha': 3.034925033371947e-07, 'alpha': 1.81858028699875}. Best is trial 3 with value: 17.70113245646159.\n",
      "[I 2025-08-09 17:55:43,330] Trial 32 finished with value: 18.235832532246906 and parameters: {'max_bin': 240, 'eta': 0.16146406802735394, 'max_depth': 6, 'min_child_weight': 6, 'subsample': 0.6843699269035302, 'colsample_bytree': 0.9335223461320422, 'reg_lambda': 4.357424358711772, 'reg_alpha': 3.551164823139095e-06, 'alpha': 1.27927205249502}. Best is trial 3 with value: 17.70113245646159.\n",
      "[I 2025-08-09 17:55:44,419] Trial 33 pruned. Trial was pruned at iteration 143.\n",
      "[I 2025-08-09 17:55:44,484] Trial 34 pruned. Trial was pruned at iteration 0.\n",
      "[I 2025-08-09 17:55:45,418] Trial 35 pruned. Trial was pruned at iteration 115.\n",
      "[I 2025-08-09 17:55:47,585] Trial 36 pruned. Trial was pruned at iteration 281.\n",
      "[I 2025-08-09 17:55:47,653] Trial 37 pruned. Trial was pruned at iteration 0.\n",
      "[I 2025-08-09 17:55:47,721] Trial 38 pruned. Trial was pruned at iteration 0.\n",
      "[I 2025-08-09 17:55:47,794] Trial 39 pruned. Trial was pruned at iteration 0.\n",
      "[I 2025-08-09 17:55:58,012] Trial 40 finished with value: 17.5958989461263 and parameters: {'max_bin': 308, 'eta': 0.0969189167034793, 'max_depth': 4, 'min_child_weight': 3, 'subsample': 0.6259856465558193, 'colsample_bytree': 0.8804766004517154, 'reg_lambda': 0.00011554252946013855, 'reg_alpha': 3.8036925670576745e-07, 'alpha': 1.6004457920553112}. Best is trial 40 with value: 17.5958989461263.\n",
      "[I 2025-08-09 17:56:02,206] Trial 41 finished with value: 17.79176203409831 and parameters: {'max_bin': 302, 'eta': 0.12287066577424853, 'max_depth': 5, 'min_child_weight': 3, 'subsample': 0.6093111868949854, 'colsample_bytree': 0.8887795753458163, 'reg_lambda': 0.0007580044194888179, 'reg_alpha': 0.0001881222126532371, 'alpha': 1.2851390643116825}. Best is trial 40 with value: 17.5958989461263.\n",
      "[I 2025-08-09 17:56:06,620] Trial 42 pruned. Trial was pruned at iteration 432.\n",
      "[I 2025-08-09 17:56:12,887] Trial 43 finished with value: 17.09597333272298 and parameters: {'max_bin': 299, 'eta': 0.17135940832365346, 'max_depth': 4, 'min_child_weight': 4, 'subsample': 0.704672997977235, 'colsample_bytree': 0.8804324778801227, 'reg_lambda': 5.822529927466454e-06, 'reg_alpha': 2.69856367626827e-06, 'alpha': 1.329573661566136}. Best is trial 43 with value: 17.09597333272298.\n",
      "[I 2025-08-09 17:56:12,958] Trial 44 pruned. Trial was pruned at iteration 0.\n",
      "[I 2025-08-09 17:56:19,481] Trial 45 finished with value: 17.180100440979004 and parameters: {'max_bin': 329, 'eta': 0.17597767069684767, 'max_depth': 4, 'min_child_weight': 4, 'subsample': 0.7609663278563786, 'colsample_bytree': 0.8271883996683695, 'reg_lambda': 9.941882777986038e-06, 'reg_alpha': 3.6961939279132705e-07, 'alpha': 1.3559006128523217}. Best is trial 43 with value: 17.09597333272298.\n",
      "[I 2025-08-09 17:56:19,781] Trial 46 pruned. Trial was pruned at iteration 39.\n",
      "[I 2025-08-09 17:56:21,819] Trial 47 pruned. Trial was pruned at iteration 337.\n",
      "[I 2025-08-09 17:56:22,508] Trial 48 pruned. Trial was pruned at iteration 83.\n",
      "[I 2025-08-09 17:56:22,775] Trial 49 pruned. Trial was pruned at iteration 40.\n",
      "[I 2025-08-09 17:56:23,107] Trial 50 pruned. Trial was pruned at iteration 49.\n",
      "[I 2025-08-09 17:56:32,228] Trial 51 finished with value: 17.57874075571696 and parameters: {'max_bin': 272, 'eta': 0.11527094325475612, 'max_depth': 4, 'min_child_weight': 3, 'subsample': 0.6447925181774059, 'colsample_bytree': 0.8189241323493277, 'reg_lambda': 3.375682690330696e-06, 'reg_alpha': 1.3634200817031135e-08, 'alpha': 1.6714776366375017}. Best is trial 43 with value: 17.09597333272298.\n",
      "[I 2025-08-09 17:56:32,632] Trial 52 pruned. Trial was pruned at iteration 49.\n",
      "[I 2025-08-09 17:56:33,000] Trial 53 pruned. Trial was pruned at iteration 45.\n",
      "[I 2025-08-09 17:56:33,086] Trial 54 pruned. Trial was pruned at iteration 0.\n",
      "[I 2025-08-09 17:56:33,175] Trial 55 pruned. Trial was pruned at iteration 0.\n",
      "[I 2025-08-09 17:56:36,794] Trial 56 finished with value: 17.592296918233234 and parameters: {'max_bin': 348, 'eta': 0.13072172648324903, 'max_depth': 5, 'min_child_weight': 3, 'subsample': 0.6852735150412951, 'colsample_bytree': 0.9929627796861069, 'reg_lambda': 2.786558549255493e-05, 'reg_alpha': 9.02191017290967e-07, 'alpha': 1.7254981056863938}. Best is trial 43 with value: 17.09597333272298.\n",
      "[I 2025-08-09 17:56:42,117] Trial 57 finished with value: 17.827271779378254 and parameters: {'max_bin': 350, 'eta': 0.13063039928512757, 'max_depth': 6, 'min_child_weight': 4, 'subsample': 0.7043701454805105, 'colsample_bytree': 0.9831704968703342, 'reg_lambda': 8.780268840084819e-07, 'reg_alpha': 4.478240671655739e-07, 'alpha': 1.898134516269233}. Best is trial 43 with value: 17.09597333272298.\n",
      "[I 2025-08-09 17:56:42,189] Trial 58 pruned. Trial was pruned at iteration 0.\n",
      "[I 2025-08-09 17:56:42,644] Trial 59 pruned. Trial was pruned at iteration 70.\n",
      "[I 2025-08-09 17:56:42,749] A new study created in memory with name: no-name-0fb6cdf6-da04-445c-ba25-f26b5730c3e5\n"
     ]
    },
    {
     "name": "stdout",
     "output_type": "stream",
     "text": [
      "==> Best SMAPE for 호텔: 17.0960\n",
      "==> Best Params: {'max_bin': 299, 'eta': 0.17135940832365346, 'max_depth': 4, 'min_child_weight': 4, 'subsample': 0.704672997977235, 'colsample_bytree': 0.8804324778801227, 'reg_lambda': 5.822529927466454e-06, 'reg_alpha': 2.69856367626827e-06, 'alpha': 1.329573661566136}\n",
      "\n",
      "================ HPO for Building Type: Commercial ================\n",
      "\n"
     ]
    },
    {
     "name": "stderr",
     "output_type": "stream",
     "text": [
      "[I 2025-08-09 17:56:48,000] Trial 0 finished with value: 9.951410293579102 and parameters: {'max_bin': 353, 'eta': 0.1, 'max_depth': 6, 'min_child_weight': 2, 'subsample': 0.8, 'colsample_bytree': 0.8, 'reg_lambda': 1.0, 'reg_alpha': 1e-08, 'alpha': 1.0}. Best is trial 0 with value: 9.951410293579102.\n",
      "[I 2025-08-09 17:56:54,757] Trial 1 finished with value: 14.477431615193685 and parameters: {'max_bin': 287, 'eta': 0.06687110757550044, 'max_depth': 5, 'min_child_weight': 6, 'subsample': 0.7634450360663716, 'colsample_bytree': 0.6421430589327092, 'reg_lambda': 2.8559378473948523e-06, 'reg_alpha': 0.0008419664149890112, 'alpha': 1.755682799535588}. Best is trial 0 with value: 9.951410293579102.\n",
      "[I 2025-08-09 17:57:02,566] Trial 2 finished with value: 9.680558204650879 and parameters: {'max_bin': 361, 'eta': 0.06750788489746047, 'max_depth': 5, 'min_child_weight': 8, 'subsample': 0.6369779580158647, 'colsample_bytree': 0.7903931951974031, 'reg_lambda': 5.1745219807679384e-08, 'reg_alpha': 0.0003590270860131326, 'alpha': 1.6344511445252932}. Best is trial 2 with value: 9.680558204650879.\n",
      "[I 2025-08-09 17:57:47,333] Trial 3 finished with value: 11.56454849243164 and parameters: {'max_bin': 359, 'eta': 0.040487211200569716, 'max_depth': 7, 'min_child_weight': 4, 'subsample': 0.9336528164202069, 'colsample_bytree': 0.7690279640685223, 'reg_lambda': 0.0003798843355617958, 'reg_alpha': 0.0004174162286096677, 'alpha': 0.7282079193383395}. Best is trial 2 with value: 9.680558204650879.\n",
      "[I 2025-08-09 17:58:19,681] Trial 4 finished with value: 10.33376932144165 and parameters: {'max_bin': 212, 'eta': 0.06885598376688648, 'max_depth': 9, 'min_child_weight': 1, 'subsample': 0.8780462416723656, 'colsample_bytree': 0.8822059656692356, 'reg_lambda': 0.012259373477393755, 'reg_alpha': 0.10885675257134353, 'alpha': 0.7332121021349322}. Best is trial 2 with value: 9.680558204650879.\n",
      "[I 2025-08-09 17:58:27,694] Trial 5 finished with value: 8.26881456375122 and parameters: {'max_bin': 383, 'eta': 0.14160503232904864, 'max_depth': 9, 'min_child_weight': 12, 'subsample': 0.8101306225860281, 'colsample_bytree': 0.98313885089423, 'reg_lambda': 0.4324914266548993, 'reg_alpha': 0.00020136763908664874, 'alpha': 0.6613035391048088}. Best is trial 5 with value: 8.26881456375122.\n",
      "[I 2025-08-09 17:58:41,455] Trial 6 finished with value: 11.02506939570109 and parameters: {'max_bin': 221, 'eta': 0.051229732957433397, 'max_depth': 8, 'min_child_weight': 4, 'subsample': 0.7045745860681938, 'colsample_bytree': 0.791352919342347, 'reg_lambda': 0.0010390506350244307, 'reg_alpha': 0.002809698640180874, 'alpha': 0.946414833541162}. Best is trial 5 with value: 8.26881456375122.\n",
      "[I 2025-08-09 17:59:15,166] Trial 7 finished with value: 8.948492209116617 and parameters: {'max_bin': 373, 'eta': 0.014257955643705994, 'max_depth': 4, 'min_child_weight': 1, 'subsample': 0.6144641508362941, 'colsample_bytree': 0.9199324488823973, 'reg_lambda': 2.2867198637651995e-05, 'reg_alpha': 0.00029183278025403473, 'alpha': 0.7597327327298143}. Best is trial 5 with value: 8.26881456375122.\n",
      "[I 2025-08-09 17:59:24,060] Trial 8 finished with value: 11.739035288492838 and parameters: {'max_bin': 369, 'eta': 0.027142827345871652, 'max_depth': 7, 'min_child_weight': 9, 'subsample': 0.7732424139413162, 'colsample_bytree': 0.7410898628078338, 'reg_lambda': 4.573546191134494e-06, 'reg_alpha': 6.881765684418747e-05, 'alpha': 1.5828967433238108}. Best is trial 5 with value: 8.26881456375122.\n",
      "[I 2025-08-09 17:59:31,959] Trial 9 finished with value: 14.68698247273763 and parameters: {'max_bin': 259, 'eta': 0.031136233038877966, 'max_depth': 5, 'min_child_weight': 11, 'subsample': 0.8691550149464167, 'colsample_bytree': 0.62060845586724, 'reg_lambda': 0.014405037563726417, 'reg_alpha': 3.3537664705355725e-07, 'alpha': 1.632653010820008}. Best is trial 5 with value: 8.26881456375122.\n",
      "[I 2025-08-09 17:59:32,024] Trial 10 pruned. Trial was pruned at iteration 0.\n",
      "[I 2025-08-09 17:59:39,757] Trial 11 finished with value: 8.620840390523275 and parameters: {'max_bin': 361, 'eta': 0.15594453438555295, 'max_depth': 8, 'min_child_weight': 12, 'subsample': 0.7512618386643457, 'colsample_bytree': 0.9306547797124101, 'reg_lambda': 1.0544587035052089, 'reg_alpha': 0.0004403888327812985, 'alpha': 0.6368335046495406}. Best is trial 5 with value: 8.26881456375122.\n",
      "[I 2025-08-09 17:59:52,081] Trial 12 pruned. Trial was pruned at iteration 1219.\n",
      "[I 2025-08-09 17:59:57,668] Trial 13 finished with value: 9.159796873728434 and parameters: {'max_bin': 349, 'eta': 0.17301026756064541, 'max_depth': 9, 'min_child_weight': 11, 'subsample': 0.8397207322729923, 'colsample_bytree': 0.9519311651343539, 'reg_lambda': 0.022103996422526397, 'reg_alpha': 4.588955859437941e-05, 'alpha': 1.2034686973104969}. Best is trial 5 with value: 8.26881456375122.\n",
      "[I 2025-08-09 18:00:12,601] Trial 14 finished with value: 9.350948651631674 and parameters: {'max_bin': 370, 'eta': 0.10012801732041784, 'max_depth': 8, 'min_child_weight': 10, 'subsample': 0.8268333104772279, 'colsample_bytree': 0.7989866879869458, 'reg_lambda': 0.007261778791446362, 'reg_alpha': 3.854804244355066e-05, 'alpha': 0.6027737152078697}. Best is trial 5 with value: 8.26881456375122.\n",
      "[I 2025-08-09 18:00:16,253] Trial 15 finished with value: 8.836291472117106 and parameters: {'max_bin': 345, 'eta': 0.13493976535599372, 'max_depth': 3, 'min_child_weight': 12, 'subsample': 0.8154115729013316, 'colsample_bytree': 0.9742773650766969, 'reg_lambda': 0.04967136653596925, 'reg_alpha': 0.0028431782608603884, 'alpha': 1.0679052102273692}. Best is trial 5 with value: 8.26881456375122.\n",
      "[I 2025-08-09 18:00:16,335] Trial 16 pruned. Trial was pruned at iteration 0.\n",
      "[I 2025-08-09 18:00:45,690] Trial 17 finished with value: 9.654001235961914 and parameters: {'max_bin': 347, 'eta': 0.17769144985508686, 'max_depth': 10, 'min_child_weight': 7, 'subsample': 0.9179659460792899, 'colsample_bytree': 0.939485741883819, 'reg_lambda': 0.01008154307270293, 'reg_alpha': 0.037619565667574975, 'alpha': 0.5731933288727511}. Best is trial 5 with value: 8.26881456375122.\n",
      "[I 2025-08-09 18:00:50,289] Trial 18 finished with value: 8.521844387054443 and parameters: {'max_bin': 363, 'eta': 0.18459204309066385, 'max_depth': 6, 'min_child_weight': 11, 'subsample': 0.7109983599836563, 'colsample_bytree': 0.9281573718293022, 'reg_lambda': 0.0001866434029347677, 'reg_alpha': 1.5287602234540098e-08, 'alpha': 0.7673805085480212}. Best is trial 5 with value: 8.26881456375122.\n",
      "[I 2025-08-09 18:00:50,696] Trial 19 pruned. Trial was pruned at iteration 60.\n",
      "[I 2025-08-09 18:00:56,684] Trial 20 finished with value: 8.582618554433187 and parameters: {'max_bin': 338, 'eta': 0.1971794857920631, 'max_depth': 5, 'min_child_weight': 9, 'subsample': 0.6511361443792393, 'colsample_bytree': 0.9974999432148487, 'reg_lambda': 1.1153050065070822, 'reg_alpha': 8.953493687611252e-07, 'alpha': 0.534010011966222}. Best is trial 5 with value: 8.26881456375122.\n",
      "[I 2025-08-09 18:00:57,160] Trial 21 pruned. Trial was pruned at iteration 63.\n",
      "[I 2025-08-09 18:01:03,902] Trial 22 finished with value: 9.500523090362549 and parameters: {'max_bin': 375, 'eta': 0.11899597320413781, 'max_depth': 7, 'min_child_weight': 12, 'subsample': 0.8406162682641789, 'colsample_bytree': 0.9428624289785638, 'reg_lambda': 7.559449310520985e-07, 'reg_alpha': 2.1882280380286632e-08, 'alpha': 0.8435491109209832}. Best is trial 5 with value: 8.26881456375122.\n",
      "[I 2025-08-09 18:01:03,976] Trial 23 pruned. Trial was pruned at iteration 0.\n",
      "[I 2025-08-09 18:01:08,248] Trial 24 finished with value: 8.798693497975668 and parameters: {'max_bin': 282, 'eta': 0.1902121793201826, 'max_depth': 6, 'min_child_weight': 11, 'subsample': 0.759462207160223, 'colsample_bytree': 0.9336091589092187, 'reg_lambda': 7.297107368486341e-06, 'reg_alpha': 1.1179293444524714e-07, 'alpha': 1.0347677413813279}. Best is trial 5 with value: 8.26881456375122.\n",
      "[I 2025-08-09 18:01:13,101] Trial 25 finished with value: 8.572263399759928 and parameters: {'max_bin': 371, 'eta': 0.14723227904621156, 'max_depth': 5, 'min_child_weight': 10, 'subsample': 0.6724490232712769, 'colsample_bytree': 0.9736735932299071, 'reg_lambda': 4.312634763273163, 'reg_alpha': 2.3575089726290172e-07, 'alpha': 0.9309778709593683}. Best is trial 5 with value: 8.26881456375122.\n",
      "[I 2025-08-09 18:01:18,560] Trial 26 finished with value: 8.614329814910889 and parameters: {'max_bin': 372, 'eta': 0.17680121232263996, 'max_depth': 5, 'min_child_weight': 8, 'subsample': 0.8007156848948649, 'colsample_bytree': 0.9200057816693437, 'reg_lambda': 0.019295281616038197, 'reg_alpha': 6.72865969919223e-07, 'alpha': 0.9959672760966016}. Best is trial 5 with value: 8.26881456375122.\n",
      "[I 2025-08-09 18:01:19,040] Trial 27 pruned. Trial was pruned at iteration 46.\n",
      "[I 2025-08-09 18:01:19,107] Trial 28 pruned. Trial was pruned at iteration 0.\n",
      "[I 2025-08-09 18:01:19,176] Trial 29 pruned. Trial was pruned at iteration 0.\n",
      "[I 2025-08-09 18:01:48,065] Trial 30 finished with value: 8.566725254058838 and parameters: {'max_bin': 352, 'eta': 0.18760006510422805, 'max_depth': 8, 'min_child_weight': 10, 'subsample': 0.9098122010046401, 'colsample_bytree': 0.9477558604086895, 'reg_lambda': 3.637877540508731, 'reg_alpha': 9.3824841335187e-06, 'alpha': 0.5909556262305181}. Best is trial 5 with value: 8.26881456375122.\n",
      "[I 2025-08-09 18:01:51,833] Trial 31 finished with value: 9.320337931315104 and parameters: {'max_bin': 359, 'eta': 0.192772478791489, 'max_depth': 7, 'min_child_weight': 12, 'subsample': 0.7665387680448172, 'colsample_bytree': 0.9120800107902758, 'reg_lambda': 0.01925265980668357, 'reg_alpha': 2.439420567994927e-08, 'alpha': 1.0572319538561255}. Best is trial 5 with value: 8.26881456375122.\n",
      "[I 2025-08-09 18:01:51,910] Trial 32 pruned. Trial was pruned at iteration 1.\n",
      "[I 2025-08-09 18:01:51,981] Trial 33 pruned. Trial was pruned at iteration 0.\n",
      "[I 2025-08-09 18:01:59,531] Trial 34 finished with value: 9.137646357218424 and parameters: {'max_bin': 294, 'eta': 0.1543063837990386, 'max_depth': 8, 'min_child_weight': 8, 'subsample': 0.828159716226757, 'colsample_bytree': 0.9924262548032167, 'reg_lambda': 0.021931294827294508, 'reg_alpha': 9.392815414270452e-06, 'alpha': 0.68024767661733}. Best is trial 5 with value: 8.26881456375122.\n",
      "[I 2025-08-09 18:01:59,602] Trial 35 pruned. Trial was pruned at iteration 0.\n",
      "[I 2025-08-09 18:01:59,670] Trial 36 pruned. Trial was pruned at iteration 0.\n",
      "[I 2025-08-09 18:02:04,428] Trial 37 finished with value: 8.635036945343018 and parameters: {'max_bin': 356, 'eta': 0.17896529083505838, 'max_depth': 7, 'min_child_weight': 12, 'subsample': 0.679211405502227, 'colsample_bytree': 0.9884826536931438, 'reg_lambda': 0.00011989491938637161, 'reg_alpha': 5.351958698288079e-06, 'alpha': 0.7602701692088584}. Best is trial 5 with value: 8.26881456375122.\n",
      "[I 2025-08-09 18:02:09,144] Trial 38 finished with value: 9.434364636739096 and parameters: {'max_bin': 344, 'eta': 0.1993685471140203, 'max_depth': 9, 'min_child_weight': 5, 'subsample': 0.9898251322298539, 'colsample_bytree': 0.9562720348310453, 'reg_lambda': 1.3768139461861002, 'reg_alpha': 6.179795719203024e-06, 'alpha': 1.051484007736947}. Best is trial 5 with value: 8.26881456375122.\n",
      "[I 2025-08-09 18:02:09,213] Trial 39 pruned. Trial was pruned at iteration 0.\n",
      "[I 2025-08-09 18:02:09,279] Trial 40 pruned. Trial was pruned at iteration 0.\n",
      "[I 2025-08-09 18:02:09,346] Trial 41 pruned. Trial was pruned at iteration 0.\n",
      "[I 2025-08-09 18:02:09,412] Trial 42 pruned. Trial was pruned at iteration 0.\n",
      "[I 2025-08-09 18:02:14,755] Trial 43 finished with value: 8.672697067260742 and parameters: {'max_bin': 335, 'eta': 0.16268257190162239, 'max_depth': 5, 'min_child_weight': 11, 'subsample': 0.6659280053047577, 'colsample_bytree': 0.9843503660492265, 'reg_lambda': 2.6805623521290043, 'reg_alpha': 7.296431206574903e-05, 'alpha': 0.8627958737459844}. Best is trial 5 with value: 8.26881456375122.\n",
      "[I 2025-08-09 18:02:15,294] Trial 44 pruned. Trial was pruned at iteration 55.\n",
      "[I 2025-08-09 18:02:15,496] Trial 45 pruned. Trial was pruned at iteration 21.\n",
      "[I 2025-08-09 18:02:21,764] Trial 46 finished with value: 9.123602072397867 and parameters: {'max_bin': 383, 'eta': 0.17955298994618435, 'max_depth': 8, 'min_child_weight': 12, 'subsample': 0.8806585113252937, 'colsample_bytree': 0.9277650932524778, 'reg_lambda': 0.007148229765004312, 'reg_alpha': 0.016997990762694894, 'alpha': 0.716126165839623}. Best is trial 5 with value: 8.26881456375122.\n",
      "[I 2025-08-09 18:02:21,977] Trial 47 pruned. Trial was pruned at iteration 21.\n",
      "[I 2025-08-09 18:02:22,045] Trial 48 pruned. Trial was pruned at iteration 0.\n",
      "[I 2025-08-09 18:02:22,110] Trial 49 pruned. Trial was pruned at iteration 0.\n",
      "[I 2025-08-09 18:02:22,179] Trial 50 pruned. Trial was pruned at iteration 0.\n",
      "[I 2025-08-09 18:02:22,245] Trial 51 pruned. Trial was pruned at iteration 0.\n",
      "[I 2025-08-09 18:02:22,322] Trial 52 pruned. Trial was pruned at iteration 0.\n",
      "[I 2025-08-09 18:02:27,723] Trial 53 finished with value: 8.841841379801432 and parameters: {'max_bin': 350, 'eta': 0.19949810477968702, 'max_depth': 6, 'min_child_weight': 9, 'subsample': 0.922223138869617, 'colsample_bytree': 0.920629231959385, 'reg_lambda': 1.4086894202083167, 'reg_alpha': 2.08059781298042e-07, 'alpha': 0.7751871605630358}. Best is trial 5 with value: 8.26881456375122.\n",
      "[I 2025-08-09 18:02:27,797] Trial 54 pruned. Trial was pruned at iteration 0.\n",
      "[I 2025-08-09 18:02:27,869] Trial 55 pruned. Trial was pruned at iteration 0.\n",
      "[I 2025-08-09 18:02:28,058] Trial 56 pruned. Trial was pruned at iteration 21.\n",
      "[I 2025-08-09 18:02:28,125] Trial 57 pruned. Trial was pruned at iteration 0.\n",
      "[I 2025-08-09 18:02:28,445] Trial 58 pruned. Trial was pruned at iteration 23.\n",
      "[I 2025-08-09 18:02:28,511] Trial 59 pruned. Trial was pruned at iteration 0.\n",
      "[I 2025-08-09 18:02:28,600] A new study created in memory with name: no-name-a0cf1f85-5251-414f-94ca-a6fe0aa8a9f9\n"
     ]
    },
    {
     "name": "stdout",
     "output_type": "stream",
     "text": [
      "==> Best SMAPE for Commercial: 8.2688\n",
      "==> Best Params: {'max_bin': 383, 'eta': 0.14160503232904864, 'max_depth': 9, 'min_child_weight': 12, 'subsample': 0.8101306225860281, 'colsample_bytree': 0.98313885089423, 'reg_lambda': 0.4324914266548993, 'reg_alpha': 0.00020136763908664874, 'alpha': 0.6613035391048088}\n",
      "\n",
      "================ HPO for Building Type: Hospital ================\n",
      "\n"
     ]
    },
    {
     "name": "stderr",
     "output_type": "stream",
     "text": [
      "[I 2025-08-09 18:02:33,230] Trial 0 finished with value: 7.961862246195476 and parameters: {'max_bin': 284, 'eta': 0.1, 'max_depth': 6, 'min_child_weight': 2, 'subsample': 0.8, 'colsample_bytree': 0.8, 'reg_lambda': 1.0, 'reg_alpha': 1e-08, 'alpha': 1.0}. Best is trial 0 with value: 7.961862246195476.\n",
      "[I 2025-08-09 18:02:51,518] Trial 1 finished with value: 7.648314317067464 and parameters: {'max_bin': 199, 'eta': 0.040731558362181064, 'max_depth': 8, 'min_child_weight': 1, 'subsample': 0.9028204034222509, 'colsample_bytree': 0.9582684406159724, 'reg_lambda': 2.278412468576809, 'reg_alpha': 6.0248030600693025e-06, 'alpha': 1.7209560824616692}. Best is trial 1 with value: 7.648314317067464.\n",
      "[I 2025-08-09 18:03:03,631] Trial 2 finished with value: 8.697098731994629 and parameters: {'max_bin': 312, 'eta': 0.03325447193656214, 'max_depth': 3, 'min_child_weight': 12, 'subsample': 0.6145235874858923, 'colsample_bytree': 0.6673192999508671, 'reg_lambda': 1.5546660768586154, 'reg_alpha': 0.002365310249327872, 'alpha': 0.7109109571683088}. Best is trial 1 with value: 7.648314317067464.\n",
      "[I 2025-08-09 18:03:23,882] Trial 3 finished with value: 8.583313465118408 and parameters: {'max_bin': 238, 'eta': 0.013874024157153083, 'max_depth': 9, 'min_child_weight': 3, 'subsample': 0.7207044895829607, 'colsample_bytree': 0.7620741861385869, 'reg_lambda': 1.5639351554613007e-05, 'reg_alpha': 0.0001409454487447882, 'alpha': 0.5402531414989977}. Best is trial 1 with value: 7.648314317067464.\n",
      "[I 2025-08-09 18:03:36,918] Trial 4 finished with value: 7.810298760732015 and parameters: {'max_bin': 252, 'eta': 0.021165526638797883, 'max_depth': 4, 'min_child_weight': 1, 'subsample': 0.7793039149742013, 'colsample_bytree': 0.8725545769597033, 'reg_lambda': 1.0044142770572193e-06, 'reg_alpha': 0.0004514323286403832, 'alpha': 1.1127522712513787}. Best is trial 1 with value: 7.648314317067464.\n",
      "[I 2025-08-09 18:03:50,090] Trial 5 finished with value: 8.291071256001791 and parameters: {'max_bin': 345, 'eta': 0.038970533701060066, 'max_depth': 10, 'min_child_weight': 8, 'subsample': 0.7701718579270748, 'colsample_bytree': 0.8611694848910647, 'reg_lambda': 0.00010894149540393051, 'reg_alpha': 6.57220554145013e-05, 'alpha': 0.7714291632016186}. Best is trial 1 with value: 7.648314317067464.\n",
      "[I 2025-08-09 18:04:12,745] Trial 6 finished with value: 9.246132214864096 and parameters: {'max_bin': 204, 'eta': 0.012404951200324296, 'max_depth': 5, 'min_child_weight': 6, 'subsample': 0.9145041780046842, 'colsample_bytree': 0.6214284477031773, 'reg_lambda': 6.129947566340027e-07, 'reg_alpha': 8.683960735951611e-08, 'alpha': 1.7784664932018892}. Best is trial 1 with value: 7.648314317067464.\n",
      "[I 2025-08-09 18:04:28,073] Trial 7 finished with value: 7.599615732828776 and parameters: {'max_bin': 199, 'eta': 0.07919386574840576, 'max_depth': 6, 'min_child_weight': 1, 'subsample': 0.9823159465026573, 'colsample_bytree': 0.9564564649611043, 'reg_lambda': 6.420389367219465e-07, 'reg_alpha': 5.6721488540792585e-08, 'alpha': 1.9359890311277443}. Best is trial 7 with value: 7.599615732828776.\n",
      "[I 2025-08-09 18:04:49,382] Trial 8 finished with value: 8.198757648468018 and parameters: {'max_bin': 369, 'eta': 0.16082593127812805, 'max_depth': 9, 'min_child_weight': 4, 'subsample': 0.6918614723974914, 'colsample_bytree': 0.7749035062394232, 'reg_lambda': 0.17841693293888003, 'reg_alpha': 0.000272364200374751, 'alpha': 1.879519087123953}. Best is trial 7 with value: 7.599615732828776.\n",
      "[I 2025-08-09 18:05:16,830] Trial 9 finished with value: 7.888021469116211 and parameters: {'max_bin': 212, 'eta': 0.0104527719479234, 'max_depth': 5, 'min_child_weight': 4, 'subsample': 0.7264104707626823, 'colsample_bytree': 0.7901751134524577, 'reg_lambda': 3.2113891380305453e-05, 'reg_alpha': 0.0003750100347669782, 'alpha': 1.462433407252773}. Best is trial 7 with value: 7.599615732828776.\n",
      "[I 2025-08-09 18:05:20,529] Trial 10 pruned. Trial was pruned at iteration 428.\n",
      "[I 2025-08-09 18:05:22,517] Trial 11 pruned. Trial was pruned at iteration 245.\n",
      "[I 2025-08-09 18:05:30,269] Trial 12 finished with value: 8.032336870829264 and parameters: {'max_bin': 233, 'eta': 0.05443203081954741, 'max_depth': 4, 'min_child_weight': 2, 'subsample': 0.9327817096346569, 'colsample_bytree': 0.8487699283526392, 'reg_lambda': 2.2935191063071364e-07, 'reg_alpha': 7.411417118549968e-08, 'alpha': 1.721219464937379}. Best is trial 7 with value: 7.599615732828776.\n",
      "[I 2025-08-09 18:05:34,808] Trial 13 pruned. Trial was pruned at iteration 494.\n",
      "[I 2025-08-09 18:05:34,882] Trial 14 pruned. Trial was pruned at iteration 0.\n",
      "[I 2025-08-09 18:05:34,968] Trial 15 pruned. Trial was pruned at iteration 0.\n",
      "[I 2025-08-09 18:05:36,806] Trial 16 pruned. Trial was pruned at iteration 203.\n",
      "[I 2025-08-09 18:05:43,215] Trial 17 finished with value: 7.468659559885661 and parameters: {'max_bin': 230, 'eta': 0.10416167943935759, 'max_depth': 4, 'min_child_weight': 2, 'subsample': 0.9999419550435478, 'colsample_bytree': 0.9916426540941473, 'reg_lambda': 9.765353813335601e-06, 'reg_alpha': 4.558913208499562e-05, 'alpha': 1.9256195261316245}. Best is trial 17 with value: 7.468659559885661.\n",
      "[I 2025-08-09 18:05:48,017] Trial 18 finished with value: 7.535099188486735 and parameters: {'max_bin': 222, 'eta': 0.0876819714193754, 'max_depth': 3, 'min_child_weight': 4, 'subsample': 0.9772537512832821, 'colsample_bytree': 0.9510649878293229, 'reg_lambda': 0.00017104213115877969, 'reg_alpha': 0.0001072061490502737, 'alpha': 1.5022606651494579}. Best is trial 17 with value: 7.468659559885661.\n",
      "[I 2025-08-09 18:05:54,275] Trial 19 finished with value: 7.764437039693196 and parameters: {'max_bin': 324, 'eta': 0.15567797047342358, 'max_depth': 4, 'min_child_weight': 5, 'subsample': 0.9799636339949257, 'colsample_bytree': 0.9402729443936151, 'reg_lambda': 0.01947418588198738, 'reg_alpha': 7.367792603152347e-06, 'alpha': 1.4868617769393186}. Best is trial 17 with value: 7.468659559885661.\n",
      "[I 2025-08-09 18:06:03,390] Trial 20 finished with value: 7.513840675354004 and parameters: {'max_bin': 227, 'eta': 0.0707763908304651, 'max_depth': 4, 'min_child_weight': 3, 'subsample': 0.9767805993861592, 'colsample_bytree': 0.9662390096711178, 'reg_lambda': 4.080838547117061e-08, 'reg_alpha': 0.2658513864478886, 'alpha': 1.907274541335135}. Best is trial 17 with value: 7.468659559885661.\n",
      "[I 2025-08-09 18:06:07,997] Trial 21 finished with value: 7.476168155670166 and parameters: {'max_bin': 213, 'eta': 0.14921224854944895, 'max_depth': 3, 'min_child_weight': 4, 'subsample': 0.9727980897382552, 'colsample_bytree': 0.9459935644999158, 'reg_lambda': 0.0005489116366541531, 'reg_alpha': 3.932888306731108e-05, 'alpha': 1.530846731403953}. Best is trial 17 with value: 7.468659559885661.\n",
      "[I 2025-08-09 18:06:19,172] Trial 22 finished with value: 7.653525352478027 and parameters: {'max_bin': 200, 'eta': 0.15513413941863036, 'max_depth': 6, 'min_child_weight': 3, 'subsample': 0.9534160227644831, 'colsample_bytree': 0.9661322760220938, 'reg_lambda': 4.043498704991996e-08, 'reg_alpha': 0.03905487804513599, 'alpha': 1.6027452139364253}. Best is trial 17 with value: 7.468659559885661.\n",
      "[I 2025-08-09 18:06:19,242] Trial 23 pruned. Trial was pruned at iteration 0.\n",
      "[I 2025-08-09 18:06:32,274] Trial 24 finished with value: 7.424606959025065 and parameters: {'max_bin': 303, 'eta': 0.07212011897932029, 'max_depth': 4, 'min_child_weight': 3, 'subsample': 0.8735245069688053, 'colsample_bytree': 0.9956585000406067, 'reg_lambda': 1.852447451605836e-07, 'reg_alpha': 0.017541748265205978, 'alpha': 1.5020752900572243}. Best is trial 24 with value: 7.424606959025065.\n",
      "[I 2025-08-09 18:06:33,539] Trial 25 pruned. Trial was pruned at iteration 209.\n",
      "[I 2025-08-09 18:06:37,240] Trial 26 finished with value: 7.611522038777669 and parameters: {'max_bin': 238, 'eta': 0.1798724382731161, 'max_depth': 3, 'min_child_weight': 2, 'subsample': 0.9782129673803702, 'colsample_bytree': 0.9692765482630838, 'reg_lambda': 0.0376908620289159, 'reg_alpha': 3.0059741101131844e-07, 'alpha': 1.6805098725083927}. Best is trial 24 with value: 7.424606959025065.\n",
      "[I 2025-08-09 18:06:37,316] Trial 27 pruned. Trial was pruned at iteration 0.\n",
      "[I 2025-08-09 18:06:47,056] Trial 28 finished with value: 7.155447165171306 and parameters: {'max_bin': 337, 'eta': 0.14139562079774268, 'max_depth': 5, 'min_child_weight': 2, 'subsample': 0.8982581702031441, 'colsample_bytree': 0.988039015417535, 'reg_lambda': 9.927880413589548e-08, 'reg_alpha': 0.00048676926572586824, 'alpha': 1.0267265590847787}. Best is trial 28 with value: 7.155447165171306.\n",
      "[I 2025-08-09 18:06:51,541] Trial 29 finished with value: 7.431275685628255 and parameters: {'max_bin': 336, 'eta': 0.14811277688700553, 'max_depth': 4, 'min_child_weight': 2, 'subsample': 0.9551513592681522, 'colsample_bytree': 0.9429550588930868, 'reg_lambda': 9.49196289398406e-07, 'reg_alpha': 6.334061007844462e-06, 'alpha': 0.7084785117865526}. Best is trial 28 with value: 7.155447165171306.\n",
      "[I 2025-08-09 18:06:53,001] Trial 30 pruned. Trial was pruned at iteration 205.\n",
      "[I 2025-08-09 18:06:55,595] Trial 31 pruned. Trial was pruned at iteration 247.\n",
      "[I 2025-08-09 18:06:55,664] Trial 32 pruned. Trial was pruned at iteration 0.\n",
      "[I 2025-08-09 18:07:01,126] Trial 33 finished with value: 7.720828374226888 and parameters: {'max_bin': 282, 'eta': 0.18482864448963968, 'max_depth': 6, 'min_child_weight': 1, 'subsample': 0.8913660154822567, 'colsample_bytree': 0.9119806427924045, 'reg_lambda': 3.8560468914332044e-08, 'reg_alpha': 0.000366797154150508, 'alpha': 1.0940109704939587}. Best is trial 28 with value: 7.155447165171306.\n",
      "[I 2025-08-09 18:07:01,191] Trial 34 pruned. Trial was pruned at iteration 0.\n",
      "[I 2025-08-09 18:07:20,787] Trial 35 finished with value: 7.255611260732015 and parameters: {'max_bin': 310, 'eta': 0.11696245688980123, 'max_depth': 5, 'min_child_weight': 2, 'subsample': 0.8663659047875952, 'colsample_bytree': 0.9822945500679255, 'reg_lambda': 2.1339737533796234e-06, 'reg_alpha': 0.43815122591969546, 'alpha': 1.7887324309210535}. Best is trial 28 with value: 7.155447165171306.\n",
      "[I 2025-08-09 18:07:34,087] Trial 36 finished with value: 7.373591423034668 and parameters: {'max_bin': 340, 'eta': 0.11909941331613272, 'max_depth': 6, 'min_child_weight': 1, 'subsample': 0.8091601034421048, 'colsample_bytree': 0.9600170823380109, 'reg_lambda': 9.150859491061056e-06, 'reg_alpha': 0.004111233881886647, 'alpha': 1.9755267787405977}. Best is trial 28 with value: 7.155447165171306.\n",
      "[I 2025-08-09 18:07:35,287] Trial 37 pruned. Trial was pruned at iteration 151.\n",
      "[I 2025-08-09 18:07:36,188] Trial 38 pruned. Trial was pruned at iteration 85.\n",
      "[I 2025-08-09 18:07:36,981] Trial 39 pruned. Trial was pruned at iteration 141.\n",
      "[I 2025-08-09 18:07:37,046] Trial 40 pruned. Trial was pruned at iteration 0.\n",
      "[I 2025-08-09 18:07:44,218] Trial 41 finished with value: 7.41376797358195 and parameters: {'max_bin': 349, 'eta': 0.146957305905308, 'max_depth': 3, 'min_child_weight': 2, 'subsample': 0.9757552719463685, 'colsample_bytree': 0.9745698217593386, 'reg_lambda': 4.157134257354947e-05, 'reg_alpha': 8.483741106470485e-06, 'alpha': 0.7539344394641031}. Best is trial 28 with value: 7.155447165171306.\n",
      "[I 2025-08-09 18:07:44,293] Trial 42 pruned. Trial was pruned at iteration 0.\n",
      "[I 2025-08-09 18:07:46,852] Trial 43 pruned. Trial was pruned at iteration 205.\n",
      "[I 2025-08-09 18:07:46,917] Trial 44 pruned. Trial was pruned at iteration 0.\n",
      "[I 2025-08-09 18:07:47,072] Trial 45 pruned. Trial was pruned at iteration 17.\n",
      "[I 2025-08-09 18:07:47,143] Trial 46 pruned. Trial was pruned at iteration 0.\n",
      "[I 2025-08-09 18:07:51,811] Trial 47 finished with value: 7.4740142822265625 and parameters: {'max_bin': 330, 'eta': 0.19998343969459467, 'max_depth': 4, 'min_child_weight': 1, 'subsample': 0.7908822066320236, 'colsample_bytree': 0.9971286747240186, 'reg_lambda': 1.0412200752520268e-06, 'reg_alpha': 0.020195170653036252, 'alpha': 1.020236687628026}. Best is trial 28 with value: 7.155447165171306.\n",
      "[I 2025-08-09 18:07:54,486] Trial 48 pruned. Trial was pruned at iteration 205.\n",
      "[I 2025-08-09 18:07:58,140] Trial 49 finished with value: 7.334025065104167 and parameters: {'max_bin': 304, 'eta': 0.189043943611355, 'max_depth': 3, 'min_child_weight': 1, 'subsample': 0.9538654081431435, 'colsample_bytree': 0.9877490615415754, 'reg_lambda': 0.00064171743729928, 'reg_alpha': 0.0006064385735256259, 'alpha': 0.7924438331876479}. Best is trial 28 with value: 7.155447165171306.\n",
      "[I 2025-08-09 18:07:58,213] Trial 50 pruned. Trial was pruned at iteration 0.\n",
      "[I 2025-08-09 18:07:58,295] Trial 51 pruned. Trial was pruned at iteration 0.\n",
      "[I 2025-08-09 18:07:58,372] Trial 52 pruned. Trial was pruned at iteration 0.\n",
      "[I 2025-08-09 18:07:58,446] Trial 53 pruned. Trial was pruned at iteration 0.\n",
      "[I 2025-08-09 18:07:58,524] Trial 54 pruned. Trial was pruned at iteration 0.\n",
      "[I 2025-08-09 18:07:58,928] Trial 55 pruned. Trial was pruned at iteration 50.\n",
      "[I 2025-08-09 18:08:05,592] Trial 56 finished with value: 7.422033150990804 and parameters: {'max_bin': 325, 'eta': 0.13531619292971087, 'max_depth': 4, 'min_child_weight': 2, 'subsample': 0.953937689133854, 'colsample_bytree': 0.980597426046808, 'reg_lambda': 0.002342935119134155, 'reg_alpha': 0.00017787383685744274, 'alpha': 0.7732767050363587}. Best is trial 28 with value: 7.155447165171306.\n",
      "[I 2025-08-09 18:08:05,788] Trial 57 pruned. Trial was pruned at iteration 21.\n",
      "[I 2025-08-09 18:08:08,207] Trial 58 pruned. Trial was pruned at iteration 190.\n",
      "[I 2025-08-09 18:08:11,880] Trial 59 finished with value: 7.473538239796956 and parameters: {'max_bin': 325, 'eta': 0.19526212668262802, 'max_depth': 4, 'min_child_weight': 2, 'subsample': 0.978892937155286, 'colsample_bytree': 0.9514251755962571, 'reg_lambda': 0.00022119687173957443, 'reg_alpha': 0.3935618133298348, 'alpha': 0.8661808159117775}. Best is trial 28 with value: 7.155447165171306.\n",
      "[I 2025-08-09 18:08:11,981] A new study created in memory with name: no-name-ba3f17cf-2969-4758-b4f8-c5af665cfa66\n"
     ]
    },
    {
     "name": "stdout",
     "output_type": "stream",
     "text": [
      "==> Best SMAPE for Hospital: 7.1554\n",
      "==> Best Params: {'max_bin': 337, 'eta': 0.14139562079774268, 'max_depth': 5, 'min_child_weight': 2, 'subsample': 0.8982581702031441, 'colsample_bytree': 0.988039015417535, 'reg_lambda': 9.927880413589548e-08, 'reg_alpha': 0.00048676926572586824, 'alpha': 1.0267265590847787}\n",
      "\n",
      "================ HPO for Building Type: 학교 ================\n",
      "\n"
     ]
    },
    {
     "name": "stderr",
     "output_type": "stream",
     "text": [
      "[I 2025-08-09 18:08:17,264] Trial 0 finished with value: 19.328946113586426 and parameters: {'max_bin': 222, 'eta': 0.1, 'max_depth': 6, 'min_child_weight': 2, 'subsample': 0.8, 'colsample_bytree': 0.8, 'reg_lambda': 1.0, 'reg_alpha': 1e-08, 'alpha': 1.0}. Best is trial 0 with value: 19.328946113586426.\n",
      "[I 2025-08-09 18:08:36,283] Trial 1 finished with value: 19.51204776763916 and parameters: {'max_bin': 215, 'eta': 0.018258540721166356, 'max_depth': 5, 'min_child_weight': 11, 'subsample': 0.7004640839199697, 'colsample_bytree': 0.6411007715899061, 'reg_lambda': 0.01694153927226088, 'reg_alpha': 2.323099792280637e-06, 'alpha': 0.9923488458366755}. Best is trial 0 with value: 19.328946113586426.\n",
      "[I 2025-08-09 18:08:41,950] Trial 2 finished with value: 16.860386848449707 and parameters: {'max_bin': 261, 'eta': 0.11423655914488764, 'max_depth': 4, 'min_child_weight': 11, 'subsample': 0.8037383353553581, 'colsample_bytree': 0.8364075373393424, 'reg_lambda': 6.029390998607908, 'reg_alpha': 1.7619823808121906e-08, 'alpha': 1.2305354864704718}. Best is trial 2 with value: 16.860386848449707.\n",
      "[I 2025-08-09 18:08:53,179] Trial 3 finished with value: 20.395343780517578 and parameters: {'max_bin': 376, 'eta': 0.04618357236268213, 'max_depth': 5, 'min_child_weight': 12, 'subsample': 0.6646082693608424, 'colsample_bytree': 0.674062668339382, 'reg_lambda': 7.829942052349725e-07, 'reg_alpha': 9.636343352888592e-06, 'alpha': 0.7687697281167533}. Best is trial 2 with value: 16.860386848449707.\n",
      "[I 2025-08-09 18:09:15,876] Trial 4 finished with value: 20.99214267730713 and parameters: {'max_bin': 315, 'eta': 0.02983482623966537, 'max_depth': 6, 'min_child_weight': 10, 'subsample': 0.8241706775833598, 'colsample_bytree': 0.6132324373526985, 'reg_lambda': 2.6884308115341376e-08, 'reg_alpha': 0.06174230990867572, 'alpha': 1.5978968771020465}. Best is trial 2 with value: 16.860386848449707.\n",
      "[I 2025-08-09 18:09:39,118] Trial 5 finished with value: 14.863824208577475 and parameters: {'max_bin': 208, 'eta': 0.010675799344323202, 'max_depth': 4, 'min_child_weight': 8, 'subsample': 0.7265980406508409, 'colsample_bytree': 0.9316657405099804, 'reg_lambda': 0.19106710728010282, 'reg_alpha': 8.4214285256004, 'alpha': 1.7881649754690017}. Best is trial 5 with value: 14.863824208577475.\n",
      "[I 2025-08-09 18:10:02,595] Trial 6 finished with value: 20.79836591084798 and parameters: {'max_bin': 306, 'eta': 0.09956857760928127, 'max_depth': 10, 'min_child_weight': 5, 'subsample': 0.6646365651501899, 'colsample_bytree': 0.8651300629261238, 'reg_lambda': 3.464453547356282e-08, 'reg_alpha': 4.653844066412863e-06, 'alpha': 1.7496877824841153}. Best is trial 5 with value: 14.863824208577475.\n",
      "[I 2025-08-09 18:10:06,174] Trial 7 finished with value: 19.38557020823161 and parameters: {'max_bin': 380, 'eta': 0.1261191897752304, 'max_depth': 6, 'min_child_weight': 4, 'subsample': 0.8700817562147404, 'colsample_bytree': 0.9042260166447269, 'reg_lambda': 0.019679072219899195, 'reg_alpha': 0.0033323845670217233, 'alpha': 1.2107329759521808}. Best is trial 5 with value: 14.863824208577475.\n",
      "[I 2025-08-09 18:10:38,514] Trial 8 finished with value: 23.19970766703288 and parameters: {'max_bin': 353, 'eta': 0.060847013080887996, 'max_depth': 8, 'min_child_weight': 12, 'subsample': 0.950916491238861, 'colsample_bytree': 0.7337858449778438, 'reg_lambda': 3.80798987266034e-06, 'reg_alpha': 0.03192349308641477, 'alpha': 1.7677437215734442}. Best is trial 5 with value: 14.863824208577475.\n",
      "[I 2025-08-09 18:10:42,125] Trial 9 finished with value: 18.458884874979656 and parameters: {'max_bin': 307, 'eta': 0.19129765104468455, 'max_depth': 6, 'min_child_weight': 1, 'subsample': 0.7257063095536822, 'colsample_bytree': 0.7959083091132552, 'reg_lambda': 3.879207010085684e-06, 'reg_alpha': 0.009339521731801666, 'alpha': 1.6211696755791847}. Best is trial 5 with value: 14.863824208577475.\n",
      "[I 2025-08-09 18:10:42,190] Trial 10 pruned. Trial was pruned at iteration 0.\n",
      "[I 2025-08-09 18:10:43,430] Trial 11 pruned. Trial was pruned at iteration 166.\n",
      "[I 2025-08-09 18:10:43,498] Trial 12 pruned. Trial was pruned at iteration 0.\n",
      "[I 2025-08-09 18:10:43,567] Trial 13 pruned. Trial was pruned at iteration 0.\n",
      "[I 2025-08-09 18:10:43,635] Trial 14 pruned. Trial was pruned at iteration 0.\n",
      "[I 2025-08-09 18:10:43,699] Trial 15 pruned. Trial was pruned at iteration 0.\n",
      "[I 2025-08-09 18:10:45,783] Trial 16 pruned. Trial was pruned at iteration 322.\n",
      "[I 2025-08-09 18:10:47,311] Trial 17 pruned. Trial was pruned at iteration 234.\n",
      "[I 2025-08-09 18:10:47,377] Trial 18 pruned. Trial was pruned at iteration 0.\n",
      "[I 2025-08-09 18:10:47,448] Trial 19 pruned. Trial was pruned at iteration 0.\n",
      "[I 2025-08-09 18:10:47,527] Trial 20 pruned. Trial was pruned at iteration 0.\n",
      "[I 2025-08-09 18:10:48,884] Trial 21 pruned. Trial was pruned at iteration 178.\n",
      "[I 2025-08-09 18:10:50,079] Trial 22 pruned. Trial was pruned at iteration 178.\n",
      "[I 2025-08-09 18:10:50,147] Trial 23 pruned. Trial was pruned at iteration 0.\n",
      "[I 2025-08-09 18:10:50,243] Trial 24 pruned. Trial was pruned at iteration 1.\n",
      "[I 2025-08-09 18:10:52,244] Trial 25 pruned. Trial was pruned at iteration 322.\n",
      "[I 2025-08-09 18:11:08,743] Trial 26 finished with value: 19.758848508199055 and parameters: {'max_bin': 353, 'eta': 0.18715561916298623, 'max_depth': 7, 'min_child_weight': 4, 'subsample': 0.6496140476840634, 'colsample_bytree': 0.65893995898748, 'reg_lambda': 0.0025030140049835865, 'reg_alpha': 0.002470829566039526, 'alpha': 1.8627462489283513}. Best is trial 5 with value: 14.863824208577475.\n",
      "[I 2025-08-09 18:11:10,108] Trial 27 pruned. Trial was pruned at iteration 166.\n",
      "[I 2025-08-09 18:11:10,174] Trial 28 pruned. Trial was pruned at iteration 0.\n",
      "[I 2025-08-09 18:11:11,258] Trial 29 pruned. Trial was pruned at iteration 166.\n",
      "[I 2025-08-09 18:11:11,684] Trial 30 pruned. Trial was pruned at iteration 41.\n",
      "[I 2025-08-09 18:11:11,756] Trial 31 pruned. Trial was pruned at iteration 0.\n",
      "[I 2025-08-09 18:11:12,521] Trial 32 pruned. Trial was pruned at iteration 91.\n",
      "[I 2025-08-09 18:11:13,190] Trial 33 pruned. Trial was pruned at iteration 90.\n",
      "[I 2025-08-09 18:11:13,880] Trial 34 pruned. Trial was pruned at iteration 94.\n",
      "[I 2025-08-09 18:11:14,617] Trial 35 pruned. Trial was pruned at iteration 90.\n",
      "[I 2025-08-09 18:11:15,128] Trial 36 pruned. Trial was pruned at iteration 39.\n",
      "[I 2025-08-09 18:11:15,198] Trial 37 pruned. Trial was pruned at iteration 0.\n",
      "[I 2025-08-09 18:11:15,265] Trial 38 pruned. Trial was pruned at iteration 0.\n",
      "[I 2025-08-09 18:11:16,200] Trial 39 pruned. Trial was pruned at iteration 178.\n",
      "[I 2025-08-09 18:11:16,271] Trial 40 pruned. Trial was pruned at iteration 0.\n",
      "[I 2025-08-09 18:11:16,340] Trial 41 pruned. Trial was pruned at iteration 0.\n",
      "[I 2025-08-09 18:11:16,743] Trial 42 pruned. Trial was pruned at iteration 41.\n",
      "[I 2025-08-09 18:11:17,299] Trial 43 pruned. Trial was pruned at iteration 38.\n",
      "[I 2025-08-09 18:11:17,367] Trial 44 pruned. Trial was pruned at iteration 0.\n",
      "[I 2025-08-09 18:11:18,022] Trial 45 pruned. Trial was pruned at iteration 89.\n",
      "[I 2025-08-09 18:11:19,156] Trial 46 pruned. Trial was pruned at iteration 185.\n",
      "[I 2025-08-09 18:11:20,169] Trial 47 pruned. Trial was pruned at iteration 191.\n",
      "[I 2025-08-09 18:11:20,592] Trial 48 pruned. Trial was pruned at iteration 40.\n",
      "[I 2025-08-09 18:11:21,354] Trial 49 pruned. Trial was pruned at iteration 92.\n",
      "[I 2025-08-09 18:11:21,430] Trial 50 pruned. Trial was pruned at iteration 1.\n",
      "[I 2025-08-09 18:11:21,501] Trial 51 pruned. Trial was pruned at iteration 0.\n",
      "[I 2025-08-09 18:11:21,577] Trial 52 pruned. Trial was pruned at iteration 0.\n",
      "[I 2025-08-09 18:11:21,649] Trial 53 pruned. Trial was pruned at iteration 0.\n",
      "[I 2025-08-09 18:11:21,722] Trial 54 pruned. Trial was pruned at iteration 0.\n",
      "[I 2025-08-09 18:11:21,796] Trial 55 pruned. Trial was pruned at iteration 0.\n",
      "[I 2025-08-09 18:11:21,874] Trial 56 pruned. Trial was pruned at iteration 0.\n",
      "[I 2025-08-09 18:11:21,946] Trial 57 pruned. Trial was pruned at iteration 0.\n",
      "[I 2025-08-09 18:11:22,381] Trial 58 pruned. Trial was pruned at iteration 39.\n",
      "[I 2025-08-09 18:11:22,450] Trial 59 pruned. Trial was pruned at iteration 0.\n",
      "[I 2025-08-09 18:11:22,550] A new study created in memory with name: no-name-a24400ee-1ee0-49e8-842a-68ba709e5855\n"
     ]
    },
    {
     "name": "stdout",
     "output_type": "stream",
     "text": [
      "==> Best SMAPE for 학교: 14.8638\n",
      "==> Best Params: {'max_bin': 208, 'eta': 0.010675799344323202, 'max_depth': 4, 'min_child_weight': 8, 'subsample': 0.7265980406508409, 'colsample_bytree': 0.9316657405099804, 'reg_lambda': 0.19106710728010282, 'reg_alpha': 8.4214285256004, 'alpha': 1.7881649754690017}\n",
      "\n",
      "================ HPO for Building Type: Other Buildings ================\n",
      "\n"
     ]
    },
    {
     "name": "stderr",
     "output_type": "stream",
     "text": [
      "[I 2025-08-09 18:11:27,410] Trial 0 finished with value: 19.01397705078125 and parameters: {'max_bin': 355, 'eta': 0.1, 'max_depth': 6, 'min_child_weight': 2, 'subsample': 0.8, 'colsample_bytree': 0.8, 'reg_lambda': 1.0, 'reg_alpha': 1e-08, 'alpha': 1.0}. Best is trial 0 with value: 19.01397705078125.\n",
      "[I 2025-08-09 18:11:38,780] Trial 1 finished with value: 18.72513739267985 and parameters: {'max_bin': 284, 'eta': 0.014569264296272803, 'max_depth': 5, 'min_child_weight': 4, 'subsample': 0.8446248482963781, 'colsample_bytree': 0.7872178785109736, 'reg_lambda': 1.221252009164842e-07, 'reg_alpha': 8.825887864630708e-06, 'alpha': 1.9389393998317856}. Best is trial 1 with value: 18.72513739267985.\n",
      "[I 2025-08-09 18:11:43,549] Trial 2 finished with value: 22.089971860249836 and parameters: {'max_bin': 367, 'eta': 0.19173792487433333, 'max_depth': 9, 'min_child_weight': 12, 'subsample': 0.9455010610588859, 'colsample_bytree': 0.9516999701966498, 'reg_lambda': 0.01927769225463201, 'reg_alpha': 0.006259204160319231, 'alpha': 1.8128968171799447}. Best is trial 1 with value: 18.72513739267985.\n",
      "[I 2025-08-09 18:11:55,264] Trial 3 finished with value: 18.856740951538086 and parameters: {'max_bin': 317, 'eta': 0.1594233950351085, 'max_depth': 5, 'min_child_weight': 6, 'subsample': 0.8743327029105254, 'colsample_bytree': 0.639425975161472, 'reg_lambda': 0.046278972919786325, 'reg_alpha': 6.689483051199857e-07, 'alpha': 0.5980742918241047}. Best is trial 1 with value: 18.72513739267985.\n",
      "[I 2025-08-09 18:12:07,021] Trial 4 finished with value: 20.33688958485921 and parameters: {'max_bin': 282, 'eta': 0.020480848041287796, 'max_depth': 7, 'min_child_weight': 9, 'subsample': 0.7941352947671485, 'colsample_bytree': 0.6968024327072213, 'reg_lambda': 3.19338777943609e-05, 'reg_alpha': 0.0001436927595933574, 'alpha': 1.9208854514299427}. Best is trial 1 with value: 18.72513739267985.\n",
      "[I 2025-08-09 18:12:17,182] Trial 5 finished with value: 21.380794525146484 and parameters: {'max_bin': 335, 'eta': 0.1713974967256682, 'max_depth': 10, 'min_child_weight': 7, 'subsample': 0.9706306620270908, 'colsample_bytree': 0.8179206013766277, 'reg_lambda': 0.1039233522039713, 'reg_alpha': 0.007661375007898314, 'alpha': 0.9221880101573064}. Best is trial 1 with value: 18.72513739267985.\n",
      "[I 2025-08-09 18:12:23,949] Trial 6 finished with value: 21.501673698425293 and parameters: {'max_bin': 330, 'eta': 0.07609961727770861, 'max_depth': 9, 'min_child_weight': 4, 'subsample': 0.8379499344240684, 'colsample_bytree': 0.7251542923815002, 'reg_lambda': 7.261419653577105e-05, 'reg_alpha': 0.07883017911422961, 'alpha': 1.6050461080384464}. Best is trial 1 with value: 18.72513739267985.\n",
      "[I 2025-08-09 18:12:27,906] Trial 7 finished with value: 18.759971618652344 and parameters: {'max_bin': 209, 'eta': 0.11798787036476763, 'max_depth': 3, 'min_child_weight': 2, 'subsample': 0.8182207477976111, 'colsample_bytree': 0.9345878762031864, 'reg_lambda': 6.008088977693953, 'reg_alpha': 3.0739809229236933e-07, 'alpha': 0.9464246278597093}. Best is trial 1 with value: 18.72513739267985.\n",
      "[I 2025-08-09 18:12:31,924] Trial 8 finished with value: 19.163578987121582 and parameters: {'max_bin': 228, 'eta': 0.06870964686438073, 'max_depth': 6, 'min_child_weight': 12, 'subsample': 0.7244838680767758, 'colsample_bytree': 0.7625399115444969, 'reg_lambda': 0.0009234154967181563, 'reg_alpha': 9.007466562212205, 'alpha': 1.8468158738349025}. Best is trial 1 with value: 18.72513739267985.\n",
      "[I 2025-08-09 18:12:36,789] Trial 9 finished with value: 21.07128079732259 and parameters: {'max_bin': 199, 'eta': 0.07272674924776193, 'max_depth': 8, 'min_child_weight': 7, 'subsample': 0.8845594737723548, 'colsample_bytree': 0.743193542541802, 'reg_lambda': 2.2072528810002597e-06, 'reg_alpha': 3.69198021465951e-05, 'alpha': 1.0018688572188799}. Best is trial 1 with value: 18.72513739267985.\n",
      "[I 2025-08-09 18:12:36,849] Trial 10 pruned. Trial was pruned at iteration 0.\n",
      "[I 2025-08-09 18:12:39,939] Trial 11 finished with value: 17.147679646809895 and parameters: {'max_bin': 231, 'eta': 0.1929701180705064, 'max_depth': 3, 'min_child_weight': 1, 'subsample': 0.8382785552660116, 'colsample_bytree': 0.9274592516134723, 'reg_lambda': 1.4898502640317242, 'reg_alpha': 5.336559429880889e-05, 'alpha': 0.7564595892511105}. Best is trial 11 with value: 17.147679646809895.\n",
      "[I 2025-08-09 18:12:44,263] Trial 12 finished with value: 18.909596761067707 and parameters: {'max_bin': 222, 'eta': 0.1881851900636743, 'max_depth': 3, 'min_child_weight': 8, 'subsample': 0.8556171525463641, 'colsample_bytree': 0.8879615654974424, 'reg_lambda': 0.12541527652369225, 'reg_alpha': 0.003094334381388388, 'alpha': 0.5063990751872487}. Best is trial 11 with value: 17.147679646809895.\n",
      "[I 2025-08-09 18:12:44,331] Trial 13 pruned. Trial was pruned at iteration 0.\n",
      "[I 2025-08-09 18:12:44,403] Trial 14 pruned. Trial was pruned at iteration 0.\n",
      "[I 2025-08-09 18:12:44,467] Trial 15 pruned. Trial was pruned at iteration 0.\n",
      "[I 2025-08-09 18:12:44,542] Trial 16 pruned. Trial was pruned at iteration 0.\n",
      "[I 2025-08-09 18:12:48,903] Trial 17 finished with value: 16.009597142537434 and parameters: {'max_bin': 259, 'eta': 0.19623577555050906, 'max_depth': 3, 'min_child_weight': 1, 'subsample': 0.7143053950399415, 'colsample_bytree': 0.7925780791217174, 'reg_lambda': 0.001561623950572243, 'reg_alpha': 0.028512163063564494, 'alpha': 0.7638670031286156}. Best is trial 17 with value: 16.009597142537434.\n",
      "[I 2025-08-09 18:12:48,968] Trial 18 pruned. Trial was pruned at iteration 0.\n",
      "[I 2025-08-09 18:12:55,227] Trial 19 finished with value: 19.136518160502117 and parameters: {'max_bin': 241, 'eta': 0.1730752061957573, 'max_depth': 3, 'min_child_weight': 2, 'subsample': 0.6209770329425306, 'colsample_bytree': 0.7064086872224863, 'reg_lambda': 0.1570545858373577, 'reg_alpha': 0.0925349080664528, 'alpha': 0.5619230949063982}. Best is trial 17 with value: 16.009597142537434.\n",
      "[I 2025-08-09 18:13:00,306] Trial 20 finished with value: 16.698513984680176 and parameters: {'max_bin': 244, 'eta': 0.172153405093599, 'max_depth': 3, 'min_child_weight': 1, 'subsample': 0.6741995248643852, 'colsample_bytree': 0.9119268836263474, 'reg_lambda': 3.2644154380311596e-05, 'reg_alpha': 5.746844919381302e-06, 'alpha': 0.5763569604698702}. Best is trial 17 with value: 16.009597142537434.\n",
      "[I 2025-08-09 18:13:00,390] Trial 21 pruned. Trial was pruned at iteration 0.\n",
      "[I 2025-08-09 18:13:00,465] Trial 22 pruned. Trial was pruned at iteration 0.\n",
      "[I 2025-08-09 18:13:00,540] Trial 23 pruned. Trial was pruned at iteration 0.\n",
      "[I 2025-08-09 18:13:00,603] Trial 24 pruned. Trial was pruned at iteration 0.\n",
      "[I 2025-08-09 18:13:00,668] Trial 25 pruned. Trial was pruned at iteration 0.\n",
      "[I 2025-08-09 18:13:05,149] Trial 26 finished with value: 19.056873321533203 and parameters: {'max_bin': 193, 'eta': 0.18021950888873411, 'max_depth': 4, 'min_child_weight': 2, 'subsample': 0.615620865790998, 'colsample_bytree': 0.9234767625378882, 'reg_lambda': 1.5056449193973944e-05, 'reg_alpha': 0.0016858068178926828, 'alpha': 0.5626477252053929}. Best is trial 17 with value: 16.009597142537434.\n",
      "[I 2025-08-09 18:13:08,801] Trial 27 finished with value: 18.143757502237957 and parameters: {'max_bin': 233, 'eta': 0.1824120532825554, 'max_depth': 3, 'min_child_weight': 1, 'subsample': 0.8150975785823619, 'colsample_bytree': 0.7059996104726178, 'reg_lambda': 1.9195795599460616e-05, 'reg_alpha': 0.090635424471372, 'alpha': 0.9697277707522884}. Best is trial 17 with value: 16.009597142537434.\n",
      "[I 2025-08-09 18:13:11,799] Trial 28 finished with value: 19.556285858154297 and parameters: {'max_bin': 247, 'eta': 0.1877497287410107, 'max_depth': 5, 'min_child_weight': 4, 'subsample': 0.7206943410938638, 'colsample_bytree': 0.8090596044901934, 'reg_lambda': 0.0312529958936629, 'reg_alpha': 7.515916053255532e-05, 'alpha': 0.5576888020059796}. Best is trial 17 with value: 16.009597142537434.\n",
      "[I 2025-08-09 18:13:11,867] Trial 29 pruned. Trial was pruned at iteration 0.\n",
      "[I 2025-08-09 18:13:11,933] Trial 30 pruned. Trial was pruned at iteration 0.\n",
      "[I 2025-08-09 18:13:12,002] Trial 31 pruned. Trial was pruned at iteration 0.\n",
      "[I 2025-08-09 18:13:14,583] Trial 32 finished with value: 18.24897225697835 and parameters: {'max_bin': 227, 'eta': 0.16965627179231968, 'max_depth': 4, 'min_child_weight': 3, 'subsample': 0.9278840221212092, 'colsample_bytree': 0.6828907704251592, 'reg_lambda': 2.6885933990459925e-05, 'reg_alpha': 0.023106420214062003, 'alpha': 1.476904711140899}. Best is trial 17 with value: 16.009597142537434.\n",
      "[I 2025-08-09 18:13:14,652] Trial 33 pruned. Trial was pruned at iteration 0.\n",
      "[I 2025-08-09 18:13:14,721] Trial 34 pruned. Trial was pruned at iteration 0.\n",
      "[I 2025-08-09 18:13:14,789] Trial 35 pruned. Trial was pruned at iteration 0.\n",
      "[I 2025-08-09 18:13:14,856] Trial 36 pruned. Trial was pruned at iteration 0.\n",
      "[I 2025-08-09 18:13:14,921] Trial 37 pruned. Trial was pruned at iteration 0.\n",
      "[I 2025-08-09 18:13:14,986] Trial 38 pruned. Trial was pruned at iteration 0.\n",
      "[I 2025-08-09 18:13:15,056] Trial 39 pruned. Trial was pruned at iteration 0.\n",
      "[I 2025-08-09 18:13:22,505] Trial 40 finished with value: 18.654305458068848 and parameters: {'max_bin': 224, 'eta': 0.19032560176042712, 'max_depth': 3, 'min_child_weight': 2, 'subsample': 0.7554578696367681, 'colsample_bytree': 0.6684444001412947, 'reg_lambda': 0.0008883667396730597, 'reg_alpha': 0.02936065573022535, 'alpha': 0.9635216284632839}. Best is trial 17 with value: 16.009597142537434.\n",
      "[I 2025-08-09 18:13:22,577] Trial 41 pruned. Trial was pruned at iteration 0.\n",
      "[I 2025-08-09 18:13:22,646] Trial 42 pruned. Trial was pruned at iteration 0.\n",
      "[I 2025-08-09 18:13:22,718] Trial 43 pruned. Trial was pruned at iteration 0.\n",
      "[I 2025-08-09 18:13:22,793] Trial 44 pruned. Trial was pruned at iteration 0.\n",
      "[I 2025-08-09 18:13:22,999] Trial 45 pruned. Trial was pruned at iteration 10.\n",
      "[I 2025-08-09 18:13:23,070] Trial 46 pruned. Trial was pruned at iteration 0.\n",
      "[I 2025-08-09 18:13:23,139] Trial 47 pruned. Trial was pruned at iteration 0.\n",
      "[I 2025-08-09 18:13:28,930] Trial 48 finished with value: 16.66988754272461 and parameters: {'max_bin': 268, 'eta': 0.17429016003048445, 'max_depth': 3, 'min_child_weight': 1, 'subsample': 0.7127982510106349, 'colsample_bytree': 0.7603879434303168, 'reg_lambda': 0.00031824327812272457, 'reg_alpha': 0.33497226654656653, 'alpha': 0.8651265032980138}. Best is trial 17 with value: 16.009597142537434.\n",
      "[I 2025-08-09 18:13:28,998] Trial 49 pruned. Trial was pruned at iteration 0.\n",
      "[I 2025-08-09 18:13:29,071] Trial 50 pruned. Trial was pruned at iteration 0.\n",
      "[I 2025-08-09 18:13:29,143] Trial 51 pruned. Trial was pruned at iteration 0.\n",
      "[I 2025-08-09 18:13:29,216] Trial 52 pruned. Trial was pruned at iteration 0.\n",
      "[I 2025-08-09 18:13:29,283] Trial 53 pruned. Trial was pruned at iteration 0.\n",
      "[I 2025-08-09 18:13:29,351] Trial 54 pruned. Trial was pruned at iteration 0.\n",
      "[I 2025-08-09 18:13:29,429] Trial 55 pruned. Trial was pruned at iteration 0.\n",
      "[I 2025-08-09 18:13:32,391] Trial 56 finished with value: 17.670085589090984 and parameters: {'max_bin': 203, 'eta': 0.19104178850132528, 'max_depth': 4, 'min_child_weight': 3, 'subsample': 0.8960520969838629, 'colsample_bytree': 0.8109662324794745, 'reg_lambda': 7.258972588440813e-05, 'reg_alpha': 0.2697210466912541, 'alpha': 1.761207205014239}. Best is trial 17 with value: 16.009597142537434.\n",
      "[I 2025-08-09 18:13:32,467] Trial 57 pruned. Trial was pruned at iteration 0.\n",
      "[I 2025-08-09 18:13:32,540] Trial 58 pruned. Trial was pruned at iteration 0.\n",
      "[I 2025-08-09 18:13:32,609] Trial 59 pruned. Trial was pruned at iteration 0.\n",
      "[I 2025-08-09 18:13:32,696] A new study created in memory with name: no-name-7c2ab0b1-0569-44bb-af3d-76512a289d28\n"
     ]
    },
    {
     "name": "stdout",
     "output_type": "stream",
     "text": [
      "==> Best SMAPE for Other Buildings: 16.0096\n",
      "==> Best Params: {'max_bin': 259, 'eta': 0.19623577555050906, 'max_depth': 3, 'min_child_weight': 1, 'subsample': 0.7143053950399415, 'colsample_bytree': 0.7925780791217174, 'reg_lambda': 0.001561623950572243, 'reg_alpha': 0.028512163063564494, 'alpha': 0.7638670031286156}\n",
      "\n",
      "================ HPO for Building Type: Apartment ================\n",
      "\n"
     ]
    },
    {
     "name": "stderr",
     "output_type": "stream",
     "text": [
      "[I 2025-08-09 18:13:44,453] Trial 0 finished with value: 41.30334075291952 and parameters: {'max_bin': 262, 'eta': 0.1, 'max_depth': 6, 'min_child_weight': 2, 'subsample': 0.8, 'colsample_bytree': 0.8, 'reg_lambda': 1.0, 'reg_alpha': 1e-08, 'alpha': 1.0}. Best is trial 0 with value: 41.30334075291952.\n",
      "[I 2025-08-09 18:13:56,447] Trial 1 finished with value: 50.967657248179115 and parameters: {'max_bin': 286, 'eta': 0.08651149251496842, 'max_depth': 6, 'min_child_weight': 8, 'subsample': 0.8665354049744429, 'colsample_bytree': 0.6894585766671583, 'reg_lambda': 1.213309122931048e-08, 'reg_alpha': 5.974984260756972e-07, 'alpha': 0.7655279446083251}. Best is trial 0 with value: 41.30334075291952.\n",
      "[I 2025-08-09 18:14:21,040] Trial 2 finished with value: 46.10870901743571 and parameters: {'max_bin': 274, 'eta': 0.01966376321112241, 'max_depth': 6, 'min_child_weight': 6, 'subsample': 0.6425597172769153, 'colsample_bytree': 0.7379992065694541, 'reg_lambda': 0.0013423150187477299, 'reg_alpha': 1.7062119223247188e-05, 'alpha': 1.7865994998062757}. Best is trial 0 with value: 41.30334075291952.\n",
      "[I 2025-08-09 18:14:32,379] Trial 3 finished with value: 52.671319325764976 and parameters: {'max_bin': 384, 'eta': 0.121503685446415, 'max_depth': 3, 'min_child_weight': 8, 'subsample': 0.9663429275010654, 'colsample_bytree': 0.6877380331712566, 'reg_lambda': 8.804377729120931, 'reg_alpha': 3.786734226077028e-08, 'alpha': 1.1114494063479947}. Best is trial 0 with value: 41.30334075291952.\n",
      "[I 2025-08-09 18:14:45,927] Trial 4 finished with value: 50.89454889297485 and parameters: {'max_bin': 290, 'eta': 0.08580151428530546, 'max_depth': 5, 'min_child_weight': 9, 'subsample': 0.9955234340523832, 'colsample_bytree': 0.6785097451663897, 'reg_lambda': 0.2046369287706668, 'reg_alpha': 5.031092730678462e-08, 'alpha': 0.9176574536717684}. Best is trial 0 with value: 41.30334075291952.\n",
      "[I 2025-08-09 18:15:20,870] Trial 5 finished with value: 52.299710273742676 and parameters: {'max_bin': 314, 'eta': 0.011926322172969952, 'max_depth': 4, 'min_child_weight': 11, 'subsample': 0.7100615432594244, 'colsample_bytree': 0.6410642072140348, 'reg_lambda': 0.16468063133440444, 'reg_alpha': 1.2800653491252972e-05, 'alpha': 0.7723706954239506}. Best is trial 0 with value: 41.30334075291952.\n",
      "[I 2025-08-09 18:16:10,679] Trial 6 finished with value: 53.221470514933266 and parameters: {'max_bin': 360, 'eta': 0.016527452516955865, 'max_depth': 3, 'min_child_weight': 8, 'subsample': 0.785845013130583, 'colsample_bytree': 0.8028520071628242, 'reg_lambda': 0.04971128147932437, 'reg_alpha': 0.9063381097685957, 'alpha': 1.2282146624811794}. Best is trial 0 with value: 41.30334075291952.\n",
      "[I 2025-08-09 18:16:17,265] Trial 7 finished with value: 49.952269554138184 and parameters: {'max_bin': 315, 'eta': 0.07073153878222191, 'max_depth': 4, 'min_child_weight': 5, 'subsample': 0.6536041006587847, 'colsample_bytree': 0.7272695902139176, 'reg_lambda': 0.6504568433307761, 'reg_alpha': 0.00012583211312383326, 'alpha': 1.9394379857500983}. Best is trial 0 with value: 41.30334075291952.\n",
      "[I 2025-08-09 18:16:35,158] Trial 8 finished with value: 44.60214074452718 and parameters: {'max_bin': 325, 'eta': 0.0345708981361723, 'max_depth': 6, 'min_child_weight': 12, 'subsample': 0.7770313098364654, 'colsample_bytree': 0.9039624383449485, 'reg_lambda': 0.04843008887060052, 'reg_alpha': 0.3101224090763921, 'alpha': 1.4487084178988394}. Best is trial 0 with value: 41.30334075291952.\n",
      "[I 2025-08-09 18:16:46,704] Trial 9 finished with value: 42.680774529774986 and parameters: {'max_bin': 255, 'eta': 0.08160809825053282, 'max_depth': 9, 'min_child_weight': 9, 'subsample': 0.7064071346508959, 'colsample_bytree': 0.9097897627218781, 'reg_lambda': 2.2959634014673846e-05, 'reg_alpha': 0.06291909671350869, 'alpha': 1.3359012644918031}. Best is trial 0 with value: 41.30334075291952.\n",
      "[I 2025-08-09 18:16:47,644] Trial 10 pruned. Trial was pruned at iteration 117.\n",
      "[I 2025-08-09 18:16:47,711] Trial 11 pruned. Trial was pruned at iteration 0.\n",
      "[I 2025-08-09 18:16:47,831] Trial 12 pruned. Trial was pruned at iteration 5.\n",
      "[I 2025-08-09 18:16:47,918] Trial 13 pruned. Trial was pruned at iteration 6.\n",
      "[I 2025-08-09 18:16:48,053] Trial 14 pruned. Trial was pruned at iteration 7.\n",
      "[I 2025-08-09 18:16:48,135] Trial 15 pruned. Trial was pruned at iteration 0.\n",
      "[I 2025-08-09 18:16:48,264] Trial 16 pruned. Trial was pruned at iteration 7.\n",
      "[I 2025-08-09 18:16:48,410] Trial 17 pruned. Trial was pruned at iteration 7.\n",
      "[I 2025-08-09 18:16:48,487] Trial 18 pruned. Trial was pruned at iteration 0.\n",
      "[I 2025-08-09 18:16:48,562] Trial 19 pruned. Trial was pruned at iteration 0.\n",
      "[I 2025-08-09 18:16:48,631] Trial 20 pruned. Trial was pruned at iteration 0.\n",
      "[I 2025-08-09 18:16:48,701] Trial 21 pruned. Trial was pruned at iteration 0.\n",
      "[I 2025-08-09 18:16:48,829] Trial 22 pruned. Trial was pruned at iteration 5.\n",
      "[I 2025-08-09 18:16:48,962] Trial 23 pruned. Trial was pruned at iteration 7.\n",
      "[I 2025-08-09 18:16:49,094] Trial 24 pruned. Trial was pruned at iteration 7.\n",
      "[I 2025-08-09 18:16:49,164] Trial 25 pruned. Trial was pruned at iteration 0.\n",
      "[I 2025-08-09 18:16:49,234] Trial 26 pruned. Trial was pruned at iteration 0.\n",
      "[I 2025-08-09 18:16:49,390] Trial 27 pruned. Trial was pruned at iteration 7.\n",
      "[I 2025-08-09 18:16:49,456] Trial 28 pruned. Trial was pruned at iteration 0.\n",
      "[I 2025-08-09 18:16:49,694] Trial 29 pruned. Trial was pruned at iteration 7.\n",
      "[I 2025-08-09 18:16:49,779] Trial 30 pruned. Trial was pruned at iteration 0.\n",
      "[I 2025-08-09 18:16:49,849] Trial 31 pruned. Trial was pruned at iteration 0.\n",
      "[I 2025-08-09 18:16:49,924] Trial 32 pruned. Trial was pruned at iteration 0.\n",
      "[I 2025-08-09 18:16:50,040] Trial 33 pruned. Trial was pruned at iteration 7.\n",
      "[I 2025-08-09 18:16:50,117] Trial 34 pruned. Trial was pruned at iteration 0.\n",
      "[I 2025-08-09 18:16:50,241] Trial 35 pruned. Trial was pruned at iteration 7.\n",
      "[I 2025-08-09 18:16:50,308] Trial 36 pruned. Trial was pruned at iteration 0.\n",
      "[I 2025-08-09 18:16:50,374] Trial 37 pruned. Trial was pruned at iteration 0.\n",
      "[I 2025-08-09 18:16:50,512] Trial 38 pruned. Trial was pruned at iteration 7.\n",
      "[I 2025-08-09 18:16:50,647] Trial 39 pruned. Trial was pruned at iteration 5.\n",
      "[I 2025-08-09 18:16:50,740] Trial 40 pruned. Trial was pruned at iteration 5.\n",
      "[I 2025-08-09 18:16:58,801] Trial 41 finished with value: 48.806424140930176 and parameters: {'max_bin': 337, 'eta': 0.09183288130442475, 'max_depth': 4, 'min_child_weight': 5, 'subsample': 0.6237900983872625, 'colsample_bytree': 0.7562648607125532, 'reg_lambda': 5.581295289001249, 'reg_alpha': 0.0013896933230483988, 'alpha': 1.6250646471630112}. Best is trial 0 with value: 41.30334075291952.\n",
      "[I 2025-08-09 18:16:58,870] Trial 42 pruned. Trial was pruned at iteration 0.\n",
      "[I 2025-08-09 18:16:58,993] Trial 43 pruned. Trial was pruned at iteration 6.\n",
      "[I 2025-08-09 18:16:59,060] Trial 44 pruned. Trial was pruned at iteration 0.\n",
      "[I 2025-08-09 18:16:59,170] Trial 45 pruned. Trial was pruned at iteration 6.\n",
      "[I 2025-08-09 18:16:59,271] Trial 46 pruned. Trial was pruned at iteration 6.\n",
      "[I 2025-08-09 18:16:59,338] Trial 47 pruned. Trial was pruned at iteration 0.\n",
      "[I 2025-08-09 18:16:59,455] Trial 48 pruned. Trial was pruned at iteration 7.\n",
      "[I 2025-08-09 18:16:59,571] Trial 49 pruned. Trial was pruned at iteration 6.\n",
      "[I 2025-08-09 18:16:59,657] Trial 50 pruned. Trial was pruned at iteration 0.\n",
      "[I 2025-08-09 18:16:59,729] Trial 51 pruned. Trial was pruned at iteration 0.\n",
      "[I 2025-08-09 18:16:59,804] Trial 52 pruned. Trial was pruned at iteration 0.\n",
      "[I 2025-08-09 18:16:59,925] Trial 53 pruned. Trial was pruned at iteration 6.\n",
      "[I 2025-08-09 18:17:00,181] Trial 54 pruned. Trial was pruned at iteration 6.\n",
      "[I 2025-08-09 18:17:00,289] Trial 55 pruned. Trial was pruned at iteration 7.\n",
      "[I 2025-08-09 18:17:00,359] Trial 56 pruned. Trial was pruned at iteration 0.\n",
      "[I 2025-08-09 18:17:00,459] Trial 57 pruned. Trial was pruned at iteration 6.\n",
      "[I 2025-08-09 18:17:00,572] Trial 58 pruned. Trial was pruned at iteration 6.\n",
      "[I 2025-08-09 18:17:00,665] Trial 59 pruned. Trial was pruned at iteration 5.\n",
      "[I 2025-08-09 18:17:00,768] A new study created in memory with name: no-name-6f00e638-be97-4495-851d-f017d8eccd3e\n"
     ]
    },
    {
     "name": "stdout",
     "output_type": "stream",
     "text": [
      "==> Best SMAPE for Apartment: 41.3033\n",
      "==> Best Params: {'max_bin': 262, 'eta': 0.1, 'max_depth': 6, 'min_child_weight': 2, 'subsample': 0.8, 'colsample_bytree': 0.8, 'reg_lambda': 1.0, 'reg_alpha': 1e-08, 'alpha': 1.0}\n",
      "\n",
      "================ HPO for Building Type: Research Institute ================\n",
      "\n"
     ]
    },
    {
     "name": "stderr",
     "output_type": "stream",
     "text": [
      "[I 2025-08-09 18:17:04,026] Trial 0 finished with value: 11.710269610087076 and parameters: {'max_bin': 197, 'eta': 0.1, 'max_depth': 6, 'min_child_weight': 2, 'subsample': 0.8, 'colsample_bytree': 0.8, 'reg_lambda': 1.0, 'reg_alpha': 1e-08, 'alpha': 1.0}. Best is trial 0 with value: 11.710269610087076.\n",
      "[I 2025-08-09 18:17:14,255] Trial 1 finished with value: 13.11950429280599 and parameters: {'max_bin': 341, 'eta': 0.06680777450210224, 'max_depth': 8, 'min_child_weight': 12, 'subsample': 0.9565329029579748, 'colsample_bytree': 0.6784669870512953, 'reg_lambda': 5.309829198802215e-05, 'reg_alpha': 1.6808446368240206, 'alpha': 0.7224129217346342}. Best is trial 0 with value: 11.710269610087076.\n",
      "[I 2025-08-09 18:17:24,497] Trial 2 finished with value: 13.343258221944174 and parameters: {'max_bin': 321, 'eta': 0.047197938498129734, 'max_depth': 8, 'min_child_weight': 5, 'subsample': 0.8685241635354101, 'colsample_bytree': 0.695963266465626, 'reg_lambda': 0.0032600506872322516, 'reg_alpha': 0.00013444076729795043, 'alpha': 0.806942175414421}. Best is trial 0 with value: 11.710269610087076.\n",
      "[I 2025-08-09 18:17:28,151] Trial 3 finished with value: 12.53697141011556 and parameters: {'max_bin': 238, 'eta': 0.09866301860986137, 'max_depth': 7, 'min_child_weight': 2, 'subsample': 0.6534981294523537, 'colsample_bytree': 0.6504961798571993, 'reg_lambda': 0.22478205465520984, 'reg_alpha': 5.622243854876643, 'alpha': 1.4954096357082012}. Best is trial 0 with value: 11.710269610087076.\n",
      "[I 2025-08-09 18:17:44,562] Trial 4 finished with value: 11.326677322387695 and parameters: {'max_bin': 281, 'eta': 0.01063223158682203, 'max_depth': 3, 'min_child_weight': 5, 'subsample': 0.7598795847569368, 'colsample_bytree': 0.8708588995907434, 'reg_lambda': 4.027850843418245, 'reg_alpha': 0.04499124727886723, 'alpha': 1.0900811267901944}. Best is trial 4 with value: 11.326677322387695.\n",
      "[I 2025-08-09 18:17:51,023] Trial 5 finished with value: 10.850461959838867 and parameters: {'max_bin': 298, 'eta': 0.0239256695044659, 'max_depth': 5, 'min_child_weight': 1, 'subsample': 0.6608077645425249, 'colsample_bytree': 0.8718267307133304, 'reg_lambda': 2.731121312413786, 'reg_alpha': 6.304545076584099, 'alpha': 1.9092762398382863}. Best is trial 5 with value: 10.850461959838867.\n",
      "[I 2025-08-09 18:17:56,413] Trial 6 finished with value: 10.866198221842447 and parameters: {'max_bin': 231, 'eta': 0.07438994318987756, 'max_depth': 9, 'min_child_weight': 9, 'subsample': 0.6722144504809896, 'colsample_bytree': 0.997956032685031, 'reg_lambda': 0.00023627257622139597, 'reg_alpha': 0.4336647476085444, 'alpha': 0.9843005146079471}. Best is trial 5 with value: 10.850461959838867.\n",
      "[I 2025-08-09 18:18:12,443] Trial 7 finished with value: 10.840972582499186 and parameters: {'max_bin': 361, 'eta': 0.018491389296802777, 'max_depth': 10, 'min_child_weight': 11, 'subsample': 0.6034102965366989, 'colsample_bytree': 0.9323152706787579, 'reg_lambda': 0.11060250318055444, 'reg_alpha': 0.032799638474242346, 'alpha': 0.7180710155378451}. Best is trial 7 with value: 10.840972582499186.\n",
      "[I 2025-08-09 18:18:16,137] Trial 8 finished with value: 11.058595180511475 and parameters: {'max_bin': 248, 'eta': 0.06829137164928777, 'max_depth': 3, 'min_child_weight': 6, 'subsample': 0.9714799348354576, 'colsample_bytree': 0.8347212683787615, 'reg_lambda': 3.321686754102958e-07, 'reg_alpha': 2.3806123712632864e-08, 'alpha': 1.7487954578114606}. Best is trial 7 with value: 10.840972582499186.\n",
      "[I 2025-08-09 18:18:20,577] Trial 9 finished with value: 11.143147468566895 and parameters: {'max_bin': 249, 'eta': 0.05033553113514487, 'max_depth': 4, 'min_child_weight': 6, 'subsample': 0.6520958483069799, 'colsample_bytree': 0.8938831149034074, 'reg_lambda': 4.745302820986101e-06, 'reg_alpha': 1.075502077109754, 'alpha': 1.3131280361823328}. Best is trial 7 with value: 10.840972582499186.\n",
      "[I 2025-08-09 18:18:20,676] Trial 10 pruned. Trial was pruned at iteration 0.\n",
      "[I 2025-08-09 18:18:20,748] Trial 11 pruned. Trial was pruned at iteration 0.\n",
      "[I 2025-08-09 18:18:20,817] Trial 12 pruned. Trial was pruned at iteration 0.\n",
      "[I 2025-08-09 18:18:20,883] Trial 13 pruned. Trial was pruned at iteration 0.\n",
      "[I 2025-08-09 18:18:20,960] Trial 14 pruned. Trial was pruned at iteration 0.\n",
      "[I 2025-08-09 18:18:21,029] Trial 15 pruned. Trial was pruned at iteration 0.\n",
      "[I 2025-08-09 18:18:21,098] Trial 16 pruned. Trial was pruned at iteration 0.\n",
      "[I 2025-08-09 18:18:22,486] Trial 17 pruned. Trial was pruned at iteration 136.\n",
      "[I 2025-08-09 18:18:22,546] Trial 18 pruned. Trial was pruned at iteration 0.\n",
      "[I 2025-08-09 18:18:22,609] Trial 19 pruned. Trial was pruned at iteration 0.\n",
      "[I 2025-08-09 18:18:22,677] Trial 20 pruned. Trial was pruned at iteration 0.\n",
      "[I 2025-08-09 18:18:27,815] Trial 21 finished with value: 10.889636039733887 and parameters: {'max_bin': 199, 'eta': 0.09233789953341613, 'max_depth': 9, 'min_child_weight': 9, 'subsample': 0.7173022797974299, 'colsample_bytree': 0.9634332932129256, 'reg_lambda': 9.350242029293839e-05, 'reg_alpha': 0.6466828416318862, 'alpha': 0.7481866539678305}. Best is trial 7 with value: 10.840972582499186.\n",
      "[I 2025-08-09 18:18:32,536] Trial 22 finished with value: 11.393579483032227 and parameters: {'max_bin': 279, 'eta': 0.12219066966562132, 'max_depth': 9, 'min_child_weight': 10, 'subsample': 0.7642090492995394, 'colsample_bytree': 0.9089280116245586, 'reg_lambda': 0.0002894058539739292, 'reg_alpha': 0.2634124411845865, 'alpha': 1.4551476047783303}. Best is trial 7 with value: 10.840972582499186.\n",
      "[I 2025-08-09 18:18:33,914] Trial 23 pruned. Trial was pruned at iteration 137.\n",
      "[I 2025-08-09 18:18:33,977] Trial 24 pruned. Trial was pruned at iteration 0.\n",
      "[I 2025-08-09 18:18:34,039] Trial 25 pruned. Trial was pruned at iteration 0.\n",
      "[I 2025-08-09 18:18:37,677] Trial 26 finished with value: 10.732135772705078 and parameters: {'max_bin': 302, 'eta': 0.10703503153932326, 'max_depth': 7, 'min_child_weight': 10, 'subsample': 0.6157890755056706, 'colsample_bytree': 0.9842759423688883, 'reg_lambda': 0.00029459691807948683, 'reg_alpha': 0.00017884474733095208, 'alpha': 1.1880985107058144}. Best is trial 26 with value: 10.732135772705078.\n",
      "[I 2025-08-09 18:18:41,507] Trial 27 finished with value: 11.078238487243652 and parameters: {'max_bin': 315, 'eta': 0.1967762087466134, 'max_depth': 9, 'min_child_weight': 11, 'subsample': 0.6487352300071204, 'colsample_bytree': 0.9342793473704409, 'reg_lambda': 0.007478427654065055, 'reg_alpha': 1.2183146490229325e-05, 'alpha': 1.365159606512813}. Best is trial 26 with value: 10.732135772705078.\n",
      "[I 2025-08-09 18:18:42,410] Trial 28 pruned. Trial was pruned at iteration 125.\n",
      "[I 2025-08-09 18:18:42,475] Trial 29 pruned. Trial was pruned at iteration 0.\n",
      "[I 2025-08-09 18:18:45,775] Trial 30 finished with value: 10.510706583658854 and parameters: {'max_bin': 361, 'eta': 0.12492114970935476, 'max_depth': 6, 'min_child_weight': 9, 'subsample': 0.607584076081988, 'colsample_bytree': 0.9463482986409826, 'reg_lambda': 0.015683869774667184, 'reg_alpha': 0.007455931315826427, 'alpha': 1.1757136650412316}. Best is trial 30 with value: 10.510706583658854.\n",
      "[I 2025-08-09 18:18:48,846] Trial 31 finished with value: 10.852602322896322 and parameters: {'max_bin': 384, 'eta': 0.19508271435451816, 'max_depth': 6, 'min_child_weight': 7, 'subsample': 0.7096160157070884, 'colsample_bytree': 0.9994703468149647, 'reg_lambda': 0.016065880065616028, 'reg_alpha': 0.00844515068431049, 'alpha': 1.1807151862821694}. Best is trial 30 with value: 10.510706583658854.\n",
      "[I 2025-08-09 18:18:48,910] Trial 32 pruned. Trial was pruned at iteration 0.\n",
      "[I 2025-08-09 18:18:51,820] Trial 33 finished with value: 10.592816034952799 and parameters: {'max_bin': 318, 'eta': 0.14546462567166948, 'max_depth': 5, 'min_child_weight': 11, 'subsample': 0.6062899483829043, 'colsample_bytree': 0.9547606286101361, 'reg_lambda': 1.1082065191581625e-05, 'reg_alpha': 0.0001351672841801437, 'alpha': 0.830584706932028}. Best is trial 30 with value: 10.510706583658854.\n",
      "[I 2025-08-09 18:18:55,440] Trial 34 finished with value: 11.195204734802246 and parameters: {'max_bin': 324, 'eta': 0.10026456557948225, 'max_depth': 6, 'min_child_weight': 9, 'subsample': 0.6724363162188778, 'colsample_bytree': 0.9065437346002938, 'reg_lambda': 4.486465880839418e-05, 'reg_alpha': 2.3663286023029188e-06, 'alpha': 0.7727858676473904}. Best is trial 30 with value: 10.510706583658854.\n",
      "[I 2025-08-09 18:18:58,808] Trial 35 finished with value: 10.614647388458252 and parameters: {'max_bin': 378, 'eta': 0.09737341201761412, 'max_depth': 4, 'min_child_weight': 10, 'subsample': 0.610267804557232, 'colsample_bytree': 0.9669516781665334, 'reg_lambda': 2.0804390834271625e-06, 'reg_alpha': 0.0009462337060251964, 'alpha': 0.9044335038097114}. Best is trial 30 with value: 10.510706583658854.\n",
      "[I 2025-08-09 18:18:58,874] Trial 36 pruned. Trial was pruned at iteration 0.\n",
      "[I 2025-08-09 18:19:00,557] Trial 37 pruned. Trial was pruned at iteration 128.\n",
      "[I 2025-08-09 18:19:00,630] Trial 38 pruned. Trial was pruned at iteration 0.\n",
      "[I 2025-08-09 18:19:00,694] Trial 39 pruned. Trial was pruned at iteration 0.\n",
      "[I 2025-08-09 18:19:00,756] Trial 40 pruned. Trial was pruned at iteration 0.\n",
      "[I 2025-08-09 18:19:03,300] Trial 41 pruned. Trial was pruned at iteration 145.\n",
      "[I 2025-08-09 18:19:03,372] Trial 42 pruned. Trial was pruned at iteration 0.\n",
      "[I 2025-08-09 18:19:06,064] Trial 43 finished with value: 11.057875633239746 and parameters: {'max_bin': 306, 'eta': 0.18494362586982382, 'max_depth': 5, 'min_child_weight': 12, 'subsample': 0.6126014415504443, 'colsample_bytree': 0.9523014558166558, 'reg_lambda': 5.181573929986519e-05, 'reg_alpha': 2.877933278711129e-06, 'alpha': 0.5749981590847194}. Best is trial 30 with value: 10.510706583658854.\n",
      "[I 2025-08-09 18:19:07,877] Trial 44 pruned. Trial was pruned at iteration 137.\n",
      "[I 2025-08-09 18:19:07,948] Trial 45 pruned. Trial was pruned at iteration 0.\n",
      "[I 2025-08-09 18:19:08,026] Trial 46 pruned. Trial was pruned at iteration 0.\n",
      "[I 2025-08-09 18:19:08,096] Trial 47 pruned. Trial was pruned at iteration 0.\n",
      "[I 2025-08-09 18:19:08,163] Trial 48 pruned. Trial was pruned at iteration 0.\n",
      "[I 2025-08-09 18:19:08,233] Trial 49 pruned. Trial was pruned at iteration 0.\n",
      "[I 2025-08-09 18:19:09,199] Trial 50 pruned. Trial was pruned at iteration 128.\n",
      "[I 2025-08-09 18:19:09,272] Trial 51 pruned. Trial was pruned at iteration 0.\n",
      "[I 2025-08-09 18:19:09,452] Trial 52 pruned. Trial was pruned at iteration 24.\n",
      "[I 2025-08-09 18:19:09,530] Trial 53 pruned. Trial was pruned at iteration 0.\n",
      "[I 2025-08-09 18:19:12,938] Trial 54 finished with value: 11.044939041137695 and parameters: {'max_bin': 301, 'eta': 0.17319744367871065, 'max_depth': 7, 'min_child_weight': 9, 'subsample': 0.6199924176916363, 'colsample_bytree': 0.9548981855077776, 'reg_lambda': 0.007149494139263687, 'reg_alpha': 0.00020884780665074158, 'alpha': 0.9889046359629624}. Best is trial 30 with value: 10.510706583658854.\n",
      "[I 2025-08-09 18:19:13,004] Trial 55 pruned. Trial was pruned at iteration 0.\n",
      "[I 2025-08-09 18:19:13,071] Trial 56 pruned. Trial was pruned at iteration 0.\n",
      "[I 2025-08-09 18:19:13,715] Trial 57 pruned. Trial was pruned at iteration 121.\n",
      "[I 2025-08-09 18:19:13,783] Trial 58 pruned. Trial was pruned at iteration 0.\n",
      "[I 2025-08-09 18:19:13,851] Trial 59 pruned. Trial was pruned at iteration 0.\n",
      "[I 2025-08-09 18:19:13,992] A new study created in memory with name: no-name-1d0f4af4-45d2-4c7c-a3b8-f0244ffcf82d\n"
     ]
    },
    {
     "name": "stdout",
     "output_type": "stream",
     "text": [
      "==> Best SMAPE for Research Institute: 10.5107\n",
      "==> Best Params: {'max_bin': 361, 'eta': 0.12492114970935476, 'max_depth': 6, 'min_child_weight': 9, 'subsample': 0.607584076081988, 'colsample_bytree': 0.9463482986409826, 'reg_lambda': 0.015683869774667184, 'reg_alpha': 0.007455931315826427, 'alpha': 1.1757136650412316}\n",
      "\n",
      "================ HPO for Building Type: 백화점 ================\n",
      "\n"
     ]
    },
    {
     "name": "stderr",
     "output_type": "stream",
     "text": [
      "[I 2025-08-09 18:19:19,998] Trial 0 finished with value: 19.560065905253094 and parameters: {'max_bin': 316, 'eta': 0.1, 'max_depth': 6, 'min_child_weight': 2, 'subsample': 0.8, 'colsample_bytree': 0.8, 'reg_lambda': 1.0, 'reg_alpha': 1e-08, 'alpha': 1.0}. Best is trial 0 with value: 19.560065905253094.\n",
      "[I 2025-08-09 18:19:31,104] Trial 1 finished with value: 20.342753092447918 and parameters: {'max_bin': 235, 'eta': 0.06813765647577352, 'max_depth': 3, 'min_child_weight': 8, 'subsample': 0.6962039684747969, 'colsample_bytree': 0.6640158380051011, 'reg_lambda': 0.15762949535188023, 'reg_alpha': 0.06503556411229038, 'alpha': 1.7791102072308056}. Best is trial 0 with value: 19.560065905253094.\n",
      "[I 2025-08-09 18:19:45,710] Trial 2 finished with value: 20.53476079305013 and parameters: {'max_bin': 313, 'eta': 0.04170503711525434, 'max_depth': 3, 'min_child_weight': 4, 'subsample': 0.6723523906544641, 'colsample_bytree': 0.7231774737532001, 'reg_lambda': 2.740394278632557e-07, 'reg_alpha': 0.0048735258884032686, 'alpha': 0.6916870320217658}. Best is trial 0 with value: 19.560065905253094.\n",
      "[I 2025-08-09 18:19:55,029] Trial 3 finished with value: 19.162351449330647 and parameters: {'max_bin': 378, 'eta': 0.03182785648700658, 'max_depth': 5, 'min_child_weight': 7, 'subsample': 0.9169585117547954, 'colsample_bytree': 0.8874274468119738, 'reg_lambda': 0.25297730418950276, 'reg_alpha': 0.003467630562387322, 'alpha': 1.8995740958344745}. Best is trial 3 with value: 19.162351449330647.\n",
      "[I 2025-08-09 18:20:06,594] Trial 4 finished with value: 20.70496718088786 and parameters: {'max_bin': 248, 'eta': 0.06148320459425332, 'max_depth': 5, 'min_child_weight': 5, 'subsample': 0.9225615590375553, 'colsample_bytree': 0.6554967297652581, 'reg_lambda': 0.0002736091201094066, 'reg_alpha': 1.0959290038659142e-06, 'alpha': 1.1519844729745154}. Best is trial 3 with value: 19.162351449330647.\n",
      "[I 2025-08-09 18:20:25,961] Trial 5 finished with value: 20.10521634419759 and parameters: {'max_bin': 266, 'eta': 0.05738995917824456, 'max_depth': 3, 'min_child_weight': 3, 'subsample': 0.9194107697717202, 'colsample_bytree': 0.7224207089280638, 'reg_lambda': 7.20687615359875, 'reg_alpha': 2.7354091025200905e-07, 'alpha': 1.3757017706818024}. Best is trial 3 with value: 19.162351449330647.\n",
      "[I 2025-08-09 18:20:38,579] Trial 6 finished with value: 19.562845547993977 and parameters: {'max_bin': 333, 'eta': 0.06094187509241724, 'max_depth': 4, 'min_child_weight': 5, 'subsample': 0.8988897157057247, 'colsample_bytree': 0.8038825084116337, 'reg_lambda': 0.03411187996329783, 'reg_alpha': 0.45017807553078565, 'alpha': 1.2003129300907225}. Best is trial 3 with value: 19.162351449330647.\n",
      "[I 2025-08-09 18:20:50,957] Trial 7 finished with value: 20.02047570546468 and parameters: {'max_bin': 380, 'eta': 0.09560197285917248, 'max_depth': 3, 'min_child_weight': 11, 'subsample': 0.7751502872788238, 'colsample_bytree': 0.6245589130308832, 'reg_lambda': 0.014912199127271654, 'reg_alpha': 0.03475192321959809, 'alpha': 1.369855196796689}. Best is trial 3 with value: 19.162351449330647.\n",
      "[I 2025-08-09 18:21:27,798] Trial 8 finished with value: 19.252930959065754 and parameters: {'max_bin': 255, 'eta': 0.011689488145928654, 'max_depth': 3, 'min_child_weight': 12, 'subsample': 0.82305886841273, 'colsample_bytree': 0.9249655655620383, 'reg_lambda': 8.468501034522787e-05, 'reg_alpha': 6.637607508724208e-05, 'alpha': 1.1345177554735746}. Best is trial 3 with value: 19.162351449330647.\n",
      "[I 2025-08-09 18:21:34,122] Trial 9 finished with value: 19.582058270772297 and parameters: {'max_bin': 357, 'eta': 0.1644564702623303, 'max_depth': 10, 'min_child_weight': 4, 'subsample': 0.9927219565817801, 'colsample_bytree': 0.9351474891126257, 'reg_lambda': 0.002199425838030853, 'reg_alpha': 0.0002338485118445195, 'alpha': 0.9891992630415032}. Best is trial 3 with value: 19.162351449330647.\n",
      "[I 2025-08-09 18:21:34,190] Trial 10 pruned. Trial was pruned at iteration 0.\n",
      "[I 2025-08-09 18:21:34,260] Trial 11 pruned. Trial was pruned at iteration 0.\n",
      "[I 2025-08-09 18:21:34,337] Trial 12 pruned. Trial was pruned at iteration 0.\n",
      "[I 2025-08-09 18:21:34,414] Trial 13 pruned. Trial was pruned at iteration 0.\n",
      "[I 2025-08-09 18:21:34,483] Trial 14 pruned. Trial was pruned at iteration 0.\n",
      "[I 2025-08-09 18:21:34,554] Trial 15 pruned. Trial was pruned at iteration 0.\n",
      "[I 2025-08-09 18:21:34,622] Trial 16 pruned. Trial was pruned at iteration 0.\n",
      "[I 2025-08-09 18:21:34,695] Trial 17 pruned. Trial was pruned at iteration 0.\n",
      "[I 2025-08-09 18:21:34,767] Trial 18 pruned. Trial was pruned at iteration 0.\n",
      "[I 2025-08-09 18:21:34,835] Trial 19 pruned. Trial was pruned at iteration 0.\n",
      "[I 2025-08-09 18:21:34,901] Trial 20 pruned. Trial was pruned at iteration 0.\n",
      "[I 2025-08-09 18:21:41,430] Trial 21 finished with value: 19.40976556142171 and parameters: {'max_bin': 342, 'eta': 0.16357448488457357, 'max_depth': 5, 'min_child_weight': 2, 'subsample': 0.8324622662541481, 'colsample_bytree': 0.7283623670528425, 'reg_lambda': 1.8549275895300963, 'reg_alpha': 1.507857579471554e-08, 'alpha': 0.9183135751482456}. Best is trial 3 with value: 19.162351449330647.\n",
      "[I 2025-08-09 18:21:44,065] Trial 22 pruned. Trial was pruned at iteration 422.\n",
      "[I 2025-08-09 18:21:44,139] Trial 23 pruned. Trial was pruned at iteration 0.\n",
      "[I 2025-08-09 18:21:49,837] Trial 24 finished with value: 19.39455795288086 and parameters: {'max_bin': 363, 'eta': 0.181379905585441, 'max_depth': 3, 'min_child_weight': 6, 'subsample': 0.777219792133173, 'colsample_bytree': 0.7510968567334377, 'reg_lambda': 0.44034240484453624, 'reg_alpha': 1.2720400522342111e-08, 'alpha': 0.830417279918864}. Best is trial 3 with value: 19.162351449330647.\n",
      "[I 2025-08-09 18:21:55,399] Trial 25 finished with value: 19.39465045928955 and parameters: {'max_bin': 380, 'eta': 0.18633175260732457, 'max_depth': 4, 'min_child_weight': 9, 'subsample': 0.7355175093373284, 'colsample_bytree': 0.7946016980375908, 'reg_lambda': 0.032379533915880894, 'reg_alpha': 9.958831216900435e-08, 'alpha': 0.7112893048787217}. Best is trial 3 with value: 19.162351449330647.\n",
      "[I 2025-08-09 18:21:55,478] Trial 26 pruned. Trial was pruned at iteration 0.\n",
      "[I 2025-08-09 18:21:58,092] Trial 27 pruned. Trial was pruned at iteration 417.\n",
      "[I 2025-08-09 18:22:04,088] Trial 28 finished with value: 18.902292887369793 and parameters: {'max_bin': 287, 'eta': 0.14988607162276127, 'max_depth': 3, 'min_child_weight': 6, 'subsample': 0.6077216582406645, 'colsample_bytree': 0.7965720414121662, 'reg_lambda': 0.0019209252711596737, 'reg_alpha': 2.7661862496391948e-08, 'alpha': 1.049032023590635}. Best is trial 28 with value: 18.902292887369793.\n",
      "[I 2025-08-09 18:22:05,054] Trial 29 pruned. Trial was pruned at iteration 136.\n",
      "[I 2025-08-09 18:22:05,125] Trial 30 pruned. Trial was pruned at iteration 0.\n",
      "[I 2025-08-09 18:22:05,201] Trial 31 pruned. Trial was pruned at iteration 0.\n",
      "[I 2025-08-09 18:22:07,644] Trial 32 pruned. Trial was pruned at iteration 417.\n",
      "[I 2025-08-09 18:22:07,713] Trial 33 pruned. Trial was pruned at iteration 0.\n",
      "[I 2025-08-09 18:22:07,788] Trial 34 pruned. Trial was pruned at iteration 0.\n",
      "[I 2025-08-09 18:22:12,053] Trial 35 finished with value: 19.067258834838867 and parameters: {'max_bin': 287, 'eta': 0.1349680490648237, 'max_depth': 3, 'min_child_weight': 7, 'subsample': 0.6283999468125663, 'colsample_bytree': 0.9094473434114019, 'reg_lambda': 0.00042443239198344, 'reg_alpha': 1.6858486741565014e-08, 'alpha': 1.2698332122276774}. Best is trial 28 with value: 18.902292887369793.\n",
      "[I 2025-08-09 18:22:12,125] Trial 36 pruned. Trial was pruned at iteration 0.\n",
      "[I 2025-08-09 18:22:12,196] Trial 37 pruned. Trial was pruned at iteration 0.\n",
      "[I 2025-08-09 18:22:19,011] Trial 38 finished with value: 19.20476722717285 and parameters: {'max_bin': 260, 'eta': 0.17254841940756482, 'max_depth': 3, 'min_child_weight': 9, 'subsample': 0.642680363542703, 'colsample_bytree': 0.914727091774941, 'reg_lambda': 0.0015704266396008666, 'reg_alpha': 1.16372726934545e-06, 'alpha': 1.0828846357949007}. Best is trial 28 with value: 18.902292887369793.\n",
      "[I 2025-08-09 18:22:23,281] Trial 39 finished with value: 19.094226837158203 and parameters: {'max_bin': 281, 'eta': 0.14694487969185493, 'max_depth': 4, 'min_child_weight': 7, 'subsample': 0.6854733119360071, 'colsample_bytree': 0.934080324797835, 'reg_lambda': 0.0008300522190252622, 'reg_alpha': 1.3663582639174767e-07, 'alpha': 1.2177977906225919}. Best is trial 28 with value: 18.902292887369793.\n",
      "[I 2025-08-09 18:22:26,999] Trial 40 finished with value: 19.160058816274006 and parameters: {'max_bin': 272, 'eta': 0.16514263029922344, 'max_depth': 5, 'min_child_weight': 5, 'subsample': 0.6678645759994067, 'colsample_bytree': 0.9541172036403116, 'reg_lambda': 0.003930146830681753, 'reg_alpha': 7.5201833682902e-08, 'alpha': 1.167968266485664}. Best is trial 28 with value: 18.902292887369793.\n",
      "[I 2025-08-09 18:22:27,079] Trial 41 pruned. Trial was pruned at iteration 0.\n",
      "[I 2025-08-09 18:22:31,601] Trial 42 finished with value: 19.035298029581707 and parameters: {'max_bin': 310, 'eta': 0.11770464003585236, 'max_depth': 6, 'min_child_weight': 7, 'subsample': 0.7506091604591458, 'colsample_bytree': 0.998268814590246, 'reg_lambda': 1.0725076840542838e-05, 'reg_alpha': 2.3094029999659626e-08, 'alpha': 1.071340024501561}. Best is trial 28 with value: 18.902292887369793.\n",
      "[I 2025-08-09 18:22:31,678] Trial 43 pruned. Trial was pruned at iteration 0.\n",
      "[I 2025-08-09 18:22:35,268] Trial 44 finished with value: 19.001773834228516 and parameters: {'max_bin': 350, 'eta': 0.17718631610729424, 'max_depth': 6, 'min_child_weight': 11, 'subsample': 0.6345025109296549, 'colsample_bytree': 0.9117534021975005, 'reg_lambda': 0.00016856905667244842, 'reg_alpha': 4.718705806899377e-08, 'alpha': 1.443708559823456}. Best is trial 28 with value: 18.902292887369793.\n",
      "[I 2025-08-09 18:22:35,346] Trial 45 pruned. Trial was pruned at iteration 0.\n",
      "[I 2025-08-09 18:22:35,428] Trial 46 pruned. Trial was pruned at iteration 0.\n",
      "[I 2025-08-09 18:22:35,873] Trial 47 pruned. Trial was pruned at iteration 42.\n",
      "[I 2025-08-09 18:22:40,634] Trial 48 finished with value: 19.36154079437256 and parameters: {'max_bin': 263, 'eta': 0.19886072445173678, 'max_depth': 3, 'min_child_weight': 5, 'subsample': 0.6168093270328088, 'colsample_bytree': 0.8364787958679705, 'reg_lambda': 0.4463125483998709, 'reg_alpha': 4.564479112366597e-08, 'alpha': 1.6139328291462074}. Best is trial 28 with value: 18.902292887369793.\n",
      "[I 2025-08-09 18:22:40,711] Trial 49 pruned. Trial was pruned at iteration 0.\n",
      "[I 2025-08-09 18:22:40,784] Trial 50 pruned. Trial was pruned at iteration 0.\n",
      "[I 2025-08-09 18:22:40,856] Trial 51 pruned. Trial was pruned at iteration 0.\n",
      "[I 2025-08-09 18:22:40,934] Trial 52 pruned. Trial was pruned at iteration 0.\n",
      "[I 2025-08-09 18:22:47,391] Trial 53 finished with value: 19.16608460744222 and parameters: {'max_bin': 303, 'eta': 0.1632426791342046, 'max_depth': 3, 'min_child_weight': 5, 'subsample': 0.6532038832104278, 'colsample_bytree': 0.9052618417516499, 'reg_lambda': 0.0008121924881366073, 'reg_alpha': 2.2786788227665674e-08, 'alpha': 1.0409596103368266}. Best is trial 28 with value: 18.902292887369793.\n",
      "[I 2025-08-09 18:22:51,132] Trial 54 finished with value: 18.891025066375732 and parameters: {'max_bin': 301, 'eta': 0.1492054771400693, 'max_depth': 4, 'min_child_weight': 6, 'subsample': 0.7138159179059449, 'colsample_bytree': 0.9917983254594225, 'reg_lambda': 1.8495437087985195e-05, 'reg_alpha': 0.006786032878493139, 'alpha': 0.9525559650466506}. Best is trial 54 with value: 18.891025066375732.\n",
      "[I 2025-08-09 18:22:51,306] Trial 55 pruned. Trial was pruned at iteration 16.\n",
      "[I 2025-08-09 18:22:56,021] Trial 56 finished with value: 19.153079668680828 and parameters: {'max_bin': 307, 'eta': 0.16068807884689074, 'max_depth': 5, 'min_child_weight': 7, 'subsample': 0.6813102922130828, 'colsample_bytree': 0.9197695396798508, 'reg_lambda': 0.005652475548775046, 'reg_alpha': 0.021527307591692597, 'alpha': 0.99527890213983}. Best is trial 54 with value: 18.891025066375732.\n",
      "[I 2025-08-09 18:22:56,095] Trial 57 pruned. Trial was pruned at iteration 0.\n",
      "[I 2025-08-09 18:22:56,169] Trial 58 pruned. Trial was pruned at iteration 0.\n",
      "[I 2025-08-09 18:22:56,249] Trial 59 pruned. Trial was pruned at iteration 0.\n",
      "[I 2025-08-09 18:22:56,335] A new study created in memory with name: no-name-e094e4da-da4b-4f31-99bc-0d9be7e19d9c\n"
     ]
    },
    {
     "name": "stdout",
     "output_type": "stream",
     "text": [
      "==> Best SMAPE for 백화점: 18.8910\n",
      "==> Best Params: {'max_bin': 301, 'eta': 0.1492054771400693, 'max_depth': 4, 'min_child_weight': 6, 'subsample': 0.7138159179059449, 'colsample_bytree': 0.9917983254594225, 'reg_lambda': 1.8495437087985195e-05, 'reg_alpha': 0.006786032878493139, 'alpha': 0.9525559650466506}\n",
      "\n",
      "================ HPO for Building Type: IDC(전화국) ================\n",
      "\n"
     ]
    },
    {
     "name": "stderr",
     "output_type": "stream",
     "text": [
      "[I 2025-08-09 18:23:03,446] Trial 0 finished with value: 47.52145195007324 and parameters: {'max_bin': 329, 'eta': 0.1, 'max_depth': 6, 'min_child_weight': 2, 'subsample': 0.8, 'colsample_bytree': 0.8, 'reg_lambda': 1.0, 'reg_alpha': 1e-08, 'alpha': 1.0}. Best is trial 0 with value: 47.52145195007324.\n",
      "[I 2025-08-09 18:23:06,827] Trial 1 finished with value: 48.78933334350586 and parameters: {'max_bin': 208, 'eta': 0.14635876904540007, 'max_depth': 4, 'min_child_weight': 3, 'subsample': 0.8583478880760276, 'colsample_bytree': 0.9524743682574625, 'reg_lambda': 2.985512278494095e-07, 'reg_alpha': 1.2052399380655994, 'alpha': 1.7758721513256002}. Best is trial 0 with value: 47.52145195007324.\n",
      "[I 2025-08-09 18:23:19,384] Trial 2 finished with value: 40.75875345865885 and parameters: {'max_bin': 272, 'eta': 0.02392406763174502, 'max_depth': 8, 'min_child_weight': 3, 'subsample': 0.7058761898491525, 'colsample_bytree': 0.6501794187329765, 'reg_lambda': 0.00556252449659903, 'reg_alpha': 0.12683045665853257, 'alpha': 1.5190853104021955}. Best is trial 2 with value: 40.75875345865885.\n",
      "[I 2025-08-09 18:23:23,539] Trial 3 finished with value: 47.484116872151695 and parameters: {'max_bin': 324, 'eta': 0.1511183892563289, 'max_depth': 3, 'min_child_weight': 4, 'subsample': 0.6659850056699517, 'colsample_bytree': 0.980486176607668, 'reg_lambda': 0.07359151556143466, 'reg_alpha': 7.066529719650382e-07, 'alpha': 1.1302850595107312}. Best is trial 2 with value: 40.75875345865885.\n",
      "[I 2025-08-09 18:23:59,037] Trial 4 finished with value: 45.79565302530924 and parameters: {'max_bin': 280, 'eta': 0.010082990435621247, 'max_depth': 6, 'min_child_weight': 5, 'subsample': 0.6572265453193155, 'colsample_bytree': 0.7351846276233226, 'reg_lambda': 0.001129641156333772, 'reg_alpha': 3.3754345104557187e-07, 'alpha': 0.5568033572743472}. Best is trial 2 with value: 40.75875345865885.\n",
      "[I 2025-08-09 18:24:02,954] Trial 5 finished with value: 47.72458267211914 and parameters: {'max_bin': 381, 'eta': 0.12309568245118568, 'max_depth': 7, 'min_child_weight': 9, 'subsample': 0.6078830151289284, 'colsample_bytree': 0.8158415434028574, 'reg_lambda': 0.0009385289822348232, 'reg_alpha': 0.0007093440881560042, 'alpha': 1.1013137976680156}. Best is trial 2 with value: 40.75875345865885.\n",
      "[I 2025-08-09 18:24:18,207] Trial 6 finished with value: 48.072017669677734 and parameters: {'max_bin': 232, 'eta': 0.012043764438509186, 'max_depth': 5, 'min_child_weight': 7, 'subsample': 0.8084955177036703, 'colsample_bytree': 0.8367656502970503, 'reg_lambda': 0.0010856510566459431, 'reg_alpha': 2.9055666463578855e-06, 'alpha': 1.6014432889158097}. Best is trial 2 with value: 40.75875345865885.\n",
      "[I 2025-08-09 18:24:24,099] Trial 7 finished with value: 48.49841181437174 and parameters: {'max_bin': 366, 'eta': 0.03791993572547498, 'max_depth': 4, 'min_child_weight': 2, 'subsample': 0.668010872424928, 'colsample_bytree': 0.9489453097659925, 'reg_lambda': 0.07336087084821373, 'reg_alpha': 0.017584366027471102, 'alpha': 1.1075081176930315}. Best is trial 2 with value: 40.75875345865885.\n",
      "[I 2025-08-09 18:24:37,455] Trial 8 finished with value: 43.31739298502604 and parameters: {'max_bin': 249, 'eta': 0.031447800432166335, 'max_depth': 4, 'min_child_weight': 8, 'subsample': 0.7827071145441509, 'colsample_bytree': 0.8093197095867548, 'reg_lambda': 0.17175467128440186, 'reg_alpha': 1.4195476464501935e-06, 'alpha': 0.5538091210776115}. Best is trial 2 with value: 40.75875345865885.\n",
      "[I 2025-08-09 18:24:41,353] Trial 9 finished with value: 47.467068354288735 and parameters: {'max_bin': 319, 'eta': 0.15870225856965273, 'max_depth': 7, 'min_child_weight': 5, 'subsample': 0.6815323901429151, 'colsample_bytree': 0.7852464329779254, 'reg_lambda': 0.6304934922549182, 'reg_alpha': 2.975593239598561e-06, 'alpha': 1.6952417239038586}. Best is trial 2 with value: 40.75875345865885.\n",
      "[I 2025-08-09 18:24:41,414] Trial 10 pruned. Trial was pruned at iteration 0.\n",
      "[I 2025-08-09 18:24:41,477] Trial 11 pruned. Trial was pruned at iteration 0.\n",
      "[I 2025-08-09 18:24:41,539] Trial 12 pruned. Trial was pruned at iteration 0.\n",
      "[I 2025-08-09 18:24:41,614] Trial 13 pruned. Trial was pruned at iteration 0.\n",
      "[I 2025-08-09 18:24:41,679] Trial 14 pruned. Trial was pruned at iteration 0.\n",
      "[I 2025-08-09 18:24:41,741] Trial 15 pruned. Trial was pruned at iteration 0.\n",
      "[I 2025-08-09 18:24:41,804] Trial 16 pruned. Trial was pruned at iteration 0.\n",
      "[I 2025-08-09 18:24:41,869] Trial 17 pruned. Trial was pruned at iteration 0.\n",
      "[I 2025-08-09 18:24:41,931] Trial 18 pruned. Trial was pruned at iteration 0.\n",
      "[I 2025-08-09 18:24:43,428] Trial 19 pruned. Trial was pruned at iteration 186.\n",
      "[I 2025-08-09 18:24:43,490] Trial 20 pruned. Trial was pruned at iteration 0.\n",
      "[I 2025-08-09 18:24:43,559] Trial 21 pruned. Trial was pruned at iteration 0.\n",
      "[I 2025-08-09 18:24:43,632] Trial 22 pruned. Trial was pruned at iteration 0.\n",
      "[I 2025-08-09 18:24:43,710] Trial 23 pruned. Trial was pruned at iteration 0.\n",
      "[I 2025-08-09 18:24:43,776] Trial 24 pruned. Trial was pruned at iteration 0.\n",
      "[I 2025-08-09 18:24:43,854] Trial 25 pruned. Trial was pruned at iteration 0.\n",
      "[I 2025-08-09 18:24:49,885] Trial 26 finished with value: 46.17664082845052 and parameters: {'max_bin': 203, 'eta': 0.09601264917885659, 'max_depth': 3, 'min_child_weight': 7, 'subsample': 0.8206224418495174, 'colsample_bytree': 0.8782631932488498, 'reg_lambda': 2.62160274533859, 'reg_alpha': 5.380827107721536e-08, 'alpha': 0.6617685551495815}. Best is trial 2 with value: 40.75875345865885.\n",
      "[I 2025-08-09 18:24:49,956] Trial 27 pruned. Trial was pruned at iteration 0.\n",
      "[I 2025-08-09 18:24:50,031] Trial 28 pruned. Trial was pruned at iteration 0.\n",
      "[I 2025-08-09 18:24:50,100] Trial 29 pruned. Trial was pruned at iteration 0.\n",
      "[I 2025-08-09 18:24:50,170] Trial 30 pruned. Trial was pruned at iteration 0.\n",
      "[I 2025-08-09 18:24:50,483] Trial 31 pruned. Trial was pruned at iteration 43.\n",
      "[I 2025-08-09 18:24:50,961] Trial 32 pruned. Trial was pruned at iteration 54.\n",
      "[I 2025-08-09 18:24:57,611] Trial 33 finished with value: 47.60729662577311 and parameters: {'max_bin': 211, 'eta': 0.1995956228806651, 'max_depth': 3, 'min_child_weight': 11, 'subsample': 0.9631896345427616, 'colsample_bytree': 0.8471238389468921, 'reg_lambda': 4.194328268733297, 'reg_alpha': 1.3273368950901996e-08, 'alpha': 0.8104183803137329}. Best is trial 2 with value: 40.75875345865885.\n",
      "[I 2025-08-09 18:25:01,463] Trial 34 finished with value: 46.87756538391113 and parameters: {'max_bin': 213, 'eta': 0.14185611560196967, 'max_depth': 4, 'min_child_weight': 5, 'subsample': 0.8463005199542606, 'colsample_bytree': 0.9207045903772516, 'reg_lambda': 3.440741669157304, 'reg_alpha': 2.2829077300331655e-08, 'alpha': 0.6587315012197046}. Best is trial 2 with value: 40.75875345865885.\n",
      "[I 2025-08-09 18:25:01,532] Trial 35 pruned. Trial was pruned at iteration 0.\n",
      "[I 2025-08-09 18:25:01,600] Trial 36 pruned. Trial was pruned at iteration 0.\n",
      "[I 2025-08-09 18:25:01,678] Trial 37 pruned. Trial was pruned at iteration 0.\n",
      "[I 2025-08-09 18:25:01,748] Trial 38 pruned. Trial was pruned at iteration 0.\n",
      "[I 2025-08-09 18:25:01,822] Trial 39 pruned. Trial was pruned at iteration 0.\n",
      "[I 2025-08-09 18:25:01,912] Trial 40 pruned. Trial was pruned at iteration 0.\n",
      "[I 2025-08-09 18:25:01,991] Trial 41 pruned. Trial was pruned at iteration 0.\n",
      "[I 2025-08-09 18:25:02,058] Trial 42 pruned. Trial was pruned at iteration 0.\n",
      "[I 2025-08-09 18:25:02,495] Trial 43 pruned. Trial was pruned at iteration 47.\n",
      "[I 2025-08-09 18:25:02,565] Trial 44 pruned. Trial was pruned at iteration 0.\n",
      "[I 2025-08-09 18:25:07,683] Trial 45 finished with value: 47.750953674316406 and parameters: {'max_bin': 246, 'eta': 0.15876195256438225, 'max_depth': 3, 'min_child_weight': 5, 'subsample': 0.6991269772454326, 'colsample_bytree': 0.9877695052695243, 'reg_lambda': 1.1826454042956562, 'reg_alpha': 2.1025919301473174e-08, 'alpha': 0.6255248406868913}. Best is trial 2 with value: 40.75875345865885.\n",
      "[I 2025-08-09 18:25:07,752] Trial 46 pruned. Trial was pruned at iteration 0.\n",
      "[I 2025-08-09 18:25:07,832] Trial 47 pruned. Trial was pruned at iteration 0.\n",
      "[I 2025-08-09 18:25:07,899] Trial 48 pruned. Trial was pruned at iteration 0.\n",
      "[I 2025-08-09 18:25:07,966] Trial 49 pruned. Trial was pruned at iteration 0.\n",
      "[I 2025-08-09 18:25:08,037] Trial 50 pruned. Trial was pruned at iteration 0.\n",
      "[I 2025-08-09 18:25:08,498] Trial 51 pruned. Trial was pruned at iteration 39.\n",
      "[I 2025-08-09 18:25:08,562] Trial 52 pruned. Trial was pruned at iteration 0.\n",
      "[I 2025-08-09 18:25:09,265] Trial 53 pruned. Trial was pruned at iteration 60.\n",
      "[I 2025-08-09 18:25:09,689] Trial 54 pruned. Trial was pruned at iteration 54.\n",
      "[I 2025-08-09 18:25:13,237] Trial 55 finished with value: 48.352246602376304 and parameters: {'max_bin': 355, 'eta': 0.16842164322842715, 'max_depth': 7, 'min_child_weight': 4, 'subsample': 0.6129914911539028, 'colsample_bytree': 0.8329530462348791, 'reg_lambda': 0.45392205401239955, 'reg_alpha': 8.726006455609125e-05, 'alpha': 1.9402384775995543}. Best is trial 2 with value: 40.75875345865885.\n",
      "[I 2025-08-09 18:25:13,304] Trial 56 pruned. Trial was pruned at iteration 0.\n",
      "[I 2025-08-09 18:25:13,372] Trial 57 pruned. Trial was pruned at iteration 0.\n",
      "[I 2025-08-09 18:25:13,448] Trial 58 pruned. Trial was pruned at iteration 0.\n",
      "[I 2025-08-09 18:25:13,516] Trial 59 pruned. Trial was pruned at iteration 0.\n",
      "[I 2025-08-09 18:25:13,595] A new study created in memory with name: no-name-6ec2395b-d311-4cc5-9b2a-2e0391568ccc\n"
     ]
    },
    {
     "name": "stdout",
     "output_type": "stream",
     "text": [
      "==> Best SMAPE for IDC(전화국): 40.7588\n",
      "==> Best Params: {'max_bin': 272, 'eta': 0.02392406763174502, 'max_depth': 8, 'min_child_weight': 3, 'subsample': 0.7058761898491525, 'colsample_bytree': 0.6501794187329765, 'reg_lambda': 0.00556252449659903, 'reg_alpha': 0.12683045665853257, 'alpha': 1.5190853104021955}\n",
      "\n",
      "================ HPO for Building Type: Public ================\n",
      "\n"
     ]
    },
    {
     "name": "stderr",
     "output_type": "stream",
     "text": [
      "[I 2025-08-09 18:25:18,258] Trial 0 finished with value: 14.578986803690592 and parameters: {'max_bin': 343, 'eta': 0.1, 'max_depth': 6, 'min_child_weight': 2, 'subsample': 0.8, 'colsample_bytree': 0.8, 'reg_lambda': 1.0, 'reg_alpha': 1e-08, 'alpha': 1.0}. Best is trial 0 with value: 14.578986803690592.\n",
      "[I 2025-08-09 18:26:11,601] Trial 1 finished with value: 16.546918233235676 and parameters: {'max_bin': 325, 'eta': 0.013583010897967448, 'max_depth': 7, 'min_child_weight': 8, 'subsample': 0.6606778742176739, 'colsample_bytree': 0.6348515346675335, 'reg_lambda': 0.8055482605627107, 'reg_alpha': 0.3683192717628896, 'alpha': 0.5570897238721967}. Best is trial 0 with value: 14.578986803690592.\n",
      "[I 2025-08-09 18:26:23,078] Trial 2 finished with value: 15.319369633992514 and parameters: {'max_bin': 382, 'eta': 0.09515389884447836, 'max_depth': 10, 'min_child_weight': 5, 'subsample': 0.6079890955071071, 'colsample_bytree': 0.9064078367772809, 'reg_lambda': 0.3551669230233678, 'reg_alpha': 0.11341840530610774, 'alpha': 0.8361955104839671}. Best is trial 0 with value: 14.578986803690592.\n",
      "[I 2025-08-09 18:26:29,480] Trial 3 finished with value: 13.281908671061197 and parameters: {'max_bin': 198, 'eta': 0.1389259264336883, 'max_depth': 3, 'min_child_weight': 6, 'subsample': 0.8321282625335832, 'colsample_bytree': 0.971529650945054, 'reg_lambda': 0.6105069507898042, 'reg_alpha': 0.027505814272511236, 'alpha': 1.0471884412243635}. Best is trial 3 with value: 13.281908671061197.\n",
      "[I 2025-08-09 18:27:01,206] Trial 4 finished with value: 15.47208023071289 and parameters: {'max_bin': 261, 'eta': 0.012740340712409898, 'max_depth': 3, 'min_child_weight': 10, 'subsample': 0.9336389131125152, 'colsample_bytree': 0.7325657236534449, 'reg_lambda': 1.0128304609625395e-07, 'reg_alpha': 2.111796030266739e-08, 'alpha': 1.0978145886125195}. Best is trial 3 with value: 13.281908671061197.\n",
      "[I 2025-08-09 18:27:09,628] Trial 5 finished with value: 14.37823232014974 and parameters: {'max_bin': 271, 'eta': 0.028149421838346483, 'max_depth': 6, 'min_child_weight': 10, 'subsample': 0.6194421720239998, 'colsample_bytree': 0.9610092811714184, 'reg_lambda': 3.158322965994573e-07, 'reg_alpha': 0.058215058757843656, 'alpha': 1.1874087267046274}. Best is trial 3 with value: 13.281908671061197.\n",
      "[I 2025-08-09 18:27:17,602] Trial 6 finished with value: 16.09755293528239 and parameters: {'max_bin': 379, 'eta': 0.05341678768614736, 'max_depth': 6, 'min_child_weight': 3, 'subsample': 0.8667624808273882, 'colsample_bytree': 0.6443875787594425, 'reg_lambda': 8.565071241221511e-07, 'reg_alpha': 7.725757786567416, 'alpha': 1.629205358676232}. Best is trial 3 with value: 13.281908671061197.\n",
      "[I 2025-08-09 18:27:37,393] Trial 7 finished with value: 14.441242535909018 and parameters: {'max_bin': 205, 'eta': 0.015555116675779444, 'max_depth': 5, 'min_child_weight': 11, 'subsample': 0.7103607158463495, 'colsample_bytree': 0.8138341917745985, 'reg_lambda': 0.037559757622995855, 'reg_alpha': 2.4656420938957897e-08, 'alpha': 1.2685926938487317}. Best is trial 3 with value: 13.281908671061197.\n",
      "[I 2025-08-09 18:27:41,869] Trial 8 finished with value: 14.58681551615397 and parameters: {'max_bin': 339, 'eta': 0.09635329587523636, 'max_depth': 7, 'min_child_weight': 7, 'subsample': 0.843569029835731, 'colsample_bytree': 0.989075210693482, 'reg_lambda': 1.2906033636324594e-05, 'reg_alpha': 0.01709560151055379, 'alpha': 1.724339367580888}. Best is trial 3 with value: 13.281908671061197.\n",
      "[I 2025-08-09 18:27:45,503] Trial 9 finished with value: 14.337274869283041 and parameters: {'max_bin': 339, 'eta': 0.07613531575455924, 'max_depth': 6, 'min_child_weight': 5, 'subsample': 0.9700456028356557, 'colsample_bytree': 0.9336482349698969, 'reg_lambda': 0.0014346308984081605, 'reg_alpha': 3.193330545783157e-07, 'alpha': 1.4949445426640857}. Best is trial 3 with value: 13.281908671061197.\n",
      "[I 2025-08-09 18:27:50,363] Trial 10 finished with value: 13.569043159484863 and parameters: {'max_bin': 281, 'eta': 0.15821912622130277, 'max_depth': 4, 'min_child_weight': 8, 'subsample': 0.9153552889348213, 'colsample_bytree': 0.9467672849655391, 'reg_lambda': 2.1532694323809505, 'reg_alpha': 0.03332203359418934, 'alpha': 1.3403527484357403}. Best is trial 3 with value: 13.281908671061197.\n",
      "[I 2025-08-09 18:27:57,932] Trial 11 finished with value: 13.767563819885254 and parameters: {'max_bin': 234, 'eta': 0.09789656093227905, 'max_depth': 5, 'min_child_weight': 7, 'subsample': 0.9017502859420103, 'colsample_bytree': 0.982721152256737, 'reg_lambda': 0.7170150384433681, 'reg_alpha': 0.0010312834826648706, 'alpha': 1.0796210587422599}. Best is trial 3 with value: 13.281908671061197.\n",
      "[I 2025-08-09 18:28:04,873] Trial 12 finished with value: 13.672151565551758 and parameters: {'max_bin': 205, 'eta': 0.10537852667733333, 'max_depth': 4, 'min_child_weight': 1, 'subsample': 0.8725890715779433, 'colsample_bytree': 0.944634926488872, 'reg_lambda': 0.11088065008276929, 'reg_alpha': 4.744353220980225, 'alpha': 1.1035214822967498}. Best is trial 3 with value: 13.281908671061197.\n",
      "[I 2025-08-09 18:28:12,822] Trial 13 finished with value: 13.72553825378418 and parameters: {'max_bin': 308, 'eta': 0.1698882586642598, 'max_depth': 3, 'min_child_weight': 5, 'subsample': 0.74506136024118, 'colsample_bytree': 0.8979390612198979, 'reg_lambda': 0.395253983192658, 'reg_alpha': 1.631152915943943, 'alpha': 1.3034421470244173}. Best is trial 3 with value: 13.281908671061197.\n",
      "[I 2025-08-09 18:28:22,236] Trial 14 finished with value: 14.827048937479654 and parameters: {'max_bin': 314, 'eta': 0.099402402423711, 'max_depth': 4, 'min_child_weight': 7, 'subsample': 0.9524908157192157, 'colsample_bytree': 0.7473879403890827, 'reg_lambda': 2.9865483290906614, 'reg_alpha': 3.9403033759842696, 'alpha': 1.3355976314539744}. Best is trial 3 with value: 13.281908671061197.\n",
      "[I 2025-08-09 18:28:24,980] Trial 15 finished with value: 14.477794965108236 and parameters: {'max_bin': 217, 'eta': 0.15283516132864602, 'max_depth': 4, 'min_child_weight': 11, 'subsample': 0.9641195575301319, 'colsample_bytree': 0.9091891922411257, 'reg_lambda': 0.43549804949189175, 'reg_alpha': 0.035533641265038864, 'alpha': 1.8067028553559445}. Best is trial 3 with value: 13.281908671061197.\n",
      "[I 2025-08-09 18:28:25,039] Trial 16 pruned. Trial was pruned at iteration 0.\n",
      "[I 2025-08-09 18:28:25,100] Trial 17 pruned. Trial was pruned at iteration 0.\n",
      "[I 2025-08-09 18:28:25,557] Trial 18 pruned. Trial was pruned at iteration 51.\n",
      "[I 2025-08-09 18:28:25,620] Trial 19 pruned. Trial was pruned at iteration 0.\n",
      "[I 2025-08-09 18:28:32,014] Trial 20 finished with value: 13.565345764160156 and parameters: {'max_bin': 214, 'eta': 0.17240462960848504, 'max_depth': 3, 'min_child_weight': 3, 'subsample': 0.8232384737673113, 'colsample_bytree': 0.8130730278539874, 'reg_lambda': 0.032335117899148245, 'reg_alpha': 7.010961025342631e-05, 'alpha': 1.671857082636716}. Best is trial 3 with value: 13.281908671061197.\n",
      "[I 2025-08-09 18:28:32,076] Trial 21 pruned. Trial was pruned at iteration 0.\n",
      "[I 2025-08-09 18:28:37,894] Trial 22 finished with value: 14.090582211812338 and parameters: {'max_bin': 203, 'eta': 0.14053759894960358, 'max_depth': 4, 'min_child_weight': 3, 'subsample': 0.7589772176690401, 'colsample_bytree': 0.7782020244834055, 'reg_lambda': 0.0008066211594976423, 'reg_alpha': 0.014428514523678661, 'alpha': 1.3004256117349666}. Best is trial 3 with value: 13.281908671061197.\n",
      "[I 2025-08-09 18:28:38,358] Trial 23 pruned. Trial was pruned at iteration 61.\n",
      "[I 2025-08-09 18:28:38,419] Trial 24 pruned. Trial was pruned at iteration 0.\n",
      "[I 2025-08-09 18:28:43,304] Trial 25 finished with value: 14.03657309214274 and parameters: {'max_bin': 194, 'eta': 0.18748689900690377, 'max_depth': 4, 'min_child_weight': 3, 'subsample': 0.8299895158253066, 'colsample_bytree': 0.8810987865722542, 'reg_lambda': 0.10495813869287753, 'reg_alpha': 0.00018829287586862484, 'alpha': 1.6734415450002609}. Best is trial 3 with value: 13.281908671061197.\n",
      "[I 2025-08-09 18:28:50,315] Trial 26 finished with value: 14.534818649291992 and parameters: {'max_bin': 207, 'eta': 0.11775189996457006, 'max_depth': 4, 'min_child_weight': 5, 'subsample': 0.809996911586308, 'colsample_bytree': 0.9000944431416732, 'reg_lambda': 2.40478366751321, 'reg_alpha': 0.034118964485664795, 'alpha': 0.8856244817639882}. Best is trial 3 with value: 13.281908671061197.\n",
      "[I 2025-08-09 18:28:50,385] Trial 27 pruned. Trial was pruned at iteration 0.\n",
      "[I 2025-08-09 18:28:53,976] Trial 28 finished with value: 14.431656201680502 and parameters: {'max_bin': 224, 'eta': 0.15124189940191116, 'max_depth': 3, 'min_child_weight': 4, 'subsample': 0.7813574984584886, 'colsample_bytree': 0.7789632329077464, 'reg_lambda': 0.012055656831434738, 'reg_alpha': 0.010164720670975989, 'alpha': 1.9151127216751311}. Best is trial 3 with value: 13.281908671061197.\n",
      "[I 2025-08-09 18:28:59,420] Trial 29 finished with value: 14.10317866007487 and parameters: {'max_bin': 270, 'eta': 0.18186206741059927, 'max_depth': 3, 'min_child_weight': 9, 'subsample': 0.9090302193121477, 'colsample_bytree': 0.8460101880327772, 'reg_lambda': 0.007520078570186756, 'reg_alpha': 4.8440119593397655e-05, 'alpha': 1.3368719474982413}. Best is trial 3 with value: 13.281908671061197.\n",
      "[I 2025-08-09 18:29:04,877] Trial 30 finished with value: 14.083942095438639 and parameters: {'max_bin': 249, 'eta': 0.1444480547769929, 'max_depth': 3, 'min_child_weight': 3, 'subsample': 0.7891324450270218, 'colsample_bytree': 0.9414858754447515, 'reg_lambda': 0.0002506607706485582, 'reg_alpha': 3.6401429325216775e-05, 'alpha': 0.9193463511489548}. Best is trial 3 with value: 13.281908671061197.\n",
      "[I 2025-08-09 18:29:04,945] Trial 31 pruned. Trial was pruned at iteration 0.\n",
      "[I 2025-08-09 18:29:10,543] Trial 32 finished with value: 13.468639373779297 and parameters: {'max_bin': 192, 'eta': 0.12294848611197955, 'max_depth': 4, 'min_child_weight': 2, 'subsample': 0.8179949883843287, 'colsample_bytree': 0.964095115041981, 'reg_lambda': 0.018772420014329685, 'reg_alpha': 8.770622708257422, 'alpha': 1.2335393713164176}. Best is trial 3 with value: 13.281908671061197.\n",
      "[I 2025-08-09 18:29:10,988] Trial 33 pruned. Trial was pruned at iteration 39.\n",
      "[I 2025-08-09 18:29:11,051] Trial 34 pruned. Trial was pruned at iteration 0.\n",
      "[I 2025-08-09 18:29:13,955] Trial 35 finished with value: 13.923742294311523 and parameters: {'max_bin': 214, 'eta': 0.19876813380972513, 'max_depth': 3, 'min_child_weight': 1, 'subsample': 0.6960605116916792, 'colsample_bytree': 0.9904100713823215, 'reg_lambda': 4.036818902699352e-06, 'reg_alpha': 8.765623294821534, 'alpha': 1.2614689539083561}. Best is trial 3 with value: 13.281908671061197.\n",
      "[I 2025-08-09 18:29:14,027] Trial 36 pruned. Trial was pruned at iteration 0.\n",
      "[I 2025-08-09 18:29:17,758] Trial 37 finished with value: 14.17113208770752 and parameters: {'max_bin': 208, 'eta': 0.13437459220261389, 'max_depth': 3, 'min_child_weight': 6, 'subsample': 0.9248716165803712, 'colsample_bytree': 0.9645293612846418, 'reg_lambda': 0.032335673601419646, 'reg_alpha': 5.417790396896513, 'alpha': 1.5655692441963138}. Best is trial 3 with value: 13.281908671061197.\n",
      "[I 2025-08-09 18:29:17,829] Trial 38 pruned. Trial was pruned at iteration 0.\n",
      "[I 2025-08-09 18:29:18,055] Trial 39 pruned. Trial was pruned at iteration 22.\n",
      "[I 2025-08-09 18:29:18,844] Trial 40 pruned. Trial was pruned at iteration 140.\n",
      "[I 2025-08-09 18:29:18,913] Trial 41 pruned. Trial was pruned at iteration 0.\n",
      "[I 2025-08-09 18:29:19,200] Trial 42 pruned. Trial was pruned at iteration 32.\n",
      "[I 2025-08-09 18:29:27,093] Trial 43 finished with value: 13.352760314941406 and parameters: {'max_bin': 208, 'eta': 0.15577344605920443, 'max_depth': 3, 'min_child_weight': 1, 'subsample': 0.7619533786554686, 'colsample_bytree': 0.8949777423468763, 'reg_lambda': 1.3192629577290214, 'reg_alpha': 2.69766917216425, 'alpha': 1.6662351261915742}. Best is trial 3 with value: 13.281908671061197.\n",
      "[I 2025-08-09 18:29:27,158] Trial 44 pruned. Trial was pruned at iteration 0.\n",
      "[I 2025-08-09 18:29:32,170] Trial 45 finished with value: 13.5104128519694 and parameters: {'max_bin': 249, 'eta': 0.14520722190929955, 'max_depth': 4, 'min_child_weight': 1, 'subsample': 0.7742209461778116, 'colsample_bytree': 0.951915260668596, 'reg_lambda': 0.006351309153942419, 'reg_alpha': 0.35816811706163815, 'alpha': 1.7332367933127668}. Best is trial 3 with value: 13.281908671061197.\n",
      "[I 2025-08-09 18:29:32,240] Trial 46 pruned. Trial was pruned at iteration 0.\n",
      "[I 2025-08-09 18:29:32,308] Trial 47 pruned. Trial was pruned at iteration 0.\n",
      "[I 2025-08-09 18:29:32,371] Trial 48 pruned. Trial was pruned at iteration 0.\n",
      "[I 2025-08-09 18:29:32,438] Trial 49 pruned. Trial was pruned at iteration 0.\n",
      "[I 2025-08-09 18:29:32,641] Trial 50 pruned. Trial was pruned at iteration 21.\n",
      "[I 2025-08-09 18:29:42,050] Trial 51 finished with value: 13.378349304199219 and parameters: {'max_bin': 193, 'eta': 0.14969694025396835, 'max_depth': 3, 'min_child_weight': 2, 'subsample': 0.8073891059106861, 'colsample_bytree': 0.8907583988170533, 'reg_lambda': 1.875938470197397, 'reg_alpha': 1.6294014278774955, 'alpha': 1.7615294217170003}. Best is trial 3 with value: 13.281908671061197.\n",
      "[I 2025-08-09 18:29:42,116] Trial 52 pruned. Trial was pruned at iteration 0.\n",
      "[I 2025-08-09 18:29:49,796] Trial 53 finished with value: 13.6421480178833 and parameters: {'max_bin': 204, 'eta': 0.16848539499072196, 'max_depth': 3, 'min_child_weight': 3, 'subsample': 0.7466604304094978, 'colsample_bytree': 0.8742030661064837, 'reg_lambda': 1.2587466479076035, 'reg_alpha': 0.9484135017842902, 'alpha': 1.7462426562835849}. Best is trial 3 with value: 13.281908671061197.\n",
      "[I 2025-08-09 18:29:53,955] Trial 54 finished with value: 13.68734614054362 and parameters: {'max_bin': 205, 'eta': 0.18876472122028454, 'max_depth': 3, 'min_child_weight': 3, 'subsample': 0.8705601999416914, 'colsample_bytree': 0.8977546871520181, 'reg_lambda': 0.41208873378486915, 'reg_alpha': 0.11899666876246592, 'alpha': 1.795632221410348}. Best is trial 3 with value: 13.281908671061197.\n",
      "[I 2025-08-09 18:29:54,023] Trial 55 pruned. Trial was pruned at iteration 0.\n",
      "[I 2025-08-09 18:29:57,201] Trial 56 finished with value: 14.178826649983725 and parameters: {'max_bin': 262, 'eta': 0.19255890483263033, 'max_depth': 3, 'min_child_weight': 1, 'subsample': 0.7970755275172346, 'colsample_bytree': 0.9144522983823153, 'reg_lambda': 0.018951498841145116, 'reg_alpha': 1.6530452835447793, 'alpha': 1.8433728303080812}. Best is trial 3 with value: 13.281908671061197.\n",
      "[I 2025-08-09 18:29:57,268] Trial 57 pruned. Trial was pruned at iteration 0.\n",
      "[I 2025-08-09 18:29:57,337] Trial 58 pruned. Trial was pruned at iteration 0.\n",
      "[I 2025-08-09 18:30:02,997] Trial 59 finished with value: 13.879072507222494 and parameters: {'max_bin': 212, 'eta': 0.174667332236749, 'max_depth': 3, 'min_child_weight': 1, 'subsample': 0.7272167845230102, 'colsample_bytree': 0.7965879107683204, 'reg_lambda': 0.00023495273497603543, 'reg_alpha': 2.90416255017095e-05, 'alpha': 1.6551175164981022}. Best is trial 3 with value: 13.281908671061197.\n"
     ]
    },
    {
     "name": "stdout",
     "output_type": "stream",
     "text": [
      "==> Best SMAPE for Public: 13.2819\n",
      "==> Best Params: {'max_bin': 198, 'eta': 0.1389259264336883, 'max_depth': 3, 'min_child_weight': 6, 'subsample': 0.8321282625335832, 'colsample_bytree': 0.971529650945054, 'reg_lambda': 0.6105069507898042, 'reg_alpha': 0.027505814272511236, 'alpha': 1.0471884412243635}\n"
     ]
    }
   ],
   "source": [
    "best_params_dict = {}\n",
    "\n",
    "for building_type in type_list:\n",
    "    print(f\"\\n================ HPO for Building Type: {building_type} ================\\n\")\n",
    "\n",
    "    # 데이터 준비 (원핫까지)\n",
    "    x_opt = X[X.building_type == building_type].copy()\n",
    "    y_opt = Y[Y.building_type == building_type]['power_consumption'].copy()\n",
    "    x_opt.drop(['building_type'], axis=1, inplace=True)\n",
    "    x_opt = pd.get_dummies(x_opt, columns=['building_number'], drop_first=False)\n",
    "\n",
    "    # numpy float32 권장\n",
    "    X_np = x_opt.values.astype(np.float32)\n",
    "    y_np = y_opt.values.astype(np.float32)\n",
    "\n",
    "    splitter = TimeSeriesSplit(n_splits=3)  # 필요 시 KFold로 교체\n",
    "\n",
    "    def objective(trial):\n",
    "        # 탐색공간\n",
    "        mbin = trial.suggest_int(\"max_bin\", 192, 384)\n",
    "        params = {\n",
    "            \"objective\": \"reg:squarederror\",          # obj는 아래 xgb.train에서 교체됨\n",
    "            \"eta\": trial.suggest_float(\"eta\", 0.01, 0.2, log=True),\n",
    "            \"max_depth\": trial.suggest_int(\"max_depth\", 3, 10),\n",
    "            \"min_child_weight\": trial.suggest_int(\"min_child_weight\", 1, 12),\n",
    "            \"subsample\": trial.suggest_float(\"subsample\", 0.6, 1.0),\n",
    "            \"colsample_bytree\": trial.suggest_float(\"colsample_bytree\", 0.6, 1.0),\n",
    "            \"reg_lambda\": trial.suggest_float(\"reg_lambda\", 1e-8, 10.0, log=True),\n",
    "            \"reg_alpha\": trial.suggest_float(\"reg_alpha\", 1e-8, 10.0, log=True),\n",
    "\n",
    "            # GPU 최적화 (xgboost 3.x)\n",
    "            \"device\": \"cuda\",\n",
    "            \"tree_method\": \"hist\",\n",
    "            \"predictor\": \"gpu_predictor\",\n",
    "            \"single_precision_histogram\": True,\n",
    "\n",
    "            # Booster 쪽도 동일 max_bin 사용\n",
    "            \"max_bin\": mbin,\n",
    "        }\n",
    "        alpha = trial.suggest_float(\"alpha\", 0.5, 2.0)  # ← 너의 weighted_mse()용 하이퍼\n",
    "\n",
    "        fold_scores = []\n",
    "        for tr_idx, va_idx in splitter.split(X_np):\n",
    "            X_tr, X_va = X_np[tr_idx], X_np[va_idx]\n",
    "            y_tr, y_va = y_np[tr_idx], y_np[va_idx]\n",
    "\n",
    "            # QuantileDMatrix (train은 max_bin 지정, valid는 ref 공유 + 명시)\n",
    "            dtrain = xgboost.QuantileDMatrix(X_tr, label=y_tr, max_bin=mbin)\n",
    "            dvalid = xgboost.QuantileDMatrix(X_va, label=y_va, ref=dtrain, max_bin=mbin)\n",
    "\n",
    "            prune_cb = XGBoostPruningCallback(trial, \"validation_0-custom_smape\")\n",
    "\n",
    "            booster = xgboost.train(\n",
    "                params=params,\n",
    "                dtrain=dtrain,\n",
    "                num_boost_round=5000,\n",
    "                evals=[(dvalid, \"validation_0\")],\n",
    "                # 커스텀 목적함수/지표\n",
    "                obj=weighted_mse(alpha),     # ←  weighted MSE 사용\n",
    "                custom_metric=custom_smape,  # ←  SMAPE 사용(낮을수록 좋음)\n",
    "                maximize=False,\n",
    "                early_stopping_rounds=100,\n",
    "                verbose_eval=False,\n",
    "                callbacks=[prune_cb],\n",
    "            )\n",
    "\n",
    "            preds = booster.predict(dvalid, iteration_range=(0, booster.best_iteration + 1))\n",
    "            fold_scores.append(smape(y_va, preds))  # 외부에서도 SMAPE로 평균\n",
    "\n",
    "        return float(np.mean(fold_scores))\n",
    "\n",
    "    # Study (프루닝 조금 완화하고 싶으면 n_startup_trials 늘리기)\n",
    "    study = optuna.create_study(\n",
    "        direction=\"minimize\",\n",
    "        sampler=optuna.samplers.TPESampler(n_startup_trials=10, multivariate=True, group=True),\n",
    "        pruner=optuna.pruners.MedianPruner(n_startup_trials=10),\n",
    "    )\n",
    "\n",
    "    # enqueue_trial에 max_bin 넣지 마세요(충돌 유발). 필요하면 alpha 등만.\n",
    "    study.enqueue_trial({\n",
    "        \"eta\": 0.1,\n",
    "        \"max_depth\": 6,\n",
    "        \"min_child_weight\": 2,\n",
    "        \"subsample\": 0.8,\n",
    "        \"colsample_bytree\": 0.8,\n",
    "        \"reg_lambda\": 1.0,\n",
    "        \"reg_alpha\": 1e-8,\n",
    "        \"alpha\": 1.0,      # 커스텀 목적함수 기본 베이스라인\n",
    "        # \"max_bin\": 256,   # ← 넣지 말기 (충돌 위험)\n",
    "    })\n",
    "\n",
    "    study.optimize(objective, n_trials=60, n_jobs=1)\n",
    "\n",
    "    best_params_dict[building_type] = study.best_params\n",
    "    print(f\"==> Best SMAPE for {building_type}: {study.best_value:.4f}\")\n",
    "    print(f\"==> Best Params: {study.best_params}\")\n"
   ]
  },
  {
   "cell_type": "code",
   "execution_count": 45,
   "id": "4b03dedd",
   "metadata": {},
   "outputs": [
    {
     "name": "stdout",
     "output_type": "stream",
     "text": [
      "\n",
      "✅ 저장: xgb_best_params_found.csv\n"
     ]
    },
    {
     "data": {
      "text/html": [
       "<div>\n",
       "<style scoped>\n",
       "    .dataframe tbody tr th:only-of-type {\n",
       "        vertical-align: middle;\n",
       "    }\n",
       "\n",
       "    .dataframe tbody tr th {\n",
       "        vertical-align: top;\n",
       "    }\n",
       "\n",
       "    .dataframe thead th {\n",
       "        text-align: right;\n",
       "    }\n",
       "</style>\n",
       "<table border=\"1\" class=\"dataframe\">\n",
       "  <thead>\n",
       "    <tr style=\"text-align: right;\">\n",
       "      <th></th>\n",
       "      <th>max_bin</th>\n",
       "      <th>eta</th>\n",
       "      <th>max_depth</th>\n",
       "      <th>min_child_weight</th>\n",
       "      <th>subsample</th>\n",
       "      <th>colsample_bytree</th>\n",
       "      <th>reg_lambda</th>\n",
       "      <th>reg_alpha</th>\n",
       "      <th>alpha</th>\n",
       "    </tr>\n",
       "  </thead>\n",
       "  <tbody>\n",
       "    <tr>\n",
       "      <th>호텔</th>\n",
       "      <td>299</td>\n",
       "      <td>0.171359</td>\n",
       "      <td>4</td>\n",
       "      <td>4</td>\n",
       "      <td>0.704673</td>\n",
       "      <td>0.880432</td>\n",
       "      <td>5.822530e-06</td>\n",
       "      <td>2.698564e-06</td>\n",
       "      <td>1.329574</td>\n",
       "    </tr>\n",
       "    <tr>\n",
       "      <th>Commercial</th>\n",
       "      <td>383</td>\n",
       "      <td>0.141605</td>\n",
       "      <td>9</td>\n",
       "      <td>12</td>\n",
       "      <td>0.810131</td>\n",
       "      <td>0.983139</td>\n",
       "      <td>4.324914e-01</td>\n",
       "      <td>2.013676e-04</td>\n",
       "      <td>0.661304</td>\n",
       "    </tr>\n",
       "    <tr>\n",
       "      <th>Hospital</th>\n",
       "      <td>337</td>\n",
       "      <td>0.141396</td>\n",
       "      <td>5</td>\n",
       "      <td>2</td>\n",
       "      <td>0.898258</td>\n",
       "      <td>0.988039</td>\n",
       "      <td>9.927880e-08</td>\n",
       "      <td>4.867693e-04</td>\n",
       "      <td>1.026727</td>\n",
       "    </tr>\n",
       "    <tr>\n",
       "      <th>학교</th>\n",
       "      <td>208</td>\n",
       "      <td>0.010676</td>\n",
       "      <td>4</td>\n",
       "      <td>8</td>\n",
       "      <td>0.726598</td>\n",
       "      <td>0.931666</td>\n",
       "      <td>1.910671e-01</td>\n",
       "      <td>8.421429e+00</td>\n",
       "      <td>1.788165</td>\n",
       "    </tr>\n",
       "    <tr>\n",
       "      <th>Other Buildings</th>\n",
       "      <td>259</td>\n",
       "      <td>0.196236</td>\n",
       "      <td>3</td>\n",
       "      <td>1</td>\n",
       "      <td>0.714305</td>\n",
       "      <td>0.792578</td>\n",
       "      <td>1.561624e-03</td>\n",
       "      <td>2.851216e-02</td>\n",
       "      <td>0.763867</td>\n",
       "    </tr>\n",
       "    <tr>\n",
       "      <th>Apartment</th>\n",
       "      <td>262</td>\n",
       "      <td>0.100000</td>\n",
       "      <td>6</td>\n",
       "      <td>2</td>\n",
       "      <td>0.800000</td>\n",
       "      <td>0.800000</td>\n",
       "      <td>1.000000e+00</td>\n",
       "      <td>1.000000e-08</td>\n",
       "      <td>1.000000</td>\n",
       "    </tr>\n",
       "    <tr>\n",
       "      <th>Research Institute</th>\n",
       "      <td>361</td>\n",
       "      <td>0.124921</td>\n",
       "      <td>6</td>\n",
       "      <td>9</td>\n",
       "      <td>0.607584</td>\n",
       "      <td>0.946348</td>\n",
       "      <td>1.568387e-02</td>\n",
       "      <td>7.455931e-03</td>\n",
       "      <td>1.175714</td>\n",
       "    </tr>\n",
       "    <tr>\n",
       "      <th>백화점</th>\n",
       "      <td>301</td>\n",
       "      <td>0.149205</td>\n",
       "      <td>4</td>\n",
       "      <td>6</td>\n",
       "      <td>0.713816</td>\n",
       "      <td>0.991798</td>\n",
       "      <td>1.849544e-05</td>\n",
       "      <td>6.786033e-03</td>\n",
       "      <td>0.952556</td>\n",
       "    </tr>\n",
       "    <tr>\n",
       "      <th>IDC(전화국)</th>\n",
       "      <td>272</td>\n",
       "      <td>0.023924</td>\n",
       "      <td>8</td>\n",
       "      <td>3</td>\n",
       "      <td>0.705876</td>\n",
       "      <td>0.650179</td>\n",
       "      <td>5.562524e-03</td>\n",
       "      <td>1.268305e-01</td>\n",
       "      <td>1.519085</td>\n",
       "    </tr>\n",
       "    <tr>\n",
       "      <th>Public</th>\n",
       "      <td>198</td>\n",
       "      <td>0.138926</td>\n",
       "      <td>3</td>\n",
       "      <td>6</td>\n",
       "      <td>0.832128</td>\n",
       "      <td>0.971530</td>\n",
       "      <td>6.105070e-01</td>\n",
       "      <td>2.750581e-02</td>\n",
       "      <td>1.047188</td>\n",
       "    </tr>\n",
       "  </tbody>\n",
       "</table>\n",
       "</div>"
      ],
      "text/plain": [
       "                    max_bin       eta  max_depth  min_child_weight  subsample  \\\n",
       "호텔                      299  0.171359          4                 4   0.704673   \n",
       "Commercial              383  0.141605          9                12   0.810131   \n",
       "Hospital                337  0.141396          5                 2   0.898258   \n",
       "학교                      208  0.010676          4                 8   0.726598   \n",
       "Other Buildings         259  0.196236          3                 1   0.714305   \n",
       "Apartment               262  0.100000          6                 2   0.800000   \n",
       "Research Institute      361  0.124921          6                 9   0.607584   \n",
       "백화점                     301  0.149205          4                 6   0.713816   \n",
       "IDC(전화국)                272  0.023924          8                 3   0.705876   \n",
       "Public                  198  0.138926          3                 6   0.832128   \n",
       "\n",
       "                    colsample_bytree    reg_lambda     reg_alpha     alpha  \n",
       "호텔                          0.880432  5.822530e-06  2.698564e-06  1.329574  \n",
       "Commercial                  0.983139  4.324914e-01  2.013676e-04  0.661304  \n",
       "Hospital                    0.988039  9.927880e-08  4.867693e-04  1.026727  \n",
       "학교                          0.931666  1.910671e-01  8.421429e+00  1.788165  \n",
       "Other Buildings             0.792578  1.561624e-03  2.851216e-02  0.763867  \n",
       "Apartment                   0.800000  1.000000e+00  1.000000e-08  1.000000  \n",
       "Research Institute          0.946348  1.568387e-02  7.455931e-03  1.175714  \n",
       "백화점                         0.991798  1.849544e-05  6.786033e-03  0.952556  \n",
       "IDC(전화국)                    0.650179  5.562524e-03  1.268305e-01  1.519085  \n",
       "Public                      0.971530  6.105070e-01  2.750581e-02  1.047188  "
      ]
     },
     "execution_count": 45,
     "metadata": {},
     "output_type": "execute_result"
    }
   ],
   "source": [
    "# 결과 정리\n",
    "xgb_best_params = pd.DataFrame.from_dict(best_params_dict, orient='index')\n",
    "xgb_best_params.to_csv(\"xgb_best_params_found.csv\", index=True)\n",
    "print(\"\\n✅ 저장: xgb_best_params_found.csv\")\n",
    "xgb_best_params"
   ]
  },
  {
   "cell_type": "code",
   "execution_count": 46,
   "id": "8c995f9d",
   "metadata": {
    "ExecuteTime": {
     "end_time": "2023-09-01T12:07:57.662804Z",
     "start_time": "2023-09-01T12:07:57.656785Z"
    }
   },
   "outputs": [],
   "source": [
    "xgb_best_params = pd.read_csv('xgb_best_params_found.csv')\n",
    "xgb_best_params['building_type'] = type_list\n",
    "xgb_best_params.set_index('building_type',inplace=True)"
   ]
  },
  {
   "cell_type": "code",
   "execution_count": 47,
   "id": "b1ae3886",
   "metadata": {
    "ExecuteTime": {
     "end_time": "2023-09-01T12:07:58.803898Z",
     "start_time": "2023-09-01T12:07:58.786884Z"
    }
   },
   "outputs": [
    {
     "data": {
      "text/html": [
       "<div>\n",
       "<style scoped>\n",
       "    .dataframe tbody tr th:only-of-type {\n",
       "        vertical-align: middle;\n",
       "    }\n",
       "\n",
       "    .dataframe tbody tr th {\n",
       "        vertical-align: top;\n",
       "    }\n",
       "\n",
       "    .dataframe thead th {\n",
       "        text-align: right;\n",
       "    }\n",
       "</style>\n",
       "<table border=\"1\" class=\"dataframe\">\n",
       "  <thead>\n",
       "    <tr style=\"text-align: right;\">\n",
       "      <th></th>\n",
       "      <th>Unnamed: 0</th>\n",
       "      <th>max_bin</th>\n",
       "      <th>eta</th>\n",
       "      <th>max_depth</th>\n",
       "      <th>min_child_weight</th>\n",
       "      <th>subsample</th>\n",
       "      <th>colsample_bytree</th>\n",
       "      <th>reg_lambda</th>\n",
       "      <th>reg_alpha</th>\n",
       "      <th>alpha</th>\n",
       "    </tr>\n",
       "    <tr>\n",
       "      <th>building_type</th>\n",
       "      <th></th>\n",
       "      <th></th>\n",
       "      <th></th>\n",
       "      <th></th>\n",
       "      <th></th>\n",
       "      <th></th>\n",
       "      <th></th>\n",
       "      <th></th>\n",
       "      <th></th>\n",
       "      <th></th>\n",
       "    </tr>\n",
       "  </thead>\n",
       "  <tbody>\n",
       "    <tr>\n",
       "      <th>호텔</th>\n",
       "      <td>호텔</td>\n",
       "      <td>299</td>\n",
       "      <td>0.171359</td>\n",
       "      <td>4</td>\n",
       "      <td>4</td>\n",
       "      <td>0.704673</td>\n",
       "      <td>0.880432</td>\n",
       "      <td>5.822530e-06</td>\n",
       "      <td>2.698564e-06</td>\n",
       "      <td>1.329574</td>\n",
       "    </tr>\n",
       "    <tr>\n",
       "      <th>Commercial</th>\n",
       "      <td>Commercial</td>\n",
       "      <td>383</td>\n",
       "      <td>0.141605</td>\n",
       "      <td>9</td>\n",
       "      <td>12</td>\n",
       "      <td>0.810131</td>\n",
       "      <td>0.983139</td>\n",
       "      <td>4.324914e-01</td>\n",
       "      <td>2.013676e-04</td>\n",
       "      <td>0.661304</td>\n",
       "    </tr>\n",
       "    <tr>\n",
       "      <th>Hospital</th>\n",
       "      <td>Hospital</td>\n",
       "      <td>337</td>\n",
       "      <td>0.141396</td>\n",
       "      <td>5</td>\n",
       "      <td>2</td>\n",
       "      <td>0.898258</td>\n",
       "      <td>0.988039</td>\n",
       "      <td>9.927880e-08</td>\n",
       "      <td>4.867693e-04</td>\n",
       "      <td>1.026727</td>\n",
       "    </tr>\n",
       "    <tr>\n",
       "      <th>학교</th>\n",
       "      <td>학교</td>\n",
       "      <td>208</td>\n",
       "      <td>0.010676</td>\n",
       "      <td>4</td>\n",
       "      <td>8</td>\n",
       "      <td>0.726598</td>\n",
       "      <td>0.931666</td>\n",
       "      <td>1.910671e-01</td>\n",
       "      <td>8.421429e+00</td>\n",
       "      <td>1.788165</td>\n",
       "    </tr>\n",
       "    <tr>\n",
       "      <th>Other Buildings</th>\n",
       "      <td>Other Buildings</td>\n",
       "      <td>259</td>\n",
       "      <td>0.196236</td>\n",
       "      <td>3</td>\n",
       "      <td>1</td>\n",
       "      <td>0.714305</td>\n",
       "      <td>0.792578</td>\n",
       "      <td>1.561624e-03</td>\n",
       "      <td>2.851216e-02</td>\n",
       "      <td>0.763867</td>\n",
       "    </tr>\n",
       "    <tr>\n",
       "      <th>Apartment</th>\n",
       "      <td>Apartment</td>\n",
       "      <td>262</td>\n",
       "      <td>0.100000</td>\n",
       "      <td>6</td>\n",
       "      <td>2</td>\n",
       "      <td>0.800000</td>\n",
       "      <td>0.800000</td>\n",
       "      <td>1.000000e+00</td>\n",
       "      <td>1.000000e-08</td>\n",
       "      <td>1.000000</td>\n",
       "    </tr>\n",
       "    <tr>\n",
       "      <th>Research Institute</th>\n",
       "      <td>Research Institute</td>\n",
       "      <td>361</td>\n",
       "      <td>0.124921</td>\n",
       "      <td>6</td>\n",
       "      <td>9</td>\n",
       "      <td>0.607584</td>\n",
       "      <td>0.946348</td>\n",
       "      <td>1.568387e-02</td>\n",
       "      <td>7.455931e-03</td>\n",
       "      <td>1.175714</td>\n",
       "    </tr>\n",
       "    <tr>\n",
       "      <th>백화점</th>\n",
       "      <td>백화점</td>\n",
       "      <td>301</td>\n",
       "      <td>0.149205</td>\n",
       "      <td>4</td>\n",
       "      <td>6</td>\n",
       "      <td>0.713816</td>\n",
       "      <td>0.991798</td>\n",
       "      <td>1.849544e-05</td>\n",
       "      <td>6.786033e-03</td>\n",
       "      <td>0.952556</td>\n",
       "    </tr>\n",
       "    <tr>\n",
       "      <th>IDC(전화국)</th>\n",
       "      <td>IDC(전화국)</td>\n",
       "      <td>272</td>\n",
       "      <td>0.023924</td>\n",
       "      <td>8</td>\n",
       "      <td>3</td>\n",
       "      <td>0.705876</td>\n",
       "      <td>0.650179</td>\n",
       "      <td>5.562524e-03</td>\n",
       "      <td>1.268305e-01</td>\n",
       "      <td>1.519085</td>\n",
       "    </tr>\n",
       "    <tr>\n",
       "      <th>Public</th>\n",
       "      <td>Public</td>\n",
       "      <td>198</td>\n",
       "      <td>0.138926</td>\n",
       "      <td>3</td>\n",
       "      <td>6</td>\n",
       "      <td>0.832128</td>\n",
       "      <td>0.971530</td>\n",
       "      <td>6.105070e-01</td>\n",
       "      <td>2.750581e-02</td>\n",
       "      <td>1.047188</td>\n",
       "    </tr>\n",
       "  </tbody>\n",
       "</table>\n",
       "</div>"
      ],
      "text/plain": [
       "                            Unnamed: 0  max_bin       eta  max_depth  \\\n",
       "building_type                                                          \n",
       "호텔                                  호텔      299  0.171359          4   \n",
       "Commercial                  Commercial      383  0.141605          9   \n",
       "Hospital                      Hospital      337  0.141396          5   \n",
       "학교                                  학교      208  0.010676          4   \n",
       "Other Buildings        Other Buildings      259  0.196236          3   \n",
       "Apartment                    Apartment      262  0.100000          6   \n",
       "Research Institute  Research Institute      361  0.124921          6   \n",
       "백화점                                백화점      301  0.149205          4   \n",
       "IDC(전화국)                      IDC(전화국)      272  0.023924          8   \n",
       "Public                          Public      198  0.138926          3   \n",
       "\n",
       "                    min_child_weight  subsample  colsample_bytree  \\\n",
       "building_type                                                       \n",
       "호텔                                 4   0.704673          0.880432   \n",
       "Commercial                        12   0.810131          0.983139   \n",
       "Hospital                           2   0.898258          0.988039   \n",
       "학교                                 8   0.726598          0.931666   \n",
       "Other Buildings                    1   0.714305          0.792578   \n",
       "Apartment                          2   0.800000          0.800000   \n",
       "Research Institute                 9   0.607584          0.946348   \n",
       "백화점                                6   0.713816          0.991798   \n",
       "IDC(전화국)                           3   0.705876          0.650179   \n",
       "Public                             6   0.832128          0.971530   \n",
       "\n",
       "                      reg_lambda     reg_alpha     alpha  \n",
       "building_type                                             \n",
       "호텔                  5.822530e-06  2.698564e-06  1.329574  \n",
       "Commercial          4.324914e-01  2.013676e-04  0.661304  \n",
       "Hospital            9.927880e-08  4.867693e-04  1.026727  \n",
       "학교                  1.910671e-01  8.421429e+00  1.788165  \n",
       "Other Buildings     1.561624e-03  2.851216e-02  0.763867  \n",
       "Apartment           1.000000e+00  1.000000e-08  1.000000  \n",
       "Research Institute  1.568387e-02  7.455931e-03  1.175714  \n",
       "백화점                 1.849544e-05  6.786033e-03  0.952556  \n",
       "IDC(전화국)            5.562524e-03  1.268305e-01  1.519085  \n",
       "Public              6.105070e-01  2.750581e-02  1.047188  "
      ]
     },
     "execution_count": 47,
     "metadata": {},
     "output_type": "execute_result"
    }
   ],
   "source": [
    "xgb_best_params"
   ]
  },
  {
   "cell_type": "code",
   "execution_count": null,
   "id": "897f4175",
   "metadata": {
    "ExecuteTime": {
     "end_time": "2023-08-30T11:40:03.076892Z",
     "start_time": "2023-08-30T10:49:46.245401Z"
    }
   },
   "outputs": [
    {
     "ename": "TypeError",
     "evalue": "XGBModel.fit() got an unexpected keyword argument 'callbacks'",
     "output_type": "error",
     "traceback": [
      "\u001b[31m---------------------------------------------------------------------------\u001b[39m",
      "\u001b[31mTypeError\u001b[39m                                 Traceback (most recent call last)",
      "\u001b[36mCell\u001b[39m\u001b[36m \u001b[39m\u001b[32mIn[49]\u001b[39m\u001b[32m, line 51\u001b[39m\n\u001b[32m     40\u001b[39m evals = [(X_train,Y_train),(X_valid,Y_valid)]\n\u001b[32m     41\u001b[39m xgb_model = XGBRegressor(learning_rate = \u001b[32m0.05\u001b[39m,n_estimators = \u001b[32m5000\u001b[39m,\n\u001b[32m     42\u001b[39m                      max_depth = \u001b[38;5;28mint\u001b[39m(xgb_best_params.loc[i][\u001b[33m'\u001b[39m\u001b[33mmax_depth\u001b[39m\u001b[33m'\u001b[39m]),\n\u001b[32m     43\u001b[39m                      random_state = RANDOM_SEED,\n\u001b[32m   (...)\u001b[39m\u001b[32m     48\u001b[39m \n\u001b[32m     49\u001b[39m                      )\n\u001b[32m---> \u001b[39m\u001b[32m51\u001b[39m \u001b[43mxgb_model\u001b[49m\u001b[43m.\u001b[49m\u001b[43mfit\u001b[49m\u001b[43m(\u001b[49m\u001b[43mX_train\u001b[49m\u001b[43m,\u001b[49m\u001b[43m \u001b[49m\u001b[43mY_train\u001b[49m\u001b[43m,\u001b[49m\u001b[43m \u001b[49m\u001b[43mcallbacks\u001b[49m\u001b[43m=\u001b[49m\u001b[43m[\u001b[49m\u001b[43mEarlyStopping\u001b[49m\u001b[43m(\u001b[49m\u001b[43mrounds\u001b[49m\u001b[43m=\u001b[49m\u001b[32;43m100\u001b[39;49m\u001b[43m)\u001b[49m\u001b[43m]\u001b[49m\u001b[43m,\u001b[49m\n\u001b[32m     52\u001b[39m \u001b[43m               \u001b[49m\u001b[43meval_metric\u001b[49m\u001b[43m \u001b[49m\u001b[43m=\u001b[49m\u001b[43m \u001b[49m\u001b[43mcustom_smape\u001b[49m\u001b[43m,\u001b[49m\u001b[43m \u001b[49m\u001b[43meval_set\u001b[49m\u001b[43m \u001b[49m\u001b[43m=\u001b[49m\u001b[43m \u001b[49m\u001b[43mevals\u001b[49m\u001b[43m,\u001b[49m\u001b[43m \u001b[49m\u001b[43mverbose\u001b[49m\u001b[43m \u001b[49m\u001b[43m=\u001b[49m\u001b[43m \u001b[49m\u001b[38;5;28;43;01mFalse\u001b[39;49;00m\u001b[43m)\u001b[49m\n\u001b[32m     53\u001b[39m xgb_pred = xgb_model.predict(X_valid)\n\u001b[32m     54\u001b[39m xgb_pred = np.exp(xgb_pred)\n",
      "\u001b[36mFile \u001b[39m\u001b[32mc:\\Anaconda3\\envs\\groom\\Lib\\site-packages\\xgboost\\core.py:729\u001b[39m, in \u001b[36mrequire_keyword_args.<locals>.throw_if.<locals>.inner_f\u001b[39m\u001b[34m(*args, **kwargs)\u001b[39m\n\u001b[32m    727\u001b[39m \u001b[38;5;28;01mfor\u001b[39;00m k, arg \u001b[38;5;129;01min\u001b[39;00m \u001b[38;5;28mzip\u001b[39m(sig.parameters, args):\n\u001b[32m    728\u001b[39m     kwargs[k] = arg\n\u001b[32m--> \u001b[39m\u001b[32m729\u001b[39m \u001b[38;5;28;01mreturn\u001b[39;00m \u001b[43mfunc\u001b[49m\u001b[43m(\u001b[49m\u001b[43m*\u001b[49m\u001b[43m*\u001b[49m\u001b[43mkwargs\u001b[49m\u001b[43m)\u001b[49m\n",
      "\u001b[31mTypeError\u001b[39m: XGBModel.fit() got an unexpected keyword argument 'callbacks'"
     ]
    }
   ],
   "source": [
    "kf = KFold(n_splits = 7,shuffle=True,random_state=RANDOM_SEED)\n",
    "answer_df = pd.DataFrame(columns=['answer'])\n",
    "pred_df = pd.DataFrame(columns=['pred'])\n",
    "\n",
    "\n",
    "\n",
    "for i in type_list:\n",
    "    \n",
    "    x = X[(X.building_type == i)]\n",
    "    y = Y[(Y.building_type == i)]\n",
    "    X_test = test_X[test_X.building_type==i]\n",
    "    \n",
    "    x = pd.get_dummies(x, columns=['building_number'], drop_first=False)\n",
    "    X_test = pd.get_dummies(X_test, columns=['building_number'], drop_first=False)\n",
    "\n",
    "    x = x.drop(['building_type'],axis =1)\n",
    "    X_test = X_test.drop(['building_type'],axis =1)\n",
    "    y = y['power_consumption']\n",
    "    x_columns = np.array(x.columns)\n",
    "    x = np.array(x) ; y = np.array(y)\n",
    "    \n",
    "    j = 0\n",
    "    xgb_fold_smape = []\n",
    "    answer_list = []\n",
    "    pred = pd.DataFrame(index = range(0,y.shape[0]), columns=['pred'])\n",
    "    answer = pd.DataFrame(columns=['answer'])\n",
    "    \n",
    "    for train_index, valid_index in kf.split(x):\n",
    "        j += 1\n",
    "        \n",
    "        \n",
    "\n",
    "        X_train, X_valid = x[train_index], x[valid_index]\n",
    "        Y_train, Y_valid = y[train_index], y[valid_index]\n",
    "        Y_train = np.log(Y_train) ; Y_valid = np.log(Y_valid)\n",
    "\n",
    "\n",
    "        evals = [(X_train,Y_train),(X_valid,Y_valid)]\n",
    "        xgb_model = XGBRegressor(learning_rate = 0.05,n_estimators = 5000,\n",
    "                             max_depth = int(xgb_best_params.loc[i]['max_depth']),\n",
    "                             random_state = RANDOM_SEED,\n",
    "                             subsample = xgb_best_params.loc[i]['subsample'],\n",
    "                             colsample_bytree = xgb_best_params.loc[i]['colsample_bytree'],\n",
    "                             min_child_weight = int(xgb_best_params.loc[i]['min_child_weight']),\n",
    "                             objective=weighted_mse(xgb_best_params.loc[i]['alpha'])\n",
    "                             \n",
    "                             )\n",
    "        \n",
    "        xgb_model.fit(X_train, Y_train, early_stopping_rounds = 100,\n",
    "                       eval_metric = custom_smape, eval_set = evals, verbose = False)\n",
    "        xgb_pred = xgb_model.predict(X_valid)\n",
    "        xgb_pred = np.exp(xgb_pred)\n",
    "        pred['pred'][valid_index] = xgb_pred\n",
    "        xgb_smape = smape(np.exp(Y_valid),xgb_pred)\n",
    "        xgb_answer = xgb_model.predict(X_test)\n",
    "        answer_list.append(np.exp(xgb_answer))\n",
    "        xgb_fold_smape.append(xgb_smape)\n",
    "        \n",
    "        \n",
    "        if j == 7:\n",
    "            sorted_idx = xgb_model.feature_importances_.argsort()\n",
    "            plt.figure(figsize=(8,15))\n",
    "            plt.barh(x_columns[sorted_idx],  xgb_model.feature_importances_[sorted_idx])\n",
    "            plt.xlabel('%s model XGB Feature Importance'%(i))\n",
    "            plt.show()\n",
    "\n",
    "\n",
    "    type_answer = sum(answer_list) / len(answer_list)\n",
    " \n",
    "    answer.answer = type_answer\n",
    "    answer_df = pd.concat([answer_df,answer],ignore_index=True)\n",
    "    pred_df = pd.concat([pred_df,pred],ignore_index=True)\n",
    "\n",
    "    avg_smape = sum(xgb_fold_smape) / len(xgb_fold_smape)\n",
    "    print('Building type = %s : XGBRegressor Model SMAPE : %.4f' %(i,avg_smape))\n",
    "    \n",
    "    \n",
    "total_score = smape(Y.power_consumption,pred_df.pred)\n",
    "print('Total SMAPE : %.4f'%(total_score))"
   ]
  },
  {
   "cell_type": "markdown",
   "id": "282c4abc",
   "metadata": {},
   "source": [
    "## 정답파일 만들기"
   ]
  },
  {
   "cell_type": "code",
   "execution_count": null,
   "id": "70ef13fe",
   "metadata": {
    "ExecuteTime": {
     "end_time": "2023-08-30T11:44:33.046251Z",
     "start_time": "2023-08-30T11:44:33.033239Z"
    }
   },
   "outputs": [],
   "source": [
    "answer = pd.read_csv('sample_submission.csv')"
   ]
  },
  {
   "cell_type": "code",
   "execution_count": null,
   "id": "f959ba4d",
   "metadata": {
    "ExecuteTime": {
     "end_time": "2023-08-30T11:44:33.226417Z",
     "start_time": "2023-08-30T11:44:33.210401Z"
    }
   },
   "outputs": [],
   "source": [
    "answer.answer = answer_df.answer"
   ]
  },
  {
   "cell_type": "code",
   "execution_count": null,
   "id": "3bcff61f",
   "metadata": {
    "ExecuteTime": {
     "end_time": "2023-08-30T11:44:33.676826Z",
     "start_time": "2023-08-30T11:44:33.653804Z"
    }
   },
   "outputs": [],
   "source": [
    "answer.to_csv('private_재현.csv',index = False)"
   ]
  },
  {
   "cell_type": "code",
   "execution_count": null,
   "id": "f7b51d62",
   "metadata": {
    "ExecuteTime": {
     "end_time": "2023-09-01T12:18:33.109076Z",
     "start_time": "2023-09-01T12:18:33.095063Z"
    },
    "scrolled": true
   },
   "outputs": [],
   "source": [
    "answer.head()"
   ]
  },
  {
   "cell_type": "code",
   "execution_count": null,
   "id": "2bddfb6d-bf1a-4c91-83d1-8790b28fab9e",
   "metadata": {},
   "outputs": [],
   "source": []
  }
 ],
 "metadata": {
  "kernelspec": {
   "display_name": "groom",
   "language": "python",
   "name": "python3"
  },
  "language_info": {
   "codemirror_mode": {
    "name": "ipython",
    "version": 3
   },
   "file_extension": ".py",
   "mimetype": "text/x-python",
   "name": "python",
   "nbconvert_exporter": "python",
   "pygments_lexer": "ipython3",
   "version": "3.11.13"
  },
  "toc": {
   "base_numbering": 1,
   "nav_menu": {},
   "number_sections": true,
   "sideBar": true,
   "skip_h1_title": false,
   "title_cell": "Table of Contents",
   "title_sidebar": "Contents",
   "toc_cell": false,
   "toc_position": {
    "height": "calc(100% - 180px)",
    "left": "10px",
    "top": "150px",
    "width": "286.188px"
   },
   "toc_section_display": true,
   "toc_window_display": true
  }
 },
 "nbformat": 4,
 "nbformat_minor": 5
}
